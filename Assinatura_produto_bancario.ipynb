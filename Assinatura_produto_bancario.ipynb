{
  "nbformat": 4,
  "nbformat_minor": 0,
  "metadata": {
    "colab": {
      "name": "MBA_Atividade2.ipynb",
      "provenance": [],
      "collapsed_sections": [],
      "toc_visible": true
    },
    "kernelspec": {
      "name": "python3",
      "display_name": "Python 3"
    },
    "language_info": {
      "name": "python"
    }
  },
  "cells": [
    {
      "cell_type": "code",
      "metadata": {
        "colab": {
          "base_uri": "https://localhost:8080/"
        },
        "id": "4lDVqUavfqXL",
        "outputId": "cc083143-a443-4189-d8c4-0f825d9e8274"
      },
      "source": [
        "# https://archive.ics.uci.edu/ml/datasets/bank+marketing\n",
        "from google.colab import drive\n",
        "drive.mount('/content/drive')"
      ],
      "execution_count": 255,
      "outputs": [
        {
          "output_type": "stream",
          "name": "stdout",
          "text": [
            "Drive already mounted at /content/drive; to attempt to forcibly remount, call drive.mount(\"/content/drive\", force_remount=True).\n"
          ]
        }
      ]
    },
    {
      "cell_type": "code",
      "metadata": {
        "id": "nBSBEwLOu-Zt"
      },
      "source": [
        "import warnings\n",
        "warnings.filterwarnings('ignore')"
      ],
      "execution_count": 256,
      "outputs": []
    },
    {
      "cell_type": "markdown",
      "metadata": {
        "id": "IuguuodLg4On"
      },
      "source": [
        "# Ler e analisar os dados"
      ]
    },
    {
      "cell_type": "code",
      "metadata": {
        "colab": {
          "base_uri": "https://localhost:8080/",
          "height": 204
        },
        "id": "oDjWww28g2Xt",
        "outputId": "06067ddd-ef6d-4341-ab6b-5f68ea5e0781"
      },
      "source": [
        "import pandas as pd\n",
        "\n",
        "pd.set_option('display.max_columns', None)\n",
        "\n",
        "df = pd.read_csv('/content/drive/MyDrive/MBA_data/bank-additional-full.csv', sep=';')\n",
        "df.head()"
      ],
      "execution_count": 257,
      "outputs": [
        {
          "output_type": "execute_result",
          "data": {
            "text/html": [
              "<div>\n",
              "<style scoped>\n",
              "    .dataframe tbody tr th:only-of-type {\n",
              "        vertical-align: middle;\n",
              "    }\n",
              "\n",
              "    .dataframe tbody tr th {\n",
              "        vertical-align: top;\n",
              "    }\n",
              "\n",
              "    .dataframe thead th {\n",
              "        text-align: right;\n",
              "    }\n",
              "</style>\n",
              "<table border=\"1\" class=\"dataframe\">\n",
              "  <thead>\n",
              "    <tr style=\"text-align: right;\">\n",
              "      <th></th>\n",
              "      <th>age</th>\n",
              "      <th>job</th>\n",
              "      <th>marital</th>\n",
              "      <th>education</th>\n",
              "      <th>default</th>\n",
              "      <th>housing</th>\n",
              "      <th>loan</th>\n",
              "      <th>contact</th>\n",
              "      <th>month</th>\n",
              "      <th>day_of_week</th>\n",
              "      <th>duration</th>\n",
              "      <th>campaign</th>\n",
              "      <th>pdays</th>\n",
              "      <th>previous</th>\n",
              "      <th>poutcome</th>\n",
              "      <th>emp.var.rate</th>\n",
              "      <th>cons.price.idx</th>\n",
              "      <th>cons.conf.idx</th>\n",
              "      <th>euribor3m</th>\n",
              "      <th>nr.employed</th>\n",
              "      <th>y</th>\n",
              "    </tr>\n",
              "  </thead>\n",
              "  <tbody>\n",
              "    <tr>\n",
              "      <th>0</th>\n",
              "      <td>56</td>\n",
              "      <td>housemaid</td>\n",
              "      <td>married</td>\n",
              "      <td>basic.4y</td>\n",
              "      <td>no</td>\n",
              "      <td>no</td>\n",
              "      <td>no</td>\n",
              "      <td>telephone</td>\n",
              "      <td>may</td>\n",
              "      <td>mon</td>\n",
              "      <td>261</td>\n",
              "      <td>1</td>\n",
              "      <td>999</td>\n",
              "      <td>0</td>\n",
              "      <td>nonexistent</td>\n",
              "      <td>1.1</td>\n",
              "      <td>93.994</td>\n",
              "      <td>-36.4</td>\n",
              "      <td>4.857</td>\n",
              "      <td>5191.0</td>\n",
              "      <td>no</td>\n",
              "    </tr>\n",
              "    <tr>\n",
              "      <th>1</th>\n",
              "      <td>57</td>\n",
              "      <td>services</td>\n",
              "      <td>married</td>\n",
              "      <td>high.school</td>\n",
              "      <td>unknown</td>\n",
              "      <td>no</td>\n",
              "      <td>no</td>\n",
              "      <td>telephone</td>\n",
              "      <td>may</td>\n",
              "      <td>mon</td>\n",
              "      <td>149</td>\n",
              "      <td>1</td>\n",
              "      <td>999</td>\n",
              "      <td>0</td>\n",
              "      <td>nonexistent</td>\n",
              "      <td>1.1</td>\n",
              "      <td>93.994</td>\n",
              "      <td>-36.4</td>\n",
              "      <td>4.857</td>\n",
              "      <td>5191.0</td>\n",
              "      <td>no</td>\n",
              "    </tr>\n",
              "    <tr>\n",
              "      <th>2</th>\n",
              "      <td>37</td>\n",
              "      <td>services</td>\n",
              "      <td>married</td>\n",
              "      <td>high.school</td>\n",
              "      <td>no</td>\n",
              "      <td>yes</td>\n",
              "      <td>no</td>\n",
              "      <td>telephone</td>\n",
              "      <td>may</td>\n",
              "      <td>mon</td>\n",
              "      <td>226</td>\n",
              "      <td>1</td>\n",
              "      <td>999</td>\n",
              "      <td>0</td>\n",
              "      <td>nonexistent</td>\n",
              "      <td>1.1</td>\n",
              "      <td>93.994</td>\n",
              "      <td>-36.4</td>\n",
              "      <td>4.857</td>\n",
              "      <td>5191.0</td>\n",
              "      <td>no</td>\n",
              "    </tr>\n",
              "    <tr>\n",
              "      <th>3</th>\n",
              "      <td>40</td>\n",
              "      <td>admin.</td>\n",
              "      <td>married</td>\n",
              "      <td>basic.6y</td>\n",
              "      <td>no</td>\n",
              "      <td>no</td>\n",
              "      <td>no</td>\n",
              "      <td>telephone</td>\n",
              "      <td>may</td>\n",
              "      <td>mon</td>\n",
              "      <td>151</td>\n",
              "      <td>1</td>\n",
              "      <td>999</td>\n",
              "      <td>0</td>\n",
              "      <td>nonexistent</td>\n",
              "      <td>1.1</td>\n",
              "      <td>93.994</td>\n",
              "      <td>-36.4</td>\n",
              "      <td>4.857</td>\n",
              "      <td>5191.0</td>\n",
              "      <td>no</td>\n",
              "    </tr>\n",
              "    <tr>\n",
              "      <th>4</th>\n",
              "      <td>56</td>\n",
              "      <td>services</td>\n",
              "      <td>married</td>\n",
              "      <td>high.school</td>\n",
              "      <td>no</td>\n",
              "      <td>no</td>\n",
              "      <td>yes</td>\n",
              "      <td>telephone</td>\n",
              "      <td>may</td>\n",
              "      <td>mon</td>\n",
              "      <td>307</td>\n",
              "      <td>1</td>\n",
              "      <td>999</td>\n",
              "      <td>0</td>\n",
              "      <td>nonexistent</td>\n",
              "      <td>1.1</td>\n",
              "      <td>93.994</td>\n",
              "      <td>-36.4</td>\n",
              "      <td>4.857</td>\n",
              "      <td>5191.0</td>\n",
              "      <td>no</td>\n",
              "    </tr>\n",
              "  </tbody>\n",
              "</table>\n",
              "</div>"
            ],
            "text/plain": [
              "   age        job  marital    education  default housing loan    contact  \\\n",
              "0   56  housemaid  married     basic.4y       no      no   no  telephone   \n",
              "1   57   services  married  high.school  unknown      no   no  telephone   \n",
              "2   37   services  married  high.school       no     yes   no  telephone   \n",
              "3   40     admin.  married     basic.6y       no      no   no  telephone   \n",
              "4   56   services  married  high.school       no      no  yes  telephone   \n",
              "\n",
              "  month day_of_week  duration  campaign  pdays  previous     poutcome  \\\n",
              "0   may         mon       261         1    999         0  nonexistent   \n",
              "1   may         mon       149         1    999         0  nonexistent   \n",
              "2   may         mon       226         1    999         0  nonexistent   \n",
              "3   may         mon       151         1    999         0  nonexistent   \n",
              "4   may         mon       307         1    999         0  nonexistent   \n",
              "\n",
              "   emp.var.rate  cons.price.idx  cons.conf.idx  euribor3m  nr.employed   y  \n",
              "0           1.1          93.994          -36.4      4.857       5191.0  no  \n",
              "1           1.1          93.994          -36.4      4.857       5191.0  no  \n",
              "2           1.1          93.994          -36.4      4.857       5191.0  no  \n",
              "3           1.1          93.994          -36.4      4.857       5191.0  no  \n",
              "4           1.1          93.994          -36.4      4.857       5191.0  no  "
            ]
          },
          "metadata": {},
          "execution_count": 257
        }
      ]
    },
    {
      "cell_type": "markdown",
      "metadata": {
        "id": "4NYMTc6JB5cT"
      },
      "source": [
        "Conforme ao que foi sugerido, vamos remover a variavel `duration` - \"11 - duration: last contact duration, in seconds (numeric). Important note: this attribute highly affects the output target (e.g., if duration=0 then y='no'). Yet, the duration is not known before a call is performed. Also, after the end of the call y is obviously known. Thus, this input should only be included for benchmark purposes and should be discarded if the intention is to have a realistic predictive model.\""
      ]
    },
    {
      "cell_type": "code",
      "metadata": {
        "id": "ksIjL4DTBg9t"
      },
      "source": [
        "df.drop([\"duration\"], axis=1, inplace=True)"
      ],
      "execution_count": 258,
      "outputs": []
    },
    {
      "cell_type": "code",
      "metadata": {
        "colab": {
          "base_uri": "https://localhost:8080/"
        },
        "id": "QjCJ9gi7hdwx",
        "outputId": "f25feb16-1fd6-4678-e047-122622b88d58"
      },
      "source": [
        "df.info()"
      ],
      "execution_count": 259,
      "outputs": [
        {
          "output_type": "stream",
          "name": "stdout",
          "text": [
            "<class 'pandas.core.frame.DataFrame'>\n",
            "RangeIndex: 41188 entries, 0 to 41187\n",
            "Data columns (total 20 columns):\n",
            " #   Column          Non-Null Count  Dtype  \n",
            "---  ------          --------------  -----  \n",
            " 0   age             41188 non-null  int64  \n",
            " 1   job             41188 non-null  object \n",
            " 2   marital         41188 non-null  object \n",
            " 3   education       41188 non-null  object \n",
            " 4   default         41188 non-null  object \n",
            " 5   housing         41188 non-null  object \n",
            " 6   loan            41188 non-null  object \n",
            " 7   contact         41188 non-null  object \n",
            " 8   month           41188 non-null  object \n",
            " 9   day_of_week     41188 non-null  object \n",
            " 10  campaign        41188 non-null  int64  \n",
            " 11  pdays           41188 non-null  int64  \n",
            " 12  previous        41188 non-null  int64  \n",
            " 13  poutcome        41188 non-null  object \n",
            " 14  emp.var.rate    41188 non-null  float64\n",
            " 15  cons.price.idx  41188 non-null  float64\n",
            " 16  cons.conf.idx   41188 non-null  float64\n",
            " 17  euribor3m       41188 non-null  float64\n",
            " 18  nr.employed     41188 non-null  float64\n",
            " 19  y               41188 non-null  object \n",
            "dtypes: float64(5), int64(4), object(11)\n",
            "memory usage: 6.3+ MB\n"
          ]
        }
      ]
    },
    {
      "cell_type": "code",
      "metadata": {
        "colab": {
          "base_uri": "https://localhost:8080/",
          "height": 297
        },
        "id": "WWASg82LhwDT",
        "outputId": "eb122fa2-7bee-416c-af38-2db4f3f3121e"
      },
      "source": [
        "df.describe()"
      ],
      "execution_count": 260,
      "outputs": [
        {
          "output_type": "execute_result",
          "data": {
            "text/html": [
              "<div>\n",
              "<style scoped>\n",
              "    .dataframe tbody tr th:only-of-type {\n",
              "        vertical-align: middle;\n",
              "    }\n",
              "\n",
              "    .dataframe tbody tr th {\n",
              "        vertical-align: top;\n",
              "    }\n",
              "\n",
              "    .dataframe thead th {\n",
              "        text-align: right;\n",
              "    }\n",
              "</style>\n",
              "<table border=\"1\" class=\"dataframe\">\n",
              "  <thead>\n",
              "    <tr style=\"text-align: right;\">\n",
              "      <th></th>\n",
              "      <th>age</th>\n",
              "      <th>campaign</th>\n",
              "      <th>pdays</th>\n",
              "      <th>previous</th>\n",
              "      <th>emp.var.rate</th>\n",
              "      <th>cons.price.idx</th>\n",
              "      <th>cons.conf.idx</th>\n",
              "      <th>euribor3m</th>\n",
              "      <th>nr.employed</th>\n",
              "    </tr>\n",
              "  </thead>\n",
              "  <tbody>\n",
              "    <tr>\n",
              "      <th>count</th>\n",
              "      <td>41188.00000</td>\n",
              "      <td>41188.000000</td>\n",
              "      <td>41188.000000</td>\n",
              "      <td>41188.000000</td>\n",
              "      <td>41188.000000</td>\n",
              "      <td>41188.000000</td>\n",
              "      <td>41188.000000</td>\n",
              "      <td>41188.000000</td>\n",
              "      <td>41188.000000</td>\n",
              "    </tr>\n",
              "    <tr>\n",
              "      <th>mean</th>\n",
              "      <td>40.02406</td>\n",
              "      <td>2.567593</td>\n",
              "      <td>962.475454</td>\n",
              "      <td>0.172963</td>\n",
              "      <td>0.081886</td>\n",
              "      <td>93.575664</td>\n",
              "      <td>-40.502600</td>\n",
              "      <td>3.621291</td>\n",
              "      <td>5167.035911</td>\n",
              "    </tr>\n",
              "    <tr>\n",
              "      <th>std</th>\n",
              "      <td>10.42125</td>\n",
              "      <td>2.770014</td>\n",
              "      <td>186.910907</td>\n",
              "      <td>0.494901</td>\n",
              "      <td>1.570960</td>\n",
              "      <td>0.578840</td>\n",
              "      <td>4.628198</td>\n",
              "      <td>1.734447</td>\n",
              "      <td>72.251528</td>\n",
              "    </tr>\n",
              "    <tr>\n",
              "      <th>min</th>\n",
              "      <td>17.00000</td>\n",
              "      <td>1.000000</td>\n",
              "      <td>0.000000</td>\n",
              "      <td>0.000000</td>\n",
              "      <td>-3.400000</td>\n",
              "      <td>92.201000</td>\n",
              "      <td>-50.800000</td>\n",
              "      <td>0.634000</td>\n",
              "      <td>4963.600000</td>\n",
              "    </tr>\n",
              "    <tr>\n",
              "      <th>25%</th>\n",
              "      <td>32.00000</td>\n",
              "      <td>1.000000</td>\n",
              "      <td>999.000000</td>\n",
              "      <td>0.000000</td>\n",
              "      <td>-1.800000</td>\n",
              "      <td>93.075000</td>\n",
              "      <td>-42.700000</td>\n",
              "      <td>1.344000</td>\n",
              "      <td>5099.100000</td>\n",
              "    </tr>\n",
              "    <tr>\n",
              "      <th>50%</th>\n",
              "      <td>38.00000</td>\n",
              "      <td>2.000000</td>\n",
              "      <td>999.000000</td>\n",
              "      <td>0.000000</td>\n",
              "      <td>1.100000</td>\n",
              "      <td>93.749000</td>\n",
              "      <td>-41.800000</td>\n",
              "      <td>4.857000</td>\n",
              "      <td>5191.000000</td>\n",
              "    </tr>\n",
              "    <tr>\n",
              "      <th>75%</th>\n",
              "      <td>47.00000</td>\n",
              "      <td>3.000000</td>\n",
              "      <td>999.000000</td>\n",
              "      <td>0.000000</td>\n",
              "      <td>1.400000</td>\n",
              "      <td>93.994000</td>\n",
              "      <td>-36.400000</td>\n",
              "      <td>4.961000</td>\n",
              "      <td>5228.100000</td>\n",
              "    </tr>\n",
              "    <tr>\n",
              "      <th>max</th>\n",
              "      <td>98.00000</td>\n",
              "      <td>56.000000</td>\n",
              "      <td>999.000000</td>\n",
              "      <td>7.000000</td>\n",
              "      <td>1.400000</td>\n",
              "      <td>94.767000</td>\n",
              "      <td>-26.900000</td>\n",
              "      <td>5.045000</td>\n",
              "      <td>5228.100000</td>\n",
              "    </tr>\n",
              "  </tbody>\n",
              "</table>\n",
              "</div>"
            ],
            "text/plain": [
              "               age      campaign         pdays      previous  emp.var.rate  \\\n",
              "count  41188.00000  41188.000000  41188.000000  41188.000000  41188.000000   \n",
              "mean      40.02406      2.567593    962.475454      0.172963      0.081886   \n",
              "std       10.42125      2.770014    186.910907      0.494901      1.570960   \n",
              "min       17.00000      1.000000      0.000000      0.000000     -3.400000   \n",
              "25%       32.00000      1.000000    999.000000      0.000000     -1.800000   \n",
              "50%       38.00000      2.000000    999.000000      0.000000      1.100000   \n",
              "75%       47.00000      3.000000    999.000000      0.000000      1.400000   \n",
              "max       98.00000     56.000000    999.000000      7.000000      1.400000   \n",
              "\n",
              "       cons.price.idx  cons.conf.idx     euribor3m   nr.employed  \n",
              "count    41188.000000   41188.000000  41188.000000  41188.000000  \n",
              "mean        93.575664     -40.502600      3.621291   5167.035911  \n",
              "std          0.578840       4.628198      1.734447     72.251528  \n",
              "min         92.201000     -50.800000      0.634000   4963.600000  \n",
              "25%         93.075000     -42.700000      1.344000   5099.100000  \n",
              "50%         93.749000     -41.800000      4.857000   5191.000000  \n",
              "75%         93.994000     -36.400000      4.961000   5228.100000  \n",
              "max         94.767000     -26.900000      5.045000   5228.100000  "
            ]
          },
          "metadata": {},
          "execution_count": 260
        }
      ]
    },
    {
      "cell_type": "code",
      "metadata": {
        "colab": {
          "base_uri": "https://localhost:8080/"
        },
        "id": "zaIEwCntwpDC",
        "outputId": "eaed20d9-4d08-4e5e-ae05-69c16e89a4a3"
      },
      "source": [
        "target_name = \"y\"\n",
        "\n",
        "print(df[target_name].unique())\n",
        "\n",
        "print(sum(df[target_name] == \"yes\"))\n",
        "\n",
        "print(sum(df[target_name] == \"no\"))"
      ],
      "execution_count": 261,
      "outputs": [
        {
          "output_type": "stream",
          "name": "stdout",
          "text": [
            "['no' 'yes']\n",
            "4640\n",
            "36548\n"
          ]
        }
      ]
    },
    {
      "cell_type": "markdown",
      "metadata": {
        "id": "kjkXqlJqcvKv"
      },
      "source": [
        "Tem quase 10 vezes menos clientes que contrataram o produto \"**term deposit**\".  \n",
        "Ou seja, o dataset é desbalanceado.  \n",
        "Tentaremos lidar com isso mais pra frente."
      ]
    },
    {
      "cell_type": "markdown",
      "metadata": {
        "id": "5WzkgOtGv-fp"
      },
      "source": [
        "## Visualizar os dados"
      ]
    },
    {
      "cell_type": "markdown",
      "metadata": {
        "id": "Eli1WvGbw9Z6"
      },
      "source": [
        "### Analisar as variaveis \"bank client data\""
      ]
    },
    {
      "cell_type": "code",
      "metadata": {
        "id": "6Da1HriCLCrd"
      },
      "source": [
        "import matplotlib.pyplot as plt\n",
        "import seaborn as sns\n",
        "\n",
        "\n",
        "def plot_hist(n, df, sel_feats, figsize, fontsize, tight_layout_pad=50, bins=None):\n",
        "  if n <= 2:\n",
        "    a, b = 1, n\n",
        "  else:\n",
        "    a, b = 2, n // 2 + n % 2\n",
        "  fig, ax = plt.subplots(a, b, figsize=figsize)\n",
        "  plt.suptitle(\"Numerical and Categorical Features\", fontsize=2 * fontsize)\n",
        "  if n == 1:\n",
        "    sns.countplot(x=sel_feats[0], data=df, ax=ax, hue=target_name)\n",
        "  else:\n",
        "    fig.tight_layout(pad=tight_layout_pad)\n",
        "    for variable, subplot in zip(sel_feats, ax.flatten()):\n",
        "        subplot.xaxis.get_label().set_fontsize(fontsize)\n",
        "        subplot.yaxis.get_label().set_fontsize(fontsize)\n",
        "        subplot.title.set_size(fontsize)\n",
        "        sns.histplot(x=variable, data=df, ax=subplot, hue=target_name, bins=50)\n",
        "        for label in subplot.get_xticklabels():\n",
        "            label.set_rotation(90)\n",
        "            label.set_fontsize(fontsize)\n",
        "        for label in subplot.get_yticklabels():\n",
        "            label.set_fontsize(fontsize)\n",
        "\n",
        "\n",
        "def plot_all(df, sel_feats, target_name, figsize, fontsize, tight_layout_pad=50):\n",
        "  sel_feats.append(target_name)\n",
        "  df_sel_feats = df[sel_feats]\n",
        "  sel_feats.remove(target_name)\n",
        "  plot_hist(len(sel_feats), df_sel_feats, sel_feats, figsize, fontsize, tight_layout_pad=tight_layout_pad)"
      ],
      "execution_count": 262,
      "outputs": []
    },
    {
      "cell_type": "markdown",
      "metadata": {
        "id": "ft8JEnfvgH6w"
      },
      "source": [
        "Tambem transformamos a variavel target em um binario, para facilitar as analises com agregaçoes."
      ]
    },
    {
      "cell_type": "code",
      "metadata": {
        "id": "X9nqhfkJgDrD"
      },
      "source": [
        "df[target_name] = df[target_name].apply(lambda x: 1 if x == \"yes\" else 0)"
      ],
      "execution_count": 263,
      "outputs": []
    },
    {
      "cell_type": "code",
      "metadata": {
        "colab": {
          "base_uri": "https://localhost:8080/",
          "height": 1000
        },
        "id": "8OMeC-qewCly",
        "outputId": "503a1407-54c3-4e50-d291-52e28dc37168"
      },
      "source": [
        "bank_client_data_features = [\"age\", \"job\", \"marital\", \"education\", \"default\", \"housing\", \"loan\"]\n",
        "\n",
        "plot_all(df, bank_client_data_features, target_name, (20, 20), 10, 10)\n",
        "plt.show()"
      ],
      "execution_count": 264,
      "outputs": [
        {
          "output_type": "display_data",
          "data": {
            "image/png": "[encoded data removed]",
            "text/plain": [
              "<Figure size 1440x1440 with 8 Axes>"
            ]
          },
          "metadata": {
            "needs_background": "light"
          }
        }
      ]
    },
    {
      "cell_type": "markdown",
      "metadata": {
        "id": "glX6h5A22uXl"
      },
      "source": [
        "A proporçao de estudantes que contrataram o produto depois da açao de incentivo a compra é alta: quase um terceiro dos estudantes alcançados contrataram esse produto do banco.  \n",
        "Poderiamos recomendar pra area de negocio mandar mais incentivas para esse seguimento dos clientes. Pois, hoje o alvo das campanhas parece ser mais os trabalhadores da classe media: os clientes `admin.`, `blue-collar`, `technician`."
      ]
    },
    {
      "cell_type": "code",
      "metadata": {
        "colab": {
          "base_uri": "https://localhost:8080/",
          "height": 264
        },
        "id": "IoKWkm8FbpFa",
        "outputId": "776f2276-698d-4426-8792-3942af7560f4"
      },
      "source": [
        "# mean of bin variable = fraction of people who bought the product\n",
        "propension_by_age = df[[\"age\", target_name]].groupby(\"age\").mean()\n",
        "plt.plot(propension_by_age, 'o', alpha=0.5)\n",
        "plt.show()"
      ],
      "execution_count": 265,
      "outputs": [
        {
          "output_type": "display_data",
          "data": {
            "image/png": "[encoded data removed]",
            "text/plain": [
              "<Figure size 432x288 with 1 Axes>"
            ]
          },
          "metadata": {
            "needs_background": "light"
          }
        }
      ]
    },
    {
      "cell_type": "markdown",
      "metadata": {
        "id": "KvOLL6dNbr1P"
      },
      "source": [
        "De acordo com esse grafico de cima, a fraçao de pessoas de mais de 60 anos que contrataram o produto é alta. Porem, como podemos visualizar no histograma, poucos clientes desse seguimento foram alcançados. Poderiamos sugerir pra area de negocio aumentar a quantidade de campanhas emitidas para esse seguimento especifico.  \n",
        "Constatamos tambem a nao linearidade da relaçao entre a idade e a propensao a contratar o produto. Poderiamos adicionar a variavel idade elevada ao quadrado na fase de concepçao de novas features para melhorar o resultado de uma regressao logistica, por exemplo."
      ]
    },
    {
      "cell_type": "markdown",
      "metadata": {
        "id": "lzjVaogfPIR8"
      },
      "source": [
        "### Analisar as variaveis \"related with the last contact of the current campaign\""
      ]
    },
    {
      "cell_type": "code",
      "metadata": {
        "colab": {
          "base_uri": "https://localhost:8080/",
          "height": 663
        },
        "id": "REj7aufMPDJe",
        "outputId": "3d924f34-d378-49eb-a2c6-65c6b7099afb"
      },
      "source": [
        "contact_current_campaign_features = [\"contact\", \"month\", \"day_of_week\"]\n",
        "\n",
        "plot_all(df, contact_current_campaign_features, target_name, (10, 10), 10, 10)\n",
        "plt.show()"
      ],
      "execution_count": 266,
      "outputs": [
        {
          "output_type": "display_data",
          "data": {
            "image/png": "[encoded data removed]",
            "text/plain": [
              "<Figure size 720x720 with 4 Axes>"
            ]
          },
          "metadata": {
            "needs_background": "light"
          }
        }
      ]
    },
    {
      "cell_type": "code",
      "metadata": {
        "colab": {
          "base_uri": "https://localhost:8080/",
          "height": 264
        },
        "id": "AmCDKOgAUoBC",
        "outputId": "788585bc-08ae-45a6-8f24-3f526956bd14"
      },
      "source": [
        "propension_by_month = df[[\"month\", target_name]].groupby(\"month\").mean()\n",
        "plt.plot(propension_by_month, 'o', alpha=0.5)\n",
        "plt.show()"
      ],
      "execution_count": 267,
      "outputs": [
        {
          "output_type": "display_data",
          "data": {
            "image/png": "[encoded data removed]",
            "text/plain": [
              "<Figure size 432x288 with 1 Axes>"
            ]
          },
          "metadata": {
            "needs_background": "light"
          }
        }
      ]
    },
    {
      "cell_type": "markdown",
      "metadata": {
        "id": "iBBICoHD5Q_2"
      },
      "source": [
        "Percebemos que o foco da area de negocio para o ultimo contato na campanha atual foi o mes de maio.  \n",
        "A intuiçao pode ter sido que os meses mais distante do Natal sao associados a menos gastos e a iniciativas de investimento (contrataçao de um *term deposit*, por exemplo).  \n",
        "Porem, demais campanhas estao sendo realizada nesse mes e com pouco retorno no investimento. Uma dica boa seria de tentar distribuir melhor as campanhas nos outros meses. Por exemplo, os meses de março, setembro, outubro e dezembro tiveram retornos muito bons e quase nao foram explorados.  \n",
        "Essas proporçoes altas de contrataçoes nesses meses especificos pode ser devidos a uma maior qualidade das campanhas, pois bem menos foram geradas, ou seja, mais esforços e mais minutos foram passados nas ligaçoes com o cliente para convence-lo.  \n",
        "Um risco com a distribuiçao atual é que o nosso modelo generalizasse mal em produçao. O nosso modelo, se for baseado em arvores por exemplo, provavelmente vai atribuir mais importancia a essa feature porque ela separa as classes positivas e negativas muito bem.   \n",
        "Coletar mais dados nesses meses ajudaria a deixar essa variavel de prediçao mais objetiva. O que ajudaria tambem seria de coletar novas features como o tempo passado na ligaçao, etc que sao mais representativas da qualidade da campanha, e eventualmente remover essa feature se a gente for usar um modelo baseado em arvores."
      ]
    },
    {
      "cell_type": "markdown",
      "metadata": {
        "id": "61PwPw3gxC3l"
      },
      "source": [
        "### Analisar as variaveis \"other attributes\""
      ]
    },
    {
      "cell_type": "code",
      "metadata": {
        "colab": {
          "base_uri": "https://localhost:8080/",
          "height": 726
        },
        "id": "CUdLQlEPxS8c",
        "outputId": "bbd767bc-befc-4f9a-fa7a-e4433515f50d"
      },
      "source": [
        "other_attributes_features = [\"campaign\", \"pdays\", \"previous\", \"poutcome\"]\n",
        "\n",
        "plot_all(df, other_attributes_features, target_name, (10, 10), 10)\n",
        "plt.show()"
      ],
      "execution_count": 268,
      "outputs": [
        {
          "output_type": "display_data",
          "data": {
            "image/png": "[encoded data removed]",
            "text/plain": [
              "<Figure size 720x720 with 4 Axes>"
            ]
          },
          "metadata": {
            "needs_background": "light"
          }
        }
      ]
    },
    {
      "cell_type": "code",
      "metadata": {
        "colab": {
          "base_uri": "https://localhost:8080/",
          "height": 264
        },
        "id": "Og3G5qw3eLXE",
        "outputId": "86dd9226-58e6-4480-afc7-75ddef5fea00"
      },
      "source": [
        "propension_by_campaign = df[[\"campaign\", target_name]].groupby(\"campaign\").mean()\n",
        "plt.plot(propension_by_campaign, 'o', alpha=0.5)\n",
        "plt.show()"
      ],
      "execution_count": 269,
      "outputs": [
        {
          "output_type": "display_data",
          "data": {
            "image/png": "[encoded data removed]",
            "text/plain": [
              "<Figure size 432x288 with 1 Axes>"
            ]
          },
          "metadata": {
            "needs_background": "light"
          }
        }
      ]
    },
    {
      "cell_type": "markdown",
      "metadata": {
        "id": "BlpOVh1I9XdR"
      },
      "source": [
        "Menos contatos com o mesmo cliente tiveram nesta campanha, maior parecem ser as chances de conseguir a contrataçao do produto.  "
      ]
    },
    {
      "cell_type": "code",
      "metadata": {
        "colab": {
          "base_uri": "https://localhost:8080/"
        },
        "id": "h6p0RO5J-B4s",
        "outputId": "fe79b04c-0e3c-4dce-ebe3-2f9e915d0115"
      },
      "source": [
        "sum(df.loc[df[\"campaign\"] > 15, \"y\"] == \"yes\")"
      ],
      "execution_count": 270,
      "outputs": [
        {
          "output_type": "execute_result",
          "data": {
            "text/plain": [
              "0"
            ]
          },
          "metadata": {},
          "execution_count": 270
        }
      ]
    },
    {
      "cell_type": "markdown",
      "metadata": {
        "id": "FGG9N2lJ-Vdo"
      },
      "source": [
        "Uma dica pra area de negocio seria de evitar mais de 15 contatos com o mesmo cliente na mesma campanha (`campaign`). Pois o retorno no investimento é realmente muito fraco. \n",
        "A intuiçao é que depois de 15 contatos, os clientes ja estao sabendo do produto e conseguem se lembrar dos principais detalhes. Mais contatos poderia até prejudicar a compra ou no melhor caso, isso aumenta bastante o custo da campanha.  \n",
        "Podemos tambem limitar a quantidade de contatos com o mesmo cliente a 15 na fase de transformaçao de features, para deixar a relaçao mais linear."
      ]
    },
    {
      "cell_type": "code",
      "metadata": {
        "colab": {
          "base_uri": "https://localhost:8080/",
          "height": 279
        },
        "id": "qf9C_aP6AqRb",
        "outputId": "c8587f8b-7cc0-43f9-8dd5-75c6ebffaccb"
      },
      "source": [
        "sns.histplot(x=\"previous\", data=df.loc[df[\"previous\"] > 0], hue=target_name, bins=50)\n",
        "plt.show()"
      ],
      "execution_count": 271,
      "outputs": [
        {
          "output_type": "display_data",
          "data": {
            "image/png": "[encoded data removed]",
            "text/plain": [
              "<Figure size 432x288 with 1 Axes>"
            ]
          },
          "metadata": {
            "needs_background": "light"
          }
        }
      ]
    },
    {
      "cell_type": "code",
      "metadata": {
        "colab": {
          "base_uri": "https://localhost:8080/",
          "height": 264
        },
        "id": "OXeUnAg6erB0",
        "outputId": "aa1f10ab-05b3-43ee-c1cc-4c834dfcae85"
      },
      "source": [
        "propension_by_previous = df[[\"previous\", target_name]].groupby(\"previous\").mean()\n",
        "plt.plot(propension_by_previous, 'o', alpha=0.5)\n",
        "plt.show()"
      ],
      "execution_count": 272,
      "outputs": [
        {
          "output_type": "display_data",
          "data": {
            "image/png": "[encoded data removed]",
            "text/plain": [
              "<Figure size 432x288 with 1 Axes>"
            ]
          },
          "metadata": {
            "needs_background": "light"
          }
        }
      ]
    },
    {
      "cell_type": "markdown",
      "metadata": {
        "id": "PyYlUgw5BPDa"
      },
      "source": [
        "Parece bom manter uma certa regularidade no ritmo de entrar em contato com o mesmo cliente ao longo do ano (`previous`). Clientes que tiveram 2 ou mais contatos antes dessa campanha foram alvos mais faceis para a campanha atual (mais da metade de conversao numa contrataçao do produto)."
      ]
    },
    {
      "cell_type": "markdown",
      "metadata": {
        "id": "ue1x-RdDrKpc"
      },
      "source": [
        "Parece que o sucesso de uma campanha anterior (`poutcome`) favorece o sucesso da campanha atual. Porem, seria bom coletar mais dados desse seguimento para conseguir ter mais confiança nessa suposiçao.  \n",
        "Uma dica para o pessoal de negocio seria de fazer novas ligaçoes para os clientes que deram um retorno positivo nas outras campanhas."
      ]
    },
    {
      "cell_type": "code",
      "metadata": {
        "colab": {
          "base_uri": "https://localhost:8080/",
          "height": 279
        },
        "id": "A3OnikMdYfHu",
        "outputId": "c0ba5ca6-5373-4fc4-b08c-ce268990eeed"
      },
      "source": [
        "sns.histplot(x=\"pdays\", data=df.loc[df[\"pdays\"] != 999], hue=target_name, bins=50)\n",
        "plt.show()"
      ],
      "execution_count": 273,
      "outputs": [
        {
          "output_type": "display_data",
          "data": {
            "image/png": "[encoded data removed]",
            "text/plain": [
              "<Figure size 432x288 with 1 Axes>"
            ]
          },
          "metadata": {
            "needs_background": "light"
          }
        }
      ]
    },
    {
      "cell_type": "code",
      "metadata": {
        "colab": {
          "base_uri": "https://localhost:8080/",
          "height": 264
        },
        "id": "lGF3A-iEfHxi",
        "outputId": "1b068d27-62d2-4e12-9202-b70db4c13f7c"
      },
      "source": [
        "propension_by_pdays = df.loc[df[\"pdays\"] != 999, [\"pdays\", target_name]].groupby(\"pdays\").mean()\n",
        "plt.plot(propension_by_pdays, 'o', alpha=0.5)\n",
        "plt.show()"
      ],
      "execution_count": 274,
      "outputs": [
        {
          "output_type": "display_data",
          "data": {
            "image/png": "[encoded data removed]",
            "text/plain": [
              "<Figure size 432x288 with 1 Axes>"
            ]
          },
          "metadata": {
            "needs_background": "light"
          }
        }
      ]
    },
    {
      "cell_type": "markdown",
      "metadata": {
        "id": "8hw-rhi-ogYW"
      },
      "source": [
        "O fator de ter sido o alvo de uma campanha no mes anterior parece ser um fator importante de contrataçao do produto na campanha atual (`pdays`).  \n",
        "Se for mais recente ou mais tarde dentro de 30 dias, nao parece ter tanta importancia. De fato, poderiamos pensar em trocar essa coluna por uma **flag binaria** com o valor 1 se o cliente foi alvo de uma campanha anterior."
      ]
    },
    {
      "cell_type": "markdown",
      "metadata": {
        "id": "0NBuMopGVssB"
      },
      "source": [
        "### Analisar as variaveis \"social and economic context attributes\""
      ]
    },
    {
      "cell_type": "code",
      "metadata": {
        "colab": {
          "base_uri": "https://localhost:8080/",
          "height": 1000
        },
        "id": "VZyKBCnVVrO4",
        "outputId": "2172b8e3-b49f-47da-f4f0-172a43b541a5"
      },
      "source": [
        "social_economic_features = [\"emp.var.rate\", \"cons.price.idx\", \"cons.conf.idx\", \"euribor3m\", \"nr.employed\"]\n",
        "\n",
        "plot_all(df, social_economic_features, target_name, (20, 20), 10)\n",
        "plt.show()"
      ],
      "execution_count": 275,
      "outputs": [
        {
          "output_type": "display_data",
          "data": {
            "image/png": "[encoded data removed]",
            "text/plain": [
              "<Figure size 1440x1440 with 6 Axes>"
            ]
          },
          "metadata": {
            "needs_background": "light"
          }
        }
      ]
    },
    {
      "cell_type": "code",
      "metadata": {
        "colab": {
          "base_uri": "https://localhost:8080/",
          "height": 606
        },
        "id": "YgS0Yb0zkmg-",
        "outputId": "d8e82608-aacf-47c3-d011-21903e3c757c"
      },
      "source": [
        "fig, ax = plt.subplots(2, 3, figsize=(20, 10))\n",
        "for col, subplot in zip(social_economic_features, ax.flatten()):\n",
        "  propension_by_col = df[[col, target_name]].groupby(col).mean()\n",
        "  subplot.plot(propension_by_col, 'o', alpha=0.5)\n",
        "  subplot.set_title(col)\n",
        "plt.show()"
      ],
      "execution_count": 276,
      "outputs": [
        {
          "output_type": "display_data",
          "data": {
            "image/png": "[encoded data removed]",
            "text/plain": [
              "<Figure size 1440x720 with 6 Axes>"
            ]
          },
          "metadata": {
            "needs_background": "light"
          }
        }
      ]
    },
    {
      "cell_type": "markdown",
      "metadata": {
        "id": "kJInjSBBoE0n"
      },
      "source": [
        "As features `cons.price.idx`, `cons.conf.idx` e `euribor3m` isoladas nao parecem ter algum relacionamento com a fraçao de contrataçoes do produto.  \n",
        "Precisaria provavelmente do conhecimento de um professional da area para conseguir tirar algum valor dessas variaveis. Sem alguma transformaçao util, essas variaveis podem causar ruidos na nossa modelagem.  \n",
        "Vamos remover elas do nosso dataset na proxima etapa de *feature engineering*."
      ]
    },
    {
      "cell_type": "markdown",
      "metadata": {
        "id": "7z9kibEljk9q"
      },
      "source": [
        "# Separar set de treinamento e set de teste"
      ]
    },
    {
      "cell_type": "code",
      "metadata": {
        "id": "ukYj_2wqeU9d"
      },
      "source": [
        "y = df[target_name]\n",
        "X = df.drop([target_name], axis=1)"
      ],
      "execution_count": 277,
      "outputs": []
    },
    {
      "cell_type": "code",
      "metadata": {
        "id": "SgGbZVMBkCec"
      },
      "source": [
        "from sklearn.model_selection import train_test_split\n",
        "\n",
        "X_train, X_test, y_train, y_test = train_test_split(\n",
        "    X, y, test_size=0.33, random_state=42)"
      ],
      "execution_count": 278,
      "outputs": []
    },
    {
      "cell_type": "code",
      "metadata": {
        "colab": {
          "base_uri": "https://localhost:8080/",
          "height": 204
        },
        "id": "cd004CqPqo-X",
        "outputId": "cedd9d7d-9f82-4019-f990-d36df34b77be"
      },
      "source": [
        "X_train.head()"
      ],
      "execution_count": 279,
      "outputs": [
        {
          "output_type": "execute_result",
          "data": {
            "text/html": [
              "<div>\n",
              "<style scoped>\n",
              "    .dataframe tbody tr th:only-of-type {\n",
              "        vertical-align: middle;\n",
              "    }\n",
              "\n",
              "    .dataframe tbody tr th {\n",
              "        vertical-align: top;\n",
              "    }\n",
              "\n",
              "    .dataframe thead th {\n",
              "        text-align: right;\n",
              "    }\n",
              "</style>\n",
              "<table border=\"1\" class=\"dataframe\">\n",
              "  <thead>\n",
              "    <tr style=\"text-align: right;\">\n",
              "      <th></th>\n",
              "      <th>age</th>\n",
              "      <th>job</th>\n",
              "      <th>marital</th>\n",
              "      <th>education</th>\n",
              "      <th>default</th>\n",
              "      <th>housing</th>\n",
              "      <th>loan</th>\n",
              "      <th>contact</th>\n",
              "      <th>month</th>\n",
              "      <th>day_of_week</th>\n",
              "      <th>campaign</th>\n",
              "      <th>pdays</th>\n",
              "      <th>previous</th>\n",
              "      <th>poutcome</th>\n",
              "      <th>emp.var.rate</th>\n",
              "      <th>cons.price.idx</th>\n",
              "      <th>cons.conf.idx</th>\n",
              "      <th>euribor3m</th>\n",
              "      <th>nr.employed</th>\n",
              "    </tr>\n",
              "  </thead>\n",
              "  <tbody>\n",
              "    <tr>\n",
              "      <th>8505</th>\n",
              "      <td>43</td>\n",
              "      <td>blue-collar</td>\n",
              "      <td>married</td>\n",
              "      <td>basic.4y</td>\n",
              "      <td>no</td>\n",
              "      <td>yes</td>\n",
              "      <td>no</td>\n",
              "      <td>telephone</td>\n",
              "      <td>jun</td>\n",
              "      <td>wed</td>\n",
              "      <td>4</td>\n",
              "      <td>999</td>\n",
              "      <td>0</td>\n",
              "      <td>nonexistent</td>\n",
              "      <td>1.4</td>\n",
              "      <td>94.465</td>\n",
              "      <td>-41.8</td>\n",
              "      <td>4.864</td>\n",
              "      <td>5228.1</td>\n",
              "    </tr>\n",
              "    <tr>\n",
              "      <th>28321</th>\n",
              "      <td>35</td>\n",
              "      <td>admin.</td>\n",
              "      <td>married</td>\n",
              "      <td>high.school</td>\n",
              "      <td>no</td>\n",
              "      <td>yes</td>\n",
              "      <td>no</td>\n",
              "      <td>cellular</td>\n",
              "      <td>apr</td>\n",
              "      <td>wed</td>\n",
              "      <td>1</td>\n",
              "      <td>999</td>\n",
              "      <td>0</td>\n",
              "      <td>nonexistent</td>\n",
              "      <td>-1.8</td>\n",
              "      <td>93.075</td>\n",
              "      <td>-47.1</td>\n",
              "      <td>1.445</td>\n",
              "      <td>5099.1</td>\n",
              "    </tr>\n",
              "    <tr>\n",
              "      <th>2582</th>\n",
              "      <td>34</td>\n",
              "      <td>management</td>\n",
              "      <td>married</td>\n",
              "      <td>university.degree</td>\n",
              "      <td>no</td>\n",
              "      <td>yes</td>\n",
              "      <td>no</td>\n",
              "      <td>telephone</td>\n",
              "      <td>may</td>\n",
              "      <td>tue</td>\n",
              "      <td>3</td>\n",
              "      <td>999</td>\n",
              "      <td>0</td>\n",
              "      <td>nonexistent</td>\n",
              "      <td>1.1</td>\n",
              "      <td>93.994</td>\n",
              "      <td>-36.4</td>\n",
              "      <td>4.856</td>\n",
              "      <td>5191.0</td>\n",
              "    </tr>\n",
              "    <tr>\n",
              "      <th>9407</th>\n",
              "      <td>49</td>\n",
              "      <td>blue-collar</td>\n",
              "      <td>married</td>\n",
              "      <td>basic.4y</td>\n",
              "      <td>unknown</td>\n",
              "      <td>no</td>\n",
              "      <td>no</td>\n",
              "      <td>telephone</td>\n",
              "      <td>jun</td>\n",
              "      <td>fri</td>\n",
              "      <td>4</td>\n",
              "      <td>999</td>\n",
              "      <td>0</td>\n",
              "      <td>nonexistent</td>\n",
              "      <td>1.4</td>\n",
              "      <td>94.465</td>\n",
              "      <td>-41.8</td>\n",
              "      <td>4.967</td>\n",
              "      <td>5228.1</td>\n",
              "    </tr>\n",
              "    <tr>\n",
              "      <th>33934</th>\n",
              "      <td>52</td>\n",
              "      <td>admin.</td>\n",
              "      <td>married</td>\n",
              "      <td>basic.9y</td>\n",
              "      <td>no</td>\n",
              "      <td>yes</td>\n",
              "      <td>no</td>\n",
              "      <td>cellular</td>\n",
              "      <td>may</td>\n",
              "      <td>wed</td>\n",
              "      <td>2</td>\n",
              "      <td>999</td>\n",
              "      <td>1</td>\n",
              "      <td>failure</td>\n",
              "      <td>-1.8</td>\n",
              "      <td>92.893</td>\n",
              "      <td>-46.2</td>\n",
              "      <td>1.281</td>\n",
              "      <td>5099.1</td>\n",
              "    </tr>\n",
              "  </tbody>\n",
              "</table>\n",
              "</div>"
            ],
            "text/plain": [
              "       age          job  marital          education  default housing loan  \\\n",
              "8505    43  blue-collar  married           basic.4y       no     yes   no   \n",
              "28321   35       admin.  married        high.school       no     yes   no   \n",
              "2582    34   management  married  university.degree       no     yes   no   \n",
              "9407    49  blue-collar  married           basic.4y  unknown      no   no   \n",
              "33934   52       admin.  married           basic.9y       no     yes   no   \n",
              "\n",
              "         contact month day_of_week  campaign  pdays  previous     poutcome  \\\n",
              "8505   telephone   jun         wed         4    999         0  nonexistent   \n",
              "28321   cellular   apr         wed         1    999         0  nonexistent   \n",
              "2582   telephone   may         tue         3    999         0  nonexistent   \n",
              "9407   telephone   jun         fri         4    999         0  nonexistent   \n",
              "33934   cellular   may         wed         2    999         1      failure   \n",
              "\n",
              "       emp.var.rate  cons.price.idx  cons.conf.idx  euribor3m  nr.employed  \n",
              "8505            1.4          94.465          -41.8      4.864       5228.1  \n",
              "28321          -1.8          93.075          -47.1      1.445       5099.1  \n",
              "2582            1.1          93.994          -36.4      4.856       5191.0  \n",
              "9407            1.4          94.465          -41.8      4.967       5228.1  \n",
              "33934          -1.8          92.893          -46.2      1.281       5099.1  "
            ]
          },
          "metadata": {},
          "execution_count": 279
        }
      ]
    },
    {
      "cell_type": "markdown",
      "metadata": {
        "id": "KdXC_9v8pH9J"
      },
      "source": [
        "# Preparaçao dos dados"
      ]
    },
    {
      "cell_type": "markdown",
      "metadata": {
        "id": "LBzhJ0LGrXIa"
      },
      "source": [
        "## Encoding do target"
      ]
    },
    {
      "cell_type": "code",
      "metadata": {
        "id": "yncQeK6rrckp"
      },
      "source": [
        "y_train_encoded = y_train.apply(lambda x: 1 if (x == \"yes\" or x == 1) else 0)"
      ],
      "execution_count": 280,
      "outputs": []
    },
    {
      "cell_type": "markdown",
      "metadata": {
        "id": "F8luuAtQpVFF"
      },
      "source": [
        "## Encoding das variaveis de categoria"
      ]
    },
    {
      "cell_type": "code",
      "metadata": {
        "id": "v4B-BWhalX0N"
      },
      "source": [
        "cat_cols = X_train.columns[X_train.dtypes == object]\n",
        "num_cols = list(set(X_train.columns) - set(cat_cols))"
      ],
      "execution_count": 281,
      "outputs": []
    },
    {
      "cell_type": "code",
      "metadata": {
        "id": "WgfoiQE7ih-r"
      },
      "source": [
        "## One-hot encode categorical features\n",
        "# drop_first : we remove the first encoded column, as it is redundant and can be infered from the others\n",
        "train_cat_encoded = pd.get_dummies(data = X_train, columns = cat_cols, drop_first = True)"
      ],
      "execution_count": 282,
      "outputs": []
    },
    {
      "cell_type": "code",
      "metadata": {
        "colab": {
          "base_uri": "https://localhost:8080/",
          "height": 241
        },
        "id": "c30iBQSQptn6",
        "outputId": "085f544b-576f-414d-ae19-878239469c4f"
      },
      "source": [
        "# Merge the non-numerical with the scaled numerical data\n",
        "X_train_encoded = train_cat_encoded.merge(\n",
        "    right=X_train[num_cols],\n",
        "    how='left',\n",
        "    left_index=True,\n",
        "    right_index=True)\n",
        "X_train_encoded.head()"
      ],
      "execution_count": 283,
      "outputs": [
        {
          "output_type": "execute_result",
          "data": {
            "text/html": [
              "<div>\n",
              "<style scoped>\n",
              "    .dataframe tbody tr th:only-of-type {\n",
              "        vertical-align: middle;\n",
              "    }\n",
              "\n",
              "    .dataframe tbody tr th {\n",
              "        vertical-align: top;\n",
              "    }\n",
              "\n",
              "    .dataframe thead th {\n",
              "        text-align: right;\n",
              "    }\n",
              "</style>\n",
              "<table border=\"1\" class=\"dataframe\">\n",
              "  <thead>\n",
              "    <tr style=\"text-align: right;\">\n",
              "      <th></th>\n",
              "      <th>age_x</th>\n",
              "      <th>campaign_x</th>\n",
              "      <th>pdays_x</th>\n",
              "      <th>previous_x</th>\n",
              "      <th>emp.var.rate_x</th>\n",
              "      <th>cons.price.idx_x</th>\n",
              "      <th>cons.conf.idx_x</th>\n",
              "      <th>euribor3m_x</th>\n",
              "      <th>nr.employed_x</th>\n",
              "      <th>job_blue-collar</th>\n",
              "      <th>job_entrepreneur</th>\n",
              "      <th>job_housemaid</th>\n",
              "      <th>job_management</th>\n",
              "      <th>job_retired</th>\n",
              "      <th>job_self-employed</th>\n",
              "      <th>job_services</th>\n",
              "      <th>job_student</th>\n",
              "      <th>job_technician</th>\n",
              "      <th>job_unemployed</th>\n",
              "      <th>job_unknown</th>\n",
              "      <th>marital_married</th>\n",
              "      <th>marital_single</th>\n",
              "      <th>marital_unknown</th>\n",
              "      <th>education_basic.6y</th>\n",
              "      <th>education_basic.9y</th>\n",
              "      <th>education_high.school</th>\n",
              "      <th>education_illiterate</th>\n",
              "      <th>education_professional.course</th>\n",
              "      <th>education_university.degree</th>\n",
              "      <th>education_unknown</th>\n",
              "      <th>default_unknown</th>\n",
              "      <th>default_yes</th>\n",
              "      <th>housing_unknown</th>\n",
              "      <th>housing_yes</th>\n",
              "      <th>loan_unknown</th>\n",
              "      <th>loan_yes</th>\n",
              "      <th>contact_telephone</th>\n",
              "      <th>month_aug</th>\n",
              "      <th>month_dec</th>\n",
              "      <th>month_jul</th>\n",
              "      <th>month_jun</th>\n",
              "      <th>month_mar</th>\n",
              "      <th>month_may</th>\n",
              "      <th>month_nov</th>\n",
              "      <th>month_oct</th>\n",
              "      <th>month_sep</th>\n",
              "      <th>day_of_week_mon</th>\n",
              "      <th>day_of_week_thu</th>\n",
              "      <th>day_of_week_tue</th>\n",
              "      <th>day_of_week_wed</th>\n",
              "      <th>poutcome_nonexistent</th>\n",
              "      <th>poutcome_success</th>\n",
              "      <th>campaign_y</th>\n",
              "      <th>age_y</th>\n",
              "      <th>euribor3m_y</th>\n",
              "      <th>nr.employed_y</th>\n",
              "      <th>emp.var.rate_y</th>\n",
              "      <th>pdays_y</th>\n",
              "      <th>previous_y</th>\n",
              "      <th>cons.conf.idx_y</th>\n",
              "      <th>cons.price.idx_y</th>\n",
              "    </tr>\n",
              "  </thead>\n",
              "  <tbody>\n",
              "    <tr>\n",
              "      <th>8505</th>\n",
              "      <td>43</td>\n",
              "      <td>4</td>\n",
              "      <td>999</td>\n",
              "      <td>0</td>\n",
              "      <td>1.4</td>\n",
              "      <td>94.465</td>\n",
              "      <td>-41.8</td>\n",
              "      <td>4.864</td>\n",
              "      <td>5228.1</td>\n",
              "      <td>1</td>\n",
              "      <td>0</td>\n",
              "      <td>0</td>\n",
              "      <td>0</td>\n",
              "      <td>0</td>\n",
              "      <td>0</td>\n",
              "      <td>0</td>\n",
              "      <td>0</td>\n",
              "      <td>0</td>\n",
              "      <td>0</td>\n",
              "      <td>0</td>\n",
              "      <td>1</td>\n",
              "      <td>0</td>\n",
              "      <td>0</td>\n",
              "      <td>0</td>\n",
              "      <td>0</td>\n",
              "      <td>0</td>\n",
              "      <td>0</td>\n",
              "      <td>0</td>\n",
              "      <td>0</td>\n",
              "      <td>0</td>\n",
              "      <td>0</td>\n",
              "      <td>0</td>\n",
              "      <td>0</td>\n",
              "      <td>1</td>\n",
              "      <td>0</td>\n",
              "      <td>0</td>\n",
              "      <td>1</td>\n",
              "      <td>0</td>\n",
              "      <td>0</td>\n",
              "      <td>0</td>\n",
              "      <td>1</td>\n",
              "      <td>0</td>\n",
              "      <td>0</td>\n",
              "      <td>0</td>\n",
              "      <td>0</td>\n",
              "      <td>0</td>\n",
              "      <td>0</td>\n",
              "      <td>0</td>\n",
              "      <td>0</td>\n",
              "      <td>1</td>\n",
              "      <td>1</td>\n",
              "      <td>0</td>\n",
              "      <td>4</td>\n",
              "      <td>43</td>\n",
              "      <td>4.864</td>\n",
              "      <td>5228.1</td>\n",
              "      <td>1.4</td>\n",
              "      <td>999</td>\n",
              "      <td>0</td>\n",
              "      <td>-41.8</td>\n",
              "      <td>94.465</td>\n",
              "    </tr>\n",
              "    <tr>\n",
              "      <th>28321</th>\n",
              "      <td>35</td>\n",
              "      <td>1</td>\n",
              "      <td>999</td>\n",
              "      <td>0</td>\n",
              "      <td>-1.8</td>\n",
              "      <td>93.075</td>\n",
              "      <td>-47.1</td>\n",
              "      <td>1.445</td>\n",
              "      <td>5099.1</td>\n",
              "      <td>0</td>\n",
              "      <td>0</td>\n",
              "      <td>0</td>\n",
              "      <td>0</td>\n",
              "      <td>0</td>\n",
              "      <td>0</td>\n",
              "      <td>0</td>\n",
              "      <td>0</td>\n",
              "      <td>0</td>\n",
              "      <td>0</td>\n",
              "      <td>0</td>\n",
              "      <td>1</td>\n",
              "      <td>0</td>\n",
              "      <td>0</td>\n",
              "      <td>0</td>\n",
              "      <td>0</td>\n",
              "      <td>1</td>\n",
              "      <td>0</td>\n",
              "      <td>0</td>\n",
              "      <td>0</td>\n",
              "      <td>0</td>\n",
              "      <td>0</td>\n",
              "      <td>0</td>\n",
              "      <td>0</td>\n",
              "      <td>1</td>\n",
              "      <td>0</td>\n",
              "      <td>0</td>\n",
              "      <td>0</td>\n",
              "      <td>0</td>\n",
              "      <td>0</td>\n",
              "      <td>0</td>\n",
              "      <td>0</td>\n",
              "      <td>0</td>\n",
              "      <td>0</td>\n",
              "      <td>0</td>\n",
              "      <td>0</td>\n",
              "      <td>0</td>\n",
              "      <td>0</td>\n",
              "      <td>0</td>\n",
              "      <td>0</td>\n",
              "      <td>1</td>\n",
              "      <td>1</td>\n",
              "      <td>0</td>\n",
              "      <td>1</td>\n",
              "      <td>35</td>\n",
              "      <td>1.445</td>\n",
              "      <td>5099.1</td>\n",
              "      <td>-1.8</td>\n",
              "      <td>999</td>\n",
              "      <td>0</td>\n",
              "      <td>-47.1</td>\n",
              "      <td>93.075</td>\n",
              "    </tr>\n",
              "    <tr>\n",
              "      <th>2582</th>\n",
              "      <td>34</td>\n",
              "      <td>3</td>\n",
              "      <td>999</td>\n",
              "      <td>0</td>\n",
              "      <td>1.1</td>\n",
              "      <td>93.994</td>\n",
              "      <td>-36.4</td>\n",
              "      <td>4.856</td>\n",
              "      <td>5191.0</td>\n",
              "      <td>0</td>\n",
              "      <td>0</td>\n",
              "      <td>0</td>\n",
              "      <td>1</td>\n",
              "      <td>0</td>\n",
              "      <td>0</td>\n",
              "      <td>0</td>\n",
              "      <td>0</td>\n",
              "      <td>0</td>\n",
              "      <td>0</td>\n",
              "      <td>0</td>\n",
              "      <td>1</td>\n",
              "      <td>0</td>\n",
              "      <td>0</td>\n",
              "      <td>0</td>\n",
              "      <td>0</td>\n",
              "      <td>0</td>\n",
              "      <td>0</td>\n",
              "      <td>0</td>\n",
              "      <td>1</td>\n",
              "      <td>0</td>\n",
              "      <td>0</td>\n",
              "      <td>0</td>\n",
              "      <td>0</td>\n",
              "      <td>1</td>\n",
              "      <td>0</td>\n",
              "      <td>0</td>\n",
              "      <td>1</td>\n",
              "      <td>0</td>\n",
              "      <td>0</td>\n",
              "      <td>0</td>\n",
              "      <td>0</td>\n",
              "      <td>0</td>\n",
              "      <td>1</td>\n",
              "      <td>0</td>\n",
              "      <td>0</td>\n",
              "      <td>0</td>\n",
              "      <td>0</td>\n",
              "      <td>0</td>\n",
              "      <td>1</td>\n",
              "      <td>0</td>\n",
              "      <td>1</td>\n",
              "      <td>0</td>\n",
              "      <td>3</td>\n",
              "      <td>34</td>\n",
              "      <td>4.856</td>\n",
              "      <td>5191.0</td>\n",
              "      <td>1.1</td>\n",
              "      <td>999</td>\n",
              "      <td>0</td>\n",
              "      <td>-36.4</td>\n",
              "      <td>93.994</td>\n",
              "    </tr>\n",
              "    <tr>\n",
              "      <th>9407</th>\n",
              "      <td>49</td>\n",
              "      <td>4</td>\n",
              "      <td>999</td>\n",
              "      <td>0</td>\n",
              "      <td>1.4</td>\n",
              "      <td>94.465</td>\n",
              "      <td>-41.8</td>\n",
              "      <td>4.967</td>\n",
              "      <td>5228.1</td>\n",
              "      <td>1</td>\n",
              "      <td>0</td>\n",
              "      <td>0</td>\n",
              "      <td>0</td>\n",
              "      <td>0</td>\n",
              "      <td>0</td>\n",
              "      <td>0</td>\n",
              "      <td>0</td>\n",
              "      <td>0</td>\n",
              "      <td>0</td>\n",
              "      <td>0</td>\n",
              "      <td>1</td>\n",
              "      <td>0</td>\n",
              "      <td>0</td>\n",
              "      <td>0</td>\n",
              "      <td>0</td>\n",
              "      <td>0</td>\n",
              "      <td>0</td>\n",
              "      <td>0</td>\n",
              "      <td>0</td>\n",
              "      <td>0</td>\n",
              "      <td>1</td>\n",
              "      <td>0</td>\n",
              "      <td>0</td>\n",
              "      <td>0</td>\n",
              "      <td>0</td>\n",
              "      <td>0</td>\n",
              "      <td>1</td>\n",
              "      <td>0</td>\n",
              "      <td>0</td>\n",
              "      <td>0</td>\n",
              "      <td>1</td>\n",
              "      <td>0</td>\n",
              "      <td>0</td>\n",
              "      <td>0</td>\n",
              "      <td>0</td>\n",
              "      <td>0</td>\n",
              "      <td>0</td>\n",
              "      <td>0</td>\n",
              "      <td>0</td>\n",
              "      <td>0</td>\n",
              "      <td>1</td>\n",
              "      <td>0</td>\n",
              "      <td>4</td>\n",
              "      <td>49</td>\n",
              "      <td>4.967</td>\n",
              "      <td>5228.1</td>\n",
              "      <td>1.4</td>\n",
              "      <td>999</td>\n",
              "      <td>0</td>\n",
              "      <td>-41.8</td>\n",
              "      <td>94.465</td>\n",
              "    </tr>\n",
              "    <tr>\n",
              "      <th>33934</th>\n",
              "      <td>52</td>\n",
              "      <td>2</td>\n",
              "      <td>999</td>\n",
              "      <td>1</td>\n",
              "      <td>-1.8</td>\n",
              "      <td>92.893</td>\n",
              "      <td>-46.2</td>\n",
              "      <td>1.281</td>\n",
              "      <td>5099.1</td>\n",
              "      <td>0</td>\n",
              "      <td>0</td>\n",
              "      <td>0</td>\n",
              "      <td>0</td>\n",
              "      <td>0</td>\n",
              "      <td>0</td>\n",
              "      <td>0</td>\n",
              "      <td>0</td>\n",
              "      <td>0</td>\n",
              "      <td>0</td>\n",
              "      <td>0</td>\n",
              "      <td>1</td>\n",
              "      <td>0</td>\n",
              "      <td>0</td>\n",
              "      <td>0</td>\n",
              "      <td>1</td>\n",
              "      <td>0</td>\n",
              "      <td>0</td>\n",
              "      <td>0</td>\n",
              "      <td>0</td>\n",
              "      <td>0</td>\n",
              "      <td>0</td>\n",
              "      <td>0</td>\n",
              "      <td>0</td>\n",
              "      <td>1</td>\n",
              "      <td>0</td>\n",
              "      <td>0</td>\n",
              "      <td>0</td>\n",
              "      <td>0</td>\n",
              "      <td>0</td>\n",
              "      <td>0</td>\n",
              "      <td>0</td>\n",
              "      <td>0</td>\n",
              "      <td>1</td>\n",
              "      <td>0</td>\n",
              "      <td>0</td>\n",
              "      <td>0</td>\n",
              "      <td>0</td>\n",
              "      <td>0</td>\n",
              "      <td>0</td>\n",
              "      <td>1</td>\n",
              "      <td>0</td>\n",
              "      <td>0</td>\n",
              "      <td>2</td>\n",
              "      <td>52</td>\n",
              "      <td>1.281</td>\n",
              "      <td>5099.1</td>\n",
              "      <td>-1.8</td>\n",
              "      <td>999</td>\n",
              "      <td>1</td>\n",
              "      <td>-46.2</td>\n",
              "      <td>92.893</td>\n",
              "    </tr>\n",
              "  </tbody>\n",
              "</table>\n",
              "</div>"
            ],
            "text/plain": [
              "       age_x  campaign_x  pdays_x  previous_x  emp.var.rate_x  \\\n",
              "8505      43           4      999           0             1.4   \n",
              "28321     35           1      999           0            -1.8   \n",
              "2582      34           3      999           0             1.1   \n",
              "9407      49           4      999           0             1.4   \n",
              "33934     52           2      999           1            -1.8   \n",
              "\n",
              "       cons.price.idx_x  cons.conf.idx_x  euribor3m_x  nr.employed_x  \\\n",
              "8505             94.465            -41.8        4.864         5228.1   \n",
              "28321            93.075            -47.1        1.445         5099.1   \n",
              "2582             93.994            -36.4        4.856         5191.0   \n",
              "9407             94.465            -41.8        4.967         5228.1   \n",
              "33934            92.893            -46.2        1.281         5099.1   \n",
              "\n",
              "       job_blue-collar  job_entrepreneur  job_housemaid  job_management  \\\n",
              "8505                 1                 0              0               0   \n",
              "28321                0                 0              0               0   \n",
              "2582                 0                 0              0               1   \n",
              "9407                 1                 0              0               0   \n",
              "33934                0                 0              0               0   \n",
              "\n",
              "       job_retired  job_self-employed  job_services  job_student  \\\n",
              "8505             0                  0             0            0   \n",
              "28321            0                  0             0            0   \n",
              "2582             0                  0             0            0   \n",
              "9407             0                  0             0            0   \n",
              "33934            0                  0             0            0   \n",
              "\n",
              "       job_technician  job_unemployed  job_unknown  marital_married  \\\n",
              "8505                0               0            0                1   \n",
              "28321               0               0            0                1   \n",
              "2582                0               0            0                1   \n",
              "9407                0               0            0                1   \n",
              "33934               0               0            0                1   \n",
              "\n",
              "       marital_single  marital_unknown  education_basic.6y  \\\n",
              "8505                0                0                   0   \n",
              "28321               0                0                   0   \n",
              "2582                0                0                   0   \n",
              "9407                0                0                   0   \n",
              "33934               0                0                   0   \n",
              "\n",
              "       education_basic.9y  education_high.school  education_illiterate  \\\n",
              "8505                    0                      0                     0   \n",
              "28321                   0                      1                     0   \n",
              "2582                    0                      0                     0   \n",
              "9407                    0                      0                     0   \n",
              "33934                   1                      0                     0   \n",
              "\n",
              "       education_professional.course  education_university.degree  \\\n",
              "8505                               0                            0   \n",
              "28321                              0                            0   \n",
              "2582                               0                            1   \n",
              "9407                               0                            0   \n",
              "33934                              0                            0   \n",
              "\n",
              "       education_unknown  default_unknown  default_yes  housing_unknown  \\\n",
              "8505                   0                0            0                0   \n",
              "28321                  0                0            0                0   \n",
              "2582                   0                0            0                0   \n",
              "9407                   0                1            0                0   \n",
              "33934                  0                0            0                0   \n",
              "\n",
              "       housing_yes  loan_unknown  loan_yes  contact_telephone  month_aug  \\\n",
              "8505             1             0         0                  1          0   \n",
              "28321            1             0         0                  0          0   \n",
              "2582             1             0         0                  1          0   \n",
              "9407             0             0         0                  1          0   \n",
              "33934            1             0         0                  0          0   \n",
              "\n",
              "       month_dec  month_jul  month_jun  month_mar  month_may  month_nov  \\\n",
              "8505           0          0          1          0          0          0   \n",
              "28321          0          0          0          0          0          0   \n",
              "2582           0          0          0          0          1          0   \n",
              "9407           0          0          1          0          0          0   \n",
              "33934          0          0          0          0          1          0   \n",
              "\n",
              "       month_oct  month_sep  day_of_week_mon  day_of_week_thu  \\\n",
              "8505           0          0                0                0   \n",
              "28321          0          0                0                0   \n",
              "2582           0          0                0                0   \n",
              "9407           0          0                0                0   \n",
              "33934          0          0                0                0   \n",
              "\n",
              "       day_of_week_tue  day_of_week_wed  poutcome_nonexistent  \\\n",
              "8505                 0                1                     1   \n",
              "28321                0                1                     1   \n",
              "2582                 1                0                     1   \n",
              "9407                 0                0                     1   \n",
              "33934                0                1                     0   \n",
              "\n",
              "       poutcome_success  campaign_y  age_y  euribor3m_y  nr.employed_y  \\\n",
              "8505                  0           4     43        4.864         5228.1   \n",
              "28321                 0           1     35        1.445         5099.1   \n",
              "2582                  0           3     34        4.856         5191.0   \n",
              "9407                  0           4     49        4.967         5228.1   \n",
              "33934                 0           2     52        1.281         5099.1   \n",
              "\n",
              "       emp.var.rate_y  pdays_y  previous_y  cons.conf.idx_y  cons.price.idx_y  \n",
              "8505              1.4      999           0            -41.8            94.465  \n",
              "28321            -1.8      999           0            -47.1            93.075  \n",
              "2582              1.1      999           0            -36.4            93.994  \n",
              "9407              1.4      999           0            -41.8            94.465  \n",
              "33934            -1.8      999           1            -46.2            92.893  "
            ]
          },
          "metadata": {},
          "execution_count": 283
        }
      ]
    },
    {
      "cell_type": "markdown",
      "metadata": {
        "id": "JkqIrEE2DVoy"
      },
      "source": [
        "Encapsulamos o nosso codigo de preprocessamento completo dentro da funcionalidade `preprocess` seguinte:"
      ]
    },
    {
      "cell_type": "code",
      "metadata": {
        "id": "mlXyPVw9BUFf"
      },
      "source": [
        "def preprocess(X, y, cat_cols, num_cols):\n",
        "  ## target label encoding\n",
        "  y_encoded = None\n",
        "  if y is not None:\n",
        "    y_encoded = y.apply(lambda x: 1 if (x == \"yes\" or x == 1) else 0)\n",
        "  ## OH encoding\n",
        "  # drop_first : we remove the first encoded column, as it is redundant and can be infered from the others\n",
        "  cat_encoded = None\n",
        "  if cat_cols is not None:\n",
        "    cat_encoded = pd.get_dummies(data = X, columns = cat_cols, drop_first = True)\n",
        "  else:\n",
        "    return X, y_encoded\n",
        "  # Merge the non-numerical with the scaled numerical data\n",
        "  if num_cols is not None:\n",
        "    X_encoded = cat_encoded.merge(\n",
        "        right=X[num_cols],\n",
        "        how='left',\n",
        "        left_index=True,\n",
        "        right_index=True)\n",
        "    return X_encoded, y_encoded\n",
        "  else:\n",
        "    return cat_encoded, y_encoded"
      ],
      "execution_count": 284,
      "outputs": []
    },
    {
      "cell_type": "markdown",
      "metadata": {
        "id": "alA4vJhcq7JL"
      },
      "source": [
        "# Estabelecer uma baseline"
      ]
    },
    {
      "cell_type": "markdown",
      "metadata": {
        "id": "TLk650Q1RlVL"
      },
      "source": [
        "A metrica que vamos usar num primeiro tempo é o score **AUC**, que avalia a habilidade do nosso model em diferenciar as classes positivas das classes negativas."
      ]
    },
    {
      "cell_type": "code",
      "metadata": {
        "id": "-T0pDG38CAmS"
      },
      "source": [
        "X_test_encoded, y_test_encoded = preprocess(X_test, y_test, cat_cols, num_cols)"
      ],
      "execution_count": 285,
      "outputs": []
    },
    {
      "cell_type": "code",
      "metadata": {
        "id": "6e90M08yn-Hq"
      },
      "source": [
        "from sklearn.linear_model import LogisticRegression\n",
        "clf = LogisticRegression(random_state=0).fit(X_train_encoded, y_train_encoded)"
      ],
      "execution_count": 286,
      "outputs": []
    },
    {
      "cell_type": "code",
      "metadata": {
        "colab": {
          "base_uri": "https://localhost:8080/"
        },
        "id": "1IL7kb4mCMwI",
        "outputId": "736cc69e-3266-4f0f-d804-4c3081dc6344"
      },
      "source": [
        "print(\"Accuracy on train set: \", clf.score(X_train_encoded, y_train_encoded))\n",
        "print(\"Accuracy on test set: \", clf.score(X_test_encoded, y_test_encoded))"
      ],
      "execution_count": 287,
      "outputs": [
        {
          "output_type": "stream",
          "name": "stdout",
          "text": [
            "Accuracy on train set:  0.8999818807755028\n",
            "Accuracy on test set:  0.8985507246376812\n"
          ]
        }
      ]
    },
    {
      "cell_type": "code",
      "metadata": {
        "colab": {
          "base_uri": "https://localhost:8080/"
        },
        "id": "vtKLfPfxrKSD",
        "outputId": "b8e78740-dbf1-4bbc-d6d0-99b359b9d704"
      },
      "source": [
        "from sklearn.metrics import roc_auc_score\n",
        "\n",
        "print(\"AUC on train set: \", roc_auc_score(y_train_encoded, clf.predict_proba(X_train_encoded)[:, 1]))\n",
        "print(\"AUC on test set: \", roc_auc_score(y_test_encoded, clf.predict_proba(X_test_encoded)[:, 1]))"
      ],
      "execution_count": 288,
      "outputs": [
        {
          "output_type": "stream",
          "name": "stdout",
          "text": [
            "AUC on train set:  0.7624098017181247\n",
            "AUC on test set:  0.7638638155318555\n"
          ]
        }
      ]
    },
    {
      "cell_type": "markdown",
      "metadata": {
        "id": "j1c1TJzzSmtR"
      },
      "source": [
        "Encapsulamos esse codigo de avaliaçao da baseline para conseguir reaproveita-lo:"
      ]
    },
    {
      "cell_type": "code",
      "metadata": {
        "id": "lr0duRopO3SR"
      },
      "source": [
        "from sklearn.linear_model import LogisticRegression\n",
        "\n",
        "\n",
        "def train_eval_baseline(X_train, y_train, X_test, y_test, cat_cols, num_cols):\n",
        "  X_train_encoded, y_train_encoded = preprocess(X_train, y_train, cat_cols, num_cols)\n",
        "  X_test_encoded, y_test_encoded = preprocess(X_test, y_test, cat_cols, num_cols)\n",
        "\n",
        "  clf = LogisticRegression(random_state=0).fit(X_train_encoded, y_train_encoded)\n",
        "\n",
        "  print(\"Accuracy on train set: \", clf.score(X_train_encoded, y_train_encoded))\n",
        "  print(\"Accuracy on test set: \", clf.score(X_test_encoded, y_test_encoded))\n",
        "\n",
        "  print(\"AUC on train set: \", roc_auc_score(y_train_encoded, clf.predict_proba(X_train_encoded)[:, 1]))\n",
        "  print(\"AUC on test set: \", roc_auc_score(y_test_encoded, clf.predict_proba(X_test_encoded)[:, 1]))"
      ],
      "execution_count": 289,
      "outputs": []
    },
    {
      "cell_type": "markdown",
      "metadata": {
        "id": "Yu7yTPphsH_i"
      },
      "source": [
        "# Feature engineering"
      ]
    },
    {
      "cell_type": "markdown",
      "metadata": {
        "id": "AKcKXOp5Al1e"
      },
      "source": [
        "## Features simples"
      ]
    },
    {
      "cell_type": "code",
      "metadata": {
        "id": "AGGCKts3QQpS"
      },
      "source": [
        "def feature_engineering(X):\n",
        "  # binary flag instead of pdays\n",
        "  mask_pdays = X[\"pdays\"] != 999\n",
        "  X.loc[mask_pdays, \"contacted_from_prev_camp\"] = 1\n",
        "  X.loc[~mask_pdays, \"contacted_from_prev_camp\"] = 0\n",
        "  X.drop([\"pdays\"], axis=1, inplace=True)\n",
        "\n",
        "  # limit contact with the same client\n",
        "  X.loc[X[\"campaign\"] > 15, \"campaign\"] = 15\n",
        "\n",
        "  # age power 2\n",
        "  X.loc[:, \"age2\"] = X[\"age\"] ** 2\n",
        "\n",
        "  # remove noisy features\n",
        "  X.drop([\"cons.price.idx\", \"cons.conf.idx\", \"euribor3m\"], axis=1, inplace=True)"
      ],
      "execution_count": 290,
      "outputs": []
    },
    {
      "cell_type": "code",
      "metadata": {
        "id": "Ig_97hHeQkF_"
      },
      "source": [
        "feature_engineering(X_train)\n",
        "feature_engineering(X_test)"
      ],
      "execution_count": 291,
      "outputs": []
    },
    {
      "cell_type": "code",
      "metadata": {
        "colab": {
          "base_uri": "https://localhost:8080/",
          "height": 204
        },
        "id": "l8d5RhE-PIOz",
        "outputId": "afab0ba1-6763-4d66-fbeb-4aa144fa53db"
      },
      "source": [
        "X_train.head()"
      ],
      "execution_count": 292,
      "outputs": [
        {
          "output_type": "execute_result",
          "data": {
            "text/html": [
              "<div>\n",
              "<style scoped>\n",
              "    .dataframe tbody tr th:only-of-type {\n",
              "        vertical-align: middle;\n",
              "    }\n",
              "\n",
              "    .dataframe tbody tr th {\n",
              "        vertical-align: top;\n",
              "    }\n",
              "\n",
              "    .dataframe thead th {\n",
              "        text-align: right;\n",
              "    }\n",
              "</style>\n",
              "<table border=\"1\" class=\"dataframe\">\n",
              "  <thead>\n",
              "    <tr style=\"text-align: right;\">\n",
              "      <th></th>\n",
              "      <th>age</th>\n",
              "      <th>job</th>\n",
              "      <th>marital</th>\n",
              "      <th>education</th>\n",
              "      <th>default</th>\n",
              "      <th>housing</th>\n",
              "      <th>loan</th>\n",
              "      <th>contact</th>\n",
              "      <th>month</th>\n",
              "      <th>day_of_week</th>\n",
              "      <th>campaign</th>\n",
              "      <th>previous</th>\n",
              "      <th>poutcome</th>\n",
              "      <th>emp.var.rate</th>\n",
              "      <th>nr.employed</th>\n",
              "      <th>contacted_from_prev_camp</th>\n",
              "      <th>age2</th>\n",
              "    </tr>\n",
              "  </thead>\n",
              "  <tbody>\n",
              "    <tr>\n",
              "      <th>8505</th>\n",
              "      <td>43</td>\n",
              "      <td>blue-collar</td>\n",
              "      <td>married</td>\n",
              "      <td>basic.4y</td>\n",
              "      <td>no</td>\n",
              "      <td>yes</td>\n",
              "      <td>no</td>\n",
              "      <td>telephone</td>\n",
              "      <td>jun</td>\n",
              "      <td>wed</td>\n",
              "      <td>4</td>\n",
              "      <td>0</td>\n",
              "      <td>nonexistent</td>\n",
              "      <td>1.4</td>\n",
              "      <td>5228.1</td>\n",
              "      <td>0.0</td>\n",
              "      <td>1849</td>\n",
              "    </tr>\n",
              "    <tr>\n",
              "      <th>28321</th>\n",
              "      <td>35</td>\n",
              "      <td>admin.</td>\n",
              "      <td>married</td>\n",
              "      <td>high.school</td>\n",
              "      <td>no</td>\n",
              "      <td>yes</td>\n",
              "      <td>no</td>\n",
              "      <td>cellular</td>\n",
              "      <td>apr</td>\n",
              "      <td>wed</td>\n",
              "      <td>1</td>\n",
              "      <td>0</td>\n",
              "      <td>nonexistent</td>\n",
              "      <td>-1.8</td>\n",
              "      <td>5099.1</td>\n",
              "      <td>0.0</td>\n",
              "      <td>1225</td>\n",
              "    </tr>\n",
              "    <tr>\n",
              "      <th>2582</th>\n",
              "      <td>34</td>\n",
              "      <td>management</td>\n",
              "      <td>married</td>\n",
              "      <td>university.degree</td>\n",
              "      <td>no</td>\n",
              "      <td>yes</td>\n",
              "      <td>no</td>\n",
              "      <td>telephone</td>\n",
              "      <td>may</td>\n",
              "      <td>tue</td>\n",
              "      <td>3</td>\n",
              "      <td>0</td>\n",
              "      <td>nonexistent</td>\n",
              "      <td>1.1</td>\n",
              "      <td>5191.0</td>\n",
              "      <td>0.0</td>\n",
              "      <td>1156</td>\n",
              "    </tr>\n",
              "    <tr>\n",
              "      <th>9407</th>\n",
              "      <td>49</td>\n",
              "      <td>blue-collar</td>\n",
              "      <td>married</td>\n",
              "      <td>basic.4y</td>\n",
              "      <td>unknown</td>\n",
              "      <td>no</td>\n",
              "      <td>no</td>\n",
              "      <td>telephone</td>\n",
              "      <td>jun</td>\n",
              "      <td>fri</td>\n",
              "      <td>4</td>\n",
              "      <td>0</td>\n",
              "      <td>nonexistent</td>\n",
              "      <td>1.4</td>\n",
              "      <td>5228.1</td>\n",
              "      <td>0.0</td>\n",
              "      <td>2401</td>\n",
              "    </tr>\n",
              "    <tr>\n",
              "      <th>33934</th>\n",
              "      <td>52</td>\n",
              "      <td>admin.</td>\n",
              "      <td>married</td>\n",
              "      <td>basic.9y</td>\n",
              "      <td>no</td>\n",
              "      <td>yes</td>\n",
              "      <td>no</td>\n",
              "      <td>cellular</td>\n",
              "      <td>may</td>\n",
              "      <td>wed</td>\n",
              "      <td>2</td>\n",
              "      <td>1</td>\n",
              "      <td>failure</td>\n",
              "      <td>-1.8</td>\n",
              "      <td>5099.1</td>\n",
              "      <td>0.0</td>\n",
              "      <td>2704</td>\n",
              "    </tr>\n",
              "  </tbody>\n",
              "</table>\n",
              "</div>"
            ],
            "text/plain": [
              "       age          job  marital          education  default housing loan  \\\n",
              "8505    43  blue-collar  married           basic.4y       no     yes   no   \n",
              "28321   35       admin.  married        high.school       no     yes   no   \n",
              "2582    34   management  married  university.degree       no     yes   no   \n",
              "9407    49  blue-collar  married           basic.4y  unknown      no   no   \n",
              "33934   52       admin.  married           basic.9y       no     yes   no   \n",
              "\n",
              "         contact month day_of_week  campaign  previous     poutcome  \\\n",
              "8505   telephone   jun         wed         4         0  nonexistent   \n",
              "28321   cellular   apr         wed         1         0  nonexistent   \n",
              "2582   telephone   may         tue         3         0  nonexistent   \n",
              "9407   telephone   jun         fri         4         0  nonexistent   \n",
              "33934   cellular   may         wed         2         1      failure   \n",
              "\n",
              "       emp.var.rate  nr.employed  contacted_from_prev_camp  age2  \n",
              "8505            1.4       5228.1                       0.0  1849  \n",
              "28321          -1.8       5099.1                       0.0  1225  \n",
              "2582            1.1       5191.0                       0.0  1156  \n",
              "9407            1.4       5228.1                       0.0  2401  \n",
              "33934          -1.8       5099.1                       0.0  2704  "
            ]
          },
          "metadata": {},
          "execution_count": 292
        }
      ]
    },
    {
      "cell_type": "code",
      "metadata": {
        "colab": {
          "base_uri": "https://localhost:8080/"
        },
        "id": "Kfpi439hPG0x",
        "outputId": "2707cb84-1e31-4657-93ad-613f68e17748"
      },
      "source": [
        "cat_cols = X_train.columns[X_train.dtypes == object]\n",
        "num_cols = list(set(X_train.columns) - set(cat_cols))\n",
        "\n",
        "train_eval_baseline(X_train, y_train, X_test, y_test, cat_cols, num_cols)"
      ],
      "execution_count": 293,
      "outputs": [
        {
          "output_type": "stream",
          "name": "stdout",
          "text": [
            "Accuracy on train set:  0.8961768436310926\n",
            "Accuracy on test set:  0.8973736482012801\n",
            "AUC on train set:  0.7827946897390686\n",
            "AUC on test set:  0.7740623727743745\n"
          ]
        }
      ]
    },
    {
      "cell_type": "markdown",
      "metadata": {
        "id": "bSlvlGtMSTXn"
      },
      "source": [
        "O nosso **AUC** subiu de 0.01 comparado a sem as transformaçoes de features."
      ]
    },
    {
      "cell_type": "markdown",
      "metadata": {
        "id": "zjqfUIJ2Aqof"
      },
      "source": [
        "## Features mais complexas"
      ]
    },
    {
      "cell_type": "code",
      "metadata": {
        "id": "6ousILsPUIDP"
      },
      "source": [
        "from sklearn.cluster import KMeans\n",
        "import numpy as np\n",
        "\n",
        "# Find optimal number of clusters\n",
        "def find_optimal_k_elbow(df, chart_name):\n",
        "    # Create empty sse dictionary\n",
        "    sse = {}\n",
        "    \n",
        "    # Fit KMeans algorithm on k values between 1 and 11\n",
        "    for k in range(1, 30):\n",
        "        kmeans = KMeans(n_clusters=k, random_state=333)\n",
        "        kmeans.fit(df)\n",
        "        sse[k] = kmeans.inertia_\n",
        "    \n",
        "    # Add the title to the plot\n",
        "    plt.title('Elbow criterion ' + chart_name + ' data chart')\n",
        "    \n",
        "    # Create and display a scatter plot\n",
        "    xx = list(sse.keys())\n",
        "    yy = list(sse.values())\n",
        "    sns.pointplot(x=xx, y=yy)\n",
        "    plt.show()\n",
        "    return xx,yy\n",
        "\n",
        "def optimal_number_of_clusters(x1, x2, y1, y2, wcss):\n",
        "    distances = []\n",
        "    for i in range(len(wcss)):\n",
        "        x0 = i+2\n",
        "        y0 = wcss[i]\n",
        "        numerator = abs((y2-y1)*x0 - (x2-x1)*y0 + x2*y1 - y2*x1)\n",
        "        denominator = np.sqrt((y2 - y1)**2 + (x2 - x1)**2)\n",
        "        distances.append(numerator/denominator)\n",
        "    \n",
        "    return distances.index(max(distances)) + 2\n",
        "\n",
        "\n",
        "def get_optimal_number_of_clusters(df, chart_name):\n",
        "    xx, yy = find_optimal_k_elbow(df, chart_name)\n",
        "    # calculating the within clusters sum-of-squares for 19 cluster amounts\n",
        "    x1 = xx[0]\n",
        "    y1 = yy[0]\n",
        "    x2 = xx[len(xx)-1]\n",
        "    y2 = yy[len(yy)-1]\n",
        "    \n",
        "    # calculating the optimal number of clusters\n",
        "    n = optimal_number_of_clusters(x1, x2, y1, y2, yy)\n",
        "    return n"
      ],
      "execution_count": 294,
      "outputs": []
    },
    {
      "cell_type": "markdown",
      "metadata": {
        "id": "Jpc4FClJgspn"
      },
      "source": [
        "Os dados socio-economicos estao fora do nosso conhecimento, mas podemos tentar gerar uma nova feature baseada neles a partir de uma seguimentaçao `K-Means`.  \n",
        "Assim, os clientes com os fatores socio-economicos mais similares serao associados ao mesmo seguimento. Isso pode ajudar o modelo conseguir o entendimento de algum padrao mais complexo."
      ]
    },
    {
      "cell_type": "code",
      "metadata": {
        "colab": {
          "base_uri": "https://localhost:8080/",
          "height": 297
        },
        "id": "lOxKoUF8fRwz",
        "outputId": "a1b07b11-220b-4cad-8e41-49db9557c386"
      },
      "source": [
        "X_train, X_test, y_train, y_test = train_test_split(\n",
        "    X, y, test_size=0.33, random_state=42)\n",
        "\n",
        "# Standardize\n",
        "social_economic_features = [\"cons.price.idx\", \"cons.conf.idx\", \"euribor3m\"]\n",
        "X_train_scaled = X_train.loc[:, social_economic_features]\n",
        "X_train_scaled = (X_train_scaled - X_train_scaled.mean(axis=0)) / X_train_scaled.std(axis=0)\n",
        "\n",
        "X_test_scaled = X_test.loc[:, social_economic_features]\n",
        "X_test_scaled = (X_test_scaled - X_test_scaled.mean(axis=0)) / X_test_scaled.std(axis=0)\n",
        "\n",
        "X_train_encoded, y_train_encoded = preprocess(X_train_scaled[social_economic_features], y_train, None, social_economic_features)\n",
        "X_test_encoded, y_test_encoded = preprocess(X_test_scaled[social_economic_features], y_test, None, social_economic_features)\n",
        "n = get_optimal_number_of_clusters(X_train_encoded, chart_name=\"Social Economic\")\n",
        "print(\"Quantidade de clusters otimal: \", n)"
      ],
      "execution_count": 295,
      "outputs": [
        {
          "output_type": "display_data",
          "data": {
            "image/png": "[encoded data removed]",
            "text/plain": [
              "<Figure size 432x288 with 1 Axes>"
            ]
          },
          "metadata": {
            "needs_background": "light"
          }
        },
        {
          "output_type": "stream",
          "name": "stdout",
          "text": [
            "Quantidade de clusters otimal:  7\n"
          ]
        }
      ]
    },
    {
      "cell_type": "code",
      "metadata": {
        "colab": {
          "base_uri": "https://localhost:8080/"
        },
        "id": "FM3kAN8Vjx_q",
        "outputId": "916a1201-c6f5-4417-d80e-8c0d954aebbf"
      },
      "source": [
        "X_train_encoded.shape"
      ],
      "execution_count": 296,
      "outputs": [
        {
          "output_type": "execute_result",
          "data": {
            "text/plain": [
              "(27595, 3)"
            ]
          },
          "metadata": {},
          "execution_count": 296
        }
      ]
    },
    {
      "cell_type": "code",
      "metadata": {
        "id": "ojos75TgVvSN"
      },
      "source": [
        "#!/usr/bin/python\n",
        "# -*- coding: utf-8 -*-\n",
        "import numpy as np\n",
        "from sklearn.cluster import KMeans\n",
        "\n",
        "\n",
        "class KMeansFeaturizer:\n",
        "  \"\"\"Transforms numeric data into k-means cluster memberships.\n",
        "\n",
        "  This transformer runs k-means on the input data and converts each data point\n",
        "  into the ID of the closest cluster. If a target variable is present, it is \n",
        "  scaled and included as input to k-means in order to derive clusters that\n",
        "  obey the classification boundary as well as group similar points together.\n",
        "  \"\"\"\n",
        "  def __init__(\n",
        "      self,\n",
        "      k=100,\n",
        "      target_scale=5.0,\n",
        "      random_state=None,\n",
        "      ):\n",
        "    self.k = k\n",
        "    self.target_scale = target_scale\n",
        "    self.random_state = random_state\n",
        "    self.km_model_ = None\n",
        "\n",
        "  def fit(self, X, y=None):\n",
        "    if y is None:\n",
        "      # No target variable, just do plain k-means\n",
        "      km_model = KMeans(n_clusters=self.k, n_init=20, random_state=self.random_state)\n",
        "      self.km_model_ = km_model.fit(X)\n",
        "      self.cluster_centers_ = km_model.cluster_centers_\n",
        "      return self\n",
        "\n",
        "    # There is target information. Apply appropriate scaling and include\n",
        "    # it in the input data to k-means.\n",
        "    data_with_target = np.hstack((X, y[:, np.newaxis]\n",
        "            * self.target_scale))\n",
        "    # Build a pre-training k-means model on data and target\n",
        "    km_model_pretrain = KMeans(n_clusters=self.k, n_init=20,\n",
        "                              random_state=self.random_state)\n",
        "    km_model_pretrain.fit(data_with_target)\n",
        "\n",
        "    # Run k-means a second time to get the clusters in the original space\n",
        "    # without target info. Initialize using centroids found in pre-training.\n",
        "    # Go through a single iteration of cluster assignment and centroid \n",
        "    # recomputation.\n",
        "    km_model = KMeans(n_clusters=self.k,\n",
        "                      init=km_model_pretrain.cluster_centers_[:,:-1],\n",
        "                      n_init=1, max_iter=1)\n",
        "    km_model.fit(X)\n",
        "    self.km_model_ = km_model\n",
        "    self.cluster_centers_ = km_model.cluster_centers_\n",
        "    return self\n",
        "\n",
        "  def transform(self, X, y=None):\n",
        "    clusters = self.km_model_.predict(X)\n",
        "    return clusters[:, np.newaxis]\n",
        "\n",
        "  def fit_transform(self, X, y=None):\n",
        "    self.fit(X, y)\n",
        "    return self.transform(X, y)"
      ],
      "execution_count": 297,
      "outputs": []
    },
    {
      "cell_type": "code",
      "metadata": {
        "id": "RmFDcysuWl1A",
        "colab": {
          "base_uri": "https://localhost:8080/"
        },
        "outputId": "7d5b4921-bab3-4cb4-c51c-c5e68dca1e62"
      },
      "source": [
        "from scipy.spatial import Voronoi, voronoi_plot_2d\n",
        "\n",
        "kmf_hint = KMeansFeaturizer(k=7, target_scale=10, random_state=42)\n",
        "kmf_hint = kmf_hint.fit(X_train_encoded, y_train)\n",
        "print(kmf_hint.km_model_)"
      ],
      "execution_count": 298,
      "outputs": [
        {
          "output_type": "stream",
          "name": "stdout",
          "text": [
            "KMeans(algorithm='auto', copy_x=True,\n",
            "       init=array([[ 0.35437161,  0.90642222,  0.68652124],\n",
            "       [-0.00213653, -0.43425665, -0.62030059],\n",
            "       [-0.653286  , -0.32281909,  0.28202015],\n",
            "       [-1.04882105, -1.19572844, -1.33122839],\n",
            "       [ 0.98051997, -0.41589425,  0.69578474],\n",
            "       [-1.8029016 ,  2.06765768, -1.63437706],\n",
            "       [-1.57807378,  1.99148729, -1.64762933]]),\n",
            "       max_iter=1, n_clusters=7, n_init=1, n_jobs=None,\n",
            "       precompute_distances='auto', random_state=None, tol=0.0001, verbose=0)\n"
          ]
        }
      ]
    },
    {
      "cell_type": "code",
      "metadata": {
        "id": "fju7VRYomQc-"
      },
      "source": [
        "training_cluster_features = kmf_hint.transform(X_train_encoded)\n",
        "test_cluster_features = kmf_hint.transform(X_test_encoded)\n",
        "\n",
        "# New complex engineered feature\n",
        "X_train[\"social_economic_segment\"] = training_cluster_features\n",
        "X_test[\"social_economic_segment\"] = test_cluster_features"
      ],
      "execution_count": 299,
      "outputs": []
    },
    {
      "cell_type": "code",
      "metadata": {
        "colab": {
          "base_uri": "https://localhost:8080/",
          "height": 1000
        },
        "id": "t-Cwrr0PgW0q",
        "outputId": "a41f4a1b-4daf-487a-d744-fb0609be5c33"
      },
      "source": [
        "to_plot = social_economic_features + [\"social_economic_segment\"]\n",
        "\n",
        "Xy_train = pd.concat([X_train.reset_index(drop = True),\n",
        "                           y_train.reset_index(drop = True)], axis = 1)\n",
        "plot_all(Xy_train, to_plot, target_name, (20, 20), 10)\n",
        "plt.show()"
      ],
      "execution_count": 300,
      "outputs": [
        {
          "output_type": "display_data",
          "data": {
            "image/png": "[encoded data removed]",
            "text/plain": [
              "<Figure size 1440x1440 with 4 Axes>"
            ]
          },
          "metadata": {
            "needs_background": "light"
          }
        }
      ]
    },
    {
      "cell_type": "code",
      "metadata": {
        "colab": {
          "base_uri": "https://localhost:8080/",
          "height": 606
        },
        "id": "z8QMrv04h3rt",
        "outputId": "2b49e5de-3193-43a2-8220-383b1fa315d4"
      },
      "source": [
        "fig, ax = plt.subplots(2, 2, figsize=(20, 10))\n",
        "for col, subplot in zip(to_plot, ax.flatten()):\n",
        "  propension_by_col = Xy_train[[col, target_name]].groupby(col).mean()\n",
        "  subplot.plot(propension_by_col, 'o', alpha=0.5)\n",
        "  subplot.set_title(col)\n",
        "plt.show()"
      ],
      "execution_count": 301,
      "outputs": [
        {
          "output_type": "display_data",
          "data": {
            "image/png": "[encoded data removed]",
            "text/plain": [
              "<Figure size 1440x720 with 4 Axes>"
            ]
          },
          "metadata": {
            "needs_background": "light"
          }
        }
      ]
    },
    {
      "cell_type": "markdown",
      "metadata": {
        "id": "1glgDSKtiksg"
      },
      "source": [
        "Ficou mais facil entender o relacionamento dessa nova variavel com o target.  \n",
        "Vamos verificar se esse novo preditor ajuda a melhorar a nossa regressao logistica."
      ]
    },
    {
      "cell_type": "code",
      "metadata": {
        "id": "jiEzOfljBudH"
      },
      "source": [
        "# Simple engineered features\n",
        "feature_engineering(X_train)\n",
        "feature_engineering(X_test)"
      ],
      "execution_count": 302,
      "outputs": []
    },
    {
      "cell_type": "code",
      "metadata": {
        "id": "e0G_B9Fs9vpX",
        "colab": {
          "base_uri": "https://localhost:8080/"
        },
        "outputId": "6367fcb1-0e27-41ab-aa68-5a989dfacd77"
      },
      "source": [
        "cat_cols = list(X_train.columns[X_train.dtypes == object])\n",
        "cat_cols.append(\"social_economic_segment\")\n",
        "num_cols = list(set(X_train.columns) - set(cat_cols))\n",
        "\n",
        "# Eval logistic regression baseline\n",
        "train_eval_baseline(X_train, y_train, X_test, y_test, cat_cols, num_cols)"
      ],
      "execution_count": 303,
      "outputs": [
        {
          "output_type": "stream",
          "name": "stdout",
          "text": [
            "Accuracy on train set:  0.8968291357129915\n",
            "Accuracy on test set:  0.8964908408739792\n",
            "AUC on train set:  0.7843192689304219\n",
            "AUC on test set:  0.7738392759617987\n"
          ]
        }
      ]
    },
    {
      "cell_type": "markdown",
      "metadata": {
        "id": "dMkYQkZMj5SY"
      },
      "source": [
        "Nao parece ter ajudado muito o nosso modelo de regressao logistica.  \n",
        "Mesmo assim, vamos deixar esse novo preditor no dataset para testar com os modelos baseados em arvores. Os modelos baseados em arvores fazem uma seleçao interna das features a mais uteis para diminuir a entropia.  \n",
        "Portanto, mesmo se esse preditor fosse muito fraco, ele nao teria um impacto negativo no modelo. "
      ]
    },
    {
      "cell_type": "markdown",
      "metadata": {
        "id": "X_xboYj2D6c-"
      },
      "source": [
        "# Testar e avaliar outros modelos"
      ]
    },
    {
      "cell_type": "markdown",
      "metadata": {
        "id": "R-wFwvAgmQMc"
      },
      "source": [
        "O nosso dataset é desbalanceado. Vamos aproveitar da estrategia de **Sensitive learning** com o parâmetro `class weight` da biblioteca `scikit-learn`. Esse parametro é disponivel na classe do **Random Forest Classifier**."
      ]
    },
    {
      "cell_type": "code",
      "metadata": {
        "id": "14g53dk5lUl5"
      },
      "source": [
        "def train_eval_model(model, X_train, y_train, X_test, y_test, cat_cols, num_cols):\n",
        "  X_train_encoded, y_train_encoded = preprocess(X_train, y_train, cat_cols, num_cols)\n",
        "  X_test_encoded, y_test_encoded = preprocess(X_test, y_test, cat_cols, num_cols)\n",
        "\n",
        "  clf = model.fit(X_train_encoded, y_train_encoded)\n",
        "\n",
        "  print(\"Accuracy on train set: \", clf.score(X_train_encoded, y_train_encoded))\n",
        "  print(\"Accuracy on test set: \", clf.score(X_test_encoded, y_test_encoded))\n",
        "\n",
        "  print(\"AUC on train set: \", roc_auc_score(y_train_encoded, clf.predict_proba(X_train_encoded)[:, 1]))\n",
        "  print(\"AUC on test set: \", roc_auc_score(y_test_encoded, clf.predict_proba(X_test_encoded)[:, 1]))\n",
        "  return clf"
      ],
      "execution_count": 304,
      "outputs": []
    },
    {
      "cell_type": "code",
      "metadata": {
        "id": "KFnyjnuyBIuh",
        "colab": {
          "base_uri": "https://localhost:8080/"
        },
        "outputId": "f240c8c7-b9f6-4b7d-e5d6-5b6e9721fe0f"
      },
      "source": [
        "from sklearn.ensemble import RandomForestClassifier\n",
        "\n",
        "\n",
        "cat_cols = list(X_train.columns[X_train.dtypes == object])\n",
        "cat_cols.append(\"social_economic_segment\")\n",
        "num_cols = list(set(X_train.columns) - set(cat_cols))\n",
        "\n",
        "model = RandomForestClassifier(random_state=42, class_weight=\"balanced\", n_estimators=100, max_depth=6, n_jobs=-1)\n",
        "rf = train_eval_model(model, X_train, y_train, X_test, y_test, cat_cols, num_cols)"
      ],
      "execution_count": 305,
      "outputs": [
        {
          "output_type": "stream",
          "name": "stdout",
          "text": [
            "Accuracy on train set:  0.8125385033520566\n",
            "Accuracy on test set:  0.8099021555212241\n",
            "AUC on train set:  0.8118003266267427\n",
            "AUC on test set:  0.7897805793738956\n"
          ]
        }
      ]
    },
    {
      "cell_type": "code",
      "metadata": {
        "colab": {
          "base_uri": "https://localhost:8080/"
        },
        "id": "FeNGlSY6l_NP",
        "outputId": "b0eab6ec-704e-4949-9514-debfaf9081c1"
      },
      "source": [
        "from xgboost import XGBClassifier\n",
        "\n",
        "\n",
        "model = XGBClassifier(scale_pos_weight=90)\n",
        "xb = train_eval_model(model, X_train, y_train, X_test, y_test, cat_cols, num_cols)"
      ],
      "execution_count": 306,
      "outputs": [
        {
          "output_type": "stream",
          "name": "stdout",
          "text": [
            "Accuracy on train set:  0.12857401703207103\n",
            "Accuracy on test set:  0.1263885823585669\n",
            "AUC on train set:  0.8123485664408154\n",
            "AUC on test set:  0.7877676352255942\n"
          ]
        }
      ]
    },
    {
      "cell_type": "markdown",
      "metadata": {
        "id": "OX0i8eNloDXX"
      },
      "source": [
        "Poderiamos comparar mais em detalhe esses 2 modelos com hiperparametros diferentes, porem, ja que a diferença de **AUC** é minima com uma configuraçao simples, vamos optar por utilizar o **Random Forest**, menos propenso ao *overfit*."
      ]
    },
    {
      "cell_type": "code",
      "metadata": {
        "colab": {
          "base_uri": "https://localhost:8080/",
          "height": 264
        },
        "id": "-X25f7LFnRU-",
        "outputId": "40c40ee5-ff58-45e1-c4e4-c73a440f238d"
      },
      "source": [
        "X_train_encoded, y_train_encoded = preprocess(X_train, y_train, cat_cols, num_cols)\n",
        "\n",
        "# plotando as variaveis mais importantes\n",
        "feat_importances = pd.Series(\n",
        "    rf.feature_importances_, \n",
        "    index=X_train_encoded.columns)\n",
        "feat_importances.nlargest(20).plot(kind='barh')\n",
        "plt.show()"
      ],
      "execution_count": 307,
      "outputs": [
        {
          "output_type": "display_data",
          "data": {
            "image/png": "[encoded data removed]",
            "text/plain": [
              "<Figure size 432x288 with 1 Axes>"
            ]
          },
          "metadata": {
            "needs_background": "light"
          }
        }
      ]
    },
    {
      "cell_type": "markdown",
      "metadata": {
        "id": "Sy9b-jLFqEy1"
      },
      "source": [
        "Constatamos que dessa vez, a variavel de seguimento socio-economico ajudou o modelo.  \n",
        "As outras importancias de features sao consistente com o que eu apontei na fase de exploraçao das variaveis.  \n",
        "Podemos perceber que o mes do ultimo contato tem um impacto forte. Seria um bom proximo passo começar a coleta de indicadores mais consistente de qualidade de ligaçao para podermos remover esse preditor `month`, muito instavel e enviesado."
      ]
    },
    {
      "cell_type": "markdown",
      "metadata": {
        "id": "zVLg4smUt-dx"
      },
      "source": [
        "So falta empacotar o codigo de preparaçao do input do modelo:"
      ]
    },
    {
      "cell_type": "code",
      "metadata": {
        "id": "2BZGYqNXo-mr"
      },
      "source": [
        "# y can be None\n",
        "def prepare_for_modeling(X, y):\n",
        "  cluster_features = kmf_hint.transform(X_train_encoded)\n",
        "  # New complex engineered feature\n",
        "  X[\"social_economic_segment\"] = cluster_features\n",
        "  # Simple engineered features\n",
        "  feature_engineering(X)\n",
        "  cat_cols = list(X.columns[X.dtypes == object])\n",
        "  num_cols = list(set(X.columns) - set(cat_cols))\n",
        "  X, y = preprocess(X, y, cat_cols, num_cols)\n",
        "  return X, y"
      ],
      "execution_count": 308,
      "outputs": []
    },
    {
      "cell_type": "code",
      "metadata": {
        "id": "Ntg8OvKauKaO"
      },
      "source": [
        ""
      ],
      "execution_count": null,
      "outputs": []
    }
  ]
}