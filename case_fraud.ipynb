{
  "nbformat": 4,
  "nbformat_minor": 0,
  "metadata": {
    "colab": {
      "name": "case_fraud.ipynb",
      "provenance": [],
      "collapsed_sections": [],
      "toc_visible": true
    },
    "kernelspec": {
      "name": "python3",
      "display_name": "Python 3"
    },
    "language_info": {
      "name": "python"
    }
  },
  "cells": [
    {
      "cell_type": "code",
      "metadata": {
        "colab": {
          "base_uri": "https://localhost:8080/"
        },
        "id": "Aa-B1HzMx17o",
        "outputId": "69edb810-dee7-4126-c1df-0e82aff6d39f"
      },
      "source": [
        "from google.colab import drive\n",
        "drive.mount('/content/drive')"
      ],
      "execution_count": 2,
      "outputs": [
        {
          "output_type": "stream",
          "name": "stdout",
          "text": [
            "Mounted at /content/drive\n"
          ]
        }
      ]
    },
    {
      "cell_type": "code",
      "metadata": {
        "colab": {
          "base_uri": "https://localhost:8080/"
        },
        "id": "36GzfGkqsjJY",
        "outputId": "f1347564-a3c9-4639-f28e-0c9aa48699a4"
      },
      "source": [
        "!pip install pyldavis==3.2.2"
      ],
      "execution_count": null,
      "outputs": [
        {
          "output_type": "stream",
          "name": "stdout",
          "text": [
            "Requirement already satisfied: pyldavis==3.2.2 in /usr/local/lib/python3.7/dist-packages (3.2.2)\n",
            "Requirement already satisfied: jinja2>=2.7.2 in /usr/local/lib/python3.7/dist-packages (from pyldavis==3.2.2) (2.11.3)\n",
            "Requirement already satisfied: future in /usr/local/lib/python3.7/dist-packages (from pyldavis==3.2.2) (0.16.0)\n",
            "Requirement already satisfied: pandas>=0.17.0 in /usr/local/lib/python3.7/dist-packages (from pyldavis==3.2.2) (1.3.4)\n",
            "Requirement already satisfied: numpy>=1.9.2 in /usr/local/lib/python3.7/dist-packages (from pyldavis==3.2.2) (1.21.3)\n",
            "Requirement already satisfied: funcy in /usr/local/lib/python3.7/dist-packages (from pyldavis==3.2.2) (1.16)\n",
            "Requirement already satisfied: numexpr in /usr/local/lib/python3.7/dist-packages (from pyldavis==3.2.2) (2.7.3)\n",
            "Requirement already satisfied: scipy>=0.18.0 in /usr/local/lib/python3.7/dist-packages (from pyldavis==3.2.2) (1.4.1)\n",
            "Requirement already satisfied: wheel>=0.23.0 in /usr/local/lib/python3.7/dist-packages (from pyldavis==3.2.2) (0.37.0)\n",
            "Requirement already satisfied: joblib>=0.8.4 in /usr/local/lib/python3.7/dist-packages (from pyldavis==3.2.2) (1.0.1)\n",
            "Requirement already satisfied: MarkupSafe>=0.23 in /usr/local/lib/python3.7/dist-packages (from jinja2>=2.7.2->pyldavis==3.2.2) (2.0.1)\n",
            "Requirement already satisfied: python-dateutil>=2.7.3 in /usr/local/lib/python3.7/dist-packages (from pandas>=0.17.0->pyldavis==3.2.2) (2.8.2)\n",
            "Requirement already satisfied: pytz>=2017.3 in /usr/local/lib/python3.7/dist-packages (from pandas>=0.17.0->pyldavis==3.2.2) (2018.9)\n",
            "Requirement already satisfied: six>=1.5 in /usr/local/lib/python3.7/dist-packages (from python-dateutil>=2.7.3->pandas>=0.17.0->pyldavis==3.2.2) (1.15.0)\n"
          ]
        }
      ]
    },
    {
      "cell_type": "markdown",
      "metadata": {
        "id": "NJvmURSwyLqi"
      },
      "source": [
        "# Ler e analisar os dados"
      ]
    },
    {
      "cell_type": "code",
      "metadata": {
        "colab": {
          "base_uri": "https://localhost:8080/",
          "height": 472
        },
        "id": "3hV8Oto-yJol",
        "outputId": "e4f55acb-8588-42b4-a618-e6b29c09d062"
      },
      "source": [
        "import pandas as pd\n",
        "\n",
        "pd.set_option('display.max_columns', None)\n",
        "\n",
        "df = pd.read_csv('/content/drive/MyDrive/MELI/data/dados.csv', sep=',')\n",
        "df.head()"
      ],
      "execution_count": 72,
      "outputs": [
        {
          "output_type": "execute_result",
          "data": {
            "text/html": [
              "<div>\n",
              "<style scoped>\n",
              "    .dataframe tbody tr th:only-of-type {\n",
              "        vertical-align: middle;\n",
              "    }\n",
              "\n",
              "    .dataframe tbody tr th {\n",
              "        vertical-align: top;\n",
              "    }\n",
              "\n",
              "    .dataframe thead th {\n",
              "        text-align: right;\n",
              "    }\n",
              "</style>\n",
              "<table border=\"1\" class=\"dataframe\">\n",
              "  <thead>\n",
              "    <tr style=\"text-align: right;\">\n",
              "      <th></th>\n",
              "      <th>a</th>\n",
              "      <th>b</th>\n",
              "      <th>c</th>\n",
              "      <th>d</th>\n",
              "      <th>e</th>\n",
              "      <th>f</th>\n",
              "      <th>g</th>\n",
              "      <th>h</th>\n",
              "      <th>i</th>\n",
              "      <th>j</th>\n",
              "      <th>k</th>\n",
              "      <th>l</th>\n",
              "      <th>m</th>\n",
              "      <th>n</th>\n",
              "      <th>o</th>\n",
              "      <th>p</th>\n",
              "      <th>fecha</th>\n",
              "      <th>monto</th>\n",
              "      <th>score</th>\n",
              "      <th>fraude</th>\n",
              "    </tr>\n",
              "  </thead>\n",
              "  <tbody>\n",
              "    <tr>\n",
              "      <th>0</th>\n",
              "      <td>4</td>\n",
              "      <td>0.7685</td>\n",
              "      <td>94436.24</td>\n",
              "      <td>20.0</td>\n",
              "      <td>0.444828</td>\n",
              "      <td>1.0</td>\n",
              "      <td>BR</td>\n",
              "      <td>5</td>\n",
              "      <td>Máquininha Corta Barba Cabelo Peito Perna Pelo...</td>\n",
              "      <td>cat_8d714cd</td>\n",
              "      <td>0.883598</td>\n",
              "      <td>240.0</td>\n",
              "      <td>102.0</td>\n",
              "      <td>1</td>\n",
              "      <td>NaN</td>\n",
              "      <td>N</td>\n",
              "      <td>2020-03-27 11:51:16</td>\n",
              "      <td>5.64</td>\n",
              "      <td>66</td>\n",
              "      <td>0</td>\n",
              "    </tr>\n",
              "    <tr>\n",
              "      <th>1</th>\n",
              "      <td>4</td>\n",
              "      <td>0.7550</td>\n",
              "      <td>9258.50</td>\n",
              "      <td>1.0</td>\n",
              "      <td>0.000000</td>\n",
              "      <td>33.0</td>\n",
              "      <td>BR</td>\n",
              "      <td>0</td>\n",
              "      <td>Avental Descartavel Manga Longa  - 50 Un. Tnt ...</td>\n",
              "      <td>cat_64b574b</td>\n",
              "      <td>0.376019</td>\n",
              "      <td>4008.0</td>\n",
              "      <td>0.0</td>\n",
              "      <td>1</td>\n",
              "      <td>Y</td>\n",
              "      <td>N</td>\n",
              "      <td>2020-04-15 19:58:08</td>\n",
              "      <td>124.71</td>\n",
              "      <td>72</td>\n",
              "      <td>0</td>\n",
              "    </tr>\n",
              "    <tr>\n",
              "      <th>2</th>\n",
              "      <td>4</td>\n",
              "      <td>0.7455</td>\n",
              "      <td>242549.09</td>\n",
              "      <td>3.0</td>\n",
              "      <td>0.000000</td>\n",
              "      <td>19.0</td>\n",
              "      <td>AR</td>\n",
              "      <td>23</td>\n",
              "      <td>Bicicleta Mountain Fire Bird Rodado 29 Alumini...</td>\n",
              "      <td>cat_e9110c5</td>\n",
              "      <td>0.516368</td>\n",
              "      <td>1779.0</td>\n",
              "      <td>77.0</td>\n",
              "      <td>1</td>\n",
              "      <td>NaN</td>\n",
              "      <td>N</td>\n",
              "      <td>2020-03-25 18:13:38</td>\n",
              "      <td>339.32</td>\n",
              "      <td>95</td>\n",
              "      <td>0</td>\n",
              "    </tr>\n",
              "    <tr>\n",
              "      <th>3</th>\n",
              "      <td>4</td>\n",
              "      <td>0.7631</td>\n",
              "      <td>18923.90</td>\n",
              "      <td>50.0</td>\n",
              "      <td>0.482385</td>\n",
              "      <td>18.0</td>\n",
              "      <td>BR</td>\n",
              "      <td>23</td>\n",
              "      <td>Caneta Delineador Carimbo Olho Gatinho Longo 2...</td>\n",
              "      <td>cat_d06e653</td>\n",
              "      <td>0.154036</td>\n",
              "      <td>1704.0</td>\n",
              "      <td>1147.0</td>\n",
              "      <td>1</td>\n",
              "      <td>NaN</td>\n",
              "      <td>Y</td>\n",
              "      <td>2020-04-16 16:03:10</td>\n",
              "      <td>3.54</td>\n",
              "      <td>2</td>\n",
              "      <td>0</td>\n",
              "    </tr>\n",
              "    <tr>\n",
              "      <th>4</th>\n",
              "      <td>2</td>\n",
              "      <td>0.7315</td>\n",
              "      <td>5728.68</td>\n",
              "      <td>15.0</td>\n",
              "      <td>0.000000</td>\n",
              "      <td>1.0</td>\n",
              "      <td>BR</td>\n",
              "      <td>2</td>\n",
              "      <td>Resident Evil Operation Raccoon City Ps3</td>\n",
              "      <td>cat_6c4cfdc</td>\n",
              "      <td>0.855798</td>\n",
              "      <td>1025.0</td>\n",
              "      <td>150.0</td>\n",
              "      <td>1</td>\n",
              "      <td>NaN</td>\n",
              "      <td>N</td>\n",
              "      <td>2020-04-02 10:24:45</td>\n",
              "      <td>3.53</td>\n",
              "      <td>76</td>\n",
              "      <td>0</td>\n",
              "    </tr>\n",
              "  </tbody>\n",
              "</table>\n",
              "</div>"
            ],
            "text/plain": [
              "   a       b          c     d         e     f   g   h  \\\n",
              "0  4  0.7685   94436.24  20.0  0.444828   1.0  BR   5   \n",
              "1  4  0.7550    9258.50   1.0  0.000000  33.0  BR   0   \n",
              "2  4  0.7455  242549.09   3.0  0.000000  19.0  AR  23   \n",
              "3  4  0.7631   18923.90  50.0  0.482385  18.0  BR  23   \n",
              "4  2  0.7315    5728.68  15.0  0.000000   1.0  BR   2   \n",
              "\n",
              "                                                   i            j         k  \\\n",
              "0  Máquininha Corta Barba Cabelo Peito Perna Pelo...  cat_8d714cd  0.883598   \n",
              "1  Avental Descartavel Manga Longa  - 50 Un. Tnt ...  cat_64b574b  0.376019   \n",
              "2  Bicicleta Mountain Fire Bird Rodado 29 Alumini...  cat_e9110c5  0.516368   \n",
              "3  Caneta Delineador Carimbo Olho Gatinho Longo 2...  cat_d06e653  0.154036   \n",
              "4           Resident Evil Operation Raccoon City Ps3  cat_6c4cfdc  0.855798   \n",
              "\n",
              "        l       m  n    o  p                fecha   monto  score  fraude  \n",
              "0   240.0   102.0  1  NaN  N  2020-03-27 11:51:16    5.64     66       0  \n",
              "1  4008.0     0.0  1    Y  N  2020-04-15 19:58:08  124.71     72       0  \n",
              "2  1779.0    77.0  1  NaN  N  2020-03-25 18:13:38  339.32     95       0  \n",
              "3  1704.0  1147.0  1  NaN  Y  2020-04-16 16:03:10    3.54      2       0  \n",
              "4  1025.0   150.0  1  NaN  N  2020-04-02 10:24:45    3.53     76       0  "
            ]
          },
          "metadata": {},
          "execution_count": 72
        }
      ]
    },
    {
      "cell_type": "code",
      "metadata": {
        "colab": {
          "base_uri": "https://localhost:8080/"
        },
        "id": "VK-dqgWUzr8L",
        "outputId": "7241db31-772e-468b-9c2f-f925e62b1076"
      },
      "source": [
        "df.info()"
      ],
      "execution_count": null,
      "outputs": [
        {
          "output_type": "stream",
          "name": "stdout",
          "text": [
            "<class 'pandas.core.frame.DataFrame'>\n",
            "RangeIndex: 150000 entries, 0 to 149999\n",
            "Data columns (total 20 columns):\n",
            " #   Column  Non-Null Count   Dtype  \n",
            "---  ------  --------------   -----  \n",
            " 0   a       150000 non-null  int64  \n",
            " 1   b       137016 non-null  float64\n",
            " 2   c       137016 non-null  float64\n",
            " 3   d       149635 non-null  float64\n",
            " 4   e       150000 non-null  float64\n",
            " 5   f       149989 non-null  float64\n",
            " 6   g       149806 non-null  object \n",
            " 7   h       150000 non-null  int64  \n",
            " 8   i       150000 non-null  object \n",
            " 9   j       150000 non-null  object \n",
            " 10  k       150000 non-null  float64\n",
            " 11  l       149989 non-null  float64\n",
            " 12  m       149635 non-null  float64\n",
            " 13  n       150000 non-null  int64  \n",
            " 14  o       41143 non-null   object \n",
            " 15  p       150000 non-null  object \n",
            " 16  fecha   150000 non-null  object \n",
            " 17  monto   150000 non-null  float64\n",
            " 18  score   150000 non-null  int64  \n",
            " 19  fraude  150000 non-null  int64  \n",
            "dtypes: float64(9), int64(5), object(6)\n",
            "memory usage: 22.9+ MB\n"
          ]
        }
      ]
    },
    {
      "cell_type": "markdown",
      "metadata": {
        "id": "9iH2YvJlyzqw"
      },
      "source": [
        "A coluna `Score` corresponde ao resultado do algoritmo a ser substituído.  \n",
        "**Dominio**:\n",
        "- valor entre 0 e 100\n",
        "- 0 (zero) é o risco mais baixo\n",
        "- 100 (cem) o mais alto"
      ]
    },
    {
      "cell_type": "code",
      "metadata": {
        "id": "UJZFIX3hyXgE"
      },
      "source": [
        "target_name = \"fraude\"\n",
        "old_res = \"score\""
      ],
      "execution_count": 53,
      "outputs": []
    },
    {
      "cell_type": "code",
      "metadata": {
        "colab": {
          "base_uri": "https://localhost:8080/"
        },
        "id": "mbyhBuO00mQ2",
        "outputId": "434c6af5-d280-4fca-fb13-9dbcabf7d4e3"
      },
      "source": [
        "print(df[target_name].unique())\n",
        "\n",
        "print(sum(df[target_name] == 1))\n",
        "\n",
        "print(sum(df[target_name] == 0))"
      ],
      "execution_count": null,
      "outputs": [
        {
          "output_type": "stream",
          "name": "stdout",
          "text": [
            "[0 1]\n",
            "7500\n",
            "142500\n"
          ]
        }
      ]
    },
    {
      "cell_type": "markdown",
      "metadata": {
        "id": "uOW8JMbJ1_MB"
      },
      "source": [
        "Tem quase **20** vezes menos fraudes do que de transaçoes validas.  \n",
        "Ou seja, o dataset é bem desbalanceado.  \n",
        "Tentaremos lidar com isso mais pra frente.\n",
        "\n"
      ]
    },
    {
      "cell_type": "markdown",
      "metadata": {
        "id": "K1iosI_a4XKd"
      },
      "source": [
        "# Extrair informaçoes das variaveis"
      ]
    },
    {
      "cell_type": "markdown",
      "metadata": {
        "id": "-Uj6ZGx94JTm"
      },
      "source": [
        "Antes de visualizarmos as contribuiçoes das nossas variaveis de texto, vamos precisar realizar algumas transformaçoes nelas."
      ]
    },
    {
      "cell_type": "markdown",
      "metadata": {
        "id": "D_tCbY5I4r_Z"
      },
      "source": [
        "## Artigos da transaçao"
      ]
    },
    {
      "cell_type": "markdown",
      "metadata": {
        "id": "1BNHhK-CXuaA"
      },
      "source": [
        "Caso as transaçoes acontecem via site de `e-commerce`, \n",
        "- entao a maior parte das fraudes costumam involver o **usurpo de identidade**. Pode ser o roubo fisico do cartao de credito, o roubo das informaçoes do cartao de credito, etc.\n",
        "- Costumam tambem ser casos de **friendly fraud**.\n",
        "  - Compras com o cartão e, em seguida, solicitar um estorno, dizendo que os detalhes do cartão de crédito foram roubados."
      ]
    },
    {
      "cell_type": "markdown",
      "metadata": {
        "id": "pnniiL8RYqjj"
      },
      "source": [
        "- Nestes 2 casos, o artigo comprado costuma ter um valor alto.  \n",
        "- Podemos tambem imaginar que para tentar evitar ser pego, o fraudador realiza compras de valores mais baixos mas de artigos que podem ser revendidos facilmente, como cabos de celular, fones de ouvido, etc.  \n",
        "\n",
        "Em ambos os casos, deveriamos poder identificar algum padrao de compra mais suscetivel de ser associado a uma transaçao fraudulente. "
      ]
    },
    {
      "cell_type": "code",
      "metadata": {
        "colab": {
          "base_uri": "https://localhost:8080/"
        },
        "id": "3bgwracRX-sH",
        "outputId": "ec8bfb00-4aee-4088-8296-dd87c99d3f3a"
      },
      "source": [
        "for i in range(10):\n",
        "  print(df.loc[i, 'i'])"
      ],
      "execution_count": null,
      "outputs": [
        {
          "output_type": "stream",
          "name": "stdout",
          "text": [
            "Máquininha Corta Barba Cabelo Peito Perna Pelos Pézinho Nova\n",
            "Avental Descartavel Manga Longa  - 50 Un. Tnt Hospitalar 40g\n",
            "Bicicleta Mountain Fire Bird Rodado 29 Aluminio Shimano 21v\n",
            "Caneta Delineador Carimbo Olho Gatinho Longo 2 Em 1 Tango\n",
            "Resident Evil Operation Raccoon City Ps3\n",
            "Kit Gamer Teclado Hedfone Mouse E Mousepad\n",
            "Corpinho Avulso Joseph, Josepha Ou Placa Sem Sexo\n",
            "Tripa Para Fazer Linguiça - 45 Metros Long Short\n",
            "Soldadora Inverter 180 A + Máscara + 2 Esc. Mag 4´ Kroner\n",
            "Gamepad Joystick Para Telefono Celular Android Bluetooth Cuo\n"
          ]
        }
      ]
    },
    {
      "cell_type": "code",
      "metadata": {
        "colab": {
          "base_uri": "https://localhost:8080/"
        },
        "id": "IzWJ6MJo55GS",
        "outputId": "b7517022-3a6c-477f-bbc5-357728143c9c"
      },
      "source": [
        "pd.set_option('display.max_colwidth', None)\n",
        "\n",
        "df.loc[df[target_name] == 1, 'i'].head()"
      ],
      "execution_count": null,
      "outputs": [
        {
          "output_type": "execute_result",
          "data": {
            "text/plain": [
              "16                                          Chaveiro Lindo Do Thor\n",
              "45                                    Teclado Macbook Pro A1278 Us\n",
              "69    Bota Masculina Coturno Venetto Couro Legítimo Urbano Moderno\n",
              "81    Álcool Gel 70% Antisséptico -1 Gl 5 Lt.=140,00àvista.transf.\n",
              "87                         Pneu Cooper Classic Tour 185/65 R14 86t\n",
              "Name: i, dtype: object"
            ]
          },
          "metadata": {},
          "execution_count": 8
        }
      ]
    },
    {
      "cell_type": "code",
      "metadata": {
        "colab": {
          "base_uri": "https://localhost:8080/"
        },
        "id": "u_QQO1mT6sOT",
        "outputId": "5a1a8638-3e0e-4285-f880-b9d1f79886b3"
      },
      "source": [
        "df.loc[df[target_name] == 1, 'i'].tail()"
      ],
      "execution_count": null,
      "outputs": [
        {
          "output_type": "execute_result",
          "data": {
            "text/plain": [
              "149931        Combo Kit Nutri Whey + Creatina + Coqueteleira + Brindes\n",
              "149948    100 Un Luva De Procedimento Descartável Vinil C/ Pó Envio Já\n",
              "149958              Kit Borrachinha Aparelho Ortodôntico Personalizado\n",
              "149964             (par) Friso Cromo Polo Virtus Original 6ea8537682zz\n",
              "149985          Silla Ejecutiva Miles Con Masajes Premium Super Oferta\n",
              "Name: i, dtype: object"
            ]
          },
          "metadata": {},
          "execution_count": 9
        }
      ]
    },
    {
      "cell_type": "markdown",
      "metadata": {
        "id": "WawYiZw9_No9"
      },
      "source": [
        "- A primeira vista, nao parece ter um padrao de compra especifico associado a uma transaçao fraudulente.\n",
        "- Porem, antes de descartar essa variavel de descriçao de compra, vamos realizar uma analise mais profunda.\n",
        "  - Vamos utilizar o algoritmo **Latent Dirichlet Allocation** para clusterizar as nossas descriçoes em categorias de compra,\n",
        "  - e veremos se conseguimos enxergar uma tendencia de fraude maior em certas dessas categorias."
      ]
    },
    {
      "cell_type": "markdown",
      "metadata": {
        "id": "01ob3iafE7Bp"
      },
      "source": [
        "### Preparaçao dos dados de texto"
      ]
    },
    {
      "cell_type": "code",
      "metadata": {
        "colab": {
          "base_uri": "https://localhost:8080/"
        },
        "id": "v8FUVXibg-yy",
        "outputId": "a96c41fe-290d-4ac0-92d5-c2c6e0061e4b"
      },
      "source": [
        "# Download NLT required data packages\n",
        "import nltk\n",
        "nltk.download('punkt')\n",
        "nltk.download('stopwords')\n",
        "nltk.download('corpus')\n",
        "nltk.download('wordnet')\n",
        "nltk.download('rslp')\n",
        "\n",
        "# Import nltk packages and string \n",
        "from nltk.corpus import stopwords\n",
        "import string"
      ],
      "execution_count": null,
      "outputs": [
        {
          "output_type": "stream",
          "name": "stdout",
          "text": [
            "[nltk_data] Downloading package punkt to /root/nltk_data...\n",
            "[nltk_data]   Package punkt is already up-to-date!\n",
            "[nltk_data] Downloading package stopwords to /root/nltk_data...\n",
            "[nltk_data]   Package stopwords is already up-to-date!\n",
            "[nltk_data] Error loading corpus: Package 'corpus' not found in index\n",
            "[nltk_data] Downloading package wordnet to /root/nltk_data...\n",
            "[nltk_data]   Package wordnet is already up-to-date!\n",
            "[nltk_data] Downloading package rslp to /root/nltk_data...\n",
            "[nltk_data]   Package rslp is already up-to-date!\n"
          ]
        },
        {
          "output_type": "execute_result",
          "data": {
            "text/plain": [
              "True"
            ]
          },
          "metadata": {},
          "execution_count": 10
        }
      ]
    },
    {
      "cell_type": "code",
      "metadata": {
        "id": "uvXkr6iGbydF"
      },
      "source": [
        "# Define stopwords to exclude\n",
        "stop = set(stopwords.words('portuguese'))\n",
        "stop.update(('x'))\n",
        "\n",
        "# Define punctuations to exclude and lemmatizer\n",
        "exclude = set(string.punctuation)"
      ],
      "execution_count": null,
      "outputs": []
    },
    {
      "cell_type": "code",
      "metadata": {
        "id": "2_19PSpei6Ps"
      },
      "source": [
        "# Cleaning the text\n",
        "# NLTK includes the RSLP Portuguese stemmer\n",
        "from nltk.stem import RSLPStemmer\n",
        "stemmer = RSLPStemmer()\n",
        "# Define word cleaning function\n",
        "def clean(text, stop):\n",
        "    text = text.rstrip()\n",
        "    # Remove stopwords\n",
        "    stop_free = \" \".join([word for word in text.lower().split() if ((word not in stop) and (not word.isdigit()))])\n",
        "    # Remove punctuations\n",
        "    punc_free = ''.join(word for word in stop_free if word not in exclude)\n",
        "    # Stem all words\n",
        "    cleaned_text = \" \".join(stemmer.stem(word) for word in punc_free.split())      \n",
        "    return cleaned_text"
      ],
      "execution_count": null,
      "outputs": []
    },
    {
      "cell_type": "code",
      "metadata": {
        "colab": {
          "base_uri": "https://localhost:8080/"
        },
        "id": "LPjghksijHMj",
        "outputId": "6efa0f49-2e1b-41ef-8fdb-e6feb981e86b"
      },
      "source": [
        "# Clean the purchases in df and print results\n",
        "text_clean=[]\n",
        "for text in df['i']:\n",
        "    text_clean.append(clean(text, stop).split())    \n",
        "print(text_clean[:10])"
      ],
      "execution_count": null,
      "outputs": [
        {
          "output_type": "stream",
          "name": "stdout",
          "text": [
            "[['máquin', 'cort', 'barb', 'cabel', 'peit', 'pern', 'pé', 'nov'], ['avent', 'descarta', 'mang', 'long', 'un', 'tnt', 'hospital', '40g'], ['biciclet', 'mountain', 'fir', 'bird', 'rod', 'alumini', 'shim', '21v'], ['canet', 'deline', 'carimb', 'olh', 'gat', 'long', 'tang'], ['resident', 'evil', 'operation', 'raccoon', 'city', 'ps3'], ['kit', 'gam', 'tecl', 'hedfon', 'mous', 'mousepad'], ['corp', 'avuls', 'joseph', 'joseph', 'plac', 'sex'], ['trip', 'faz', 'linguiç', 'metr', 'long', 'short'], ['sold', 'invert', 'másc', 'esc', 'mag', '4´', 'kron'], ['gamepad', 'joystick', 'telefon', 'celul', 'android', 'bluetooth', 'cuo']]\n"
          ]
        }
      ]
    },
    {
      "cell_type": "code",
      "metadata": {
        "id": "rac-gC2cpr0T"
      },
      "source": [
        "import gensim\n",
        "from gensim import corpora\n",
        "\n",
        "# Define the dictionary\n",
        "dictionary = corpora.Dictionary(text_clean)\n",
        "\n",
        "# filter out words that appear in less than 5 purchase descriptions\n",
        "# and keep only the 50000 most frequent words, in a way of cleaning out the outlier noise of the text data\n",
        "dictionary.filter_extremes(no_below=5, keep_n=50000)\n",
        "# Define the corpus\n",
        "corpus = [dictionary.doc2bow(text) for text in text_clean]"
      ],
      "execution_count": null,
      "outputs": []
    },
    {
      "cell_type": "code",
      "metadata": {
        "colab": {
          "base_uri": "https://localhost:8080/"
        },
        "id": "pzlr5j3Kp3Kz",
        "outputId": "c8611444-3876-414b-96b6-07a7fb7230cb"
      },
      "source": [
        "# Print corpus and dictionary\n",
        "print(corpus[:10]) # bag of words\n",
        "print(dictionary)"
      ],
      "execution_count": null,
      "outputs": [
        {
          "output_type": "stream",
          "name": "stdout",
          "text": [
            "[[(0, 1), (1, 1), (2, 1), (3, 1), (4, 1), (5, 1), (6, 1), (7, 1)], [(8, 1), (9, 1), (10, 1), (11, 1), (12, 1), (13, 1), (14, 1), (15, 1)], [(16, 1), (17, 1), (18, 1), (19, 1), (20, 1), (21, 1), (22, 1), (23, 1)], [(12, 1), (24, 1), (25, 1), (26, 1), (27, 1), (28, 1), (29, 1)], [(30, 1), (31, 1), (32, 1), (33, 1)], [(34, 1), (35, 1), (36, 1), (37, 1), (38, 1)], [(39, 1), (40, 1), (41, 2), (42, 1), (43, 1)], [(12, 1), (44, 1), (45, 1), (46, 1), (47, 1), (48, 1)], [(49, 1), (50, 1), (51, 1), (52, 1), (53, 1), (54, 1)], [(55, 1), (56, 1), (57, 1), (58, 1), (59, 1), (60, 1), (61, 1)]]\n",
            "Dictionary(15696 unique tokens: ['barb', 'cabel', 'cort', 'máquin', 'nov']...)\n"
          ]
        }
      ]
    },
    {
      "cell_type": "markdown",
      "metadata": {
        "id": "j4QwkW49FH5P"
      },
      "source": [
        "### Clusterizaçao em topicos"
      ]
    },
    {
      "cell_type": "markdown",
      "metadata": {
        "id": "wC65f6Z0Fdqj"
      },
      "source": [
        "- Vamos primeiro executar o **LDA** com um numero alto de topicos, **20**, para segmentar mais finamente e favorecer o destaque de topicos de tamanhos menores (outliers), sucetiveis de corresponder a transaçoes potencialmente fraudulentes\n",
        "- Caso for concluente, entao tentaremos diminuir o numero de topicos para conseguirmos uma interpretaçao mais intuitiva do sentido de cada topico e eventualmente associa-lo a uma categoria de compra."
      ]
    },
    {
      "cell_type": "code",
      "metadata": {
        "id": "0TRJ2kaEqOhV"
      },
      "source": [
        "import logging\n",
        "# enable logging\n",
        "logging.basicConfig(filename='gensim.log', format='%(asctime)s : %(levelname)s : %(message)s', level=logging.DEBUG)\n",
        "\n",
        "num_topics = 20\n",
        "chunksize = 2000\n",
        "passes = 20\n",
        "iterations = 400\n",
        "\n",
        "# Define the LDA model\n",
        "ldamodel = gensim.models.ldamodel.LdaModel(corpus, num_topics=num_topics, id2word=dictionary, chunksize=chunksize, passes=passes, eval_every=1)\n",
        "# DEBUG : 2000/2000 documents converged within 50 iterations\n",
        "# convergence: convergence to one topic during inference of topic distribution on a document"
      ],
      "execution_count": null,
      "outputs": []
    },
    {
      "cell_type": "code",
      "metadata": {
        "colab": {
          "base_uri": "https://localhost:8080/"
        },
        "id": "TLf6LYnOV3Le",
        "outputId": "c2acb94e-b9ae-4d40-dbf5-f0efbdc0c027"
      },
      "source": [
        "ldamodel.save(\"ldamodel.gensim\")\n",
        "# ldamodel = gensim.models.ldamodel.LdaModel.load(\"ldamodel.gensim\")"
      ],
      "execution_count": null,
      "outputs": [
        {
          "output_type": "stream",
          "name": "stderr",
          "text": [
            "/usr/local/lib/python3.7/dist-packages/smart_open/smart_open_lib.py:494: DeprecationWarning: This function is deprecated.  See https://github.com/RaRe-Technologies/smart_open/blob/develop/MIGRATING_FROM_OLDER_VERSIONS.rst for more information\n",
            "  warnings.warn(message, category=DeprecationWarning)\n",
            "/usr/local/lib/python3.7/dist-packages/smart_open/smart_open_lib.py:494: DeprecationWarning: This function is deprecated.  See https://github.com/RaRe-Technologies/smart_open/blob/develop/MIGRATING_FROM_OLDER_VERSIONS.rst for more information\n",
            "  warnings.warn(message, category=DeprecationWarning)\n",
            "/usr/local/lib/python3.7/dist-packages/smart_open/smart_open_lib.py:494: DeprecationWarning: This function is deprecated.  See https://github.com/RaRe-Technologies/smart_open/blob/develop/MIGRATING_FROM_OLDER_VERSIONS.rst for more information\n",
            "  warnings.warn(message, category=DeprecationWarning)\n"
          ]
        }
      ]
    },
    {
      "cell_type": "markdown",
      "metadata": {
        "id": "1TfMpxIbJTbN"
      },
      "source": [
        "### Analise dos topicos"
      ]
    },
    {
      "cell_type": "code",
      "metadata": {
        "colab": {
          "base_uri": "https://localhost:8080/"
        },
        "id": "2EUIz4WPqSAx",
        "outputId": "33f8ffd7-d64c-4dc4-c20e-a0fdcc015aa1"
      },
      "source": [
        "# Save the topics and top 5 words\n",
        "topics = ldamodel.print_topics(num_words=5)\n",
        "\n",
        "# Print the results\n",
        "for topic in topics:\n",
        "    print(topic)"
      ],
      "execution_count": null,
      "outputs": [
        {
          "output_type": "stream",
          "name": "stdout",
          "text": [
            "(0, '0.041*\"con\" + 0.034*\"y\" + 0.025*\"mes\" + 0.022*\"cm\" + 0.019*\"comb\"')\n",
            "(1, '0.025*\"par\" + 0.025*\"kit\" + 0.024*\"tras\" + 0.022*\"gol\" + 0.022*\"tamp\"')\n",
            "(2, '0.030*\"tel\" + 0.025*\"kg\" + 0.022*\"cart\" + 0.022*\"carr\" + 0.018*\"mot\"')\n",
            "(3, '0.020*\"filtr\" + 0.020*\"tip\" + 0.018*\"natur\" + 0.015*\"con\" + 0.014*\"carg\"')\n",
            "(4, '0.025*\"disc\" + 0.020*\"man\" + 0.018*\"pared\" + 0.017*\"águ\" + 0.017*\"chav\"')\n",
            "(5, '0.059*\"led\" + 0.034*\"tv\" + 0.020*\"tecl\" + 0.020*\"smart\" + 0.019*\"luz\"')\n",
            "(6, '0.030*\"digit\" + 0.023*\"feminin\" + 0.021*\"masculin\" + 0.018*\"ps3\" + 0.018*\"red\"')\n",
            "(7, '0.034*\"bols\" + 0.025*\"n95\" + 0.024*\"nov\" + 0.021*\"pff2\" + 0.019*\"mochil\"')\n",
            "(8, '0.045*\"branc\" + 0.040*\"envi\" + 0.040*\"kit\" + 0.020*\"led\" + 0.016*\"ades\"')\n",
            "(9, '0.054*\"kit\" + 0.045*\"infantil\" + 0.022*\"entreg\" + 0.021*\"atac\" + 0.020*\"pront\"')\n",
            "(10, '0.035*\"model\" + 0.030*\"fret\" + 0.022*\"grátil\" + 0.020*\"kit\" + 0.019*\"tapet\"')\n",
            "(11, '0.037*\"bluetooth\" + 0.028*\"fio\" + 0.027*\"gam\" + 0.027*\"fon\" + 0.025*\"pc\"')\n",
            "(12, '0.036*\"complet\" + 0.032*\"kit\" + 0.027*\"black\" + 0.020*\"crom\" + 0.017*\"barr\"')\n",
            "(13, '0.047*\"másc\" + 0.042*\"kit\" + 0.038*\"unidad\" + 0.032*\"proteç\" + 0.028*\"fac\"')\n",
            "(14, '0.059*\"gel\" + 0.043*\"caix\" + 0.034*\"litr\" + 0.023*\"kit\" + 0.022*\"ml\"')\n",
            "(15, '0.029*\"cab\" + 0.028*\"elétr\" + 0.024*\"adapt\" + 0.021*\"motor\" + 0.021*\"bomb\"')\n",
            "(16, '0.056*\"cap\" + 0.038*\"bat\" + 0.028*\"samsung\" + 0.025*\"plu\" + 0.022*\"carreg\"')\n",
            "(17, '0.036*\"suport\" + 0.027*\"bot\" + 0.021*\"cour\" + 0.019*\"univers\" + 0.017*\"feminin\"')\n",
            "(18, '0.035*\"kit\" + 0.033*\"peç\" + 0.032*\"inox\" + 0.031*\"plac\" + 0.030*\"jog\"')\n",
            "(19, '0.049*\"gb\" + 0.034*\"ram\" + 0.028*\"dual\" + 0.026*\"xiaom\" + 0.020*\"sim\"')\n"
          ]
        }
      ]
    },
    {
      "cell_type": "markdown",
      "metadata": {
        "id": "tfyB1Xr99EX-"
      },
      "source": [
        "Com 20 topicos, fica dificil interpretar do que se tratam. Parece ter varias topicos involvendo produtos eletronicos, sem podermos fazer nenhuma hipotese de qual a especifidade de cada um."
      ]
    },
    {
      "cell_type": "code",
      "metadata": {
        "id": "-wFKWGq5TTR7"
      },
      "source": [
        "def get_topic_details(ldamodel, corpus):\n",
        "  topic_details_df = pd.DataFrame()\n",
        "  for i, row in enumerate(ldamodel[corpus]):\n",
        "    row = sorted(row, key=lambda x: (x[1]), reverse=True)\n",
        "    for j, (topic_num, prop_topic) in enumerate(row):\n",
        "      if j == 0: # => dominant topic\n",
        "        wp = ldamodel.show_topic(topic_num)\n",
        "        topic_details_df = topic_details_df.append(pd.Series([topic_num, prop_topic]),\n",
        "                                                   ignore_index=True)\n",
        "  topic_details_df.columns = [\"Dominant_Topic\", \"% Score\"]\n",
        "  return topic_details_df"
      ],
      "execution_count": null,
      "outputs": []
    },
    {
      "cell_type": "markdown",
      "metadata": {
        "id": "quL5hKauIYRH"
      },
      "source": [
        "Vamos utilizar essa funçao `get_topic_details` para gerar o `DataFrame` com\n",
        "- o número do tópico dominante\n",
        "- a pontuação de probabilidade com esse tópico\n",
        "- os dados do texto original"
      ]
    },
    {
      "cell_type": "code",
      "metadata": {
        "colab": {
          "base_uri": "https://localhost:8080/",
          "height": 203
        },
        "id": "bVTN6OeEVPf1",
        "outputId": "9df52dc6-67ff-43e3-dc80-282c72d58925"
      },
      "source": [
        "contents = pd.DataFrame({\"Original Text\": text_clean})\n",
        "# 10 minutes\n",
        "topic_details = pd.concat([get_topic_details(ldamodel,\n",
        "                                             corpus), contents], axis=1)\n",
        "topic_details.head()"
      ],
      "execution_count": null,
      "outputs": [
        {
          "output_type": "execute_result",
          "data": {
            "text/html": [
              "<div>\n",
              "<style scoped>\n",
              "    .dataframe tbody tr th:only-of-type {\n",
              "        vertical-align: middle;\n",
              "    }\n",
              "\n",
              "    .dataframe tbody tr th {\n",
              "        vertical-align: top;\n",
              "    }\n",
              "\n",
              "    .dataframe thead th {\n",
              "        text-align: right;\n",
              "    }\n",
              "</style>\n",
              "<table border=\"1\" class=\"dataframe\">\n",
              "  <thead>\n",
              "    <tr style=\"text-align: right;\">\n",
              "      <th></th>\n",
              "      <th>Dominant_Topic</th>\n",
              "      <th>% Score</th>\n",
              "      <th>Original Text</th>\n",
              "    </tr>\n",
              "  </thead>\n",
              "  <tbody>\n",
              "    <tr>\n",
              "      <th>0</th>\n",
              "      <td>5.0</td>\n",
              "      <td>0.557357</td>\n",
              "      <td>[máquin, cort, barb, cabel, peit, pern, pé, nov]</td>\n",
              "    </tr>\n",
              "    <tr>\n",
              "      <th>1</th>\n",
              "      <td>13.0</td>\n",
              "      <td>0.672222</td>\n",
              "      <td>[avent, descarta, mang, long, un, tnt, hospital, 40g]</td>\n",
              "    </tr>\n",
              "    <tr>\n",
              "      <th>2</th>\n",
              "      <td>2.0</td>\n",
              "      <td>0.722035</td>\n",
              "      <td>[biciclet, mountain, fir, bird, rod, alumini, shim, 21v]</td>\n",
              "    </tr>\n",
              "    <tr>\n",
              "      <th>3</th>\n",
              "      <td>18.0</td>\n",
              "      <td>0.506250</td>\n",
              "      <td>[canet, deline, carimb, olh, gat, long, tang]</td>\n",
              "    </tr>\n",
              "    <tr>\n",
              "      <th>4</th>\n",
              "      <td>6.0</td>\n",
              "      <td>0.610000</td>\n",
              "      <td>[resident, evil, operation, raccoon, city, ps3]</td>\n",
              "    </tr>\n",
              "  </tbody>\n",
              "</table>\n",
              "</div>"
            ],
            "text/plain": [
              "   Dominant_Topic   % Score  \\\n",
              "0             5.0  0.557357   \n",
              "1            13.0  0.672222   \n",
              "2             2.0  0.722035   \n",
              "3            18.0  0.506250   \n",
              "4             6.0  0.610000   \n",
              "\n",
              "                                              Original Text  \n",
              "0          [máquin, cort, barb, cabel, peit, pern, pé, nov]  \n",
              "1     [avent, descarta, mang, long, un, tnt, hospital, 40g]  \n",
              "2  [biciclet, mountain, fir, bird, rod, alumini, shim, 21v]  \n",
              "3             [canet, deline, carimb, olh, gat, long, tang]  \n",
              "4           [resident, evil, operation, raccoon, city, ps3]  "
            ]
          },
          "metadata": {},
          "execution_count": 19
        }
      ]
    },
    {
      "cell_type": "code",
      "metadata": {
        "id": "BF0fFa3MYPq-"
      },
      "source": [
        "topic_details.to_csv(\"topic_details.csv\", index=False)\n",
        "# topic_details = pd.read_csv(\"topic_details.csv\")\n",
        "# topic_details.head()"
      ],
      "execution_count": null,
      "outputs": []
    },
    {
      "cell_type": "markdown",
      "metadata": {
        "id": "IV0O894hJYlo"
      },
      "source": [
        "Podemos visualizar os clusters com a biblioteca `pyLDAvis`.  \n",
        "- Quanto maior a bolha, mais prevalente será o tópico. \n",
        "- Um bom modelo de tópico terá bolhas bastante grandes e não sobrepostas espalhadas pelo gráfico "
      ]
    },
    {
      "cell_type": "code",
      "metadata": {
        "colab": {
          "base_uri": "https://localhost:8080/"
        },
        "id": "bU5MPOl2sBDX",
        "outputId": "6f0be8d2-f49a-4b2f-f953-2ce65699c2c4"
      },
      "source": [
        "import pyLDAvis.gensim\n",
        "\n",
        "lda_display = pyLDAvis.gensim.prepare(ldamodel, corpus,\n",
        "                                      dictionary, sort_topics=False)"
      ],
      "execution_count": null,
      "outputs": [
        {
          "output_type": "stream",
          "name": "stderr",
          "text": [
            "/usr/local/lib/python3.7/dist-packages/past/types/oldstr.py:5: DeprecationWarning: Using or importing the ABCs from 'collections' instead of from 'collections.abc' is deprecated since Python 3.3,and in 3.9 it will stop working\n",
            "  from collections import Iterable\n",
            "/usr/local/lib/python3.7/dist-packages/sklearn/decomposition/_lda.py:29: DeprecationWarning: `np.float` is a deprecated alias for the builtin `float`. To silence this warning, use `float` by itself. Doing this will not modify any behavior and is safe. If you specifically wanted the numpy scalar type, use `np.float64` here.\n",
            "Deprecated in NumPy 1.20; for more details and guidance: https://numpy.org/devdocs/release/1.20.0-notes.html#deprecations\n",
            "  EPS = np.finfo(np.float).eps\n",
            "/usr/local/lib/python3.7/dist-packages/pyLDAvis/_prepare.py:248: FutureWarning: In a future version of pandas all arguments of DataFrame.drop except for the argument 'labels' will be keyword-only\n",
            "  by='saliency', ascending=False).head(R).drop('saliency', 1)\n"
          ]
        }
      ]
    },
    {
      "cell_type": "code",
      "metadata": {
        "colab": {
          "base_uri": "https://localhost:8080/",
          "height": 881
        },
        "id": "El5tvcKGsPft",
        "outputId": "91a886e0-4663-4013-f48d-1af7e8ec2a43"
      },
      "source": [
        "pyLDAvis.display(lda_display)"
      ],
      "execution_count": null,
      "outputs": [
        {
          "output_type": "execute_result",
          "data": {
            "text/html": [
              "\n",
              "<link rel=\"stylesheet\" type=\"text/css\" href=\"https://cdn.jsdelivr.net/gh/bmabey/pyLDAvis@3.2.2/pyLDAvis/js/ldavis.v1.0.0.css\">\n",
              "\n",
              "\n",
              "<div id=\"ldavis_el40171402594902550565013345173\"></div>\n",
              "<script type=\"text/javascript\">\n",
              "\n",
              "var ldavis_el40171402594902550565013345173_data = {\"mdsDat\": {\"x\": [-0.00813098917147902, 0.01909202492410932, -0.11929468929194781, 0.03358610591477208, -0.11091941379680754, -0.05599229526036685, -0.07823501912650435, 0.03381873498217819, 0.1476998575313015, 0.16835211513505624, 0.01160774402629421, -0.14278645526206354, 0.06323443839998781, 0.20271803624948068, 0.16614932636089644, -0.03804945177356072, -0.16996612018802948, -0.0047995489424631005, 0.13052107876372543, -0.24860547947457856], \"y\": [0.35680034387103676, -0.034497172946894104, -0.022539238523119794, 0.22697996489332548, 0.12084614169269454, -0.15086813279061698, 0.012020058841886859, -0.06692108161567573, -0.11442849768545066, -0.043588082516845296, -0.03635654668052432, -0.12579504850585063, 0.01744499884044242, 0.003570239509655897, 0.007266649896543632, -0.03469272630973384, -0.060094651427906515, -0.0528175859489061, -0.019238141732273055, 0.016908509138212433], \"topics\": [1, 2, 3, 4, 5, 6, 7, 8, 9, 10, 11, 12, 13, 14, 15, 16, 17, 18, 19, 20], \"cluster\": [1, 1, 1, 1, 1, 1, 1, 1, 1, 1, 1, 1, 1, 1, 1, 1, 1, 1, 1, 1], \"Freq\": [5.125052516193349, 4.954631148145708, 5.118125746117229, 4.858005404861102, 4.211058315949598, 6.0921959018469, 5.06678587042487, 4.266373228182577, 5.000878790224489, 5.703340386430911, 4.3348612815576955, 4.515512362648085, 4.316143038921595, 5.788556278479298, 4.586379073610918, 5.153030409281772, 5.340106121320005, 5.504111495548331, 4.943733197699811, 5.121119432555756]}, \"tinfo\": {\"Term\": [\"led\", \"cap\", \"gel\", \"kit\", \"m\\u00e1sc\", \"gb\", \"infantil\", \"branc\", \"con\", \"unidad\", \"caix\", \"envi\", \"bat\", \"suport\", \"tv\", \"digit\", \"y\", \"prote\\u00e7\", \"pe\\u00e7\", \"bluetooth\", \"ram\", \"jog\", \"complet\", \"samsung\", \"cab\", \"feminin\", \"litr\", \"model\", \"inox\", \"fac\", \"jueg\", \"blanc\", \"cortin\", \"bic\", \"fitnes\", \"pow\", \"hombr\", \"nuev\", \"livr\", \"pedal\", \"magn\\u00e9\", \"colchonet\", \"prim\", \"yog\", \"cicl\", \"calidad\", \"ba\\u00f1\", \"larg\", \"pilat\", \"uso\", \"cal\", \"rap\", \"cuer\", \"seguridad\", \"muscul\", \"el\\u00e9ctr\", \"func\", \"blackout\", \"accesori\", \"ga\", \"y\", \"comb\", \"con\", \"mes\", \"pack\", \"fund\", \"mad\", \"cm\", \"mat\", \"negr\", \"zapatill\", \"academ\", \"garant\", \"tras\", \"gol\", \"tamp\", \"metal\", \"pol\", \"farol\", \"person\", \"lantern\", \"hond\", \"gat\", \"term\", \"sport\", \"dent\", \"milh\", \"g4\", \"gr\", \"g5\", \"cors\", \"profes\", \"classic\", \"retrovi\", \"portatil\", \"estoj\", \"acr\\u00edl\", \"sav\", \"cool\", \"fort\", \"fox\", \"piez\", \"mal\", \"par\", \"acer\", \"set\", \"kit\", \"orig\", \"mot\", \"nov\", \"fiat\", \"tel\", \"kg\", \"adult\", \"tint\", \"biciclet\", \"touch\", \"brasil\", \"display\", \"alumini\", \"epson\", \"estamp\", \"playstation\", \"medi\", \"joystick\", \"capacet\", \"\\u00f3cul\", \"las\", \"tr\", \"brinqued\", \"reforz\", \"pes\", \"balan\\u00e7\", \"ni\\u00f1\", \"front\", \"uno\", \"ssd\", \"costur\", \"hot\", \"ab\", \"fantas\", \"cart\", \"carr\", \"bik\", \"real\", \"mot\", \"digit\", \"lcd\", \"port\", \"orig\", \"tip\", \"natur\", \"carg\", \"caj\", \"mt\", \"unh\", \"vel\", \"\\u00f3le\", \"philc\", \"nf\", \"micr\", \"linh\", \"plas\", \"fibr\", \"agu\", \"soport\", \"uv\", \"al\", \"tall\", \"purific\", \"bald\", \"cachorr\", \"piscin\", \"yamah\", \"espum\", \"curt\", \"faz\", \"descartabl\", \"regal\", \"respirat\\u00f3r\", \"filtr\", \"bas\", \"12\", \"sin\", \"con\", \"cabl\", \"cuot\", \"y\", \"kit\", \"c\", \"unidad\", \"orig\", \"disc\", \"man\", \"\\u00e1gu\", \"unid\", \"intern\", \"muj\", \"perfum\", \"ton\", \"alcohol\", \"the\", \"fin\", \"1tb\", \"ativ\", \"altern\", \"us\", \"d\", \"r\\u00e1pid\", \"gal\", \"card\", \"pis\", \"chap\", \"r\", \"bobin\", \"kingston\", \"tim\", \"capsul\", \"portugu\", \"volt\", \"colet\", \"post\", \"pared\", \"lent\", \"papel\", \"chav\", \"premium\", \"en\", \"extern\", \"digit\", \"orig\", \"tv\", \"tecl\", \"luz\", \"cartuch\", \"cabel\", \"lamp\", \"m\\u00e1quin\", \"mous\", \"c\\u00e2m\", \"v\\u00e1lvul\", \"transpar\", \"barb\", \"p2\", \"lumin\\u00e1r\", \"hom\", \"logitech\", \"ac\", \"dia\", \"110v220v\", \"mass\", \"light\", \"milit\", \"nfe\", \"ip\", \"intelbr\", \"apoi\", \"princes\", \"grav\", \"pincel\", \"pe\", \"smart\", \"led\", \"hd\", \"full\", \"wif\", \"hp\", \"rol\", \"cort\", \"cam\", \"profiss\", \"min\", \"escov\", \"col\", \"usb\", \"notebook\", \"kit\", \"pret\", \"pc\", \"orig\", \"hdm\", \"moletom\", \"t\\u00eanil\", \"luv\", \"p\\u00f3\", \"lan\\u00e7\", \"new\", \"music\", \"borrach\", \"tenil\", \"gold\", \"crist\", \"seguran\\u00e7\", \"pont\", \"dobl\", \"caminh\", \"vol\", \"amortec\", \"now\", \"meg\", \"chinel\", \"aliment\", \"speed\", \"united\", \"arm\", \"1080p\", \"test\", \"civic\", \"lot\", \"perr\", \"ps3\", \"red\", \"one\", \"xbox\", \"m\", \"digit\", \"verd\", \"feminin\", \"masculin\", \"blus\", \"ps4\", \"orig\", \"promo\\u00e7\", \"jog\", \"cab\", \"bols\", \"n95\", \"pff2\", \"mochil\", \"3m\", \"s\", \"microfon\", \"g\", \"banc\", \"lacr\", \"sapat\", \"respir\", \"crem\", \"pet\", \"radi\", \"past\", \"chuv\", \"imperme\", \"forr\", \"blu\", \"mp3\", \"frasc\", \"und\", \"sem\", \"multius\", \"escol\", \"contr\", \"ganch\", \"cer\", \"pedr\", \"top\", \"nov\", \"mm\", \"lg\", \"c\\u00e3o\", \"st\", \"notebook\", \"cap\", \"masc\", \"orig\", \"c\", \"kit\", \"port\", \"p\", \"envi\", \"quadr\", \"decor\", \"sal\", \"banh\", \"imediat\", \"1kg\", \"l\\u00e2mp\", \"parafus\", \"pur\", \"our\", \"later\", \"quart\", \"can\", \"electr\", \"trein\", \"protec\", \"repar\", \"ferrament\", \"acess\\u00f3ri\", \"fl\", \"fris\", \"faix\", \"refle\", \"furad\", \"sant\", \"toalh\", \"str\", \"hyund\", \"punt\", \"branc\", \"ades\", \"12v\", \"gratil\", \"ford\", \"bivolt\", \"kit\", \"led\", \"fit\", \"c\", \"aro\", \"par\", \"p\", \"infantil\", \"atac\", \"pront\", \"conjunt\", \"menin\", \"beb\\u00ea\", \"bol\", \"roup\", \"barat\", \"cade\", \"philip\", \"camis\", \"color\", \"camiset\", \"algod\", \"revend\", \"mdf\", \"vinil\", \"tet\", \"regul\", \"grad\", \"cuec\", \"a4\", \"mid\", \"guit\", \"auxili\", \"fre\", \"folh\", \"gm\", \"viol\", \"entreg\", \"grand\", \"diant\", \"box\", \"baby\", \"rod\", \"cal\\u00e7\", \"kit\", \"mei\", \"pe\\u00e7\", \"masculin\", \"jog\", \"model\", \"fret\", \"gr\\u00e1til\", \"ultr\", \"max\", \"aparelh\", \"med\", \"c\\u00e1psul\", \"32gb\", \"shampo\", \"valvul\", \"mem\\u00f3r\", \"garraf\", \"vari\", \"8gb\", \"puert\", \"xr\", \"googl\", \"merc\", \"prom\", \"abdom\", \"chromecast\", \"titanium\", \"fog\\u00e3\", \"d\\u00e1gu\", \"brastemp\", \"m\\u00f3vel\", \"rost\", \"eva\", \"transform\", \"tapet\", \"play\", \"vitamin\", \"refor\\u00e7\", \"kit\", \"bermud\", \"c\", \"gratil\", \"orig\", \"pret\", \"bluetooth\", \"fon\", \"ouv\", \"import\", \"som\", \"android\", \"auricul\", \"roll\", \"sd\", \"fm\", \"100ml\", \"part\", \"jbl\", \"bra\\u00e7\", \"renault\", \"unissex\", \"cest\", \"vintag\", \"headset\", \"m\\u00edd\", \"embut\", \"cd\", \"reloj\", \"retr\", \"sabonet\", \"driv\", \"retr\\u00f4\", \"higi\\u00ean\", \"protein\", \"circul\", \"fio\", \"gam\", \"pc\", \"sec\", \"ps4\", \"fri\", \"control\", \"usb\", \"pret\", \"orig\", \"jog\", \"sup\", \"xbox\", \"complet\", \"crom\", \"frei\", \"ventil\", \"titan\", \"rgb\", \"ano\", \"resist\", \"pali\", \"bosch\", \"16\", \"tub\", \"poleg\", \"pequen\", \"audi\", \"mac\", \"fan\", \"mix\", \"50\", \"lustr\", \"15\", \"c3\", \"fal\", \"rm\", \"curv\", \"integr\", \"ipad\", \"deck\", \"2x\", \"mast\", \"black\", \"barr\", \"sony\", \"cocin\", \"autom\\u00e1\", \"kit\", \"whey\", \"tablet\", \"par\", \"orig\", \"alt\", \"pret\", \"m\\u00e1sc\", \"prote\\u00e7\", \"fac\", \"descart\", \"dupl\", \"tec\", \"el\\u00e1s\", \"prat\", \"tripl\", \"limp\", \"tir\", \"extr\", \"var\", \"je\", \"pesc\", \"matern\", \"tnt\", \"inalambr\", \"tamanh\", \"v\", \"lev\", \"almof\", \"fiest\", \"v\\u00edru\", \"qual\", \"reutiliz\", \"ref\", \"canon\", \"simpl\", \"cafet\", \"lav\", \"unidad\", \"masc\", \"aut\", \"prote\", \"un\", \"lux\", \"kit\", \"lis\", \"c\", \"cor\", \"metr\", \"pret\", \"gel\", \"caix\", \"litr\", \"ml\", \"port\\u00e1til\", \"la\", \"\\u00e1lcool\", \"70\", \"500ml\", \"pint\", \"panel\", \"pl\\u00e1s\", \"antiss\\u00e9p\", \"sold\", \"mangu\", \"libr\", \"10\", \"m\\u00e3o\", \"sac\", \"pvc\", \"lix\", \"alcool\", \"cg\", \"16gb\", \"ferr\", \"maqui\", \"higieniz\", \"del\", \"compres\", \"inmetr\", \"ros\", \"press\", \"el\", \"kit\", \"unidad\", \"malet\", \"el\\u00e9tr\", \"adapt\", \"motor\", \"bomb\", \"ar\", \"110v\", \"tod\", \"refil\", \"mold\", \"20\", \"conver\", \"l\", \"vw\", \"electrolux\", \"turb\", \"aspir\", \"recarreg\", \"moni\", \"com\", \"pin\", \"form\", \"500g\", \"impre\", \"conec\", \"bar\", \"mach\", \"golf\", \"bandej\", \"colch\\u00e3\", \"espec\", \"220v\", \"beb\", \"cab\", \"usb\", \"filtr\", \"14\", \"p\", \"orig\", \"c\", \"kit\", \"bat\", \"carreg\", \"iphon\", \"automo\", \"t\\u00e9rm\", \"appl\", \"impact\", \"cord\", \"s10\", \"boc\", \"dell\", \"cinz\", \"pelicul\", \"sof\", \"pilh\", \"18\", \"hidrat\", \"alarm\", \"caf\\u00e9\", \"mant\", \"fiscal\", \"modul\", \"nint\", \"reutilizabl\", \"pul\", \"plat\", \"xs\", \"esmalt\", \"alicat\", \"switch\", \"cap\", \"ant\", \"plu\", \"samsung\", \"galaxy\", \"silicon\", \"cas\", \"barbij\", \"font\", \"pro\", \"orig\", \"not\", \"cab\", \"mot\", \"vidr\", \"suport\", \"bot\", \"cour\", \"univers\", \"mod\", \"long\", \"remot\", \"alum\\u00edni\", \"bonec\", \"4k\", \"est\", \"mang\", \"vest\", \"centr\", \"fest\", \"vent\", \"fix\", \"tap\", \"body\", \"brilh\", \"coturn\", \"soc\", \"trip\\u00e9\", \"camp\", \"siz\", \"casac\", \"dvd\", \"smartphon\", \"jaquet\", \"pratel\", \"sensor\", \"organiz\", \"air\", \"cint\", \"sol\", \"feminin\", \"painel\", \"alt\", \"control\", \"masculin\", \"celul\", \"kit\", \"inox\", \"plac\", \"a\\u00e7o\", \"3d\", \"mi\", \"vermelh\", \"pel\\u00edcul\", \"p\\u00e7\", \"bord\", \"anten\", \"cub\", \"cobr\", \"mont\", \"tplink\", \"lit\", \"127v\", \"dour\", \"p\\u00e9\", \"tramontin\", \"churrasc\", \"malh\", \"rote\", \"gram\", \"aqu\", \"escap\", \"resin\", \"ber\\u00e7\", \"lixad\", \"gti\", \"2\", \"puls\", \"pe\\u00e7\", \"vidr\", \"jog\", \"port\", \"spray\", \"corr\", \"band\", \"kit\", \"c\", \"brind\", \"cm\", \"gb\", \"dual\", \"sim\", \"co\", \"redm\", \"motorol\", \"torn\", \"ofic\", \"intelig\", \"4gb\", \"gavet\", \"64gb\", \"25\", \"smartwatch\", \"seri\", \"vas\", \"sill\", \"leit\", \"sat\", \"glob\", \"soft\", \"up\", \"gourmet\", \"mol\", \"hast\", \"melhor\", \"royal\", \"airdot\", \"128gb\", \"memor\", \"ram\", \"xiaom\", \"30\", \"not\", \"celul\", \"ofert\", \"galaxy\", \"samsung\", \"pret\", \"mot\"], \"Freq\": [4573.0, 3586.0, 2714.0, 17543.0, 2706.0, 2533.0, 2566.0, 2558.0, 2793.0, 3018.0, 1971.0, 2022.0, 2045.0, 1978.0, 2046.0, 2992.0, 2171.0, 1825.0, 2112.0, 1659.0, 1955.0, 2762.0, 1566.0, 2083.0, 2334.0, 2497.0, 1564.0, 1532.0, 1586.0, 1620.0, 737.9184926387672, 730.5252292849715, 644.5747707239561, 637.5710813542964, 603.3960987086896, 594.1524186149494, 593.7176752486596, 581.6359159732721, 515.5277558210668, 479.5681528505343, 426.12713952678763, 405.87736172336844, 390.7173759010668, 378.14078270184143, 358.17028155404324, 353.06478055947053, 351.4311147817745, 338.80066210784565, 325.4587677911142, 292.89543920526154, 283.31246351999414, 255.0267613700744, 254.4446445386497, 249.62672831015752, 243.2741035391847, 241.78349005422945, 234.3289185749734, 228.4612916890185, 213.86761818916392, 212.97277739535426, 1718.9824324739989, 989.806698165573, 2080.290314916085, 1269.9174116802685, 793.3694957205958, 625.8567411018195, 801.6374503129485, 1135.905489065842, 446.989664350481, 775.8062457045785, 370.6807679778015, 363.7775637717175, 344.39569702475626, 1165.309427013165, 1088.7811854533795, 1087.9426424642938, 1051.8762465689852, 1046.6482546138022, 985.5429078259691, 828.5115850724576, 707.1001523057762, 669.1177923100614, 604.9935338174399, 517.1329602988579, 512.2287809093712, 508.8022761960159, 477.46949840291705, 428.966899743957, 414.14417759911504, 407.93066913963963, 389.9697116289509, 375.3716964790923, 374.12318324022345, 355.20382823911916, 338.4520787071867, 334.4719306705301, 330.7268294741479, 318.26350769661985, 317.5277630801366, 315.55232178929595, 309.00394543846744, 302.70880297721965, 301.51635108703755, 1262.7673618427527, 459.920288302921, 505.28866751808926, 1233.6465723815365, 863.2282618771102, 389.26558662864755, 351.90059386884184, 336.32950234105647, 1536.0297328284942, 1280.206831920534, 736.5173288744365, 734.5238361729223, 722.0465659740264, 661.1955195458487, 575.9863545322681, 558.96959337069, 508.05811576186414, 503.23743680528537, 492.5278315413965, 474.6492437219102, 464.1257460958334, 414.13369648400806, 410.6540606239774, 398.4452231555615, 385.10896345080715, 373.9315857229325, 362.810593411843, 357.61462361145175, 353.42505601543206, 336.3078262930366, 332.61530866282607, 325.0853879149614, 314.31777600454467, 299.1536274481662, 296.3567200427073, 254.3447685317017, 252.62745708517275, 242.44799394713448, 1145.3805028315048, 1106.6318722179537, 529.8896431597831, 440.7412713373548, 939.5975254960061, 772.8131342537949, 388.70933324343844, 471.3957217277532, 487.6003421547129, 958.2102871479722, 855.0471674548835, 690.3598137478426, 631.0274668754299, 621.2516203526919, 582.1383676240464, 504.68675530413793, 489.8974800781781, 476.778789549019, 472.3717064658845, 467.11038980556646, 440.2340760668892, 439.8156039012307, 418.2393944765562, 400.9909729550213, 371.61597848028623, 349.51405377979455, 345.89507969737497, 344.4856440808088, 335.122363319055, 334.29462935824546, 323.19857692633866, 319.71902567609635, 317.7815665336104, 311.87835267564463, 310.5509504573324, 305.67355010084293, 298.0306171925134, 293.01693956035894, 289.55123781073223, 980.8774841946667, 676.7967171842254, 440.30151317772965, 461.7572862588159, 712.4679616716502, 357.08529515552584, 374.76877656159377, 451.5641895851796, 574.4028331527776, 400.0840117039257, 354.3089002502619, 360.3439106631052, 1033.3108398767374, 856.8072101637915, 726.274258733681, 675.3011232317392, 611.2349657603907, 562.7724354347694, 473.82644077753986, 453.1438530436843, 407.6397668468892, 399.6250385131628, 389.0328528283398, 370.43460919161294, 352.362355641285, 335.7539842490688, 334.8277442289455, 334.78690319963687, 316.5023626083971, 316.33534986894756, 310.97738737887056, 295.8256989815787, 286.0555321887729, 284.4471567444519, 282.5490493102706, 252.99530745086014, 243.12354810724278, 239.62353859073474, 217.20922844219658, 215.93354457187897, 214.3371154228745, 211.08992011661144, 738.6940902881911, 459.63416347652924, 581.2372101169256, 704.5182698837014, 568.3746398345112, 598.7920654976832, 376.0555667248894, 477.6856630359789, 480.74866176913514, 2045.3786240749198, 1237.3838713036057, 1151.7389378111686, 782.0320232116718, 777.5698076613874, 756.3493385720873, 708.2554547301315, 698.3518880568191, 623.1782734337502, 575.1570968359359, 513.3748397936686, 490.6823469910124, 427.88471427031504, 391.18813082352443, 378.83161698105965, 368.6443161051997, 312.0390305269355, 306.9826134630546, 303.71237670606837, 297.04805681682933, 295.17526350871685, 286.0865742000719, 273.8233992045943, 266.60432474530154, 255.97067744639048, 247.29212283420634, 246.71690693588334, 241.9447065191831, 227.6066648619984, 202.9345172649633, 1188.7595821560278, 3566.9599582902424, 1093.4742697272682, 782.0717539461754, 907.5332403286775, 775.4861009112533, 606.9349869720925, 891.1659372171766, 817.2114318032527, 794.0382538712959, 904.4060909740962, 397.55583240059855, 702.8820999212967, 695.4234491329477, 564.4370068103835, 1051.4764995129588, 711.9572240220183, 507.9142476435024, 586.0833893735617, 845.6161498999388, 841.4767506690291, 805.202037271936, 760.1297433677765, 656.5749465217906, 575.7544628722836, 528.7118829092924, 501.2789338222095, 493.2606120961199, 479.22640125170886, 470.04022986234287, 468.88696651862796, 462.02964974275193, 458.7115216695496, 432.8593708655629, 417.27079649195355, 404.9285515117631, 390.2585140287303, 369.94800813764436, 359.6244106544434, 348.70303369626663, 317.0909388375917, 316.1819609428443, 289.5138259319297, 279.78659177617425, 243.26008734820343, 224.05438895283913, 221.88093292833486, 220.66913548670314, 216.3913314371706, 930.6623233698654, 911.0900315838379, 866.1263089903307, 740.0423515200808, 629.810419068984, 1540.4843393035178, 461.5982440001212, 1156.4123837729624, 1074.078510462799, 604.8001207668109, 502.77858685182264, 794.4696215992118, 542.3727972647306, 455.1871081061081, 418.498454785924, 1449.699617571355, 1058.5918367147535, 914.9776420013678, 798.8679990178912, 681.256682617481, 604.1840298284206, 579.4946984029358, 571.1022201003528, 562.3392521757677, 543.2327831939629, 541.8836619891572, 509.7511499375484, 499.8946394230567, 491.4274749280327, 483.4192787481313, 367.29624074238086, 359.68838481275355, 336.8981257142737, 334.29547686124596, 325.3122065302725, 287.9955426237943, 285.782482230165, 281.4923388055144, 257.92264442727395, 249.0519996025705, 245.0443838287289, 242.34844679387103, 239.41426120260502, 238.38944262905298, 232.82210171711773, 722.5112843332724, 1036.6931614282173, 517.204188028135, 591.6096414710735, 382.01510459444467, 340.6680891493158, 499.4659589624524, 599.6013025492955, 494.3340357700989, 533.9658921465646, 463.50330524517057, 439.7107248509043, 355.73987407784733, 341.7948211861028, 2021.3327895721416, 807.887552433903, 739.3482042007257, 735.0136205943813, 712.860303878669, 709.9189277058766, 528.2645354087139, 503.4900617186442, 490.5523301931046, 487.2981427736524, 439.0857017119051, 399.0565780445314, 389.22785672000606, 388.92338524295485, 386.1228999265669, 372.74439527040096, 350.73763020443073, 337.3559340721855, 329.00309571847737, 327.67660644179404, 305.67054023919883, 292.21546345257633, 291.7309414746736, 284.81578156061477, 282.46843925659107, 273.75925046795925, 248.40369517700466, 240.4094436210203, 237.27406297532184, 237.26476809243405, 2243.87101544433, 811.2587761732256, 605.5865928575753, 608.5210735784008, 447.478864482352, 564.094282237364, 1992.7835684300119, 1005.5373898858932, 506.5910116953999, 457.9578082909977, 345.01855166127615, 361.4775528927555, 362.8817324812954, 2565.222142182059, 1222.9962298321127, 1159.481356201895, 1135.352250504166, 1072.5002941722992, 879.3536325554334, 808.1546887692045, 784.5101779545275, 751.9921078333999, 746.3811685937442, 714.6526374383262, 701.4242067036749, 677.307906638272, 610.8709577444922, 588.5706132408428, 453.24154098329313, 447.43878293576256, 443.4474373729568, 405.2555688294267, 391.4205974599025, 369.51117012232925, 360.3185858512026, 344.42631791566816, 332.00642205360055, 326.81578385834644, 309.36808324610297, 308.9428671768458, 305.97482978895897, 293.18290639688155, 286.5378990630286, 1246.0370161883206, 940.3516946472025, 659.1515922803725, 835.7229303452965, 422.5305262437751, 726.6119821875808, 639.314551963501, 3095.9663987219515, 399.0103257063899, 502.08615469556764, 502.29178870844174, 418.0517164861097, 1531.0827609797018, 1318.7536653921313, 936.1750101603069, 780.2568761352055, 770.9394423029139, 537.6169013851209, 526.7263151100688, 504.1682387645862, 465.81777642162706, 461.71077145374073, 412.98496630516036, 404.9984502135093, 391.145799584959, 365.90105042211604, 323.7425196342935, 321.9177225718417, 320.8927685029685, 312.68087882759284, 294.1118402000979, 287.93925736048345, 274.7928149877884, 259.2669558186947, 249.08431439372794, 241.46926792363385, 238.0674817567508, 234.91287756624737, 233.61430894137848, 230.0895880573809, 227.11371172186776, 219.86460200334227, 807.5776227351561, 523.0043898161927, 312.96420619550247, 277.34873841399946, 867.3716314011898, 262.19792301970347, 485.28273612811967, 331.53205343858383, 492.1805691812502, 283.6040517950098, 1658.71093214886, 1221.0795356087465, 911.5941320201335, 854.8058379486673, 680.135534689927, 661.6248156469176, 601.4886320273699, 364.68929665783196, 358.5655291496772, 355.70627051979193, 349.12803208531153, 333.47457339680085, 332.35364607735744, 323.85315085896525, 316.1617678618099, 307.07260174902956, 295.61312344172643, 292.08633566035803, 285.91395747411667, 280.939135209772, 262.4381130610066, 247.40529767306825, 247.13330084124757, 242.67594776409803, 241.66256972940434, 236.50640923235332, 234.35235250360637, 231.82354551921665, 229.01773549730112, 218.95881685668627, 1257.691558619786, 1228.5854786500338, 1139.0068737614674, 565.8993053246685, 699.5677321343284, 502.2200322034941, 655.3262516286376, 661.7856873327705, 546.9465677661631, 620.8625218994407, 400.70238394934, 356.7315751033714, 322.1578560900055, 1565.8605128445556, 867.6178953908463, 482.5868521370755, 457.9363038530382, 456.7891897349499, 446.16027890437914, 436.30266529745796, 427.2336398690985, 419.78469649295835, 400.2909543480833, 399.3461846139898, 399.014841664046, 363.50722236764415, 351.80759931278277, 310.6428420016512, 310.26057115776274, 306.09590392684856, 277.8133704577595, 272.6577505585273, 266.29773522662003, 266.00640274211236, 264.9896141702338, 260.7295853124031, 258.6204909283553, 240.6208883455025, 239.2643526153623, 236.93204406685598, 236.20005360698917, 233.47027425888092, 225.98483892557158, 1153.2918143747006, 751.4124646545625, 438.03381157634533, 324.432499178634, 295.9777196505541, 1383.176346700039, 303.07845134283036, 325.455118421355, 393.9650785992467, 405.3507300821224, 306.2311553846321, 296.0010222281624, 2705.7701614604334, 1824.4750991890437, 1619.8957292945645, 1356.4987766841843, 1225.3681222017517, 978.1639875703934, 947.2593586307332, 833.0151610564044, 751.5261231488795, 710.0938974913653, 663.2529384242393, 516.5776424741076, 511.6795118774759, 436.3201075805039, 389.91775568257583, 383.63560995171156, 381.0024569155305, 376.66133531275847, 324.9567334498985, 309.2711746659431, 305.2636059147005, 302.1197152422365, 302.1022960714937, 256.8918361010764, 251.26725058342143, 242.21087271215603, 232.2715909591097, 223.00693804942765, 222.55972915350065, 216.43711983703207, 1285.9605188778526, 2211.5881796294093, 1354.5528989171855, 526.2630249830148, 797.6049530490184, 558.3042143666498, 514.135183517637, 2445.04346525921, 460.4550157964658, 830.4633873658915, 572.13325626881, 395.1721433749561, 385.1924415956815, 2713.203629916114, 1970.1098907470944, 1563.1794932348491, 1026.2024698612377, 950.217240094792, 949.5058845710543, 929.2323376029046, 754.7267606333155, 647.0976187537668, 624.8677586369622, 600.2301942282562, 510.7025892265978, 504.3076107457495, 484.76810850022673, 479.56271061649875, 464.0974364577368, 458.1212894787913, 449.7300460584005, 446.11331938878646, 385.686385223629, 379.67793497846856, 339.51128036855096, 329.10281334184725, 324.07322470261823, 319.6021065520517, 319.0575657787147, 307.1103138650212, 292.4445882742663, 265.5574389342783, 252.02157990025302, 1023.8596284768947, 445.31535180073973, 402.7206324407839, 1076.6935859140249, 451.728917478418, 337.2612040516056, 1424.6052655881704, 1224.3313308430918, 1076.7752483604631, 1063.2757611774862, 968.7151156327654, 894.1589059368515, 774.4809759871882, 754.9513433968175, 646.806187760051, 589.216441193648, 583.7001298888875, 567.4770291106025, 552.0554288782821, 464.6007973983416, 456.45578514154187, 454.09012231417114, 430.05077092860813, 400.4342815721129, 394.2567503200885, 394.08500020309606, 320.66786224745346, 311.80663640005935, 307.9085208516664, 288.9341056206298, 288.43407393830006, 277.10238288606644, 271.37094585824707, 269.0705264715451, 258.0849281078925, 251.0422371470433, 948.8963763465099, 831.4404200278068, 1505.2820685518313, 896.444874789601, 620.3204713957088, 362.90458860728694, 605.8559669935382, 544.3071581915244, 369.53128662229705, 388.1487352579746, 2044.8402218683161, 1191.3893147099197, 1065.2831590598676, 625.9104729463781, 558.3155973956403, 486.0219089628502, 440.37204081736036, 422.90365691260035, 403.4887527315946, 393.59035508658104, 384.0196196150973, 371.2061181795099, 358.7028410808561, 337.5709940757385, 322.416295166424, 322.2105485951163, 319.63691296852994, 314.8829258759636, 296.9773025220589, 294.80854311293166, 290.82480590961353, 290.27594938085844, 283.9976565634677, 282.2139723476476, 272.56278899663187, 271.71238973575345, 259.9599843883901, 250.74539371939852, 240.30274154244913, 238.92485394345198, 2985.6501630035486, 979.6352718787172, 1333.0110155712314, 1519.746514137738, 804.7862087074769, 625.8669902953509, 930.6964934226388, 589.6067379519346, 567.9096413591221, 646.2151794312983, 1012.6032805733082, 435.71850163374586, 409.8359013716646, 403.1510407920379, 336.5239776102154, 1977.8588442050998, 1463.4516725431017, 1153.3848413025544, 1028.6827606921895, 781.3394624448393, 699.1634936380926, 653.5467283654018, 592.8864171924521, 567.9806863751937, 546.0485897106465, 471.3137571866417, 470.04141569778915, 458.7939723179548, 447.46330266710606, 447.43545801820846, 435.92300332068953, 431.66133621952605, 414.3892697407849, 343.0403054993028, 325.5100734867221, 324.69586108304645, 324.5606889016578, 322.4021645400177, 318.6248558756169, 315.11666087127975, 307.11619584479854, 292.9037332312489, 291.5811893275331, 280.6043979861545, 265.40701424668225, 528.1597104155802, 470.92331675071864, 435.1476093317753, 660.6340376179535, 652.0543987664745, 938.2024202075958, 459.99067686919415, 669.2324959650962, 614.2944908973594, 612.4149514571325, 497.56228722311226, 719.6538220735338, 1585.6498230375516, 1512.4937377729584, 1042.109408731244, 967.422431295613, 727.259818506818, 703.7822849903717, 644.0499473414288, 596.3711171586573, 496.6133508368064, 448.44326077388894, 417.1827171499109, 402.11090455850774, 400.48393437228293, 363.98697771589076, 330.44792047192226, 329.46701275886517, 327.4475321002417, 320.5916794451134, 315.5073515546684, 292.1702503816092, 289.10153423642436, 267.1725793521052, 265.1068329378464, 238.67582162424893, 233.30441115055345, 231.39579328318362, 228.21985296764632, 225.2486887094059, 223.4820922034115, 221.21304360361324, 799.0039346278003, 1609.8379009165526, 1065.8096350585383, 1487.569460951125, 1286.691886569595, 385.3762652445312, 465.0314110527254, 637.1296588554058, 1739.0531590596372, 429.6920194570652, 339.0166654308839, 321.4583620969703, 2532.32448749714, 1447.8851153737785, 1017.4384575308043, 884.1866471289406, 872.0301403948602, 699.1610210347889, 622.4530408222312, 543.9205874371842, 495.4057274070313, 467.82788980915626, 437.5723611061657, 403.1432545988689, 385.87206824752843, 382.473438285904, 365.8057737283764, 356.0049557604698, 355.17170493094727, 341.90987471394163, 330.65871030947864, 318.07227868634743, 285.91939807731694, 282.4905192665462, 280.3612197577851, 273.93956561514364, 255.96817088829445, 248.48310748035414, 248.288970939066, 244.3439293925061, 241.11913489123648, 238.5572863819056, 1743.7089361128844, 1351.0568316558956, 380.4318079574371, 777.7957670579588, 927.3058567648253, 557.0553152344327, 494.29887716831325, 563.2975040047331, 503.6283569962873, 422.97409474808796], \"Total\": [4573.0, 3586.0, 2714.0, 17543.0, 2706.0, 2533.0, 2566.0, 2558.0, 2793.0, 3018.0, 1971.0, 2022.0, 2045.0, 1978.0, 2046.0, 2992.0, 2171.0, 1825.0, 2112.0, 1659.0, 1955.0, 2762.0, 1566.0, 2083.0, 2334.0, 2497.0, 1564.0, 1532.0, 1586.0, 1620.0, 738.8566870768226, 731.4634237230268, 645.5129651620115, 638.5092757923518, 604.3342931467449, 595.0906130530047, 594.6558696867149, 582.5741104113274, 516.4659502591221, 480.5063472885899, 427.0653339648432, 406.815556161424, 391.6555703391224, 379.078977139897, 359.1084759920988, 354.0029749975261, 352.3693092198301, 339.7388565459012, 326.3969622291698, 293.8336336433171, 284.2506579580497, 255.9649558081298, 255.38283897670507, 250.56492275167713, 244.21229797724007, 242.72168449228482, 235.26711301302876, 229.39948612707389, 214.8058126272193, 213.91097183340963, 2171.4352368770788, 1177.724276463385, 2793.6468914056354, 1636.2259412643616, 1025.7709793284466, 775.6607950977935, 1071.2226259323832, 1746.0777214750713, 571.2792295170943, 1396.1431963810048, 621.3993785807365, 595.1561022640255, 594.1077190028711, 1166.2479490734488, 1089.7197075136633, 1088.8811645245776, 1052.8147686292689, 1047.586776674086, 986.4814298862526, 829.4501071327411, 708.0386743660597, 670.0563143703449, 605.9320558777234, 518.0714823591414, 513.1673029696547, 509.74079825629957, 478.4080204632007, 429.9054218042407, 415.0826996593987, 408.8691911999233, 390.9082336892346, 376.31021853937597, 375.0617053005071, 356.14235029940284, 339.39060076747035, 335.4104527308138, 331.6653515344316, 319.2020297569035, 318.46628514042027, 316.4908438495796, 309.9424674987511, 303.6473250375033, 302.4548731473212, 2630.045701247969, 583.8987720448386, 844.8156076591692, 17543.790666694527, 8078.0260307678345, 2155.7792129943446, 1742.6131558982422, 583.637797126153, 1536.968799863047, 1281.1458989550867, 737.4563959089892, 735.4629032074749, 722.985633008579, 662.1345865804013, 576.9254215668208, 559.9086604052426, 508.997182796417, 504.17650383983823, 493.4668985791925, 475.58831075646304, 465.06481313038626, 415.0727635185609, 411.59312765853025, 399.38429019011437, 386.04803048536, 374.87065275748535, 363.74966044639586, 358.5536906460046, 354.3641230499849, 337.2468933275895, 333.55437569737893, 326.0244549495143, 315.25684303909753, 300.0926944933323, 297.2957870772602, 255.28383556625442, 253.56652411972547, 243.3870609816872, 1349.1041074917057, 1348.8847948218704, 676.888744785087, 551.2886082921323, 2155.7792129943446, 2992.38813812949, 701.8180705302436, 2406.579846036735, 8078.0260307678345, 959.1487797307509, 855.9856600376622, 691.2983063306214, 631.9659594582087, 622.1901129354707, 583.0768602068251, 505.62524788691684, 490.835972660957, 477.7172821317979, 473.3101990486634, 468.04888238834536, 441.1725686496681, 440.7540964840096, 419.1778870593351, 401.9294655378002, 372.55447106306514, 350.45254636257346, 346.8335722801539, 345.4241366635877, 336.0608559018339, 335.23312194102436, 324.13706950911757, 320.65751825887526, 318.7200591163893, 312.81684525842354, 311.489443046371, 306.61204268362184, 298.9691097752923, 293.95543214313784, 290.4897303968027, 1602.087545958329, 1012.28711964616, 536.5438702060943, 578.542645365759, 2793.6468914056354, 465.7173259773328, 572.2600662857983, 2171.4352368770788, 17543.790666694527, 4479.728015678426, 3018.466918113161, 8078.0260307678345, 1034.2476187938528, 857.7439890809068, 727.2110376507962, 676.2379021488545, 612.1717446775059, 563.7092143518846, 474.7632196946551, 454.08063196079956, 408.57654576400444, 400.56181743027804, 389.96963174545505, 371.3713881087282, 353.2991345584002, 336.69076316618407, 335.76452314606075, 335.7236821167521, 317.43914152551235, 317.27212879127876, 311.9141662959858, 296.76247789869393, 286.9923111058881, 285.38393566156714, 283.48582822738587, 253.93208637290522, 244.06032702435795, 240.5603175078499, 218.14600735931174, 216.87032348899413, 215.27389433998965, 212.0266990337266, 1082.0559316777387, 588.8333069101765, 823.2943494767217, 1163.3184979555865, 1037.9626508717838, 1383.223480590894, 577.1207579864898, 2992.38813812949, 8078.0260307678345, 2046.3194558289786, 1238.3247030576645, 1152.6797695652274, 782.9728549657306, 778.5106394154461, 757.290170326146, 709.1962864841903, 699.2927198108779, 624.1191051878089, 576.0979285948467, 514.3156715477273, 491.62317874507124, 428.82554603023425, 392.12896257758325, 379.7724487351185, 369.58514785925854, 312.9798622809943, 307.9234452171134, 304.6532084601272, 297.98888857088815, 296.1160952627757, 287.0274059541307, 274.7642309586531, 267.54515649936036, 256.9115092004493, 248.23295458826502, 247.6577386962017, 242.88553827324176, 228.5474966160571, 203.87534901902197, 1326.1001408314428, 4573.389741190983, 1408.0952939262424, 969.4340367488003, 1173.7698603849221, 1023.4976437515202, 803.3746403842857, 1438.8678679978486, 1401.6367467865837, 1556.8382346506253, 2011.4006505412992, 522.9318926913313, 1948.4887446013468, 2712.2916622804732, 1565.1634409297556, 17543.790666694527, 4322.022720995682, 1647.8124445870792, 8078.0260307678345, 846.554235135359, 842.4148358951247, 806.1401224980316, 761.0678285938722, 657.5130317478862, 576.6925480983792, 529.649968135388, 502.2170190483052, 494.1986973222156, 480.16448647780453, 470.97831508843853, 469.8250517447236, 462.9677349688476, 459.64960689564526, 433.79745609165855, 418.2088817180492, 405.86663673785876, 391.19659925482597, 370.88609336374003, 360.5624958805391, 349.6411189223623, 318.02902406368736, 317.12004616893995, 290.4519111580254, 280.7246770022699, 244.19817257776327, 224.9924741789347, 222.81901815443044, 221.60722071604184, 217.3294166632662, 1076.9732709741495, 1138.2452614789124, 1081.2790470112955, 1063.0887842642326, 881.90077707858, 2992.38813812949, 583.6351720025011, 2497.100057200929, 2430.177682753246, 957.9416886788867, 1203.2348956402973, 8078.0260307678345, 2437.226390752643, 2762.3010660668706, 2334.4568342248062, 1450.638228904519, 1059.5304480479176, 915.9162533345317, 799.806610351055, 682.1952939506449, 605.1226411615845, 580.4333097360997, 572.0408314335167, 563.2778635089315, 544.1713945271267, 542.822273322321, 510.6897612707124, 500.83325075622065, 492.3660862611967, 484.3578900812953, 368.23485207554484, 360.62699614591753, 337.8367370474377, 335.23408819440994, 326.2508178692606, 288.93415395695826, 286.72109356332896, 282.4309501386784, 258.8612557604379, 249.9906109357344, 245.9829951618928, 243.28705812703492, 240.3528725357689, 239.32805396221687, 233.76071305028162, 962.1675528504226, 1742.6131558982422, 694.2314288137538, 889.1233917590964, 477.5480667253688, 451.04672925910063, 1565.1634409297556, 3586.141303390124, 1849.7780607659906, 8078.0260307678345, 4479.728015678426, 17543.790666694527, 2406.579846036735, 3482.2849023682247, 2022.2724230358647, 808.8271858976261, 740.2878376644488, 735.9532540581044, 713.7999373423921, 710.8585611695997, 529.204168872437, 504.4296951823673, 491.4919636568277, 488.2377762373755, 440.0253351756282, 399.99621150825453, 390.16749018372917, 389.86301870667796, 387.06253339029, 373.68402873412407, 351.67726366815384, 338.2955675359086, 329.9427291822005, 328.61623990551715, 306.61017370292194, 293.15509691629944, 292.6705749383967, 285.7554150243379, 283.4080727203142, 274.69888393168236, 249.3433286407277, 241.34907708965196, 238.21369643904487, 238.20440155615708, 2558.8041440964103, 1167.6787127268244, 912.8603910736092, 940.9419006654155, 610.5433894814162, 1185.2247353085097, 17543.790666694527, 4573.389741190983, 1156.6538549372933, 4479.728015678426, 717.2293364788537, 2630.045701247969, 3482.2849023682247, 2566.1619152531352, 1223.936002903189, 1160.4211292729715, 1136.2920235752424, 1073.4400672433756, 880.2934056265095, 809.0944618402807, 785.4499510256037, 752.9318809044761, 747.3209416648203, 715.5924105094024, 702.3639797747511, 678.2476797093482, 611.8107308155684, 589.510386311919, 454.1813140543694, 448.37855600683883, 444.3872104440331, 406.19534190050297, 392.3603705309788, 370.4509431934055, 361.2583589222789, 345.36609098674444, 332.9461951246768, 327.7555569294227, 310.30785631717924, 309.8826402479221, 306.91460286003525, 294.1226794679578, 287.47767213410486, 1448.3719946732167, 1225.4883927647043, 846.9697214946402, 1171.2259778314306, 473.55221667402526, 1111.6621664547931, 968.5828270164526, 17543.790666694527, 471.73736031780817, 2112.813947735095, 2430.177682753246, 2762.3010660668706, 1532.019973367343, 1319.6908777797726, 937.1122225479481, 781.1940885228468, 771.8766546905551, 538.5541137727621, 527.66352749771, 505.10545115222743, 466.7549888092683, 462.647983841382, 413.92217869765364, 405.9356626011505, 392.0830119726002, 366.8382628097573, 324.67973202193474, 322.85493495948293, 321.82998089364634, 313.6180912152341, 295.04905258773914, 288.8764697481247, 275.73002737542964, 260.20416820633596, 250.02152678136912, 242.40648031127503, 239.00469414439198, 235.85008995388856, 234.55152132901966, 231.02680044831368, 228.05092410950894, 220.80181439098345, 884.5511908085706, 784.5420302201281, 417.83825955901847, 342.207642711014, 17543.790666694527, 342.29242402647213, 4479.728015678426, 940.9419006654155, 8078.0260307678345, 4322.022720995682, 1659.649495779844, 1222.0180992397306, 912.5326956511175, 855.7444015796513, 681.0740983209109, 662.5633792813658, 602.4271956583539, 365.62786028881595, 359.5040927806612, 356.6448341507759, 350.0665957162955, 334.41313702778484, 333.29220970834143, 324.79171448994924, 317.1003314927939, 308.01116538001355, 296.5516870727104, 293.024899291342, 286.85252110510066, 281.877698840756, 263.3766766919906, 248.34386130405218, 248.0718644722315, 243.61451139508196, 242.60113336038827, 237.44497286333726, 235.2909161345903, 232.7621091534922, 229.95629913319368, 219.8973804876702, 1734.0583469198712, 1710.1164678208886, 1647.8124445870792, 798.967888686967, 1203.2348956402973, 803.2160908926376, 1959.2484651102363, 2712.2916622804732, 4322.022720995682, 8078.0260307678345, 2762.3010660668706, 1772.7496027813343, 1063.0887842642326, 1566.7982037838447, 868.5555863301353, 483.52454307636447, 458.8739947923272, 457.7268806742389, 447.0979698471324, 437.24035623674695, 428.1713308083875, 420.72238743224733, 401.2286452873723, 400.2838755532788, 399.952532603335, 364.44491330693313, 352.74529025207175, 311.5805329468006, 311.1982620970517, 307.03359486613755, 278.7510613970485, 273.5954414978163, 267.235426165909, 266.94409368140134, 265.92730510952276, 261.6672762516921, 259.5581818676443, 241.55857928479142, 240.20204355465123, 237.8697350091815, 237.1377445462781, 234.40796519816985, 226.9225298648605, 1453.1231156159995, 909.5022137636861, 578.5798764948917, 402.01759476422944, 399.20152658826345, 17543.790666694527, 440.00302737008303, 585.2046889406112, 2630.045701247969, 8078.0260307678345, 1973.582833599724, 4322.022720995682, 2706.7107484089092, 1825.4156861375193, 1620.83631624304, 1357.43936363266, 1226.3087091502273, 979.1045745188688, 948.1999455792087, 833.9557480048799, 752.466710097355, 711.0344844398408, 664.1935253727148, 517.5182294225831, 512.6200988259513, 437.26069452897946, 390.8583426310514, 384.57619690018714, 381.9430438640061, 377.60192226469826, 325.89732039837406, 310.21176161441866, 306.2041928631761, 303.0603021907121, 303.0428830199693, 257.832423049552, 252.20783753189696, 243.15145966063156, 233.21217790758521, 223.94752499790317, 223.50031610197618, 217.3777067855076, 1435.3121198837916, 3018.466918113161, 1849.7780607659906, 634.4728095161503, 1134.1805761331336, 714.3068790560616, 673.9909179555757, 17543.790666694527, 701.8723975259823, 4479.728015678426, 2138.180564046424, 1459.5584762067006, 4322.022720995682, 2714.141615545798, 1971.0478763767783, 1564.117478864533, 1027.1404554909216, 951.1552257244757, 950.4438702007379, 930.1703232325883, 755.6647462629992, 648.0356043834505, 625.8057442666459, 601.1681798579399, 511.6405748562815, 505.2455963754332, 485.7060941299104, 480.50069624618243, 465.0354220874205, 459.059275108475, 450.66803168808417, 447.05130501847015, 386.62437085331266, 380.61592060815224, 340.44926599823464, 330.0407989764396, 325.01121034305595, 320.54009218173536, 319.9955514083984, 308.0482994947049, 293.38257390395, 266.495424563962, 252.9595655347887, 1281.0281289079107, 596.9609672876262, 517.2272886761665, 17543.790666694527, 3018.466918113161, 494.6167793630381, 1425.5444355762786, 1225.2705008312, 1077.7144183485714, 1064.2149311655944, 969.6542856208736, 895.0980759249596, 775.4201459752964, 755.8905133849256, 647.7453577481591, 590.1556111817562, 584.6392998804598, 568.4161990987106, 552.9945988663902, 465.5399673864498, 457.39495512965004, 455.0292923022793, 430.9899409167163, 401.3734515602211, 395.19592030819666, 395.02417019120423, 321.60703223556163, 312.7458063881675, 308.8476908397746, 289.87327560873797, 289.37324392640824, 278.0415528741746, 272.31011584635525, 270.0096964596533, 259.02409809600067, 251.98140713515144, 1196.2920568075506, 1095.0545012888736, 2334.4568342248062, 2712.2916622804732, 1602.087545958329, 527.0918204499217, 3482.2849023682247, 8078.0260307678345, 4479.728015678426, 17543.790666694527, 2045.7795205753653, 1192.328613416969, 1066.2224577669167, 626.8497716534272, 559.2548961026894, 486.96120766989935, 441.3113395244095, 423.8429556196495, 404.42805143864376, 394.5296537936302, 384.9589183221465, 372.145416886559, 359.64213978790525, 338.51029278278764, 323.35559387347314, 323.1498473021654, 320.57621168079504, 315.82222458301277, 297.91660122910804, 295.7478418199808, 291.7641046166627, 291.2152480879076, 284.9369552705168, 283.15327105469675, 273.502087703681, 272.6516884428026, 260.8992830954393, 251.68469242644764, 241.24204024949825, 239.8641526505011, 3586.141303390124, 1128.2202847799658, 1726.7901008770002, 2083.933538783067, 1299.9746065163858, 903.8829255750039, 1697.7271517474828, 947.8781320440859, 980.5868834166754, 1829.8375962838097, 8078.0260307678345, 1214.4037893323002, 2334.4568342248062, 2155.7792129943446, 1403.2230304277011, 1978.7972325573903, 1464.3900608953923, 1154.323229654845, 1029.62114904448, 782.2778507971298, 700.101881990383, 654.4851167176922, 593.8248055447425, 568.9190747274841, 546.9869780664012, 472.25214553893215, 470.9798040500796, 459.73236067024527, 448.40169101939654, 448.37384637049894, 436.86139167298, 432.5997245718165, 415.3276580930754, 343.9786938515933, 326.44846183901257, 325.6342494353369, 325.49907725394826, 323.34055289230815, 319.5632442279074, 316.0550492235702, 308.054584197089, 293.8421215835394, 292.5195776856477, 281.54278633844496, 266.3454025989727, 686.8290601020949, 593.4436572294318, 539.7101351224485, 1032.6202661034931, 1021.7134078485833, 2497.100057200929, 745.4912312087034, 1973.582833599724, 1959.2484651102363, 2430.177682753246, 1771.095635677903, 17543.790666694527, 1586.5880142923834, 1513.4319290277901, 1043.0475999860757, 968.3606225504449, 728.198009767474, 704.7204762452036, 644.9881385992973, 597.3093084134891, 497.55154209163817, 449.38145202872073, 418.1209084047427, 403.04909581333953, 401.4221256271147, 364.92516897072255, 331.3861117325782, 330.40520401369696, 328.3857233550735, 321.5298706999452, 316.4455428095002, 293.108441636441, 290.03972549125615, 268.11077060693697, 266.04502419267817, 239.61401287908075, 234.24260240538527, 232.33398453801544, 229.15804422247814, 226.18687996423773, 224.42028345824332, 222.15123485844506, 905.3424129738182, 2112.813947735095, 1403.2230304277011, 2762.3010660668706, 2406.579846036735, 465.471233021919, 629.6597273379052, 1080.942845587269, 17543.790666694527, 4479.728015678426, 1720.3429443959544, 1746.0777214750713, 2533.2627816336203, 1448.8234095102584, 1018.3767516672843, 885.1249412654207, 872.9684345313402, 700.0993151712689, 623.3913349587112, 544.8588815736642, 496.34402154351136, 468.7661839456363, 438.5106552426458, 404.081548735349, 386.8103623840085, 383.4117324223841, 366.74406786485645, 356.94324989694985, 356.1099990732559, 342.8481688504217, 331.5970044459587, 319.0105728228275, 286.857692213797, 283.42881340302625, 281.29951389426515, 274.8778597516237, 256.9064650247745, 249.4214016168342, 249.22726507554606, 245.28222352898618, 242.05742902771655, 239.4955805233156, 1955.8885375297655, 1641.1250785178113, 411.624446177898, 1214.4037893323002, 1771.095635677903, 1203.0224123361204, 1299.9746065163858, 2083.933538783067, 4322.022720995682, 2155.7792129943446], \"Category\": [\"Default\", \"Default\", \"Default\", \"Default\", \"Default\", \"Default\", \"Default\", \"Default\", \"Default\", \"Default\", \"Default\", \"Default\", \"Default\", \"Default\", \"Default\", \"Default\", \"Default\", \"Default\", \"Default\", \"Default\", \"Default\", \"Default\", \"Default\", \"Default\", \"Default\", \"Default\", \"Default\", \"Default\", \"Default\", \"Default\", \"Topic1\", \"Topic1\", \"Topic1\", \"Topic1\", \"Topic1\", \"Topic1\", \"Topic1\", \"Topic1\", \"Topic1\", \"Topic1\", \"Topic1\", \"Topic1\", \"Topic1\", \"Topic1\", \"Topic1\", \"Topic1\", \"Topic1\", \"Topic1\", \"Topic1\", \"Topic1\", \"Topic1\", \"Topic1\", \"Topic1\", \"Topic1\", \"Topic1\", \"Topic1\", \"Topic1\", \"Topic1\", \"Topic1\", \"Topic1\", \"Topic1\", \"Topic1\", \"Topic1\", \"Topic1\", \"Topic1\", \"Topic1\", \"Topic1\", \"Topic1\", \"Topic1\", \"Topic1\", \"Topic1\", \"Topic1\", \"Topic1\", \"Topic2\", \"Topic2\", \"Topic2\", \"Topic2\", \"Topic2\", \"Topic2\", \"Topic2\", \"Topic2\", \"Topic2\", \"Topic2\", \"Topic2\", \"Topic2\", \"Topic2\", \"Topic2\", \"Topic2\", \"Topic2\", \"Topic2\", \"Topic2\", \"Topic2\", \"Topic2\", \"Topic2\", \"Topic2\", \"Topic2\", \"Topic2\", \"Topic2\", \"Topic2\", \"Topic2\", \"Topic2\", \"Topic2\", \"Topic2\", \"Topic2\", \"Topic2\", \"Topic2\", \"Topic2\", \"Topic2\", \"Topic2\", \"Topic2\", \"Topic2\", \"Topic3\", \"Topic3\", \"Topic3\", \"Topic3\", \"Topic3\", \"Topic3\", \"Topic3\", \"Topic3\", \"Topic3\", \"Topic3\", \"Topic3\", \"Topic3\", \"Topic3\", \"Topic3\", \"Topic3\", \"Topic3\", \"Topic3\", \"Topic3\", \"Topic3\", \"Topic3\", \"Topic3\", \"Topic3\", \"Topic3\", \"Topic3\", \"Topic3\", \"Topic3\", \"Topic3\", \"Topic3\", \"Topic3\", \"Topic3\", \"Topic3\", \"Topic3\", \"Topic3\", \"Topic3\", \"Topic3\", \"Topic3\", \"Topic3\", \"Topic3\", \"Topic3\", \"Topic4\", \"Topic4\", \"Topic4\", \"Topic4\", \"Topic4\", \"Topic4\", \"Topic4\", \"Topic4\", \"Topic4\", \"Topic4\", \"Topic4\", \"Topic4\", \"Topic4\", \"Topic4\", \"Topic4\", \"Topic4\", \"Topic4\", \"Topic4\", \"Topic4\", \"Topic4\", \"Topic4\", \"Topic4\", \"Topic4\", \"Topic4\", \"Topic4\", \"Topic4\", \"Topic4\", \"Topic4\", \"Topic4\", \"Topic4\", \"Topic4\", \"Topic4\", \"Topic4\", \"Topic4\", \"Topic4\", \"Topic4\", \"Topic4\", \"Topic4\", \"Topic4\", \"Topic4\", \"Topic4\", \"Topic4\", \"Topic5\", \"Topic5\", \"Topic5\", \"Topic5\", \"Topic5\", \"Topic5\", \"Topic5\", \"Topic5\", \"Topic5\", \"Topic5\", \"Topic5\", \"Topic5\", \"Topic5\", \"Topic5\", \"Topic5\", \"Topic5\", \"Topic5\", \"Topic5\", \"Topic5\", \"Topic5\", \"Topic5\", \"Topic5\", \"Topic5\", \"Topic5\", \"Topic5\", \"Topic5\", \"Topic5\", \"Topic5\", \"Topic5\", \"Topic5\", \"Topic5\", \"Topic5\", \"Topic5\", \"Topic5\", \"Topic5\", \"Topic5\", \"Topic5\", \"Topic5\", \"Topic5\", \"Topic6\", \"Topic6\", \"Topic6\", \"Topic6\", \"Topic6\", \"Topic6\", \"Topic6\", \"Topic6\", \"Topic6\", \"Topic6\", \"Topic6\", \"Topic6\", \"Topic6\", \"Topic6\", \"Topic6\", \"Topic6\", \"Topic6\", \"Topic6\", \"Topic6\", \"Topic6\", \"Topic6\", \"Topic6\", \"Topic6\", \"Topic6\", \"Topic6\", \"Topic6\", \"Topic6\", \"Topic6\", \"Topic6\", \"Topic6\", \"Topic6\", \"Topic6\", \"Topic6\", \"Topic6\", \"Topic6\", \"Topic6\", \"Topic6\", \"Topic6\", \"Topic6\", \"Topic6\", \"Topic6\", \"Topic6\", \"Topic6\", \"Topic6\", \"Topic6\", \"Topic6\", \"Topic6\", \"Topic6\", \"Topic6\", \"Topic7\", \"Topic7\", \"Topic7\", \"Topic7\", \"Topic7\", \"Topic7\", \"Topic7\", \"Topic7\", \"Topic7\", \"Topic7\", \"Topic7\", \"Topic7\", \"Topic7\", \"Topic7\", \"Topic7\", \"Topic7\", \"Topic7\", \"Topic7\", \"Topic7\", \"Topic7\", \"Topic7\", \"Topic7\", \"Topic7\", \"Topic7\", \"Topic7\", \"Topic7\", \"Topic7\", \"Topic7\", \"Topic7\", \"Topic7\", \"Topic7\", \"Topic7\", \"Topic7\", \"Topic7\", \"Topic7\", \"Topic7\", \"Topic7\", \"Topic7\", \"Topic7\", \"Topic7\", \"Topic7\", \"Topic7\", \"Topic7\", \"Topic7\", \"Topic7\", \"Topic8\", \"Topic8\", \"Topic8\", \"Topic8\", \"Topic8\", \"Topic8\", \"Topic8\", \"Topic8\", \"Topic8\", \"Topic8\", \"Topic8\", \"Topic8\", \"Topic8\", \"Topic8\", \"Topic8\", \"Topic8\", \"Topic8\", \"Topic8\", \"Topic8\", \"Topic8\", \"Topic8\", \"Topic8\", \"Topic8\", \"Topic8\", \"Topic8\", \"Topic8\", \"Topic8\", \"Topic8\", \"Topic8\", \"Topic8\", \"Topic8\", \"Topic8\", \"Topic8\", \"Topic8\", \"Topic8\", \"Topic8\", \"Topic8\", \"Topic8\", \"Topic8\", \"Topic8\", \"Topic8\", \"Topic8\", \"Topic8\", \"Topic8\", \"Topic9\", \"Topic9\", \"Topic9\", \"Topic9\", \"Topic9\", \"Topic9\", \"Topic9\", \"Topic9\", \"Topic9\", \"Topic9\", \"Topic9\", \"Topic9\", \"Topic9\", \"Topic9\", \"Topic9\", \"Topic9\", \"Topic9\", \"Topic9\", \"Topic9\", \"Topic9\", \"Topic9\", \"Topic9\", \"Topic9\", \"Topic9\", \"Topic9\", \"Topic9\", \"Topic9\", \"Topic9\", \"Topic9\", \"Topic9\", \"Topic9\", \"Topic9\", \"Topic9\", \"Topic9\", \"Topic9\", \"Topic9\", \"Topic9\", \"Topic9\", \"Topic9\", \"Topic9\", \"Topic9\", \"Topic9\", \"Topic9\", \"Topic10\", \"Topic10\", \"Topic10\", \"Topic10\", \"Topic10\", \"Topic10\", \"Topic10\", \"Topic10\", \"Topic10\", \"Topic10\", \"Topic10\", \"Topic10\", \"Topic10\", \"Topic10\", \"Topic10\", \"Topic10\", \"Topic10\", \"Topic10\", \"Topic10\", \"Topic10\", \"Topic10\", \"Topic10\", \"Topic10\", \"Topic10\", \"Topic10\", \"Topic10\", \"Topic10\", \"Topic10\", \"Topic10\", \"Topic10\", \"Topic10\", \"Topic10\", \"Topic10\", \"Topic10\", \"Topic10\", \"Topic10\", \"Topic10\", \"Topic10\", \"Topic10\", \"Topic10\", \"Topic10\", \"Topic10\", \"Topic11\", \"Topic11\", \"Topic11\", \"Topic11\", \"Topic11\", \"Topic11\", \"Topic11\", \"Topic11\", \"Topic11\", \"Topic11\", \"Topic11\", \"Topic11\", \"Topic11\", \"Topic11\", \"Topic11\", \"Topic11\", \"Topic11\", \"Topic11\", \"Topic11\", \"Topic11\", \"Topic11\", \"Topic11\", \"Topic11\", \"Topic11\", \"Topic11\", \"Topic11\", \"Topic11\", \"Topic11\", \"Topic11\", \"Topic11\", \"Topic11\", \"Topic11\", \"Topic11\", \"Topic11\", \"Topic11\", \"Topic11\", \"Topic11\", \"Topic11\", \"Topic11\", \"Topic11\", \"Topic12\", \"Topic12\", \"Topic12\", \"Topic12\", \"Topic12\", \"Topic12\", \"Topic12\", \"Topic12\", \"Topic12\", \"Topic12\", \"Topic12\", \"Topic12\", \"Topic12\", \"Topic12\", \"Topic12\", \"Topic12\", \"Topic12\", \"Topic12\", \"Topic12\", \"Topic12\", \"Topic12\", \"Topic12\", \"Topic12\", \"Topic12\", \"Topic12\", \"Topic12\", \"Topic12\", \"Topic12\", \"Topic12\", \"Topic12\", \"Topic12\", \"Topic12\", \"Topic12\", \"Topic12\", \"Topic12\", \"Topic12\", \"Topic12\", \"Topic12\", \"Topic12\", \"Topic12\", \"Topic12\", \"Topic12\", \"Topic12\", \"Topic13\", \"Topic13\", \"Topic13\", \"Topic13\", \"Topic13\", \"Topic13\", \"Topic13\", \"Topic13\", \"Topic13\", \"Topic13\", \"Topic13\", \"Topic13\", \"Topic13\", \"Topic13\", \"Topic13\", \"Topic13\", \"Topic13\", \"Topic13\", \"Topic13\", \"Topic13\", \"Topic13\", \"Topic13\", \"Topic13\", \"Topic13\", \"Topic13\", \"Topic13\", \"Topic13\", \"Topic13\", \"Topic13\", \"Topic13\", \"Topic13\", \"Topic13\", \"Topic13\", \"Topic13\", \"Topic13\", \"Topic13\", \"Topic13\", \"Topic13\", \"Topic13\", \"Topic13\", \"Topic13\", \"Topic13\", \"Topic14\", \"Topic14\", \"Topic14\", \"Topic14\", \"Topic14\", \"Topic14\", \"Topic14\", \"Topic14\", \"Topic14\", \"Topic14\", \"Topic14\", \"Topic14\", \"Topic14\", \"Topic14\", \"Topic14\", \"Topic14\", \"Topic14\", \"Topic14\", \"Topic14\", \"Topic14\", \"Topic14\", \"Topic14\", \"Topic14\", \"Topic14\", \"Topic14\", \"Topic14\", \"Topic14\", \"Topic14\", \"Topic14\", \"Topic14\", \"Topic14\", \"Topic14\", \"Topic14\", \"Topic14\", \"Topic14\", \"Topic14\", \"Topic14\", \"Topic14\", \"Topic14\", \"Topic14\", \"Topic14\", \"Topic14\", \"Topic14\", \"Topic15\", \"Topic15\", \"Topic15\", \"Topic15\", \"Topic15\", \"Topic15\", \"Topic15\", \"Topic15\", \"Topic15\", \"Topic15\", \"Topic15\", \"Topic15\", \"Topic15\", \"Topic15\", \"Topic15\", \"Topic15\", \"Topic15\", \"Topic15\", \"Topic15\", \"Topic15\", \"Topic15\", \"Topic15\", \"Topic15\", \"Topic15\", \"Topic15\", \"Topic15\", \"Topic15\", \"Topic15\", \"Topic15\", \"Topic15\", \"Topic15\", \"Topic15\", \"Topic15\", \"Topic15\", \"Topic15\", \"Topic15\", \"Topic16\", \"Topic16\", \"Topic16\", \"Topic16\", \"Topic16\", \"Topic16\", \"Topic16\", \"Topic16\", \"Topic16\", \"Topic16\", \"Topic16\", \"Topic16\", \"Topic16\", \"Topic16\", \"Topic16\", \"Topic16\", \"Topic16\", \"Topic16\", \"Topic16\", \"Topic16\", \"Topic16\", \"Topic16\", \"Topic16\", \"Topic16\", \"Topic16\", \"Topic16\", \"Topic16\", \"Topic16\", \"Topic16\", \"Topic16\", \"Topic16\", \"Topic16\", \"Topic16\", \"Topic16\", \"Topic16\", \"Topic16\", \"Topic16\", \"Topic16\", \"Topic16\", \"Topic16\", \"Topic17\", \"Topic17\", \"Topic17\", \"Topic17\", \"Topic17\", \"Topic17\", \"Topic17\", \"Topic17\", \"Topic17\", \"Topic17\", \"Topic17\", \"Topic17\", \"Topic17\", \"Topic17\", \"Topic17\", \"Topic17\", \"Topic17\", \"Topic17\", \"Topic17\", \"Topic17\", \"Topic17\", \"Topic17\", \"Topic17\", \"Topic17\", \"Topic17\", \"Topic17\", \"Topic17\", \"Topic17\", \"Topic17\", \"Topic17\", \"Topic17\", \"Topic17\", \"Topic17\", \"Topic17\", \"Topic17\", \"Topic17\", \"Topic17\", \"Topic17\", \"Topic17\", \"Topic17\", \"Topic17\", \"Topic17\", \"Topic17\", \"Topic17\", \"Topic17\", \"Topic18\", \"Topic18\", \"Topic18\", \"Topic18\", \"Topic18\", \"Topic18\", \"Topic18\", \"Topic18\", \"Topic18\", \"Topic18\", \"Topic18\", \"Topic18\", \"Topic18\", \"Topic18\", \"Topic18\", \"Topic18\", \"Topic18\", \"Topic18\", \"Topic18\", \"Topic18\", \"Topic18\", \"Topic18\", \"Topic18\", \"Topic18\", \"Topic18\", \"Topic18\", \"Topic18\", \"Topic18\", \"Topic18\", \"Topic18\", \"Topic18\", \"Topic18\", \"Topic18\", \"Topic18\", \"Topic18\", \"Topic18\", \"Topic18\", \"Topic18\", \"Topic18\", \"Topic18\", \"Topic18\", \"Topic18\", \"Topic19\", \"Topic19\", \"Topic19\", \"Topic19\", \"Topic19\", \"Topic19\", \"Topic19\", \"Topic19\", \"Topic19\", \"Topic19\", \"Topic19\", \"Topic19\", \"Topic19\", \"Topic19\", \"Topic19\", \"Topic19\", \"Topic19\", \"Topic19\", \"Topic19\", \"Topic19\", \"Topic19\", \"Topic19\", \"Topic19\", \"Topic19\", \"Topic19\", \"Topic19\", \"Topic19\", \"Topic19\", \"Topic19\", \"Topic19\", \"Topic19\", \"Topic19\", \"Topic19\", \"Topic19\", \"Topic19\", \"Topic19\", \"Topic19\", \"Topic19\", \"Topic19\", \"Topic19\", \"Topic19\", \"Topic19\", \"Topic20\", \"Topic20\", \"Topic20\", \"Topic20\", \"Topic20\", \"Topic20\", \"Topic20\", \"Topic20\", \"Topic20\", \"Topic20\", \"Topic20\", \"Topic20\", \"Topic20\", \"Topic20\", \"Topic20\", \"Topic20\", \"Topic20\", \"Topic20\", \"Topic20\", \"Topic20\", \"Topic20\", \"Topic20\", \"Topic20\", \"Topic20\", \"Topic20\", \"Topic20\", \"Topic20\", \"Topic20\", \"Topic20\", \"Topic20\", \"Topic20\", \"Topic20\", \"Topic20\", \"Topic20\", \"Topic20\", \"Topic20\", \"Topic20\", \"Topic20\", \"Topic20\", \"Topic20\"], \"logprob\": [30.0, 29.0, 28.0, 27.0, 26.0, 25.0, 24.0, 23.0, 22.0, 21.0, 20.0, 19.0, 18.0, 17.0, 16.0, 15.0, 14.0, 13.0, 12.0, 11.0, 10.0, 9.0, 8.0, 7.0, 6.0, 5.0, 4.0, 3.0, 2.0, 1.0, -4.241, -4.2511, -4.3762, -4.3872, -4.4423, -4.4577, -4.4584, -4.479, -4.5996, -4.672, -4.7901, -4.8388, -4.8769, -4.9096, -4.9638, -4.9782, -4.9828, -5.0194, -5.0596, -5.165, -5.1983, -5.3035, -5.3058, -5.3249, -5.3506, -5.3568, -5.3881, -5.4135, -5.4795, -5.4837, -3.3953, -3.9473, -3.2046, -3.6981, -4.1685, -4.4057, -4.1582, -3.8097, -4.7423, -4.1909, -4.9295, -4.9483, -5.003, -3.7503, -3.8182, -3.819, -3.8527, -3.8577, -3.9178, -4.0914, -4.2498, -4.3051, -4.4058, -4.5627, -4.5722, -4.579, -4.6425, -4.7496, -4.7848, -4.7999, -4.8449, -4.8831, -4.8864, -4.9383, -4.9866, -4.9985, -5.0097, -5.0481, -5.0505, -5.0567, -5.0777, -5.0982, -5.1022, -3.67, -4.68, -4.5859, -3.6933, -4.0503, -4.8468, -4.9477, -4.9929, -3.5065, -3.6887, -4.2416, -4.2443, -4.2614, -4.3494, -4.4874, -4.5174, -4.6129, -4.6224, -4.6439, -4.6809, -4.7033, -4.8173, -4.8257, -4.8559, -4.89, -4.9194, -4.9496, -4.964, -4.9758, -5.0255, -5.0365, -5.0594, -5.0931, -5.1425, -5.1519, -5.3048, -5.3116, -5.3527, -3.8, -3.8344, -4.5708, -4.755, -3.998, -4.1934, -4.8807, -4.6878, -4.654, -3.9263, -4.0402, -4.2541, -4.344, -4.3596, -4.4246, -4.5674, -4.5971, -4.6243, -4.6336, -4.6448, -4.704, -4.705, -4.7553, -4.7974, -4.8735, -4.9348, -4.9452, -4.9493, -4.9768, -4.9793, -5.0131, -5.0239, -5.03, -5.0487, -5.053, -5.0688, -5.0941, -5.1111, -5.123, -3.9029, -4.274, -4.7039, -4.6563, -4.2226, -4.9133, -4.865, -4.6786, -4.438, -4.7996, -4.9212, -4.9043, -3.7079, -3.8952, -4.0605, -4.1333, -4.2329, -4.3155, -4.4876, -4.5322, -4.638, -4.6579, -4.6847, -4.7337, -4.7838, -4.832, -4.8348, -4.8349, -4.8911, -4.8916, -4.9087, -4.9586, -4.9922, -4.9979, -5.0046, -5.115, -5.1548, -5.1693, -5.2675, -5.2734, -5.2809, -5.2961, -4.0435, -4.518, -4.2833, -4.0909, -4.3056, -4.2535, -4.7187, -4.4795, -4.4731, -3.3944, -3.897, -3.9687, -4.3558, -4.3615, -4.3892, -4.4549, -4.469, -4.5829, -4.6631, -4.7767, -4.8219, -4.9589, -5.0485, -5.0806, -5.1079, -5.2746, -5.2909, -5.3016, -5.3238, -5.3301, -5.3614, -5.4052, -5.4319, -5.4726, -5.5071, -5.5095, -5.529, -5.5901, -5.7048, -3.937, -2.8382, -4.0206, -4.3558, -4.207, -4.3642, -4.6093, -4.2252, -4.3118, -4.3406, -4.2104, -5.0324, -4.4625, -4.4732, -4.6819, -4.0598, -4.4497, -4.7874, -4.6442, -4.0933, -4.0982, -4.1423, -4.1999, -4.3464, -4.4777, -4.563, -4.6162, -4.6324, -4.6612, -4.6806, -4.683, -4.6978, -4.705, -4.763, -4.7997, -4.8297, -4.8666, -4.92, -4.9483, -4.9792, -5.0742, -5.0771, -5.1652, -5.1994, -5.3393, -5.4215, -5.4313, -5.4367, -5.4563, -3.9975, -4.0188, -4.0694, -4.2267, -4.388, -3.4936, -4.6987, -3.7803, -3.8542, -4.4285, -4.6133, -4.1557, -4.5374, -4.7127, -4.7967, -3.3823, -3.6968, -3.8426, -3.9783, -4.1375, -4.2576, -4.2993, -4.3139, -4.3294, -4.3639, -4.3664, -4.4275, -4.4471, -4.4641, -4.4806, -4.7553, -4.7762, -4.8417, -4.8494, -4.8767, -4.9985, -5.0062, -5.0214, -5.1088, -5.1438, -5.16, -5.1711, -5.1833, -5.1876, -5.2112, -4.0787, -3.7177, -4.413, -4.2786, -4.716, -4.8306, -4.4479, -4.2652, -4.4582, -4.3811, -4.5226, -4.5753, -4.7873, -4.8272, -3.2088, -4.1259, -4.2145, -4.2204, -4.251, -4.2552, -4.5507, -4.5987, -4.6248, -4.6314, -4.7356, -4.8312, -4.8561, -4.8569, -4.8642, -4.8994, -4.9603, -4.9992, -5.0242, -5.0283, -5.0978, -5.1428, -5.1445, -5.1685, -5.1767, -5.2081, -5.3053, -5.338, -5.3511, -5.3511, -3.1044, -4.1217, -4.4141, -4.4093, -4.7167, -4.4851, -3.223, -3.907, -4.5926, -4.6935, -4.9767, -4.9301, -4.9262, -3.1019, -3.8427, -3.896, -3.9171, -3.974, -4.1726, -4.257, -4.2867, -4.329, -4.3365, -4.38, -4.3986, -4.4336, -4.5369, -4.5741, -4.8353, -4.8482, -4.8572, -4.9472, -4.982, -5.0396, -5.0648, -5.1099, -5.1466, -5.1624, -5.2172, -5.2186, -5.2282, -5.271, -5.2939, -3.824, -4.1055, -4.4608, -4.2235, -4.9055, -4.3634, -4.4914, -2.9139, -4.9628, -4.733, -4.7326, -4.9161, -3.3437, -3.4929, -3.8356, -4.0178, -4.0298, -4.3902, -4.4107, -4.4545, -4.5336, -4.5424, -4.654, -4.6735, -4.7083, -4.775, -4.8974, -4.9031, -4.9063, -4.9322, -4.9934, -5.0146, -5.0614, -5.1195, -5.1596, -5.1906, -5.2048, -5.2182, -5.2237, -5.2389, -5.2519, -5.2844, -3.9833, -4.4178, -4.9313, -5.0521, -3.9119, -5.1083, -4.4927, -4.8737, -4.4785, -5.0298, -3.3044, -3.6107, -3.903, -3.9673, -4.1959, -4.2235, -4.3188, -4.8192, -4.8361, -4.8441, -4.8628, -4.9086, -4.912, -4.9379, -4.962, -4.9911, -5.0292, -5.0412, -5.0625, -5.0801, -5.1482, -5.2072, -5.2083, -5.2265, -5.2307, -5.2522, -5.2614, -5.2722, -5.2844, -5.3293, -3.5812, -3.6046, -3.6803, -4.3798, -4.1678, -4.4992, -4.2331, -4.2233, -4.4139, -4.2871, -4.725, -4.8412, -4.9432, -3.3169, -3.9073, -4.4939, -4.5463, -4.5488, -4.5724, -4.5947, -4.6157, -4.6333, -4.6809, -4.6832, -4.6841, -4.7773, -4.81, -4.9344, -4.9356, -4.9492, -5.0461, -5.0648, -5.0884, -5.0895, -5.0934, -5.1096, -5.1177, -5.1898, -5.1955, -5.2053, -5.2084, -5.22, -5.2526, -3.6227, -4.0511, -4.5908, -4.891, -4.9828, -3.4409, -4.9591, -4.8878, -4.6968, -4.6683, -4.9487, -4.9827, -3.0634, -3.4575, -3.5765, -3.7539, -3.8556, -4.0809, -4.113, -4.2415, -4.3445, -4.4012, -4.4694, -4.7194, -4.7289, -4.8882, -5.0006, -5.0169, -5.0238, -5.0352, -5.1829, -5.2324, -5.2454, -5.2558, -5.2558, -5.4179, -5.4401, -5.4768, -5.5187, -5.5594, -5.5614, -5.5893, -3.8073, -3.2651, -3.7554, -4.7008, -4.285, -4.6417, -4.7241, -3.1648, -4.8344, -4.2446, -4.6172, -4.9873, -5.0128, -2.8279, -3.1479, -3.3793, -3.8002, -3.8771, -3.8778, -3.8994, -4.1074, -4.2613, -4.2962, -4.3365, -4.498, -4.5106, -4.5501, -4.5609, -4.5937, -4.6067, -4.6251, -4.6332, -4.7788, -4.7945, -4.9063, -4.9374, -4.9528, -4.9667, -4.9684, -5.0066, -5.0555, -5.152, -5.2043, -3.8025, -4.635, -4.7355, -3.7521, -4.6207, -4.9129, -3.5886, -3.7401, -3.8686, -3.8812, -3.9743, -4.0544, -4.1981, -4.2236, -4.3782, -4.4715, -4.4809, -4.5091, -4.5366, -4.7091, -4.7268, -4.732, -4.7864, -4.8577, -4.8733, -4.8737, -5.0799, -5.1079, -5.1205, -5.1841, -5.1858, -5.2259, -5.2468, -5.2553, -5.297, -5.3247, -3.995, -4.1271, -3.5335, -4.0518, -4.42, -4.9561, -4.4436, -4.5508, -4.938, -4.8889, -3.2629, -3.8031, -3.9149, -4.4467, -4.561, -4.6997, -4.7983, -4.8388, -4.8858, -4.9106, -4.9352, -4.9692, -5.0034, -5.0642, -5.1101, -5.1107, -5.1188, -5.1337, -5.1923, -5.1996, -5.2132, -5.2151, -5.237, -5.2433, -5.2781, -5.2812, -5.3254, -5.3615, -5.404, -5.4098, -2.8844, -3.9988, -3.6907, -3.5596, -4.1954, -4.4468, -4.05, -4.5065, -4.544, -4.4148, -3.9657, -4.8089, -4.8702, -4.8866, -5.0673, -3.3264, -3.6276, -3.8657, -3.9802, -4.2552, -4.3663, -4.4338, -4.5312, -4.5741, -4.6135, -4.7607, -4.7634, -4.7876, -4.8126, -4.8127, -4.8387, -4.8486, -4.8894, -5.0783, -5.1308, -5.1333, -5.1337, -5.1404, -5.1522, -5.1632, -5.189, -5.2363, -5.2409, -5.2792, -5.3349, -4.6468, -4.7615, -4.8405, -4.423, -4.4361, -4.0722, -4.785, -4.4101, -4.4957, -4.4988, -4.7065, -4.3374, -3.4401, -3.4873, -3.8598, -3.9342, -4.2195, -4.2523, -4.341, -4.418, -4.601, -4.703, -4.7753, -4.8121, -4.8161, -4.9117, -5.0084, -5.0113, -5.0175, -5.0386, -5.0546, -5.1315, -5.142, -5.2209, -5.2287, -5.3337, -5.3565, -5.3647, -5.3785, -5.3916, -5.3995, -5.4097, -4.1255, -3.4249, -3.8373, -3.5039, -3.649, -4.8546, -4.6667, -4.3518, -3.3477, -4.7457, -4.9828, -5.0359, -3.0072, -3.5662, -3.919, -4.0594, -4.0732, -4.2942, -4.4104, -4.5453, -4.6387, -4.696, -4.7628, -4.8448, -4.8886, -4.8974, -4.942, -4.9691, -4.9715, -5.0095, -5.043, -5.0818, -5.1884, -5.2004, -5.208, -5.2312, -5.299, -5.3287, -5.3295, -5.3455, -5.3588, -5.3695, -3.3803, -3.6354, -4.9028, -4.1876, -4.0118, -4.5214, -4.6409, -4.5103, -4.6222, -4.7968], \"loglift\": [30.0, 29.0, 28.0, 27.0, 26.0, 25.0, 24.0, 23.0, 22.0, 21.0, 20.0, 19.0, 18.0, 17.0, 16.0, 15.0, 14.0, 13.0, 12.0, 11.0, 10.0, 9.0, 8.0, 7.0, 6.0, 5.0, 4.0, 3.0, 2.0, 1.0, 2.9698, 2.9697, 2.9696, 2.9696, 2.9695, 2.9695, 2.9695, 2.9694, 2.9692, 2.9691, 2.9688, 2.9687, 2.9686, 2.9686, 2.9684, 2.9684, 2.9684, 2.9683, 2.9682, 2.9678, 2.9677, 2.9674, 2.9673, 2.9673, 2.9672, 2.9672, 2.967, 2.9669, 2.9667, 2.9666, 2.7374, 2.7972, 2.6762, 2.7176, 2.7141, 2.7564, 2.6811, 2.5411, 2.7257, 2.3835, 2.4544, 2.4787, 2.4258, 3.004, 3.004, 3.004, 3.004, 3.004, 3.0039, 3.0037, 3.0035, 3.0034, 3.0033, 3.003, 3.003, 3.003, 3.0029, 3.0027, 3.0026, 3.0025, 3.0024, 3.0024, 3.0023, 3.0022, 3.0021, 3.002, 3.002, 3.0019, 3.0019, 3.0019, 3.0018, 3.0018, 3.0017, 2.2712, 2.7662, 2.4909, 0.3501, 0.7686, 1.2932, 1.4051, 2.4537, 2.9718, 2.9716, 2.9711, 2.9711, 2.9711, 2.971, 2.9708, 2.9707, 2.9705, 2.9705, 2.9705, 2.9704, 2.9704, 2.9701, 2.9701, 2.97, 2.9699, 2.9699, 2.9698, 2.9698, 2.9697, 2.9696, 2.9696, 2.9695, 2.9694, 2.9692, 2.9692, 2.9687, 2.9687, 2.9685, 2.8087, 2.7744, 2.7275, 2.7486, 2.1419, 1.6186, 2.3815, 1.3421, 0.165, 3.0236, 3.0234, 3.0232, 3.0231, 3.023, 3.0229, 3.0227, 3.0226, 3.0226, 3.0226, 3.0225, 3.0224, 3.0224, 3.0223, 3.0222, 3.022, 3.0219, 3.0218, 3.0218, 3.0217, 3.0217, 3.0216, 3.0216, 3.0216, 3.0215, 3.0215, 3.0215, 3.0214, 3.0213, 3.0213, 2.5339, 2.6219, 2.8269, 2.7991, 1.6582, 2.7589, 2.6013, 1.4541, -0.3946, 0.6089, 0.8822, -0.0853, 3.1666, 3.1664, 3.1662, 3.1661, 3.1659, 3.1658, 3.1655, 3.1654, 3.1652, 3.1651, 3.1651, 3.1649, 3.1648, 3.1647, 3.1647, 3.1647, 3.1645, 3.1645, 3.1644, 3.1643, 3.1642, 3.1642, 3.1641, 3.1638, 3.1636, 3.1636, 3.1632, 3.1631, 3.1631, 3.163, 2.7857, 2.9197, 2.8193, 2.6659, 2.5652, 2.3302, 2.7391, 1.3326, 0.3459, 2.7977, 2.7974, 2.7973, 2.797, 2.797, 2.7969, 2.7968, 2.7968, 2.7967, 2.7965, 2.7963, 2.7962, 2.796, 2.7958, 2.7957, 2.7956, 2.7952, 2.7951, 2.7951, 2.795, 2.795, 2.7949, 2.7947, 2.7946, 2.7945, 2.7944, 2.7944, 2.7943, 2.794, 2.7935, 2.6888, 2.5496, 2.5453, 2.5834, 2.5409, 2.5207, 2.5178, 2.3191, 2.2587, 2.1249, 1.9989, 2.524, 1.7785, 1.4371, 1.7782, -0.0163, 0.9947, 1.6213, 0.1747, 2.9814, 2.9813, 2.9813, 2.9812, 2.981, 2.9808, 2.9807, 2.9806, 2.9806, 2.9805, 2.9805, 2.9805, 2.9804, 2.9804, 2.9803, 2.9802, 2.9801, 2.9801, 2.9799, 2.9799, 2.9798, 2.9795, 2.9795, 2.9792, 2.9791, 2.9786, 2.9783, 2.9782, 2.9782, 2.9781, 2.8365, 2.7599, 2.7606, 2.6202, 2.6458, 2.3185, 2.7479, 2.2127, 2.166, 2.5226, 2.1098, 0.6632, 1.4798, 1.1794, 1.2636, 3.1538, 3.1535, 3.1534, 3.1532, 3.153, 3.1529, 3.1528, 3.1528, 3.1527, 3.1527, 3.1527, 3.1526, 3.1525, 3.1525, 3.1525, 3.1519, 3.1518, 3.1516, 3.1516, 3.1515, 3.1512, 3.1511, 3.1511, 3.1508, 3.1506, 3.1506, 3.1505, 3.1505, 3.1505, 3.1504, 2.868, 2.6351, 2.86, 2.747, 2.9312, 2.8737, 2.0122, 1.3658, 1.8348, 0.4378, 0.8859, -0.5319, 1.2426, 0.8332, 2.9951, 2.9944, 2.9943, 2.9943, 2.9942, 2.9942, 2.9938, 2.9937, 2.9936, 2.9936, 2.9934, 2.9932, 2.9931, 2.9931, 2.9931, 2.993, 2.9929, 2.9928, 2.9927, 2.9927, 2.9925, 2.9923, 2.9923, 2.9923, 2.9922, 2.9921, 2.9918, 2.9917, 2.9916, 2.9916, 2.8642, 2.6314, 2.5852, 2.5597, 2.6848, 2.2531, 0.8204, 1.4808, 2.17, 0.715, 2.2638, 1.011, 0.7342, 2.8638, 2.8634, 2.8633, 2.8633, 2.8632, 2.8631, 2.863, 2.8629, 2.8629, 2.8629, 2.8628, 2.8628, 2.8627, 2.8626, 2.8625, 2.862, 2.862, 2.862, 2.8618, 2.8617, 2.8616, 2.8615, 2.8614, 2.8613, 2.8612, 2.8611, 2.8611, 2.8611, 2.8609, 2.8608, 2.7136, 2.5993, 2.6134, 2.5266, 2.7501, 2.4389, 2.4487, 1.1295, 2.6967, 1.4271, 1.2876, 0.9759, 3.1379, 3.1378, 3.1375, 3.1373, 3.1373, 3.1367, 3.1367, 3.1366, 3.1365, 3.1365, 3.1362, 3.1362, 3.1361, 3.1359, 3.1356, 3.1356, 3.1356, 3.1355, 3.1353, 3.1352, 3.1351, 3.1349, 3.1347, 3.1346, 3.1346, 3.1345, 3.1345, 3.1344, 3.1344, 3.1342, 3.0474, 2.733, 2.8495, 2.9283, 0.1315, 2.8719, 0.9159, 2.0953, 0.3404, 0.4146, 3.0971, 3.0969, 3.0966, 3.0966, 3.0963, 3.0962, 3.0961, 3.0951, 3.095, 3.095, 3.095, 3.0948, 3.0948, 3.0948, 3.0947, 3.0946, 3.0945, 3.0944, 3.0944, 3.0943, 3.0941, 3.0939, 3.0939, 3.0938, 3.0938, 3.0937, 3.0937, 3.0936, 3.0936, 3.0934, 2.7765, 2.767, 2.7284, 2.7527, 2.5553, 2.6281, 2.0025, 1.687, 1.0305, 0.5319, 1.1671, 1.4943, 1.9038, 3.1422, 3.1417, 3.1409, 3.1408, 3.1408, 3.1407, 3.1407, 3.1406, 3.1406, 3.1405, 3.1405, 3.1405, 3.1402, 3.1401, 3.1398, 3.1398, 3.1397, 3.1394, 3.1394, 3.1393, 3.1393, 3.1393, 3.1392, 3.1392, 3.1389, 3.1389, 3.1389, 3.1388, 3.1388, 3.1387, 2.9117, 2.9519, 2.8645, 2.9284, 2.8436, 0.6025, 2.77, 2.5561, 1.2443, 0.1507, 1.2795, 0.4617, 2.8489, 2.8488, 2.8487, 2.8486, 2.8485, 2.8483, 2.8483, 2.8482, 2.848, 2.848, 2.8479, 2.8475, 2.8475, 2.8471, 2.8469, 2.8468, 2.8468, 2.8468, 2.8464, 2.8463, 2.8462, 2.8462, 2.8462, 2.8456, 2.8456, 2.8454, 2.8452, 2.8451, 2.8451, 2.845, 2.7394, 2.5382, 2.5377, 2.6623, 2.4972, 2.6029, 2.5786, 0.8787, 2.4278, 1.164, 1.5309, 1.5427, 0.4316, 3.0817, 3.0816, 3.0815, 3.0812, 3.0811, 3.0811, 3.0811, 3.0808, 3.0806, 3.0806, 3.0805, 3.0802, 3.0802, 3.0801, 3.0801, 3.0801, 3.08, 3.08, 3.08, 3.0797, 3.0796, 3.0793, 3.0792, 3.0792, 3.0791, 3.0791, 3.079, 3.0789, 3.0786, 3.0784, 2.858, 2.789, 2.8318, 0.2913, 1.1827, 2.6992, 2.9649, 2.9648, 2.9647, 2.9647, 2.9646, 2.9645, 2.9644, 2.9643, 2.9641, 2.964, 2.964, 2.9639, 2.9639, 2.9636, 2.9635, 2.9635, 2.9634, 2.9632, 2.9632, 2.9632, 2.9627, 2.9626, 2.9625, 2.9623, 2.9623, 2.9622, 2.9621, 2.9621, 2.962, 2.9619, 2.7339, 2.6902, 2.5268, 1.8585, 2.0168, 2.5924, 1.2168, 0.2682, 0.4705, -0.8455, 2.9295, 2.9291, 2.929, 2.9284, 2.9282, 2.928, 2.9278, 2.9277, 2.9276, 2.9275, 2.9275, 2.9274, 2.9273, 2.9271, 2.927, 2.927, 2.927, 2.9269, 2.9268, 2.9267, 2.9267, 2.9267, 2.9266, 2.9266, 2.9265, 2.9265, 2.9263, 2.9262, 2.926, 2.926, 2.7467, 2.7887, 2.6711, 2.6142, 2.4504, 2.5624, 2.3288, 2.4552, 2.3837, 1.8891, 0.8533, 1.9049, 1.1901, 1.2533, 1.5021, 2.8992, 2.899, 2.8989, 2.8988, 2.8985, 2.8983, 2.8982, 2.8981, 2.898, 2.898, 2.8977, 2.8977, 2.8976, 2.8976, 2.8976, 2.8975, 2.8975, 2.8974, 2.8969, 2.8968, 2.8968, 2.8968, 2.8968, 2.8967, 2.8967, 2.8966, 2.8965, 2.8965, 2.8963, 2.8961, 2.637, 2.6684, 2.6843, 2.453, 2.4506, 1.9208, 2.4168, 1.8182, 1.7398, 1.5214, 1.63, -0.294, 3.0065, 3.0064, 3.0061, 3.0061, 3.0058, 3.0057, 3.0056, 3.0055, 3.0052, 3.005, 3.0048, 3.0047, 3.0047, 3.0045, 3.0042, 3.0042, 3.0042, 3.0041, 3.0041, 3.0038, 3.0038, 3.0035, 3.0035, 3.0031, 3.003, 3.003, 3.0029, 3.0029, 3.0029, 3.0028, 2.8821, 2.7352, 2.732, 2.3881, 2.3809, 2.8182, 2.704, 2.4784, 0.6957, 0.6628, 1.3828, 1.3148, 2.9714, 2.9711, 2.9709, 2.9707, 2.9707, 2.9705, 2.9703, 2.9701, 2.9699, 2.9698, 2.9697, 2.9695, 2.9694, 2.9693, 2.9692, 2.9692, 2.9692, 2.9691, 2.969, 2.9689, 2.9685, 2.9685, 2.9685, 2.9684, 2.9681, 2.968, 2.968, 2.968, 2.9679, 2.9679, 2.857, 2.7773, 2.893, 2.5263, 2.3247, 2.2019, 2.0048, 1.6636, 0.8222, 1.3432]}, \"token.table\": {\"Topic\": [15, 12, 7, 16, 6, 4, 19, 19, 20, 9, 17, 2, 16, 19, 13, 13, 15, 17, 9, 5, 19, 16, 1, 16, 20, 13, 4, 20, 11, 19, 8, 20, 18, 13, 16, 15, 20, 15, 11, 10, 3, 11, 6, 1, 7, 1, 2, 4, 9, 2, 16, 5, 9, 19, 3, 4, 6, 18, 20, 4, 17, 5, 15, 10, 17, 7, 14, 1, 10, 13, 14, 15, 18, 5, 3, 18, 7, 12, 13, 8, 17, 19, 15, 11, 6, 17, 19, 16, 7, 3, 9, 18, 16, 10, 5, 13, 12, 13, 14, 17, 13, 15, 10, 19, 10, 15, 3, 4, 8, 1, 14, 19, 16, 9, 16, 10, 6, 14, 17, 1, 13, 4, 6, 17, 17, 1, 16, 18, 10, 11, 14, 19, 1, 3, 3, 18, 5, 6, 9, 16, 13, 20, 1, 1, 8, 12, 7, 18, 5, 17, 18, 10, 8, 16, 18, 19, 7, 13, 18, 6, 10, 9, 14, 3, 11, 12, 18, 2, 7, 9, 10, 11, 15, 16, 17, 18, 19, 3, 1, 2, 4, 6, 8, 9, 10, 11, 14, 15, 16, 19, 13, 7, 16, 17, 6, 4, 7, 4, 10, 14, 17, 15, 4, 1, 1, 10, 14, 6, 14, 17, 7, 10, 10, 18, 9, 14, 8, 17, 3, 5, 5, 4, 3, 8, 17, 3, 11, 6, 7, 9, 17, 18, 20, 18, 12, 6, 12, 18, 20, 18, 8, 12, 15, 5, 5, 10, 19, 7, 11, 19, 8, 1, 5, 11, 18, 17, 12, 7, 2, 1, 10, 19, 20, 19, 4, 13, 2, 6, 9, 12, 16, 17, 18, 19, 1, 16, 5, 10, 16, 1, 13, 13, 15, 1, 4, 16, 10, 8, 3, 6, 12, 17, 18, 16, 2, 4, 5, 6, 11, 14, 17, 18, 20, 17, 9, 19, 2, 6, 10, 18, 19, 1, 3, 18, 18, 8, 7, 13, 19, 10, 1, 1, 4, 20, 4, 13, 11, 6, 8, 17, 5, 13, 9, 15, 17, 2, 14, 4, 6, 10, 16, 3, 5, 6, 7, 5, 3, 7, 19, 12, 20, 14, 18, 11, 3, 15, 9, 16, 14, 1, 16, 12, 1, 3, 4, 5, 7, 10, 9, 3, 19, 8, 2, 6, 17, 16, 4, 18, 3, 2, 11, 5, 6, 20, 14, 14, 9, 13, 13, 3, 2, 4, 7, 10, 18, 15, 9, 18, 2, 13, 4, 14, 4, 16, 5, 6, 12, 17, 2, 9, 11, 13, 14, 18, 1, 18, 9, 12, 11, 10, 12, 6, 16, 17, 9, 16, 16, 8, 2, 2, 8, 10, 13, 11, 9, 12, 9, 3, 6, 17, 1, 1, 2, 9, 8, 2, 2, 1, 5, 17, 20, 6, 12, 8, 1, 6, 13, 11, 2, 20, 20, 15, 20, 10, 2, 7, 16, 11, 20, 2, 10, 19, 10, 14, 9, 11, 6, 11, 19, 10, 20, 6, 20, 7, 12, 17, 15, 12, 6, 1, 2, 3, 6, 16, 9, 9, 17, 8, 12, 16, 14, 10, 15, 19, 13, 6, 20, 5, 6, 13, 17, 18, 12, 14, 7, 10, 12, 19, 3, 1, 3, 5, 2, 3, 4, 6, 7, 8, 9, 10, 11, 12, 13, 14, 15, 16, 17, 18, 19, 16, 15, 8, 6, 2, 7, 1, 3, 9, 14, 15, 3, 6, 6, 9, 20, 3, 5, 14, 8, 18, 20, 15, 6, 14, 4, 8, 14, 18, 19, 15, 1, 15, 19, 6, 18, 7, 6, 13, 7, 14, 18, 6, 9, 7, 14, 13, 16, 1, 19, 1, 2, 9, 15, 19, 5, 18, 15, 17, 15, 8, 14, 7, 10, 14, 18, 6, 13, 1, 15, 14, 11, 10, 11, 3, 7, 3, 10, 20, 20, 11, 10, 11, 1, 18, 2, 1, 4, 6, 7, 14, 17, 19, 19, 4, 8, 10, 2, 6, 3, 4, 6, 9, 12, 15, 13, 15, 4, 8, 8, 18, 11, 17, 20, 16, 7, 16, 19, 2, 3, 17, 20, 16, 20, 6, 8, 4, 5, 8, 1, 7, 6, 14, 15, 12, 11, 8, 4, 1, 6, 20, 7, 4, 6, 17, 3, 17, 20, 6, 8, 17, 20, 2, 6, 8, 11, 7, 1, 3, 4, 7, 20, 20, 7, 20, 8, 18, 2, 3, 4, 5, 6, 7, 8, 10, 11, 12, 13, 15, 16, 17, 18, 19, 20, 9, 12, 1, 2, 4, 5, 6, 8, 9, 10, 14, 15, 16, 17, 18, 6, 1, 4, 2, 12, 18, 13, 15, 5, 10, 2, 3, 7, 9, 13, 9, 5, 18, 12, 8, 6, 12, 6, 1, 8, 17, 19, 13, 5, 7, 2, 3, 14, 8, 10, 19, 8, 4, 10, 2, 1, 17, 16, 6, 15, 5, 4, 19, 4, 17, 11, 20, 3, 3, 17, 18, 15, 2, 13, 7, 3, 8, 9, 19, 2, 5, 15, 5, 1, 14, 18, 1, 4, 5, 14, 15, 17, 2, 3, 5, 6, 8, 10, 11, 12, 13, 14, 16, 17, 18, 20, 1, 6, 3, 5, 6, 11, 17, 20, 2, 6, 8, 15, 19, 11, 6, 7, 8, 9, 10, 12, 13, 14, 15, 18, 19, 10, 8, 14, 19, 9, 12, 14, 5, 7, 7, 12, 11, 17, 17, 19, 9, 9, 4, 15, 19, 19, 7, 9, 14, 9, 5, 8, 11, 20, 1, 3, 10, 16, 7, 13, 20, 14, 16, 9, 3, 5, 11, 4, 10, 12, 18, 12, 9, 19, 13, 8, 4, 12, 2, 12, 14, 17, 10, 13, 13, 3, 10, 18, 6, 9, 12, 7, 15, 11, 19, 10, 20, 5, 8, 17, 12, 15, 9, 17, 20, 9, 8, 20, 2, 12, 6, 12, 7, 1, 8, 2, 18, 20, 1, 2, 11, 10, 17, 20, 20, 14, 1, 4, 18, 6, 20, 18, 20, 18, 17, 20, 3, 9, 18, 15, 12, 3, 13, 4, 7, 2, 1, 19, 3, 6, 8, 9, 2, 3, 5, 6, 9, 10, 12, 14, 15, 18, 19, 18, 17, 11, 13, 17, 4, 14, 2, 18, 3, 11, 14, 6, 3, 7, 2, 7, 10, 5, 5, 3, 4, 14, 13, 11, 14, 9, 16, 5, 8, 10, 20, 3, 19, 3, 19, 11, 6, 2, 9, 14, 18, 13, 16, 6, 17, 7, 11, 4, 14, 8, 4, 5, 4, 14, 15, 12, 7, 18, 3, 20, 5, 4, 6, 12, 16, 17, 20, 1, 4, 14, 11, 14, 11, 20, 4, 18, 13, 7, 20, 19, 18, 17, 19, 10, 12, 10, 11, 14, 7, 5, 16, 6, 14, 12, 13, 6, 19, 7, 12, 19, 20, 11, 17, 1, 4, 4, 1, 1, 5, 20, 5, 15, 3, 4], \"Freq\": [0.9976925090812626, 0.9969531633999151, 0.9950934416702822, 0.9987732339567092, 0.9978558950242841, 0.8200634177984171, 0.17705914702465825, 0.9957470282046808, 0.9956314952531555, 0.6638474030922596, 0.33521007482876475, 0.14418740160893972, 0.6886845629479621, 0.1669538334419302, 0.9964633280759974, 0.9967925873818819, 0.9968886908793435, 0.9964417519866867, 0.997724566541109, 0.9963072327254068, 0.9948177877148483, 0.9980418534368553, 0.20647131993766576, 0.7932845450236632, 0.9979050137669166, 0.993993526640703, 0.07288196869394498, 0.9231716034566364, 0.9983824729732523, 0.9985949216451395, 0.9982478713042378, 0.9983655306805894, 0.9981956095739424, 0.9978236424753405, 0.9976152953199255, 0.9984019328931227, 0.9973234394425237, 0.9991203158989663, 0.9979064537915511, 0.996044513279108, 0.9977657771596933, 0.9973523834803975, 0.9968692481559257, 0.6116042473820101, 0.38645323323588554, 0.9962486460800867, 0.7878077879647876, 0.21065295199928016, 0.9981247429959812, 0.9979939070169574, 0.9989630854326957, 0.13702399320645287, 0.6945403655652079, 0.16785439167790475, 0.9993811214988154, 0.9976874909219295, 0.19269602927950327, 0.80598819939023, 0.9947724563544057, 0.9975966217033899, 0.9973965588264145, 0.9985888916777483, 0.9986803731330794, 0.9991342199836172, 0.9948514767649382, 0.9967643705893922, 0.996501349127393, 0.14542080277245079, 0.08765783581754001, 0.15504796393160258, 0.1884896816423404, 0.08360429427684453, 0.3389774113406605, 0.9979483750617681, 0.9980408873956069, 0.99861102881348, 0.996941181858162, 0.9991496975248212, 0.9971632164802388, 0.13118005587788567, 0.8686246943265402, 0.9969258810694474, 0.9975346714857706, 0.9989711084576435, 0.9950330745153879, 0.9980261103867006, 0.9974374917739448, 0.9993252382518429, 0.997418548985403, 0.2565427690162879, 0.4810176919055398, 0.26072553155459693, 0.9977379647427279, 0.9992352517607384, 0.9963228481722038, 0.9981368125238437, 0.9976309242533545, 0.16864394879521838, 0.8290347389372418, 0.9986443775018283, 0.7414801304236857, 0.2555100449432971, 0.9957852942149089, 0.9989956354953602, 0.8932489071024169, 0.10558497719886725, 0.9963027284987374, 0.9963215987314007, 0.9977313798540367, 0.23960563785339367, 0.17022176588812524, 0.5893003525583466, 0.9962605177780933, 0.998879325563728, 0.9952544198358662, 0.9987623303938775, 0.9987324056879051, 0.3766306953723413, 0.6224428859094716, 0.17262189978659354, 0.8257264123549793, 0.668782588320043, 0.1975724042304411, 0.13336137285554772, 0.9996189615901786, 0.9961139940851778, 0.758866338636038, 0.2401706944179037, 0.9985307107627496, 0.7654273995259022, 0.23079681130742852, 0.9949465259820691, 0.9992023987565102, 0.9986367184027192, 0.7829942573033558, 0.2156927576722452, 0.0869033499990105, 0.22443001067705626, 0.4758591203829313, 0.21177418300729745, 0.793463394539166, 0.20576370769055563, 0.9938993493372577, 0.9993664430674222, 0.9961660851076799, 0.9996086548506202, 0.631562450147008, 0.36745451644916827, 0.9982862345168233, 0.9986575057450378, 0.9971547835110522, 0.9986473002944658, 0.9995600357885225, 0.9988583780117953, 0.9983845246744023, 0.9988914875244491, 0.9975744628047167, 0.9969377926979958, 0.9990507577642651, 0.2860250765785312, 0.7137819821482152, 0.8769721610687883, 0.12271357334028499, 0.9983959424698127, 0.9963956343876962, 0.9975623932057733, 0.9986262399997653, 0.039527002579056184, 0.15927056921560875, 0.05580282717043226, 0.09939878589733246, 0.09591110919918044, 0.1267189200328566, 0.05987178331827628, 0.08951703525256842, 0.07672888735934436, 0.1970537334455889, 0.9979390758867627, 0.014286581635315555, 0.014956265149470972, 0.08929113522072223, 0.07567423709956209, 0.10357771685603778, 0.10223834982772695, 0.06786126276774888, 0.10826550145512569, 0.18527910558299862, 0.060048288435935696, 0.08259430007916806, 0.09598797036227638, 0.9965129375896888, 0.17905664130166005, 0.6446895817200918, 0.17562971993703497, 0.9993440816482232, 0.7665594129460749, 0.23190032660553525, 0.9964920102756541, 0.9982324305513537, 0.9936621523619852, 0.9969232958978236, 0.9994683658426885, 0.9984715008083082, 0.9956001580892232, 0.9971667611055158, 0.6597267494080253, 0.3386390826382352, 0.5828899690829797, 0.21974309727975244, 0.19619919399977898, 0.9971093829641231, 0.9980580157667133, 0.9986748666299337, 0.9982374561590517, 0.997786354013415, 0.9957689865163187, 0.16731075248841862, 0.83264984488403, 0.9985589466425145, 0.9976707816415664, 0.9970691735266736, 0.9981219304043826, 0.8206779439204718, 0.17866611064573956, 0.9988856986219921, 0.8487113734527263, 0.15047022603572352, 0.9987574857039289, 0.15078983671580992, 0.04299866437599267, 0.5483802264938243, 0.15255690511482334, 0.10484605834146159, 0.9965766320282567, 0.9945887073793748, 0.07678862578640186, 0.11857067217017933, 0.28118187971785386, 0.5234048242940773, 0.9968740282486225, 0.99445090560747, 0.9981396596385738, 0.996846453590988, 0.9965423773826401, 0.6060249202939397, 0.20888518529280475, 0.1848161104442511, 0.9981663514739391, 0.9953722178447922, 0.9962183223715684, 0.9982613721307103, 0.9969132558371493, 0.09780943035440813, 0.26147075441277423, 0.6401191432105324, 0.996922125506363, 0.9959190942353198, 0.9963242897252926, 0.9971692516577866, 0.65060105058801, 0.16494111141667858, 0.18384061376650634, 0.9987290593531208, 0.9973971016825568, 0.19153390548778856, 0.8059348750395259, 0.12009307246364181, 0.36079243564931707, 0.11957985420525018, 0.07339021095000332, 0.08160170308426944, 0.11239479858776734, 0.062099409265387435, 0.0697976831412619, 0.9979952680051881, 0.9960463211588093, 0.9940824485760557, 0.9981604364501728, 0.9969738546206044, 0.840604222724264, 0.15878079762569433, 0.999490550996346, 0.9981409640905745, 0.7445464945476481, 0.2548639923643872, 0.9969873883444271, 0.9988629475975928, 0.9947097139611805, 0.07962236682993788, 0.1847647230284456, 0.33431186072826485, 0.08727836364050884, 0.31338546944603757, 0.9989065054631282, 0.9985358414307038, 0.08932828368738882, 0.08090991140271343, 0.15573988726649465, 0.08979597103653746, 0.2675171637130178, 0.02712586625062069, 0.1809950041205208, 0.10850346500248276, 0.9980111604817942, 0.26045813775221777, 0.7384941100901297, 0.9976766063977137, 0.6192368457291397, 0.14177813302889394, 0.11397849910165984, 0.12440336182437263, 0.999205337166415, 0.9956414213265544, 0.9980522643535293, 0.9988536749318988, 0.9983362710942963, 0.998243917088585, 0.9993603330185432, 0.997319176386038, 0.996516734101232, 0.9945852314029949, 0.23241181385104215, 0.6552964676251188, 0.11183726380802028, 0.9984287010128362, 0.9976876032039712, 0.9978114448186894, 0.9982069044538027, 0.7999194774663025, 0.198932854343714, 0.9978444114749687, 0.9952021785968531, 0.998260355501028, 0.9952874709443287, 0.9975090372595447, 0.9985467157841129, 0.9989396479347644, 0.9967584952973213, 0.997001055842103, 0.7780679560032776, 0.22078711346375252, 0.25832210405806316, 0.15973863614457204, 0.06717043068003971, 0.5146391206331401, 0.9987936943037802, 0.9983771274325621, 0.9981616856427806, 0.9957801961031809, 0.998125995855076, 0.9994316702057314, 0.998932806119322, 0.9971341018809655, 0.9957963413731741, 0.22040600427672882, 0.7791545589782606, 0.9972548792543074, 0.998840126682396, 0.9987345015312401, 0.9970266995559363, 0.9996180858606077, 0.994772974170372, 0.23640431541858303, 0.13880620354852582, 0.190858529879223, 0.433046437112328, 0.13877650267972064, 0.8602762305419499, 0.9993707954371674, 0.997666484195757, 0.9946952330932748, 0.996003808469582, 0.2371245696295539, 0.7610933767142133, 0.9972795626947089, 0.9961052398813495, 0.9973887427393856, 0.9973485656957615, 0.9990538401247646, 0.9957948456306883, 0.9953917129973817, 0.6515100952386849, 0.11436081458976916, 0.23218710840953133, 0.9989986257621083, 0.9994840217764995, 0.9977087722654118, 0.9974499056158239, 0.9966336098608747, 0.9943010077195864, 0.9995119726822348, 0.9980038530833136, 0.46293699632356483, 0.16098674093604937, 0.3756357288507819, 0.9983150557608589, 0.9971427490324241, 0.9969359355332164, 0.5756995205836091, 0.42149429185585663, 0.9971900066876181, 0.9965586288990639, 0.6123260882183502, 0.38699508123891657, 0.9975135711436937, 0.27392388545848, 0.7254657850668798, 0.9973810876507012, 0.11585142731164343, 0.4383333854253971, 0.11758055309241423, 0.10201842106547705, 0.12103880465395582, 0.10547667262701864, 0.9977921273674586, 0.9986136732463015, 0.9980099365407452, 0.9981919431068969, 0.9941978435994411, 0.9970200086554619, 0.9991668705722411, 0.2682067284885809, 0.1519498195619717, 0.5792449497395968, 0.7321346978790045, 0.2653374072850083, 0.9981125032268666, 0.9963187270093659, 0.9984491056878319, 0.9969592179272596, 0.9974850348316989, 0.9971516950829645, 0.9989151676292849, 0.9994764851440552, 0.3734984936203173, 0.6249874793246643, 0.9960597754279222, 0.9968577358723814, 0.8066562245148732, 0.1918645239894711, 0.9946141515624473, 0.8070538100627805, 0.19209427747500687, 0.9950316421589593, 0.9981804945096168, 0.9978939046629355, 0.9978741582427073, 0.9957413505927172, 0.9959904174497608, 0.619242865179654, 0.38000742285558886, 0.28126739263139955, 0.7186645021704574, 0.9943713069808742, 0.5790195767484003, 0.17168603729167684, 0.247429877273299, 0.9972377992936967, 0.9984617815336189, 0.9988354781427986, 0.9995015196833208, 0.9995793824687486, 0.996832165110124, 0.9961829551193105, 0.9993395480427666, 0.9979228022669051, 0.9951888829312002, 0.9980291595652564, 0.9953803194457221, 0.997391604949358, 0.9987827181933504, 0.9960720024896187, 0.76704112870409, 0.2317443410127251, 0.6472238079410931, 0.3528379379908751, 0.9963540922216392, 0.998813138361461, 0.9936713231248209, 0.9976947547846293, 0.996471614582813, 0.7762258738557026, 0.2229962711717206, 0.9993453046333524, 0.9970280159929698, 0.998202575051424, 0.9965969638643536, 0.9967258023384312, 0.99796602218594, 0.9988970600978673, 0.9984235438907287, 0.9949709484605372, 0.7572074100330325, 0.24132932939117296, 0.9949050098412144, 0.9987922194139617, 0.9970285387957112, 0.9975232502694927, 0.9991301122411351, 0.9972553110645909, 0.9984059343207572, 0.9995472167028008, 0.9962066445964988, 0.9996293843851798, 0.9949956980512626, 0.9964520499556985, 0.9972921572837087, 0.9980859216589241, 0.9979623757481042, 0.9963436499849468, 0.998853468375186, 0.9980720999976449, 0.9961228925528376, 0.9971168354605083, 0.1647177440538211, 0.15132311431757633, 0.1451688249793017, 0.5386813256089799, 0.9974154808196348, 0.9988405233493766, 0.999105567167626, 0.9963293871750558, 0.07033827656999177, 0.011286044376708566, 0.032718128647629886, 0.059907235555155064, 0.007866030929221121, 0.025080098614907925, 0.11360144668070794, 0.17647269389035214, 0.04941919431619357, 0.003648014343986607, 0.0788313099645856, 0.13936554798511336, 0.06138924138239962, 0.022116086960418807, 0.007809030705096331, 0.04104016136984933, 0.09912338975301109, 0.9975085173488085, 0.9995329864133438, 0.9978473794489976, 0.9982963329293045, 0.9985330259438304, 0.9987991034379361, 0.9978252221326311, 0.9972852329176699, 0.997509447640771, 0.8959723687863232, 0.10311346079344934, 0.5542746992907996, 0.44455965598645114, 0.779946648297483, 0.21996813237658194, 0.9975261094341975, 0.21737900777329117, 0.7812058091852652, 0.9960673534483109, 0.6658243450650317, 0.1282161745564419, 0.20582070126165677, 0.9977734554439471, 0.9962308861941961, 0.9985450994818406, 0.9973421542203834, 0.18379409199551064, 0.6553897854103481, 0.1581484047403231, 0.9958172304646951, 0.9992855531124527, 0.9990978103031026, 0.9983817791773709, 0.9947526577826911, 0.9984167441179715, 0.9984261119435212, 0.9972599235977969, 0.9971209405952516, 0.9953770120090963, 0.9985969337373712, 0.7626215521703498, 0.23590822333674244, 0.9994102702388159, 0.9971657196314534, 0.7143660787860551, 0.2846125171036505, 0.9961495218868606, 0.9962539668498904, 0.7486772409254762, 0.25111493492388165, 0.997505454364669, 0.9984960627594198, 0.3153956891654485, 0.6813355592868984, 0.996415230742978, 0.9991326210496632, 0.9979196474208575, 0.9989579697800773, 0.9974713532468108, 0.9968888585981378, 0.26705906534291757, 0.7325203108090147, 0.4419429935605459, 0.2065692576977598, 0.0991697033967333, 0.2518334376713725, 0.9966814582394977, 0.9959346043541384, 0.7824544931868986, 0.21530626993733454, 0.9985017354042411, 0.9988642554672073, 0.9969254640116691, 0.9987425177918653, 0.997710398421203, 0.9984399490047755, 0.15262730081733147, 0.845809625362712, 0.9943012042766972, 0.9979307320734991, 0.9976950470546121, 0.9995900402297209, 0.9964444807446816, 0.7761764240326323, 0.22307432659205573, 0.9992261044833844, 0.07056928631437258, 0.07742067333518544, 0.14250885003290772, 0.21102272024103644, 0.2706297873221084, 0.10345594401427435, 0.1226398276725504, 0.9983548296597837, 0.9977590323835555, 0.9975306211548208, 0.9971581140180248, 0.9970568627552743, 0.9964205301207548, 0.12130850208004845, 0.07805506076462133, 0.4494380568867369, 0.09744453445774384, 0.14268663974169632, 0.11037085025315883, 0.9973056195973414, 0.9988896791234102, 0.25351776467500825, 0.7447084337328368, 0.9989914932677275, 0.9983665000922273, 0.9993342297195374, 0.9958269764516563, 0.9968063642796953, 0.9988493043767225, 0.9983204997884191, 0.9965781205635744, 0.9964572814094563, 0.1804451947839709, 0.43603723161165203, 0.18693936631861252, 0.19621675422524343, 0.9993370986446798, 0.9984297725373436, 0.9981513895765604, 0.9967668967335118, 0.9980872197890517, 0.9987418790861881, 0.9960374074369175, 0.9950358848130038, 0.9975767068774144, 0.9983131799940453, 0.9997374124999034, 0.9985176856552662, 0.9968862423513261, 0.9976486132944496, 0.9994993555410372, 0.9988485087032662, 0.5558169119124018, 0.2793409737704081, 0.1640232897267268, 0.9987728345615196, 0.9972318385462708, 0.9972185937158315, 0.9967117102461235, 0.9983379750416409, 0.359023912663942, 0.6406435872764837, 0.36034575383703477, 0.31881654461822756, 0.1335323804112416, 0.18592307511804454, 0.20199549097203912, 0.09870234217951912, 0.5950833072102403, 0.10444085044577023, 0.9976108746604554, 0.9990145281071243, 0.12136099751997645, 0.1945100919155787, 0.2211097626048886, 0.4630005179358006, 0.9984236623413688, 0.8009033397934265, 0.1979137583323248, 0.20557975220355834, 0.7936726499006228, 0.10683303033599781, 0.06041079815059899, 0.04456534289798286, 0.059544249816471544, 0.07254247482838322, 0.09829133961388442, 0.06610525863200792, 0.036890200509996925, 0.06090596862724324, 0.07687521649902043, 0.05013601076023072, 0.005075497385603604, 0.06734318482361855, 0.12540192321015733, 0.03973743075070139, 0.015102699537649748, 0.01411235858436124, 0.9976698269538982, 0.999416244860424, 0.012922549780288367, 0.022111918512937874, 0.03962915265955099, 0.03675747493059802, 0.09218085509939035, 0.09821137833019158, 0.10424190156099283, 0.0964883716928198, 0.08615033186858911, 0.07466362095277723, 0.17402367037455002, 0.09189368732649505, 0.07035610435934778, 0.9980748674189852, 0.773077047392355, 0.22617134299498912, 0.1716988673260006, 0.20925799455356323, 0.6170428044528147, 0.9982829831408397, 0.9980568168823973, 0.7057014303198829, 0.29272641085557966, 0.4802197921506461, 0.11102468670466244, 0.1212906680095456, 0.1372599722615861, 0.1498072827453322, 0.9989990402830448, 0.6829591505997042, 0.3160649925644098, 0.9957742777680787, 0.9966465638203863, 0.30828751273771227, 0.6912194429296344, 0.9957064499301468, 0.9989462214361015, 0.9967457617648608, 0.9982145034831459, 0.9984679739980286, 0.9978871716429178, 0.9983924203413526, 0.9938829419243967, 0.9994573427275849, 0.996150504632794, 0.9978039546878454, 0.9972254663769186, 0.2375978256571699, 0.762016930892517, 0.9989996319737794, 0.998498521701796, 0.9991721397534378, 0.9978681681538826, 0.995720051376615, 0.9958077302537602, 0.9974073227197503, 0.9976044514852996, 0.9987124690464609, 0.9974306795653788, 0.9979494687589254, 0.9990538530340707, 0.9982890766302, 0.9976098132876984, 0.6666309513758693, 0.33267816120287164, 0.9987629831449657, 0.0914992504993833, 0.7719525374409996, 0.13609065738832327, 0.9987479983258533, 0.9994398777388649, 0.9987792028625231, 0.9985867345780354, 0.19571343156374563, 0.14792777417556993, 0.1213340170204113, 0.5347838352920182, 0.9959026538615808, 0.9947466040145115, 0.9987854498474781, 0.9951576898645048, 0.998167315986704, 0.9988539583698939, 0.9949486546948271, 0.07803749001177275, 0.21291710237779973, 0.5472258558850238, 0.1608921090366179, 0.7454423729275271, 0.2529478613754081, 0.028690270274986805, 0.08028648214048727, 0.017584359200798365, 0.1647376809337952, 0.052984450749774016, 0.028690270274986805, 0.06570997385561494, 0.12656111161627243, 0.06848645162416205, 0.08907866174088645, 0.06756095903464635, 0.01827847864293514, 0.07473352660339305, 0.11661206627897862, 0.9983261559677173, 0.9973441625540781, 0.13771713976791333, 0.08689295723451675, 0.22351710382966886, 0.08306748112985249, 0.35303679480187306, 0.11476428313992779, 0.9965182488414439, 0.5100080293044601, 0.11240731124468578, 0.1811363529771508, 0.19655221280499344, 0.996965935824095, 0.024207845534521776, 0.2223839369442509, 0.050056900935790793, 0.06359688233645552, 0.1464779806071911, 0.03692722200181288, 0.029541777601450304, 0.12637315973953742, 0.051698110802538035, 0.16945491874165244, 0.07836777113718067, 0.9987753331638646, 0.08376091250292106, 0.7035916650245368, 0.2116065157968532, 0.9980741897810235, 0.9958413875297246, 0.9992244582161366, 0.13463658189849395, 0.8644597086034336, 0.41803973756290563, 0.5817650423340635, 0.9973519532554451, 0.9981642271622256, 0.11597821829102413, 0.8825390134716978, 0.9949438316492522, 0.9974648085469452, 0.9968432625127165, 0.9983850711429944, 0.9978079892694678, 0.9983520327402499, 0.9992197390422477, 0.99897730205902, 0.9952109437053311, 0.9970077204967042, 0.9951506182071568, 0.997196514996241, 0.10787935812870365, 0.8916663534429344, 0.9962301253111652, 0.7999439737494277, 0.19953251045904094, 0.9977030997182655, 0.8003547485155751, 0.198551232891899, 0.9988906419831088, 0.9948022529592534, 0.9988219016257555, 0.9973564279638462, 0.9984557664292703, 0.18702095456718493, 0.8094500689860973, 0.9967497380940639, 0.9965328544033695, 0.995679217897153, 0.9992587811314563, 0.9965300209948885, 0.9961703088652762, 0.9942583322854467, 0.9972643408745373, 0.9986493536330235, 0.9983141214798411, 0.9974775254907317, 0.9967924334232015, 0.9945135317767564, 0.9952644345123872, 0.9959270431508667, 0.9973990254160302, 0.9975442298530056, 0.9978494923040842, 0.08995538664314758, 0.6539756608956829, 0.2554732980665391, 0.7555628090396879, 0.24397085761413315, 0.9982827887122169, 0.19983948378888647, 0.7993579351555459, 0.9955554920627341, 0.9958570459350721, 0.9994271423341281, 0.9950757190423205, 0.9986166119168481, 0.9981447708526828, 0.9964689604651215, 0.9975221329263319, 0.9976483571199357, 0.9987047355890498, 0.729389863789811, 0.27016216665372605, 0.9974558180882301, 0.9984851886837871, 0.9981996084465353, 0.9962342665620925, 0.9985978107321054, 0.29037462366763134, 0.7084139525684454, 0.9979097140129803, 0.9977454036843098, 0.9966729058857886, 0.23004268336653347, 0.7687502330223397, 0.9979711522828758, 0.4012709956191594, 0.5977635775447655, 0.9985994019988983, 0.306455617384062, 0.6925675685286022, 0.9968829881886367, 0.9986480920101226, 0.9977614523741976, 0.20050380197412057, 0.7985582457934802, 0.9966618181669235, 0.8966140364441231, 0.10255635740656076, 0.998223784918061, 0.9963179728135474, 0.9984667322004146, 0.9984925339238796, 0.9970100428293281, 0.16149342734714586, 0.19966460108374398, 0.6381437250323582, 0.9985462522738667, 0.9984229347092204, 0.2419717755275854, 0.7570259834363028, 0.99851170471399, 0.9964680688513041, 0.9977252974558208, 0.16972047764825007, 0.827118783475649, 0.9963588100830738, 0.24166010510495403, 0.7560192278971497, 0.9944102662172152, 0.11676775991106123, 0.047384018514633544, 0.0575377367677693, 0.10322946890688021, 0.12240871449613665, 0.05133268672418634, 0.20138207868719255, 0.0908193688197143, 0.04512763668060337, 0.07389650506448803, 0.08912708244419167, 0.9995971125569243, 0.9963973247317192, 0.20505645677110776, 0.5553612370884169, 0.23752372909319983, 0.99587713621479, 0.9972466162125015, 0.9991907615327681, 0.9968033477491695, 0.08591927837497816, 0.9134575911445046, 0.9988718523561064, 0.998930245795474, 0.9993696684909067, 0.9975748175664834, 0.9979317866440703, 0.9955888561048251, 0.9970572240072715, 0.9985974264000441, 0.995655471590628, 0.9993705961164647, 0.9988022924544893, 0.9982030457583201, 0.9984119773058375, 0.9959142446871689, 0.9975309306474976, 0.9946125342592853, 0.9981685464548897, 0.9976201760552235, 0.7514283742557225, 0.24839748471247258, 0.9977681195090666, 0.9982864713558298, 0.9974647707272918, 0.9976774582083687, 0.9985920395479597, 0.9963686240840229, 0.9974418987782968, 0.9989299453221416, 0.9981694996801409, 0.9993797598071886, 0.9958540526998028, 0.9976183858691059, 0.9969502175002025, 0.9993552053540712, 0.9977561285356026, 0.9985857018324573, 0.9984714572980133, 0.21699357033328387, 0.781176853199822, 0.9949334513870531, 0.9981531419263608, 0.998169428029809, 0.11727807844297491, 0.7328223432651426, 0.1497448911192787, 0.9967171145280853, 0.9984441102273226, 0.9993967207792337, 0.9960132727747272, 0.9949588279826916, 0.997723037744139, 0.01954067135812305, 0.2562408791301041, 0.24407404602032942, 0.33034795352600477, 0.07484445822073546, 0.07447576630831804, 0.9971629059853336, 0.9987086800559147, 0.9960937599267277, 0.9977720964347571, 0.9987903345433167, 0.9977148981043125, 0.9973574233516892, 0.9987634164046795, 0.9980282265968131, 0.9980953490451714, 0.7915904012687229, 0.20732129557037982, 0.9989776425270877, 0.998406984730904, 0.24016139465533337, 0.7596796638058914, 0.9968783745089176, 0.9965023474325196, 0.9983384026642527, 0.7490936812017561, 0.24890013688492854, 0.997864725357018, 0.995986894495326, 0.998201431137973, 0.9980941979820607, 0.996771457058401, 0.3090887824406069, 0.6886316255845875, 0.7735758351319684, 0.22576827787441806, 0.696084852886635, 0.3028909765263466, 0.17609870434800223, 0.8232157424711107, 0.99742105787863, 0.9965531407952919, 0.7916423068054457, 0.20815725577432312, 0.9977407787938244, 0.9971536877406451, 0.5970395413773287, 0.16575491310475704, 0.2365628371495076, 0.9983346819725009, 0.9987418183494383, 0.9965339393057864, 0.9982968390510888], \"Term\": [\"10\", \"100ml\", \"1080p\", \"110v\", \"110v220v\", \"12\", \"12\", \"127v\", \"128gb\", \"12v\", \"12v\", \"14\", \"14\", \"14\", \"15\", \"16\", \"16gb\", \"18\", \"1kg\", \"1tb\", \"2\", \"20\", \"220v\", \"220v\", \"25\", \"2x\", \"30\", \"30\", \"32gb\", \"3d\", \"3m\", \"4gb\", \"4k\", \"50\", \"500g\", \"500ml\", \"64gb\", \"70\", \"8gb\", \"a4\", \"ab\", \"abdom\", \"ac\", \"academ\", \"academ\", \"accesori\", \"acer\", \"acer\", \"acess\\u00f3ri\", \"acr\\u00edl\", \"adapt\", \"ades\", \"ades\", \"ades\", \"adult\", \"agu\", \"air\", \"air\", \"airdot\", \"al\", \"alarm\", \"alcohol\", \"alcool\", \"algod\", \"alicat\", \"aliment\", \"almof\", \"alt\", \"alt\", \"alt\", \"alt\", \"alt\", \"alt\", \"altern\", \"alumini\", \"alum\\u00edni\", \"amortec\", \"android\", \"ano\", \"ant\", \"ant\", \"anten\", \"antiss\\u00e9p\", \"aparelh\", \"apoi\", \"appl\", \"aqu\", \"ar\", \"arm\", \"aro\", \"aro\", \"aro\", \"aspir\", \"atac\", \"ativ\", \"audi\", \"auricul\", \"aut\", \"aut\", \"automo\", \"autom\\u00e1\", \"autom\\u00e1\", \"auxili\", \"a\\u00e7o\", \"baby\", \"baby\", \"balan\\u00e7\", \"bald\", \"banc\", \"band\", \"band\", \"band\", \"bandej\", \"banh\", \"bar\", \"barat\", \"barb\", \"barbij\", \"barbij\", \"barr\", \"barr\", \"bas\", \"bas\", \"bas\", \"bat\", \"ba\\u00f1\", \"beb\", \"beb\", \"beb\\u00ea\", \"bermud\", \"bermud\", \"ber\\u00e7\", \"bic\", \"biciclet\", \"bik\", \"bik\", \"bivolt\", \"bivolt\", \"bivolt\", \"bivolt\", \"black\", \"black\", \"blackout\", \"blanc\", \"blu\", \"bluetooth\", \"blus\", \"blus\", \"bobin\", \"boc\", \"body\", \"bol\", \"bols\", \"bomb\", \"bonec\", \"bord\", \"borrach\", \"bosch\", \"bot\", \"box\", \"box\", \"branc\", \"branc\", \"brasil\", \"brastemp\", \"bra\\u00e7\", \"brilh\", \"brind\", \"brind\", \"brind\", \"brind\", \"brind\", \"brind\", \"brind\", \"brind\", \"brind\", \"brind\", \"brinqued\", \"c\", \"c\", \"c\", \"c\", \"c\", \"c\", \"c\", \"c\", \"c\", \"c\", \"c\", \"c\", \"c3\", \"cab\", \"cab\", \"cab\", \"cabel\", \"cabl\", \"cabl\", \"cachorr\", \"cade\", \"cafet\", \"caf\\u00e9\", \"caix\", \"caj\", \"cal\", \"calidad\", \"cal\\u00e7\", \"cal\\u00e7\", \"cam\", \"cam\", \"cam\", \"caminh\", \"camis\", \"camiset\", \"camp\", \"can\", \"canon\", \"cap\", \"cap\", \"capacet\", \"capsul\", \"card\", \"carg\", \"carr\", \"carr\", \"carreg\", \"cart\", \"cart\", \"cartuch\", \"cas\", \"cas\", \"cas\", \"cas\", \"cas\", \"casac\", \"cd\", \"celul\", \"celul\", \"celul\", \"celul\", \"centr\", \"cer\", \"cest\", \"cg\", \"chap\", \"chav\", \"chav\", \"chav\", \"chinel\", \"chromecast\", \"churrasc\", \"chuv\", \"cicl\", \"cint\", \"cint\", \"cint\", \"cinz\", \"circul\", \"civic\", \"classic\", \"cm\", \"cm\", \"cm\", \"co\", \"cobr\", \"cocin\", \"cocin\", \"col\", \"col\", \"col\", \"col\", \"col\", \"col\", \"col\", \"col\", \"colchonet\", \"colch\\u00e3\", \"colet\", \"color\", \"com\", \"comb\", \"comb\", \"complet\", \"compres\", \"con\", \"con\", \"conec\", \"conjunt\", \"contr\", \"control\", \"control\", \"control\", \"control\", \"control\", \"conver\", \"cool\", \"cor\", \"cor\", \"cor\", \"cor\", \"cor\", \"cor\", \"cor\", \"cor\", \"cord\", \"corr\", \"corr\", \"cors\", \"cort\", \"cort\", \"cort\", \"cort\", \"cortin\", \"costur\", \"coturn\", \"cour\", \"crem\", \"crist\", \"crom\", \"cub\", \"cuec\", \"cuer\", \"cuot\", \"cuot\", \"cuot\", \"curt\", \"curv\", \"c\\u00e1psul\", \"c\\u00e2m\", \"c\\u00e3o\", \"c\\u00e3o\", \"d\", \"deck\", \"decor\", \"del\", \"dell\", \"dent\", \"descart\", \"descartabl\", \"dia\", \"diant\", \"diant\", \"digit\", \"digit\", \"digit\", \"digit\", \"disc\", \"display\", \"dobl\", \"dour\", \"driv\", \"dual\", \"dupl\", \"dvd\", \"d\\u00e1gu\", \"el\", \"el\", \"electr\", \"electrolux\", \"el\\u00e1s\", \"el\\u00e9ctr\", \"el\\u00e9tr\", \"embut\", \"en\", \"en\", \"en\", \"en\", \"entreg\", \"entreg\", \"envi\", \"epson\", \"escap\", \"escol\", \"escov\", \"escov\", \"esmalt\", \"espec\", \"espum\", \"est\", \"estamp\", \"estoj\", \"eva\", \"extern\", \"extern\", \"extern\", \"extr\", \"fac\", \"faix\", \"fal\", \"fan\", \"fantas\", \"farol\", \"faz\", \"feminin\", \"feminin\", \"feminin\", \"ferr\", \"ferrament\", \"fest\", \"fiat\", \"fiat\", \"fibr\", \"fiest\", \"filtr\", \"filtr\", \"fin\", \"fio\", \"fio\", \"fiscal\", \"fit\", \"fit\", \"fit\", \"fit\", \"fit\", \"fit\", \"fitnes\", \"fix\", \"fl\", \"fm\", \"fog\\u00e3\", \"folh\", \"fon\", \"font\", \"font\", \"font\", \"ford\", \"ford\", \"form\", \"forr\", \"fort\", \"fox\", \"frasc\", \"fre\", \"frei\", \"fret\", \"fri\", \"fri\", \"fris\", \"front\", \"full\", \"full\", \"func\", \"fund\", \"fund\", \"furad\", \"g\", \"g4\", \"g5\", \"ga\", \"gal\", \"galaxy\", \"galaxy\", \"gam\", \"gam\", \"ganch\", \"garant\", \"garant\", \"garant\", \"garraf\", \"gat\", \"gavet\", \"gb\", \"gel\", \"glob\", \"gm\", \"gol\", \"gold\", \"golf\", \"googl\", \"gourmet\", \"gr\", \"grad\", \"gram\", \"grand\", \"grand\", \"gratil\", \"gratil\", \"grav\", \"gr\\u00e1til\", \"gti\", \"guit\", \"hast\", \"hd\", \"hd\", \"hdm\", \"headset\", \"hidrat\", \"higieniz\", \"higi\\u00ean\", \"hom\", \"hombr\", \"hond\", \"hot\", \"hp\", \"hp\", \"hyund\", \"imediat\", \"impact\", \"imperme\", \"import\", \"impre\", \"inalambr\", \"infantil\", \"inmetr\", \"inox\", \"integr\", \"intelbr\", \"intelig\", \"intern\", \"ip\", \"ipad\", \"iphon\", \"jaquet\", \"jbl\", \"je\", \"jog\", \"jog\", \"jog\", \"jog\", \"joystick\", \"jueg\", \"kg\", \"kingston\", \"kit\", \"kit\", \"kit\", \"kit\", \"kit\", \"kit\", \"kit\", \"kit\", \"kit\", \"kit\", \"kit\", \"kit\", \"kit\", \"kit\", \"kit\", \"kit\", \"kit\", \"l\", \"la\", \"lacr\", \"lamp\", \"lantern\", \"lan\\u00e7\", \"larg\", \"las\", \"later\", \"lav\", \"lav\", \"lcd\", \"lcd\", \"led\", \"led\", \"leit\", \"lent\", \"lent\", \"lev\", \"lg\", \"lg\", \"lg\", \"libr\", \"light\", \"limp\", \"linh\", \"lis\", \"lis\", \"lis\", \"lit\", \"litr\", \"livr\", \"lix\", \"lixad\", \"logitech\", \"long\", \"lot\", \"lumin\\u00e1r\", \"lustr\", \"luv\", \"lux\", \"lux\", \"luz\", \"l\\u00e2mp\", \"m\", \"m\", \"mac\", \"mach\", \"mad\", \"mad\", \"magn\\u00e9\", \"mal\", \"malet\", \"malet\", \"malh\", \"man\", \"mang\", \"mangu\", \"mant\", \"maqui\", \"masc\", \"masc\", \"masculin\", \"masculin\", \"masculin\", \"masculin\", \"mass\", \"mast\", \"mat\", \"mat\", \"matern\", \"max\", \"mdf\", \"med\", \"medi\", \"meg\", \"mei\", \"mei\", \"melhor\", \"memor\", \"mem\\u00f3r\", \"menin\", \"merc\", \"mes\", \"mes\", \"metal\", \"metr\", \"metr\", \"metr\", \"metr\", \"metr\", \"metr\", \"metr\", \"mi\", \"micr\", \"microfon\", \"mid\", \"milh\", \"milit\", \"min\", \"min\", \"min\", \"min\", \"min\", \"min\", \"mix\", \"ml\", \"mm\", \"mm\", \"mochil\", \"mod\", \"model\", \"modul\", \"mol\", \"mold\", \"moletom\", \"moni\", \"mont\", \"mot\", \"mot\", \"mot\", \"mot\", \"motor\", \"motorol\", \"mous\", \"mp3\", \"mt\", \"muj\", \"multius\", \"muscul\", \"music\", \"m\\u00e1quin\", \"m\\u00e1sc\", \"m\\u00e3o\", \"m\\u00edd\", \"m\\u00f3vel\", \"n95\", \"natur\", \"negr\", \"negr\", \"negr\", \"new\", \"nf\", \"nfe\", \"nint\", \"ni\\u00f1\", \"not\", \"not\", \"notebook\", \"notebook\", \"notebook\", \"notebook\", \"nov\", \"nov\", \"nov\", \"nov\", \"now\", \"nuev\", \"ofert\", \"ofert\", \"ofert\", \"ofert\", \"ofic\", \"one\", \"one\", \"organiz\", \"organiz\", \"orig\", \"orig\", \"orig\", \"orig\", \"orig\", \"orig\", \"orig\", \"orig\", \"orig\", \"orig\", \"orig\", \"orig\", \"orig\", \"orig\", \"orig\", \"orig\", \"orig\", \"our\", \"ouv\", \"p\", \"p\", \"p\", \"p\", \"p\", \"p\", \"p\", \"p\", \"p\", \"p\", \"p\", \"p\", \"p\", \"p2\", \"pack\", \"pack\", \"painel\", \"painel\", \"painel\", \"pali\", \"panel\", \"papel\", \"papel\", \"par\", \"par\", \"par\", \"par\", \"par\", \"parafus\", \"pared\", \"pared\", \"part\", \"past\", \"pc\", \"pc\", \"pe\", \"pedal\", \"pedr\", \"pelicul\", \"pel\\u00edcul\", \"pequen\", \"perfum\", \"perr\", \"person\", \"pes\", \"pesc\", \"pet\", \"pe\\u00e7\", \"pe\\u00e7\", \"pff2\", \"philc\", \"philip\", \"piez\", \"pilat\", \"pilh\", \"pin\", \"pincel\", \"pint\", \"pis\", \"piscin\", \"plac\", \"plas\", \"plat\", \"play\", \"play\", \"playstation\", \"plu\", \"plu\", \"plu\", \"pl\\u00e1s\", \"pol\", \"poleg\", \"pont\", \"port\", \"port\", \"port\", \"port\", \"portatil\", \"portugu\", \"port\\u00e1til\", \"post\", \"pow\", \"prat\", \"pratel\", \"premium\", \"premium\", \"premium\", \"premium\", \"press\", \"press\", \"pret\", \"pret\", \"pret\", \"pret\", \"pret\", \"pret\", \"pret\", \"pret\", \"pret\", \"pret\", \"pret\", \"pret\", \"pret\", \"pret\", \"prim\", \"princes\", \"pro\", \"pro\", \"pro\", \"pro\", \"pro\", \"pro\", \"profes\", \"profiss\", \"profiss\", \"profiss\", \"profiss\", \"prom\", \"promo\\u00e7\", \"promo\\u00e7\", \"promo\\u00e7\", \"promo\\u00e7\", \"promo\\u00e7\", \"promo\\u00e7\", \"promo\\u00e7\", \"promo\\u00e7\", \"promo\\u00e7\", \"promo\\u00e7\", \"promo\\u00e7\", \"pront\", \"prote\", \"prote\", \"prote\", \"protec\", \"protein\", \"prote\\u00e7\", \"ps3\", \"ps3\", \"ps4\", \"ps4\", \"puert\", \"pul\", \"puls\", \"puls\", \"punt\", \"pur\", \"purific\", \"pvc\", \"p\\u00e7\", \"p\\u00e9\", \"p\\u00f3\", \"quadr\", \"qual\", \"quart\", \"r\", \"radi\", \"ram\", \"ram\", \"rap\", \"real\", \"real\", \"recarreg\", \"red\", \"red\", \"redm\", \"ref\", \"refil\", \"refle\", \"reforz\", \"refor\\u00e7\", \"refor\\u00e7\", \"regal\", \"regul\", \"reloj\", \"remot\", \"renault\", \"repar\", \"resin\", \"resist\", \"respir\", \"respirat\\u00f3r\", \"retr\", \"retrovi\", \"retr\\u00f4\", \"reutiliz\", \"reutilizabl\", \"revend\", \"rgb\", \"rm\", \"rod\", \"rod\", \"rod\", \"rol\", \"rol\", \"roll\", \"ros\", \"ros\", \"rost\", \"rote\", \"roup\", \"royal\", \"r\\u00e1pid\", \"s\", \"s10\", \"sabonet\", \"sac\", \"sal\", \"samsung\", \"samsung\", \"sant\", \"sapat\", \"sat\", \"sav\", \"sd\", \"sec\", \"sec\", \"seguran\\u00e7\", \"seguridad\", \"sem\", \"sensor\", \"sensor\", \"seri\", \"set\", \"set\", \"shampo\", \"silicon\", \"silicon\", \"sill\", \"sim\", \"simpl\", \"sin\", \"sin\", \"siz\", \"smart\", \"smart\", \"smartphon\", \"smartwatch\", \"soc\", \"sof\", \"soft\", \"sol\", \"sol\", \"sol\", \"sold\", \"som\", \"sony\", \"sony\", \"soport\", \"speed\", \"sport\", \"spray\", \"spray\", \"ssd\", \"st\", \"st\", \"str\", \"sup\", \"sup\", \"sup\", \"sup\", \"sup\", \"sup\", \"sup\", \"sup\", \"sup\", \"sup\", \"sup\", \"suport\", \"switch\", \"tablet\", \"tablet\", \"tablet\", \"tall\", \"tamanh\", \"tamp\", \"tap\", \"tapet\", \"tapet\", \"tec\", \"tecl\", \"tel\", \"tenil\", \"term\", \"test\", \"tet\", \"the\", \"tim\", \"tint\", \"tip\", \"tir\", \"titan\", \"titanium\", \"tnt\", \"toalh\", \"tod\", \"ton\", \"top\", \"top\", \"torn\", \"touch\", \"tplink\", \"tr\", \"tramontin\", \"transform\", \"transpar\", \"tras\", \"trein\", \"tripl\", \"trip\\u00e9\", \"tub\", \"turb\", \"tv\", \"t\\u00e9rm\", \"t\\u00eanil\", \"ultr\", \"un\", \"un\", \"und\", \"unh\", \"unid\", \"unidad\", \"unidad\", \"unidad\", \"unissex\", \"united\", \"univers\", \"uno\", \"up\", \"us\", \"usb\", \"usb\", \"usb\", \"usb\", \"usb\", \"usb\", \"uso\", \"uv\", \"v\", \"valvul\", \"var\", \"vari\", \"vas\", \"vel\", \"vent\", \"ventil\", \"verd\", \"verd\", \"vermelh\", \"vest\", \"vidr\", \"vidr\", \"vinil\", \"vintag\", \"viol\", \"vitamin\", \"vitamin\", \"vol\", \"volt\", \"vw\", \"v\\u00e1lvul\", \"v\\u00edru\", \"whey\", \"whey\", \"wif\", \"wif\", \"xbox\", \"xbox\", \"xiaom\", \"xiaom\", \"xr\", \"xs\", \"y\", \"y\", \"yamah\", \"yog\", \"zapatill\", \"zapatill\", \"zapatill\", \"\\u00e1gu\", \"\\u00e1lcool\", \"\\u00f3cul\", \"\\u00f3le\"]}, \"R\": 30, \"lambda.step\": 0.01, \"plot.opts\": {\"xlab\": \"PC1\", \"ylab\": \"PC2\"}, \"topic.order\": [1, 2, 3, 4, 5, 6, 7, 8, 9, 10, 11, 12, 13, 14, 15, 16, 17, 18, 19, 20]};\n",
              "\n",
              "function LDAvis_load_lib(url, callback){\n",
              "  var s = document.createElement('script');\n",
              "  s.src = url;\n",
              "  s.async = true;\n",
              "  s.onreadystatechange = s.onload = callback;\n",
              "  s.onerror = function(){console.warn(\"failed to load library \" + url);};\n",
              "  document.getElementsByTagName(\"head\")[0].appendChild(s);\n",
              "}\n",
              "\n",
              "if(typeof(LDAvis) !== \"undefined\"){\n",
              "   // already loaded: just create the visualization\n",
              "   !function(LDAvis){\n",
              "       new LDAvis(\"#\" + \"ldavis_el40171402594902550565013345173\", ldavis_el40171402594902550565013345173_data);\n",
              "   }(LDAvis);\n",
              "}else if(typeof define === \"function\" && define.amd){\n",
              "   // require.js is available: use it to load d3/LDAvis\n",
              "   require.config({paths: {d3: \"https://d3js.org/d3.v5\"}});\n",
              "   require([\"d3\"], function(d3){\n",
              "      window.d3 = d3;\n",
              "      LDAvis_load_lib(\"https://cdn.jsdelivr.net/gh/bmabey/pyLDAvis@3.2.2/pyLDAvis/js/ldavis.v3.0.0.js\", function(){\n",
              "        new LDAvis(\"#\" + \"ldavis_el40171402594902550565013345173\", ldavis_el40171402594902550565013345173_data);\n",
              "      });\n",
              "    });\n",
              "}else{\n",
              "    // require.js not available: dynamically load d3 & LDAvis\n",
              "    LDAvis_load_lib(\"https://d3js.org/d3.v5.js\", function(){\n",
              "         LDAvis_load_lib(\"https://cdn.jsdelivr.net/gh/bmabey/pyLDAvis@3.2.2/pyLDAvis/js/ldavis.v3.0.0.js\", function(){\n",
              "                 new LDAvis(\"#\" + \"ldavis_el40171402594902550565013345173\", ldavis_el40171402594902550565013345173_data);\n",
              "            })\n",
              "         });\n",
              "}\n",
              "</script>"
            ],
            "text/plain": [
              "<IPython.core.display.HTML object>"
            ]
          },
          "metadata": {},
          "execution_count": 23
        }
      ]
    },
    {
      "cell_type": "markdown",
      "metadata": {
        "id": "bSXU60kdRVTB"
      },
      "source": [
        "Nao parece ter um topico bem menos prevalente (outliers potenciais) que poderia ser associado a um topico de descriçao de compra mais sucetivel a fraude."
      ]
    },
    {
      "cell_type": "markdown",
      "metadata": {
        "id": "5dUcx4TfRvpK"
      },
      "source": [
        "Vamos visualizar a proporçao de fraudes em cada um dos topicos. "
      ]
    },
    {
      "cell_type": "code",
      "metadata": {
        "id": "rf_-yJY3JKKb"
      },
      "source": [
        "topic_details_frauds = pd.concat([topic_details, df[target_name]], axis=1)\n",
        "topic_details_frauds.head()"
      ],
      "execution_count": null,
      "outputs": []
    },
    {
      "cell_type": "code",
      "metadata": {
        "colab": {
          "base_uri": "https://localhost:8080/",
          "height": 280
        },
        "id": "iIMgIkoNJF2C",
        "outputId": "021f0953-b59e-4294-811c-0daf8ff28537"
      },
      "source": [
        "import matplotlib.pyplot as plt\n",
        "import seaborn as sns\n",
        "\n",
        "sns.histplot(x=\"Dominant_Topic\", data=topic_details_frauds, hue=target_name, bins=50)\n",
        "plt.show()"
      ],
      "execution_count": null,
      "outputs": [
        {
          "output_type": "display_data",
          "data": {
            "image/png": "[encoded data removed]",
            "text/plain": [
              "<Figure size 432x288 with 1 Axes>"
            ]
          },
          "metadata": {
            "needs_background": "light"
          }
        }
      ]
    },
    {
      "cell_type": "markdown",
      "metadata": {
        "id": "wB6TNN3VSDXi"
      },
      "source": [
        "A distribuiçao de fraudes entre os topicos parece bem homogênea. Nao tem uma categoria semantica de descriçao de compra mais representativa de transaçoes fraudulentes. Ou seja  \n",
        "- os tipos de fraudes podem ser completamente diferente daqueles sugeridos na nossa hipotese inicial (site e-commerce com pagamento no cartao).\n",
        "  - Como nao temos conhecimento de qual o canal de compra, da forma de pagamento, fica dificil emitir outras hipoteses.\n",
        "- Pode ser que o **LDA** nao seja o metodo o mais adequado neste caso. Com os conhecimentos e a experiencia dos analistas de fraude da empresa, poderiamos talvez associar as descriçoes de compra a categorias de compra que os analistas mapearam.\n",
        "- Podemos tambem imaginar que essa coluna esteja com dados mocados e entao as descriçoes de compra nao correspondem as transaçoes efetuadas."
      ]
    },
    {
      "cell_type": "markdown",
      "metadata": {
        "id": "cVoJRAjreSE_"
      },
      "source": [
        "Nas proximas etapas, vamos desconsiderar essa variavel `i` de compra efetuada."
      ]
    },
    {
      "cell_type": "code",
      "metadata": {
        "id": "4gcYkdAXeUnu"
      },
      "source": [
        "df.drop(['i'], axis=1, inplace=True)"
      ],
      "execution_count": 73,
      "outputs": []
    },
    {
      "cell_type": "markdown",
      "metadata": {
        "id": "PrLUJMokd8G4"
      },
      "source": [
        "## Data de transaçao"
      ]
    },
    {
      "cell_type": "code",
      "metadata": {
        "id": "jflGI3cge7B_"
      },
      "source": [
        "df.loc[:, \"date\"] = df[\"fecha\"].str.split().apply(lambda x: x[0])\n",
        "df.loc[:, \"time\"] = df[\"fecha\"].str.split().apply(lambda x: x[1])"
      ],
      "execution_count": 74,
      "outputs": []
    },
    {
      "cell_type": "code",
      "metadata": {
        "colab": {
          "base_uri": "https://localhost:8080/"
        },
        "id": "Mhgtr6L8iUe1",
        "outputId": "b4173e9c-618a-4306-f401-2ccb02c023bb"
      },
      "source": [
        "import gc\n",
        "\n",
        "l = sorted(df[\"date\"].unique())\n",
        "print(l[:5])\n",
        "print(l[-5:])\n",
        "del l\n",
        "gc.collect()"
      ],
      "execution_count": 75,
      "outputs": [
        {
          "output_type": "stream",
          "name": "stdout",
          "text": [
            "['2020-03-08', '2020-03-09', '2020-03-10', '2020-03-11', '2020-03-12']\n",
            "['2020-04-17', '2020-04-18', '2020-04-19', '2020-04-20', '2020-04-21']\n"
          ]
        },
        {
          "output_type": "execute_result",
          "data": {
            "text/plain": [
              "55"
            ]
          },
          "metadata": {},
          "execution_count": 75
        }
      ]
    },
    {
      "cell_type": "markdown",
      "metadata": {
        "id": "TjFpmGhNijwR"
      },
      "source": [
        "Temos 2 meses de transaçoes: março e abril de 2020.  \n",
        "- Nao aconteceu nenhum evento especifico nesse intervalo que permitiria adicionar uma flag na base de treinamento. \n",
        "  - Estavamos no periodo de pandemia ja e a quantidade de transaçoes online ja estava alta.\n",
        "\n",
        "Porem podemos extrair outras informaçoes uteis como\n",
        "- **Inicio** e **fim do mes**\n",
        "  - Nesses periodos, o salario costuma cair na conta do usuario. Seria o momento ideal para fraudar com um cartao roubado por exemplo.\n",
        "- O **dia da semana**\n",
        "  - Os usuarios lambdas podem ter padroes de compra semanais. Mais tempo no fim de semana para comprar online por exemplo."
      ]
    },
    {
      "cell_type": "code",
      "metadata": {
        "id": "gxoFIYD-zuBy"
      },
      "source": [
        "import numpy as np\n",
        "\n",
        "bins = [-np.inf, 5, 25, np.inf]\n",
        "labels = [\"InicioDoMes\", \"MeioDoMes\", \"FimDoMes\"]"
      ],
      "execution_count": 76,
      "outputs": []
    },
    {
      "cell_type": "code",
      "metadata": {
        "id": "4rO0fTFpzd9O"
      },
      "source": [
        "df.loc[:, \"month_range\"] = pd.cut(\n",
        "    df[\"date\"].str.split('-').apply(lambda x: int(x[-1])),\n",
        "    bins=bins,\n",
        "    labels=labels\n",
        ")"
      ],
      "execution_count": 77,
      "outputs": []
    },
    {
      "cell_type": "code",
      "metadata": {
        "id": "4dJoHRStwMCc"
      },
      "source": [
        "import datetime\n",
        "\n",
        "map_weekday = {0: \"Monday\",\n",
        "               1: \"Tuesday\",\n",
        "               2: \"Wednesday\",\n",
        "               3: \"Thursday\",\n",
        "               4: \"Friday\",\n",
        "               5: \"Saturday\",\n",
        "               6: \"Sunday\"}\n",
        "\n",
        "df.loc[:, \"weekday\"] = df[\"date\"].str.split('-').apply(\n",
        "    lambda x: map_weekday[datetime.datetime(int(x[0]), int(x[1]), int(x[2])).weekday()]\n",
        "    )"
      ],
      "execution_count": 78,
      "outputs": []
    },
    {
      "cell_type": "markdown",
      "metadata": {
        "id": "cbLqx3jZ1YnU"
      },
      "source": [
        "A gente nao sabe se o horario da transaçao é do sistema ou cliente que efetuou a transaçao. E mais provavel que seja do sistema. Neste caso, o horario nem é sempre o horario local do cliente. Caso a maior parte dos clientes estejam no mesmo local, entao a distribuçao do horario consegue refletir alguma influencia sobre o comportamento do cliente. Por exemplo, os clientes provavelmente terao uma tendencia maior em comprar produtos fora do horario de trabalho."
      ]
    },
    {
      "cell_type": "code",
      "metadata": {
        "id": "bQLWGZb9rj90"
      },
      "source": [
        "df.loc[:, \"hour\"] = df[\"time\"].str.split(':').apply(lambda x: x[0])"
      ],
      "execution_count": 79,
      "outputs": []
    },
    {
      "cell_type": "markdown",
      "metadata": {
        "id": "rAgiVNuH5-uC"
      },
      "source": [
        "Podemos remover as variaveis que nao servirao nas proximas analises."
      ]
    },
    {
      "cell_type": "code",
      "metadata": {
        "id": "AI37gRwN6GN8"
      },
      "source": [
        "df.drop([\"fecha\", \"date\", \"time\"], axis=1, inplace=True)"
      ],
      "execution_count": 80,
      "outputs": []
    },
    {
      "cell_type": "markdown",
      "metadata": {
        "id": "KhKJwrF9cgYJ"
      },
      "source": [
        "## Agrupamentos"
      ]
    },
    {
      "cell_type": "code",
      "metadata": {
        "id": "gYlURqFTcp3W",
        "colab": {
          "base_uri": "https://localhost:8080/"
        },
        "outputId": "0abc2206-d3bb-4757-e3ba-20f38c71dffc"
      },
      "source": [
        "df['j'].drop_duplicates().shape"
      ],
      "execution_count": null,
      "outputs": [
        {
          "output_type": "execute_result",
          "data": {
            "text/plain": [
              "(8324,)"
            ]
          },
          "metadata": {},
          "execution_count": 10
        }
      ]
    },
    {
      "cell_type": "code",
      "metadata": {
        "id": "vqnpUaUbcv2y",
        "colab": {
          "base_uri": "https://localhost:8080/"
        },
        "outputId": "54750e41-5b38-4bf8-bf7d-a428be78a71d"
      },
      "source": [
        "d1 = df['j'].value_counts()\n",
        "d1.head()"
      ],
      "execution_count": null,
      "outputs": [
        {
          "output_type": "execute_result",
          "data": {
            "text/plain": [
              "cat_43b9c10    2331\n",
              "cat_d69bed9    1799\n",
              "cat_604df77    1784\n",
              "cat_6c4cfdc    1449\n",
              "cat_4249bd8    1191\n",
              "Name: j, dtype: int64"
            ]
          },
          "metadata": {},
          "execution_count": 11
        }
      ]
    },
    {
      "cell_type": "code",
      "metadata": {
        "id": "ZC4gh_zMct3E",
        "colab": {
          "base_uri": "https://localhost:8080/"
        },
        "outputId": "730c75cc-e08c-4ccc-c828-4b55977affec"
      },
      "source": [
        "d2 = df.loc[df[target_name] == 1, 'j'].value_counts()\n",
        "d2.head()"
      ],
      "execution_count": null,
      "outputs": [
        {
          "output_type": "execute_result",
          "data": {
            "text/plain": [
              "cat_43b9c10    380\n",
              "cat_d9753d4    115\n",
              "cat_4249bd8     98\n",
              "cat_8ef7164     81\n",
              "cat_6c4cfdc     74\n",
              "Name: j, dtype: int64"
            ]
          },
          "metadata": {},
          "execution_count": 15
        }
      ]
    },
    {
      "cell_type": "code",
      "metadata": {
        "id": "HGbv7E2scx6T",
        "colab": {
          "base_uri": "https://localhost:8080/"
        },
        "outputId": "d9b63d78-6eb5-49e8-b4f6-6e807733c95b"
      },
      "source": [
        "(d2 / d1).sort_values(ascending=False)[:100]"
      ],
      "execution_count": null,
      "outputs": [
        {
          "output_type": "execute_result",
          "data": {
            "text/plain": [
              "cat_bbb2c30    1.0\n",
              "cat_a27e09b    1.0\n",
              "cat_27c0dbd    1.0\n",
              "cat_2bbc5d1    1.0\n",
              "cat_6014c27    1.0\n",
              "              ... \n",
              "cat_ae56e6d    0.5\n",
              "cat_b3f6660    0.5\n",
              "cat_83ba5be    0.5\n",
              "cat_94029d4    0.5\n",
              "cat_bd508ab    0.5\n",
              "Name: j, Length: 100, dtype: float64"
            ]
          },
          "metadata": {},
          "execution_count": 16
        }
      ]
    },
    {
      "cell_type": "markdown",
      "metadata": {
        "id": "f4svjod8c2T_"
      },
      "source": [
        "A variavel de categoria `j` esta com demais valores *hashed* para poder ser considerada pertinente isolada na modelizaçao.  \n",
        "Ela pode representar o *hash* de um identificador da pessoa realizando a transaçao. Podemos pensar que daria para cruzar esses valores com as siglas de paises para ficarmos mais confortaveis com essa hipotese. Porem, nao temos nenhum conhecimento de quais saos as verificaçoes feitas na hora da transaçao para autenticar um usuario. Talvez para cada compra o usuario consegue entrar um pais diferente no formulario.  "
      ]
    },
    {
      "cell_type": "markdown",
      "metadata": {
        "id": "zsaTzRnVI_As"
      },
      "source": [
        "Uma pessoa que costuma fazer comprar de custo baixo e que de repente realiza uma compra muito cara pode parecer um comportamento duvidoso e mais sucetivel de ser associado a uma fraude.  \n",
        "Por isso, caso `j` for um identificador de usuario, e caso a variavel `monto` seja o montante da transaçao, entao vale muito a pena extrair novas informaçoes como:\n",
        "  - O **maximo do montante de uma transaçao** desse identificador nos ultimos 2 meses.\n",
        "  - A **media dos montantes das transaçoes** desse identificador nos ultimos 2 meses.\n",
        "  - A **quantidade de transaçoes** realizadas pelo esse identificados nos 2 ultimos meses. Pois mais uma pessoa realiza compras de custo baixo, mais confiança podemos ter na hipotese que uma compra repentina de um custo muito alto é uma fraude.   \n",
        "\n",
        "Caso `j` nao for um identificador de usuario, ou caso `monto` nao seja o montante da transaçao, entao provavelmente que essas novas informaçoes nao terao uma relaçao forte com o target e poderemos desconsidera-las mais pra frente.\n",
        "\n"
      ]
    },
    {
      "cell_type": "code",
      "metadata": {
        "colab": {
          "base_uri": "https://localhost:8080/",
          "height": 223
        },
        "id": "4giKKki0VRD4",
        "outputId": "45a90241-d1e1-4a87-a009-966ec92aa63b"
      },
      "source": [
        "df = df.merge(\n",
        "    df[['j', \"monto\"]].groupby('j').max().rename(columns={\"monto\":\"max_monto_by_j\"}),\n",
        "    on='j',\n",
        "    how=\"left\"\n",
        ")\n",
        "\n",
        "df = df.merge(\n",
        "    df[['j', \"monto\"]].groupby('j').mean().rename(columns={\"monto\":\"mean_monto_by_j\"}),\n",
        "    on='j',\n",
        "    how=\"left\"\n",
        ")\n",
        "\n",
        "df = df.merge(\n",
        "    df.groupby('j').size().rename(\"nb_transactions_by_j\"),\n",
        "    on='j',\n",
        "    how=\"left\"\n",
        ")\n",
        "\n",
        "df.head()"
      ],
      "execution_count": 81,
      "outputs": [
        {
          "output_type": "execute_result",
          "data": {
            "text/html": [
              "<div>\n",
              "<style scoped>\n",
              "    .dataframe tbody tr th:only-of-type {\n",
              "        vertical-align: middle;\n",
              "    }\n",
              "\n",
              "    .dataframe tbody tr th {\n",
              "        vertical-align: top;\n",
              "    }\n",
              "\n",
              "    .dataframe thead th {\n",
              "        text-align: right;\n",
              "    }\n",
              "</style>\n",
              "<table border=\"1\" class=\"dataframe\">\n",
              "  <thead>\n",
              "    <tr style=\"text-align: right;\">\n",
              "      <th></th>\n",
              "      <th>a</th>\n",
              "      <th>b</th>\n",
              "      <th>c</th>\n",
              "      <th>d</th>\n",
              "      <th>e</th>\n",
              "      <th>f</th>\n",
              "      <th>g</th>\n",
              "      <th>h</th>\n",
              "      <th>j</th>\n",
              "      <th>k</th>\n",
              "      <th>l</th>\n",
              "      <th>m</th>\n",
              "      <th>n</th>\n",
              "      <th>o</th>\n",
              "      <th>p</th>\n",
              "      <th>monto</th>\n",
              "      <th>score</th>\n",
              "      <th>fraude</th>\n",
              "      <th>month_range</th>\n",
              "      <th>weekday</th>\n",
              "      <th>hour</th>\n",
              "      <th>max_monto_by_j</th>\n",
              "      <th>mean_monto_by_j</th>\n",
              "      <th>nb_transactions_by_j</th>\n",
              "    </tr>\n",
              "  </thead>\n",
              "  <tbody>\n",
              "    <tr>\n",
              "      <th>0</th>\n",
              "      <td>4</td>\n",
              "      <td>0.7685</td>\n",
              "      <td>94436.24</td>\n",
              "      <td>20.0</td>\n",
              "      <td>0.444828</td>\n",
              "      <td>1.0</td>\n",
              "      <td>BR</td>\n",
              "      <td>5</td>\n",
              "      <td>cat_8d714cd</td>\n",
              "      <td>0.883598</td>\n",
              "      <td>240.0</td>\n",
              "      <td>102.0</td>\n",
              "      <td>1</td>\n",
              "      <td>NaN</td>\n",
              "      <td>N</td>\n",
              "      <td>5.64</td>\n",
              "      <td>66</td>\n",
              "      <td>0</td>\n",
              "      <td>FimDoMes</td>\n",
              "      <td>Friday</td>\n",
              "      <td>11</td>\n",
              "      <td>248.12</td>\n",
              "      <td>35.131894</td>\n",
              "      <td>602</td>\n",
              "    </tr>\n",
              "    <tr>\n",
              "      <th>1</th>\n",
              "      <td>4</td>\n",
              "      <td>0.7550</td>\n",
              "      <td>9258.50</td>\n",
              "      <td>1.0</td>\n",
              "      <td>0.000000</td>\n",
              "      <td>33.0</td>\n",
              "      <td>BR</td>\n",
              "      <td>0</td>\n",
              "      <td>cat_64b574b</td>\n",
              "      <td>0.376019</td>\n",
              "      <td>4008.0</td>\n",
              "      <td>0.0</td>\n",
              "      <td>1</td>\n",
              "      <td>Y</td>\n",
              "      <td>N</td>\n",
              "      <td>124.71</td>\n",
              "      <td>72</td>\n",
              "      <td>0</td>\n",
              "      <td>MeioDoMes</td>\n",
              "      <td>Wednesday</td>\n",
              "      <td>19</td>\n",
              "      <td>757.46</td>\n",
              "      <td>33.224759</td>\n",
              "      <td>187</td>\n",
              "    </tr>\n",
              "    <tr>\n",
              "      <th>2</th>\n",
              "      <td>4</td>\n",
              "      <td>0.7455</td>\n",
              "      <td>242549.09</td>\n",
              "      <td>3.0</td>\n",
              "      <td>0.000000</td>\n",
              "      <td>19.0</td>\n",
              "      <td>AR</td>\n",
              "      <td>23</td>\n",
              "      <td>cat_e9110c5</td>\n",
              "      <td>0.516368</td>\n",
              "      <td>1779.0</td>\n",
              "      <td>77.0</td>\n",
              "      <td>1</td>\n",
              "      <td>NaN</td>\n",
              "      <td>N</td>\n",
              "      <td>339.32</td>\n",
              "      <td>95</td>\n",
              "      <td>0</td>\n",
              "      <td>MeioDoMes</td>\n",
              "      <td>Wednesday</td>\n",
              "      <td>18</td>\n",
              "      <td>929.21</td>\n",
              "      <td>250.421304</td>\n",
              "      <td>69</td>\n",
              "    </tr>\n",
              "    <tr>\n",
              "      <th>3</th>\n",
              "      <td>4</td>\n",
              "      <td>0.7631</td>\n",
              "      <td>18923.90</td>\n",
              "      <td>50.0</td>\n",
              "      <td>0.482385</td>\n",
              "      <td>18.0</td>\n",
              "      <td>BR</td>\n",
              "      <td>23</td>\n",
              "      <td>cat_d06e653</td>\n",
              "      <td>0.154036</td>\n",
              "      <td>1704.0</td>\n",
              "      <td>1147.0</td>\n",
              "      <td>1</td>\n",
              "      <td>NaN</td>\n",
              "      <td>Y</td>\n",
              "      <td>3.54</td>\n",
              "      <td>2</td>\n",
              "      <td>0</td>\n",
              "      <td>MeioDoMes</td>\n",
              "      <td>Thursday</td>\n",
              "      <td>16</td>\n",
              "      <td>58.12</td>\n",
              "      <td>9.342903</td>\n",
              "      <td>31</td>\n",
              "    </tr>\n",
              "    <tr>\n",
              "      <th>4</th>\n",
              "      <td>2</td>\n",
              "      <td>0.7315</td>\n",
              "      <td>5728.68</td>\n",
              "      <td>15.0</td>\n",
              "      <td>0.000000</td>\n",
              "      <td>1.0</td>\n",
              "      <td>BR</td>\n",
              "      <td>2</td>\n",
              "      <td>cat_6c4cfdc</td>\n",
              "      <td>0.855798</td>\n",
              "      <td>1025.0</td>\n",
              "      <td>150.0</td>\n",
              "      <td>1</td>\n",
              "      <td>NaN</td>\n",
              "      <td>N</td>\n",
              "      <td>3.53</td>\n",
              "      <td>76</td>\n",
              "      <td>0</td>\n",
              "      <td>InicioDoMes</td>\n",
              "      <td>Thursday</td>\n",
              "      <td>10</td>\n",
              "      <td>254.36</td>\n",
              "      <td>14.462588</td>\n",
              "      <td>1449</td>\n",
              "    </tr>\n",
              "  </tbody>\n",
              "</table>\n",
              "</div>"
            ],
            "text/plain": [
              "   a       b          c     d         e     f   g   h            j         k  \\\n",
              "0  4  0.7685   94436.24  20.0  0.444828   1.0  BR   5  cat_8d714cd  0.883598   \n",
              "1  4  0.7550    9258.50   1.0  0.000000  33.0  BR   0  cat_64b574b  0.376019   \n",
              "2  4  0.7455  242549.09   3.0  0.000000  19.0  AR  23  cat_e9110c5  0.516368   \n",
              "3  4  0.7631   18923.90  50.0  0.482385  18.0  BR  23  cat_d06e653  0.154036   \n",
              "4  2  0.7315    5728.68  15.0  0.000000   1.0  BR   2  cat_6c4cfdc  0.855798   \n",
              "\n",
              "        l       m  n    o  p   monto  score  fraude  month_range    weekday  \\\n",
              "0   240.0   102.0  1  NaN  N    5.64     66       0     FimDoMes     Friday   \n",
              "1  4008.0     0.0  1    Y  N  124.71     72       0    MeioDoMes  Wednesday   \n",
              "2  1779.0    77.0  1  NaN  N  339.32     95       0    MeioDoMes  Wednesday   \n",
              "3  1704.0  1147.0  1  NaN  Y    3.54      2       0    MeioDoMes   Thursday   \n",
              "4  1025.0   150.0  1  NaN  N    3.53     76       0  InicioDoMes   Thursday   \n",
              "\n",
              "  hour  max_monto_by_j  mean_monto_by_j  nb_transactions_by_j  \n",
              "0   11          248.12        35.131894                   602  \n",
              "1   19          757.46        33.224759                   187  \n",
              "2   18          929.21       250.421304                    69  \n",
              "3   16           58.12         9.342903                    31  \n",
              "4   10          254.36        14.462588                  1449  "
            ]
          },
          "metadata": {},
          "execution_count": 81
        }
      ]
    },
    {
      "cell_type": "markdown",
      "metadata": {
        "id": "Bfn87Z1s31Dk"
      },
      "source": [
        "# Visualizar as variaveis"
      ]
    },
    {
      "cell_type": "code",
      "metadata": {
        "id": "2Rxk0zVp7_z6"
      },
      "source": [
        "import matplotlib.pyplot as plt\n",
        "import matplotlib.gridspec as gridspec\n",
        "import seaborn as sns\n",
        "\n",
        "def draw_histplots(df, gtype=\"hist\"):\n",
        "    # df last index must be target_name index\n",
        "    n = len(df.columns)\n",
        "    fig = plt.figure(constrained_layout=True, figsize=(20, 30))\n",
        "    gs = gridspec.GridSpec(int(n/3) + 1, 3, figure=fig)\n",
        "\n",
        "    # index n-1 is target_name\n",
        "    for i in range(n-1):\n",
        "        k = int(i / 3)\n",
        "        j = i % 3\n",
        "        col = df.columns[i]\n",
        "        ax = fig.add_subplot(gs[k, j])\n",
        "        ax.set_title(col)\n",
        "        if gtype == \"hist\":\n",
        "          sns.histplot(x=col, data=df, ax=ax, hue=target_name, bins=50)\n",
        "        else:\n",
        "          propension_by_col = df[[col, target_name]].groupby(col).mean()\n",
        "          ax.plot(propension_by_col, 'o', alpha=0.5)\n",
        "        for label in ax.get_xticklabels():\n",
        "            label.set_rotation(90)"
      ],
      "execution_count": 82,
      "outputs": []
    },
    {
      "cell_type": "code",
      "metadata": {
        "colab": {
          "base_uri": "https://localhost:8080/"
        },
        "id": "BzEABQnoEgOg",
        "outputId": "6f6a7d60-1187-4bb4-a103-5ad6cb91baab"
      },
      "source": [
        "to_drop = ['j']\n",
        "\n",
        "cols_toplot = list(df.columns)\n",
        "cols_toplot.remove(target_name)\n",
        "cols_toplot.append(target_name)\n",
        "cols_toplot = [v for v in cols_toplot if v not in to_drop]\n",
        "cols_toplot"
      ],
      "execution_count": 83,
      "outputs": [
        {
          "output_type": "execute_result",
          "data": {
            "text/plain": [
              "['a',\n",
              " 'b',\n",
              " 'c',\n",
              " 'd',\n",
              " 'e',\n",
              " 'f',\n",
              " 'g',\n",
              " 'h',\n",
              " 'k',\n",
              " 'l',\n",
              " 'm',\n",
              " 'n',\n",
              " 'o',\n",
              " 'p',\n",
              " 'monto',\n",
              " 'score',\n",
              " 'month_range',\n",
              " 'weekday',\n",
              " 'hour',\n",
              " 'max_monto_by_j',\n",
              " 'mean_monto_by_j',\n",
              " 'nb_transactions_by_j',\n",
              " 'fraude']"
            ]
          },
          "metadata": {},
          "execution_count": 83
        }
      ]
    },
    {
      "cell_type": "code",
      "metadata": {
        "colab": {
          "base_uri": "https://localhost:8080/",
          "height": 1000
        },
        "id": "VMXEAn5t8T26",
        "outputId": "a53e9d34-fe69-4677-e9f3-26dcfac9c12f"
      },
      "source": [
        "draw_histplots(df[cols_toplot])"
      ],
      "execution_count": 84,
      "outputs": [
        {
          "output_type": "display_data",
          "data": {
            "image/png": "[encoded data removed]",
            "text/plain": [
              "<Figure size 1440x2160 with 24 Axes>"
            ]
          },
          "metadata": {
            "needs_background": "light"
          }
        }
      ]
    },
    {
      "cell_type": "markdown",
      "metadata": {
        "id": "qg4IVkdyGZs4"
      },
      "source": [
        "E a fraçao de transaçoes fraudulentes por variavel:"
      ]
    },
    {
      "cell_type": "code",
      "metadata": {
        "colab": {
          "base_uri": "https://localhost:8080/",
          "height": 1000
        },
        "id": "bUo3ftzbCd-2",
        "outputId": "55fef342-0b20-402b-d6d2-6d62ec2ad99e"
      },
      "source": [
        "# mean of bin variable = fraction of fraudulent transaction\n",
        "draw_histplots(df[cols_toplot], gtype=\"scatter\")"
      ],
      "execution_count": 85,
      "outputs": [
        {
          "output_type": "stream",
          "name": "stderr",
          "text": [
            "/usr/local/lib/python3.7/dist-packages/matplotlib/axes/_base.py:348: FutureWarning: Support for multi-dimensional indexing (e.g. `obj[:, None]`) is deprecated and will be removed in a future version.  Convert to a numpy array before indexing instead.\n",
            "  x = x[:, np.newaxis]\n"
          ]
        },
        {
          "output_type": "display_data",
          "data": {
            "image/png": "[encoded data removed]",
            "text/plain": [
              "<Figure size 1440x2160 with 24 Axes>"
            ]
          },
          "metadata": {
            "needs_background": "light"
          }
        }
      ]
    },
    {
      "cell_type": "markdown",
      "metadata": {
        "id": "g1bLLsrK5zwX"
      },
      "source": [
        "- Caso a gente fosse utilizar um modelo de **regressao logistica**, entao poderiamos desconsiderar a variavel `k` pela qual a distribuiçao de fraude parece muita aleatoria. Ou seja, sozinha, a relaçao que ela tem com o target é inexistante. Porem um modelo baseado em arvore poderia eventualmente extrair uma interaçao interessante com outras variaveis.\n",
        "- Com um **modelo linear**, a gente tambem poderia adicionar a variavel `b` elevada ao quadrado para o algoritmo conseguir extrapolar a relaçao nao linear entre `b` e o target.\n",
        "- Podemos ver que as informaçoes extraidas do campo `fecha` mostram um relacionamento forte com o target.\n",
        "  - O inicio e o meio do **mes** sao mais propensos a sofrer com transaçoes fraudulentes.\n",
        "  - Sobre o dia da **semana**, reparamos um pico de fraudes na quinta, poucas fraudes na quarta, um ritmo de fraudes mais baixo no fim de semana.\n",
        "  - Temos muito mais fraudes no fim da noite e na madrugada com um pico as **2:00** da manha.\n",
        "    - Alem de tornar o tipo da variavel `hour` em *integer*, vamos adicionar uma flag binaria `dawn` valendo **1** entre **22:00** e **5:00** da manha e **0** senao para ajudar o modelo na tomada de decisao."
      ]
    },
    {
      "cell_type": "code",
      "metadata": {
        "colab": {
          "base_uri": "https://localhost:8080/"
        },
        "id": "0peLmey9wrCr",
        "outputId": "b7b5a61c-f58d-45a3-ce63-9fb255d03567"
      },
      "source": [
        "df['g'].unique()"
      ],
      "execution_count": null,
      "outputs": [
        {
          "output_type": "execute_result",
          "data": {
            "text/plain": [
              "array(['BR', 'AR', 'UY', 'US', 'GB', nan, 'SE', 'FR', 'MX', 'RU', 'CL',\n",
              "       'CO', 'AU', 'ES', 'IT', 'PT', 'AD', 'CA', 'GE', 'EC', 'DE', 'CR',\n",
              "       'PY', 'BE', 'KR', 'HN', 'NI', 'GR', 'CH', 'NZ', 'AE', 'IN', 'PR',\n",
              "       'BO', 'NL', 'CN', 'PE', 'TR', 'BS', 'PA', 'DO', 'EG', 'GH', 'PH',\n",
              "       'UA', 'FI', 'TW', 'NO', 'LB', 'IL', 'JP', 'ZA'], dtype=object)"
            ]
          },
          "metadata": {},
          "execution_count": 16
        }
      ]
    },
    {
      "cell_type": "code",
      "metadata": {
        "id": "oC9FtdmNxu-T"
      },
      "source": [
        "countries_df = pd.DataFrame()\n",
        "countries_df[\"nb_trans\"] = df['g'].value_counts()\n",
        "countries_df[\"nb_frauds\"] = df.loc[df[target_name] == 1, 'g'].value_counts()\n",
        "countries_df[\"%frauds\"] = countries_df[\"nb_frauds\"] / countries_df[\"nb_trans\"]\n",
        "countries_df.fillna(0, inplace=True)\n",
        "countries_df = countries_df[countries_df[\"nb_frauds\"] > 0]"
      ],
      "execution_count": null,
      "outputs": []
    },
    {
      "cell_type": "code",
      "metadata": {
        "colab": {
          "base_uri": "https://localhost:8080/",
          "height": 603
        },
        "id": "dUCWDYRz0ycG",
        "outputId": "6e7bcd2b-7bbc-4e01-a508-376cd644b35c"
      },
      "source": [
        "countries_df"
      ],
      "execution_count": null,
      "outputs": [
        {
          "output_type": "execute_result",
          "data": {
            "text/html": [
              "<div>\n",
              "<style scoped>\n",
              "    .dataframe tbody tr th:only-of-type {\n",
              "        vertical-align: middle;\n",
              "    }\n",
              "\n",
              "    .dataframe tbody tr th {\n",
              "        vertical-align: top;\n",
              "    }\n",
              "\n",
              "    .dataframe thead th {\n",
              "        text-align: right;\n",
              "    }\n",
              "</style>\n",
              "<table border=\"1\" class=\"dataframe\">\n",
              "  <thead>\n",
              "    <tr style=\"text-align: right;\">\n",
              "      <th></th>\n",
              "      <th>nb_trans</th>\n",
              "      <th>nb_frauds</th>\n",
              "      <th>%frauds</th>\n",
              "    </tr>\n",
              "  </thead>\n",
              "  <tbody>\n",
              "    <tr>\n",
              "      <th>BR</th>\n",
              "      <td>111628</td>\n",
              "      <td>6162.0</td>\n",
              "      <td>0.055201</td>\n",
              "    </tr>\n",
              "    <tr>\n",
              "      <th>AR</th>\n",
              "      <td>31964</td>\n",
              "      <td>1179.0</td>\n",
              "      <td>0.036885</td>\n",
              "    </tr>\n",
              "    <tr>\n",
              "      <th>UY</th>\n",
              "      <td>2967</td>\n",
              "      <td>29.0</td>\n",
              "      <td>0.009774</td>\n",
              "    </tr>\n",
              "    <tr>\n",
              "      <th>US</th>\n",
              "      <td>2273</td>\n",
              "      <td>70.0</td>\n",
              "      <td>0.030796</td>\n",
              "    </tr>\n",
              "    <tr>\n",
              "      <th>SE</th>\n",
              "      <td>358</td>\n",
              "      <td>15.0</td>\n",
              "      <td>0.041899</td>\n",
              "    </tr>\n",
              "    <tr>\n",
              "      <th>MX</th>\n",
              "      <td>236</td>\n",
              "      <td>3.0</td>\n",
              "      <td>0.012712</td>\n",
              "    </tr>\n",
              "    <tr>\n",
              "      <th>RU</th>\n",
              "      <td>73</td>\n",
              "      <td>6.0</td>\n",
              "      <td>0.082192</td>\n",
              "    </tr>\n",
              "    <tr>\n",
              "      <th>ES</th>\n",
              "      <td>69</td>\n",
              "      <td>5.0</td>\n",
              "      <td>0.072464</td>\n",
              "    </tr>\n",
              "    <tr>\n",
              "      <th>CO</th>\n",
              "      <td>64</td>\n",
              "      <td>1.0</td>\n",
              "      <td>0.015625</td>\n",
              "    </tr>\n",
              "    <tr>\n",
              "      <th>FR</th>\n",
              "      <td>18</td>\n",
              "      <td>3.0</td>\n",
              "      <td>0.166667</td>\n",
              "    </tr>\n",
              "    <tr>\n",
              "      <th>PT</th>\n",
              "      <td>13</td>\n",
              "      <td>1.0</td>\n",
              "      <td>0.076923</td>\n",
              "    </tr>\n",
              "    <tr>\n",
              "      <th>DE</th>\n",
              "      <td>9</td>\n",
              "      <td>3.0</td>\n",
              "      <td>0.333333</td>\n",
              "    </tr>\n",
              "    <tr>\n",
              "      <th>CL</th>\n",
              "      <td>9</td>\n",
              "      <td>1.0</td>\n",
              "      <td>0.111111</td>\n",
              "    </tr>\n",
              "    <tr>\n",
              "      <th>EC</th>\n",
              "      <td>4</td>\n",
              "      <td>2.0</td>\n",
              "      <td>0.500000</td>\n",
              "    </tr>\n",
              "    <tr>\n",
              "      <th>NZ</th>\n",
              "      <td>3</td>\n",
              "      <td>1.0</td>\n",
              "      <td>0.333333</td>\n",
              "    </tr>\n",
              "    <tr>\n",
              "      <th>NL</th>\n",
              "      <td>2</td>\n",
              "      <td>2.0</td>\n",
              "      <td>1.000000</td>\n",
              "    </tr>\n",
              "    <tr>\n",
              "      <th>FI</th>\n",
              "      <td>1</td>\n",
              "      <td>1.0</td>\n",
              "      <td>1.000000</td>\n",
              "    </tr>\n",
              "    <tr>\n",
              "      <th>KR</th>\n",
              "      <td>1</td>\n",
              "      <td>1.0</td>\n",
              "      <td>1.000000</td>\n",
              "    </tr>\n",
              "  </tbody>\n",
              "</table>\n",
              "</div>"
            ],
            "text/plain": [
              "    nb_trans  nb_frauds   %frauds\n",
              "BR    111628     6162.0  0.055201\n",
              "AR     31964     1179.0  0.036885\n",
              "UY      2967       29.0  0.009774\n",
              "US      2273       70.0  0.030796\n",
              "SE       358       15.0  0.041899\n",
              "MX       236        3.0  0.012712\n",
              "RU        73        6.0  0.082192\n",
              "ES        69        5.0  0.072464\n",
              "CO        64        1.0  0.015625\n",
              "FR        18        3.0  0.166667\n",
              "PT        13        1.0  0.076923\n",
              "DE         9        3.0  0.333333\n",
              "CL         9        1.0  0.111111\n",
              "EC         4        2.0  0.500000\n",
              "NZ         3        1.0  0.333333\n",
              "NL         2        2.0  1.000000\n",
              "FI         1        1.0  1.000000\n",
              "KR         1        1.0  1.000000"
            ]
          },
          "metadata": {},
          "execution_count": 28
        }
      ]
    },
    {
      "cell_type": "code",
      "metadata": {
        "colab": {
          "base_uri": "https://localhost:8080/",
          "height": 603
        },
        "id": "lAfJSVmb007l",
        "outputId": "6d0a82ec-5aee-4bbe-8233-87328dded42f"
      },
      "source": [
        "countries_df.sort_values(by=\"%frauds\", ascending=False)"
      ],
      "execution_count": null,
      "outputs": [
        {
          "output_type": "execute_result",
          "data": {
            "text/html": [
              "<div>\n",
              "<style scoped>\n",
              "    .dataframe tbody tr th:only-of-type {\n",
              "        vertical-align: middle;\n",
              "    }\n",
              "\n",
              "    .dataframe tbody tr th {\n",
              "        vertical-align: top;\n",
              "    }\n",
              "\n",
              "    .dataframe thead th {\n",
              "        text-align: right;\n",
              "    }\n",
              "</style>\n",
              "<table border=\"1\" class=\"dataframe\">\n",
              "  <thead>\n",
              "    <tr style=\"text-align: right;\">\n",
              "      <th></th>\n",
              "      <th>nb_trans</th>\n",
              "      <th>nb_frauds</th>\n",
              "      <th>%frauds</th>\n",
              "    </tr>\n",
              "  </thead>\n",
              "  <tbody>\n",
              "    <tr>\n",
              "      <th>KR</th>\n",
              "      <td>1</td>\n",
              "      <td>1.0</td>\n",
              "      <td>1.000000</td>\n",
              "    </tr>\n",
              "    <tr>\n",
              "      <th>FI</th>\n",
              "      <td>1</td>\n",
              "      <td>1.0</td>\n",
              "      <td>1.000000</td>\n",
              "    </tr>\n",
              "    <tr>\n",
              "      <th>NL</th>\n",
              "      <td>2</td>\n",
              "      <td>2.0</td>\n",
              "      <td>1.000000</td>\n",
              "    </tr>\n",
              "    <tr>\n",
              "      <th>EC</th>\n",
              "      <td>4</td>\n",
              "      <td>2.0</td>\n",
              "      <td>0.500000</td>\n",
              "    </tr>\n",
              "    <tr>\n",
              "      <th>DE</th>\n",
              "      <td>9</td>\n",
              "      <td>3.0</td>\n",
              "      <td>0.333333</td>\n",
              "    </tr>\n",
              "    <tr>\n",
              "      <th>NZ</th>\n",
              "      <td>3</td>\n",
              "      <td>1.0</td>\n",
              "      <td>0.333333</td>\n",
              "    </tr>\n",
              "    <tr>\n",
              "      <th>FR</th>\n",
              "      <td>18</td>\n",
              "      <td>3.0</td>\n",
              "      <td>0.166667</td>\n",
              "    </tr>\n",
              "    <tr>\n",
              "      <th>CL</th>\n",
              "      <td>9</td>\n",
              "      <td>1.0</td>\n",
              "      <td>0.111111</td>\n",
              "    </tr>\n",
              "    <tr>\n",
              "      <th>RU</th>\n",
              "      <td>73</td>\n",
              "      <td>6.0</td>\n",
              "      <td>0.082192</td>\n",
              "    </tr>\n",
              "    <tr>\n",
              "      <th>PT</th>\n",
              "      <td>13</td>\n",
              "      <td>1.0</td>\n",
              "      <td>0.076923</td>\n",
              "    </tr>\n",
              "    <tr>\n",
              "      <th>ES</th>\n",
              "      <td>69</td>\n",
              "      <td>5.0</td>\n",
              "      <td>0.072464</td>\n",
              "    </tr>\n",
              "    <tr>\n",
              "      <th>BR</th>\n",
              "      <td>111628</td>\n",
              "      <td>6162.0</td>\n",
              "      <td>0.055201</td>\n",
              "    </tr>\n",
              "    <tr>\n",
              "      <th>SE</th>\n",
              "      <td>358</td>\n",
              "      <td>15.0</td>\n",
              "      <td>0.041899</td>\n",
              "    </tr>\n",
              "    <tr>\n",
              "      <th>AR</th>\n",
              "      <td>31964</td>\n",
              "      <td>1179.0</td>\n",
              "      <td>0.036885</td>\n",
              "    </tr>\n",
              "    <tr>\n",
              "      <th>US</th>\n",
              "      <td>2273</td>\n",
              "      <td>70.0</td>\n",
              "      <td>0.030796</td>\n",
              "    </tr>\n",
              "    <tr>\n",
              "      <th>CO</th>\n",
              "      <td>64</td>\n",
              "      <td>1.0</td>\n",
              "      <td>0.015625</td>\n",
              "    </tr>\n",
              "    <tr>\n",
              "      <th>MX</th>\n",
              "      <td>236</td>\n",
              "      <td>3.0</td>\n",
              "      <td>0.012712</td>\n",
              "    </tr>\n",
              "    <tr>\n",
              "      <th>UY</th>\n",
              "      <td>2967</td>\n",
              "      <td>29.0</td>\n",
              "      <td>0.009774</td>\n",
              "    </tr>\n",
              "  </tbody>\n",
              "</table>\n",
              "</div>"
            ],
            "text/plain": [
              "    nb_trans  nb_frauds   %frauds\n",
              "KR         1        1.0  1.000000\n",
              "FI         1        1.0  1.000000\n",
              "NL         2        2.0  1.000000\n",
              "EC         4        2.0  0.500000\n",
              "DE         9        3.0  0.333333\n",
              "NZ         3        1.0  0.333333\n",
              "FR        18        3.0  0.166667\n",
              "CL         9        1.0  0.111111\n",
              "RU        73        6.0  0.082192\n",
              "PT        13        1.0  0.076923\n",
              "ES        69        5.0  0.072464\n",
              "BR    111628     6162.0  0.055201\n",
              "SE       358       15.0  0.041899\n",
              "AR     31964     1179.0  0.036885\n",
              "US      2273       70.0  0.030796\n",
              "CO        64        1.0  0.015625\n",
              "MX       236        3.0  0.012712\n",
              "UY      2967       29.0  0.009774"
            ]
          },
          "metadata": {},
          "execution_count": 30
        }
      ]
    },
    {
      "cell_type": "markdown",
      "metadata": {
        "id": "OiZx3bxX1Wu5"
      },
      "source": [
        "Percebemos que a taxa de fraude é muito alta para os paises seguintes:\n",
        "- **KR** - Corea do Sul\n",
        "- **FI** - Finlândia\n",
        "- **NL** - Holanda\n",
        "- **EC** - Equador\n",
        "- **DE** - Alemanha\n",
        "- **NZ** - New Zealand\n",
        "- **FR** - França\n",
        "- **CL** - Chile\n",
        "\n",
        "Bem poucas transaçoes tem um desses 8 paise como valor na variavel `g`. A maior parte das transaçoes vem do Brasil, da Argentina, da Uruguay, e dos Estados-Unidos.  \n",
        "Sabemos que o fraudador pode tentar se esconder atraves de uma **VPN**. Ninguém além do Provedor de **VPN** pode seguir sua atividade na Internet e ninguém vê seu endereço **IP** real. De fato, caso estivermos considerando que o canal de transaçoes é um site de e-commerce, por exemplo, podemos imaginar que as transaçoes desses 8 paises sao feitas pela **VPN** e sao entao bem mais sucetiveis de ser fraudulente. Pois nao precisa de uma **VPN** para entrar num site e realizar uma compra.  \n",
        "\n",
        "Para refletir a origem duvidosa da transaçao, vamos adicionar uma variavel `country_risk` de categoria com o dominio seguinte:\n",
        "- **Low** - para os paises Brasil, Argentina, Uruguay, e Estados-Unidos.\n",
        "- **High** - para os 8 paises os mais duvidosos.\n",
        "- **Medium** - se for um pais diferente desses 12 paises.  \n",
        "\n",
        "Mesmo se a nossa hipotese nao fosse valida, o risco de perder dinheiro nao é muito alto, sendo que o modelo vai discriminar paises com um numero muito mais baixo de transaçoes."
      ]
    },
    {
      "cell_type": "markdown",
      "metadata": {
        "id": "edyg55-2rQ_0"
      },
      "source": [
        "# Adiçao de novas variaveis"
      ]
    },
    {
      "cell_type": "markdown",
      "metadata": {
        "id": "mhEvRooetKHR"
      },
      "source": [
        "Depois da visualizaçao das nossas variaveis, decidimos adicionar a nova *feature* `dawn`:"
      ]
    },
    {
      "cell_type": "code",
      "metadata": {
        "id": "TEuiwXFWrcQ8"
      },
      "source": [
        "df.loc[:, \"hour\"] = df[\"hour\"].astype(int)\n",
        "df.loc[:, \"dawn\"] = df[\"hour\"].apply(lambda x: 1 if x <= 5 or x >= 22 else 0)"
      ],
      "execution_count": 86,
      "outputs": []
    },
    {
      "cell_type": "markdown",
      "metadata": {
        "id": "XdeK5OOj8HZv"
      },
      "source": [
        "e a nova feature `country_risk`:"
      ]
    },
    {
      "cell_type": "code",
      "metadata": {
        "colab": {
          "base_uri": "https://localhost:8080/",
          "height": 223
        },
        "id": "-Ur4zMr48ODq",
        "outputId": "9d939f33-f535-4fe3-cb31-b2b1ca6f6e95"
      },
      "source": [
        "low_country_risk = [\"BR\", \"AR\", \"UY\", \"US\"]\n",
        "high_country_risk = [\"KR\", \"FI\", \"NL\", \"EC\", \"DE\", \"NZ\", \"FR\", \"CL\"]\n",
        "\n",
        "def map_country_risk(x):\n",
        "  if x in low_country_risk:\n",
        "    return \"Low\"\n",
        "  if x in high_country_risk:\n",
        "    return \"High\"\n",
        "  return \"Medium\"\n",
        "\n",
        "df.loc[:, \"country_risk\"] = df['g'].apply(lambda x: map_country_risk(x))\n",
        "df.drop(['g'], axis=1, inplace=True)\n",
        "df.head()"
      ],
      "execution_count": 87,
      "outputs": [
        {
          "output_type": "execute_result",
          "data": {
            "text/html": [
              "<div>\n",
              "<style scoped>\n",
              "    .dataframe tbody tr th:only-of-type {\n",
              "        vertical-align: middle;\n",
              "    }\n",
              "\n",
              "    .dataframe tbody tr th {\n",
              "        vertical-align: top;\n",
              "    }\n",
              "\n",
              "    .dataframe thead th {\n",
              "        text-align: right;\n",
              "    }\n",
              "</style>\n",
              "<table border=\"1\" class=\"dataframe\">\n",
              "  <thead>\n",
              "    <tr style=\"text-align: right;\">\n",
              "      <th></th>\n",
              "      <th>a</th>\n",
              "      <th>b</th>\n",
              "      <th>c</th>\n",
              "      <th>d</th>\n",
              "      <th>e</th>\n",
              "      <th>f</th>\n",
              "      <th>h</th>\n",
              "      <th>j</th>\n",
              "      <th>k</th>\n",
              "      <th>l</th>\n",
              "      <th>m</th>\n",
              "      <th>n</th>\n",
              "      <th>o</th>\n",
              "      <th>p</th>\n",
              "      <th>monto</th>\n",
              "      <th>score</th>\n",
              "      <th>fraude</th>\n",
              "      <th>month_range</th>\n",
              "      <th>weekday</th>\n",
              "      <th>hour</th>\n",
              "      <th>max_monto_by_j</th>\n",
              "      <th>mean_monto_by_j</th>\n",
              "      <th>nb_transactions_by_j</th>\n",
              "      <th>dawn</th>\n",
              "      <th>country_risk</th>\n",
              "    </tr>\n",
              "  </thead>\n",
              "  <tbody>\n",
              "    <tr>\n",
              "      <th>0</th>\n",
              "      <td>4</td>\n",
              "      <td>0.7685</td>\n",
              "      <td>94436.24</td>\n",
              "      <td>20.0</td>\n",
              "      <td>0.444828</td>\n",
              "      <td>1.0</td>\n",
              "      <td>5</td>\n",
              "      <td>cat_8d714cd</td>\n",
              "      <td>0.883598</td>\n",
              "      <td>240.0</td>\n",
              "      <td>102.0</td>\n",
              "      <td>1</td>\n",
              "      <td>NaN</td>\n",
              "      <td>N</td>\n",
              "      <td>5.64</td>\n",
              "      <td>66</td>\n",
              "      <td>0</td>\n",
              "      <td>FimDoMes</td>\n",
              "      <td>Friday</td>\n",
              "      <td>11</td>\n",
              "      <td>248.12</td>\n",
              "      <td>35.131894</td>\n",
              "      <td>602</td>\n",
              "      <td>0</td>\n",
              "      <td>Low</td>\n",
              "    </tr>\n",
              "    <tr>\n",
              "      <th>1</th>\n",
              "      <td>4</td>\n",
              "      <td>0.7550</td>\n",
              "      <td>9258.50</td>\n",
              "      <td>1.0</td>\n",
              "      <td>0.000000</td>\n",
              "      <td>33.0</td>\n",
              "      <td>0</td>\n",
              "      <td>cat_64b574b</td>\n",
              "      <td>0.376019</td>\n",
              "      <td>4008.0</td>\n",
              "      <td>0.0</td>\n",
              "      <td>1</td>\n",
              "      <td>Y</td>\n",
              "      <td>N</td>\n",
              "      <td>124.71</td>\n",
              "      <td>72</td>\n",
              "      <td>0</td>\n",
              "      <td>MeioDoMes</td>\n",
              "      <td>Wednesday</td>\n",
              "      <td>19</td>\n",
              "      <td>757.46</td>\n",
              "      <td>33.224759</td>\n",
              "      <td>187</td>\n",
              "      <td>0</td>\n",
              "      <td>Low</td>\n",
              "    </tr>\n",
              "    <tr>\n",
              "      <th>2</th>\n",
              "      <td>4</td>\n",
              "      <td>0.7455</td>\n",
              "      <td>242549.09</td>\n",
              "      <td>3.0</td>\n",
              "      <td>0.000000</td>\n",
              "      <td>19.0</td>\n",
              "      <td>23</td>\n",
              "      <td>cat_e9110c5</td>\n",
              "      <td>0.516368</td>\n",
              "      <td>1779.0</td>\n",
              "      <td>77.0</td>\n",
              "      <td>1</td>\n",
              "      <td>NaN</td>\n",
              "      <td>N</td>\n",
              "      <td>339.32</td>\n",
              "      <td>95</td>\n",
              "      <td>0</td>\n",
              "      <td>MeioDoMes</td>\n",
              "      <td>Wednesday</td>\n",
              "      <td>18</td>\n",
              "      <td>929.21</td>\n",
              "      <td>250.421304</td>\n",
              "      <td>69</td>\n",
              "      <td>0</td>\n",
              "      <td>Low</td>\n",
              "    </tr>\n",
              "    <tr>\n",
              "      <th>3</th>\n",
              "      <td>4</td>\n",
              "      <td>0.7631</td>\n",
              "      <td>18923.90</td>\n",
              "      <td>50.0</td>\n",
              "      <td>0.482385</td>\n",
              "      <td>18.0</td>\n",
              "      <td>23</td>\n",
              "      <td>cat_d06e653</td>\n",
              "      <td>0.154036</td>\n",
              "      <td>1704.0</td>\n",
              "      <td>1147.0</td>\n",
              "      <td>1</td>\n",
              "      <td>NaN</td>\n",
              "      <td>Y</td>\n",
              "      <td>3.54</td>\n",
              "      <td>2</td>\n",
              "      <td>0</td>\n",
              "      <td>MeioDoMes</td>\n",
              "      <td>Thursday</td>\n",
              "      <td>16</td>\n",
              "      <td>58.12</td>\n",
              "      <td>9.342903</td>\n",
              "      <td>31</td>\n",
              "      <td>0</td>\n",
              "      <td>Low</td>\n",
              "    </tr>\n",
              "    <tr>\n",
              "      <th>4</th>\n",
              "      <td>2</td>\n",
              "      <td>0.7315</td>\n",
              "      <td>5728.68</td>\n",
              "      <td>15.0</td>\n",
              "      <td>0.000000</td>\n",
              "      <td>1.0</td>\n",
              "      <td>2</td>\n",
              "      <td>cat_6c4cfdc</td>\n",
              "      <td>0.855798</td>\n",
              "      <td>1025.0</td>\n",
              "      <td>150.0</td>\n",
              "      <td>1</td>\n",
              "      <td>NaN</td>\n",
              "      <td>N</td>\n",
              "      <td>3.53</td>\n",
              "      <td>76</td>\n",
              "      <td>0</td>\n",
              "      <td>InicioDoMes</td>\n",
              "      <td>Thursday</td>\n",
              "      <td>10</td>\n",
              "      <td>254.36</td>\n",
              "      <td>14.462588</td>\n",
              "      <td>1449</td>\n",
              "      <td>0</td>\n",
              "      <td>Low</td>\n",
              "    </tr>\n",
              "  </tbody>\n",
              "</table>\n",
              "</div>"
            ],
            "text/plain": [
              "   a       b          c     d         e     f   h            j         k  \\\n",
              "0  4  0.7685   94436.24  20.0  0.444828   1.0   5  cat_8d714cd  0.883598   \n",
              "1  4  0.7550    9258.50   1.0  0.000000  33.0   0  cat_64b574b  0.376019   \n",
              "2  4  0.7455  242549.09   3.0  0.000000  19.0  23  cat_e9110c5  0.516368   \n",
              "3  4  0.7631   18923.90  50.0  0.482385  18.0  23  cat_d06e653  0.154036   \n",
              "4  2  0.7315    5728.68  15.0  0.000000   1.0   2  cat_6c4cfdc  0.855798   \n",
              "\n",
              "        l       m  n    o  p   monto  score  fraude  month_range    weekday  \\\n",
              "0   240.0   102.0  1  NaN  N    5.64     66       0     FimDoMes     Friday   \n",
              "1  4008.0     0.0  1    Y  N  124.71     72       0    MeioDoMes  Wednesday   \n",
              "2  1779.0    77.0  1  NaN  N  339.32     95       0    MeioDoMes  Wednesday   \n",
              "3  1704.0  1147.0  1  NaN  Y    3.54      2       0    MeioDoMes   Thursday   \n",
              "4  1025.0   150.0  1  NaN  N    3.53     76       0  InicioDoMes   Thursday   \n",
              "\n",
              "   hour  max_monto_by_j  mean_monto_by_j  nb_transactions_by_j  dawn  \\\n",
              "0    11          248.12        35.131894                   602     0   \n",
              "1    19          757.46        33.224759                   187     0   \n",
              "2    18          929.21       250.421304                    69     0   \n",
              "3    16           58.12         9.342903                    31     0   \n",
              "4    10          254.36        14.462588                  1449     0   \n",
              "\n",
              "  country_risk  \n",
              "0          Low  \n",
              "1          Low  \n",
              "2          Low  \n",
              "3          Low  \n",
              "4          Low  "
            ]
          },
          "metadata": {},
          "execution_count": 87
        }
      ]
    },
    {
      "cell_type": "markdown",
      "metadata": {
        "id": "wKOTrdqyLO5S"
      },
      "source": [
        "# Limpeza dos dados"
      ]
    },
    {
      "cell_type": "markdown",
      "metadata": {
        "id": "gFtIRAo4Md8P"
      },
      "source": [
        "## Impute dos valores null"
      ]
    },
    {
      "cell_type": "code",
      "metadata": {
        "colab": {
          "base_uri": "https://localhost:8080/"
        },
        "id": "jOnJeqS8Mika",
        "outputId": "060b2a11-2a72-4334-83f3-2fc27f9d58c4"
      },
      "source": [
        "df.info()"
      ],
      "execution_count": 88,
      "outputs": [
        {
          "output_type": "stream",
          "name": "stdout",
          "text": [
            "<class 'pandas.core.frame.DataFrame'>\n",
            "Int64Index: 150000 entries, 0 to 149999\n",
            "Data columns (total 25 columns):\n",
            " #   Column                Non-Null Count   Dtype   \n",
            "---  ------                --------------   -----   \n",
            " 0   a                     150000 non-null  int64   \n",
            " 1   b                     137016 non-null  float64 \n",
            " 2   c                     137016 non-null  float64 \n",
            " 3   d                     149635 non-null  float64 \n",
            " 4   e                     150000 non-null  float64 \n",
            " 5   f                     149989 non-null  float64 \n",
            " 6   h                     150000 non-null  int64   \n",
            " 7   j                     150000 non-null  object  \n",
            " 8   k                     150000 non-null  float64 \n",
            " 9   l                     149989 non-null  float64 \n",
            " 10  m                     149635 non-null  float64 \n",
            " 11  n                     150000 non-null  int64   \n",
            " 12  o                     41143 non-null   object  \n",
            " 13  p                     150000 non-null  object  \n",
            " 14  monto                 150000 non-null  float64 \n",
            " 15  score                 150000 non-null  int64   \n",
            " 16  fraude                150000 non-null  int64   \n",
            " 17  month_range           150000 non-null  category\n",
            " 18  weekday               150000 non-null  object  \n",
            " 19  hour                  150000 non-null  int64   \n",
            " 20  max_monto_by_j        150000 non-null  float64 \n",
            " 21  mean_monto_by_j       150000 non-null  float64 \n",
            " 22  nb_transactions_by_j  150000 non-null  int64   \n",
            " 23  dawn                  150000 non-null  int64   \n",
            " 24  country_risk          150000 non-null  object  \n",
            "dtypes: category(1), float64(11), int64(8), object(5)\n",
            "memory usage: 28.8+ MB\n"
          ]
        }
      ]
    },
    {
      "cell_type": "markdown",
      "metadata": {
        "id": "Lxv8iwfnMrY8"
      },
      "source": [
        "A variavel `o` tem muitos valores null. Mas nao podemos desconsiderar ela por causa da forte relaçao que ela tem com o target.  \n",
        "Vamos imputar os valores null com o valor \"*Unknown*\"."
      ]
    },
    {
      "cell_type": "code",
      "metadata": {
        "id": "uddJ9QO3NTla"
      },
      "source": [
        "df.loc[:, \"o\"] = df[\"o\"].fillna(\"Unknown\")"
      ],
      "execution_count": 89,
      "outputs": []
    },
    {
      "cell_type": "code",
      "metadata": {
        "colab": {
          "base_uri": "https://localhost:8080/"
        },
        "id": "_MEQumOyOTPI",
        "outputId": "581e04a5-2a6f-41a9-9a08-04f5ac20fc9e"
      },
      "source": [
        "df[df[target_name] == 1].info()"
      ],
      "execution_count": 90,
      "outputs": [
        {
          "output_type": "stream",
          "name": "stdout",
          "text": [
            "<class 'pandas.core.frame.DataFrame'>\n",
            "Int64Index: 7500 entries, 16 to 149985\n",
            "Data columns (total 25 columns):\n",
            " #   Column                Non-Null Count  Dtype   \n",
            "---  ------                --------------  -----   \n",
            " 0   a                     7500 non-null   int64   \n",
            " 1   b                     6671 non-null   float64 \n",
            " 2   c                     6671 non-null   float64 \n",
            " 3   d                     7471 non-null   float64 \n",
            " 4   e                     7500 non-null   float64 \n",
            " 5   f                     7500 non-null   float64 \n",
            " 6   h                     7500 non-null   int64   \n",
            " 7   j                     7500 non-null   object  \n",
            " 8   k                     7500 non-null   float64 \n",
            " 9   l                     7500 non-null   float64 \n",
            " 10  m                     7471 non-null   float64 \n",
            " 11  n                     7500 non-null   int64   \n",
            " 12  o                     7500 non-null   object  \n",
            " 13  p                     7500 non-null   object  \n",
            " 14  monto                 7500 non-null   float64 \n",
            " 15  score                 7500 non-null   int64   \n",
            " 16  fraude                7500 non-null   int64   \n",
            " 17  month_range           7500 non-null   category\n",
            " 18  weekday               7500 non-null   object  \n",
            " 19  hour                  7500 non-null   int64   \n",
            " 20  max_monto_by_j        7500 non-null   float64 \n",
            " 21  mean_monto_by_j       7500 non-null   float64 \n",
            " 22  nb_transactions_by_j  7500 non-null   int64   \n",
            " 23  dawn                  7500 non-null   int64   \n",
            " 24  country_risk          7500 non-null   object  \n",
            "dtypes: category(1), float64(11), int64(8), object(5)\n",
            "memory usage: 1.4+ MB\n"
          ]
        }
      ]
    },
    {
      "cell_type": "markdown",
      "metadata": {
        "id": "un78_-RwOUwW"
      },
      "source": [
        "Entre as transaçoes fraudulentes, tem variaveis com valores null.  \n",
        "Ou seja, nao podemos considerar o **listwise deletion** para nao correr o risco de perder registros de fraudes, que estao em quantidade reduzida."
      ]
    },
    {
      "cell_type": "markdown",
      "metadata": {
        "id": "0HegsxxHPpbv"
      },
      "source": [
        "Vamos imputar os valores null da seguinte forma:\n",
        "- as variaveis de tipo *float* cujam nao temos a definiçao: imputamos pelo valor *mode*, robusto aos potenciais *outliers*.\n",
        "- So um valor de tipo string, `g`, esta com valores null. Essa coluna é provavelmente a sigla do pais da pessoa que fez a transaçao. Podemos tambem substituir os valores null pela sigla do pais o mais comum do *dataset*, o **Brasil**. "
      ]
    },
    {
      "cell_type": "code",
      "metadata": {
        "id": "f-NBQF5FSYZe"
      },
      "source": [
        "# we include n and p in case these columns have null values on new unseen data\n",
        "# they're variable with binary values, like o, so we cannot substitute with mode value\n",
        "no_impute = [old_res, target_name, 'n', 'o', 'p', \"month_range\", \"weekday\", \"hour\"]\n",
        "to_impute = [col for col in df.columns if col not in no_impute]"
      ],
      "execution_count": 91,
      "outputs": []
    },
    {
      "cell_type": "code",
      "metadata": {
        "id": "QbjuMpKWUy5q"
      },
      "source": [
        "d_modes = dict()\n",
        "d_modes['n'] = \"Unknown\"\n",
        "d_modes['o'] = \"Unknown\"\n",
        "d_modes['p'] = \"Unknown\"\n",
        "\n",
        "for col in to_impute:\n",
        "  d_modes[col] = df[col].mode()[0]"
      ],
      "execution_count": 92,
      "outputs": []
    },
    {
      "cell_type": "code",
      "metadata": {
        "colab": {
          "base_uri": "https://localhost:8080/"
        },
        "id": "u78GUN9mS4-T",
        "outputId": "2d226f49-d50c-425d-8d0a-51127760a78b"
      },
      "source": [
        "df.fillna(d_modes, inplace=True)\n",
        "df.info()"
      ],
      "execution_count": 93,
      "outputs": [
        {
          "output_type": "stream",
          "name": "stdout",
          "text": [
            "<class 'pandas.core.frame.DataFrame'>\n",
            "Int64Index: 150000 entries, 0 to 149999\n",
            "Data columns (total 25 columns):\n",
            " #   Column                Non-Null Count   Dtype   \n",
            "---  ------                --------------   -----   \n",
            " 0   a                     150000 non-null  int64   \n",
            " 1   b                     150000 non-null  float64 \n",
            " 2   c                     150000 non-null  float64 \n",
            " 3   d                     150000 non-null  float64 \n",
            " 4   e                     150000 non-null  float64 \n",
            " 5   f                     150000 non-null  float64 \n",
            " 6   h                     150000 non-null  int64   \n",
            " 7   j                     150000 non-null  object  \n",
            " 8   k                     150000 non-null  float64 \n",
            " 9   l                     150000 non-null  float64 \n",
            " 10  m                     150000 non-null  float64 \n",
            " 11  n                     150000 non-null  int64   \n",
            " 12  o                     150000 non-null  object  \n",
            " 13  p                     150000 non-null  object  \n",
            " 14  monto                 150000 non-null  float64 \n",
            " 15  score                 150000 non-null  int64   \n",
            " 16  fraude                150000 non-null  int64   \n",
            " 17  month_range           150000 non-null  category\n",
            " 18  weekday               150000 non-null  object  \n",
            " 19  hour                  150000 non-null  int64   \n",
            " 20  max_monto_by_j        150000 non-null  float64 \n",
            " 21  mean_monto_by_j       150000 non-null  float64 \n",
            " 22  nb_transactions_by_j  150000 non-null  int64   \n",
            " 23  dawn                  150000 non-null  int64   \n",
            " 24  country_risk          150000 non-null  object  \n",
            "dtypes: category(1), float64(11), int64(8), object(5)\n",
            "memory usage: 28.8+ MB\n"
          ]
        }
      ]
    },
    {
      "cell_type": "markdown",
      "metadata": {
        "id": "tAOxau6b0LB6"
      },
      "source": [
        "# Avaliaçao do algoritmo antigo"
      ]
    },
    {
      "cell_type": "markdown",
      "metadata": {
        "id": "S7yGWxH31Fm9"
      },
      "source": [
        "Nao temos como saber se o modelo antigo foi treinado com dados desse dataset. Por isso o resultado da avaliaçao pode ser enviesado.  \n",
        "Vamos avaliar o **poder discriminativo** do algoritmo usando a metrica **AUC**."
      ]
    },
    {
      "cell_type": "code",
      "metadata": {
        "colab": {
          "base_uri": "https://localhost:8080/"
        },
        "id": "vLt0-3Qxzo8s",
        "outputId": "bce07660-1a72-43cc-bc13-fa0d0fdbced4"
      },
      "source": [
        "from sklearn.metrics import roc_auc_score\n",
        "\n",
        "print(\"AUC on full dataset: \", \n",
        "      roc_auc_score(\n",
        "          df[\"fraude\"], \n",
        "          df[old_res] * 0.01))"
      ],
      "execution_count": null,
      "outputs": [
        {
          "output_type": "stream",
          "name": "stdout",
          "text": [
            "AUC on full dataset:  0.726275487251462\n"
          ]
        }
      ]
    },
    {
      "cell_type": "markdown",
      "metadata": {
        "id": "jmOIs6sNa_Tb"
      },
      "source": [
        "Esse resultado do modelo antigo servira de baseline nas nossas proximas analises."
      ]
    },
    {
      "cell_type": "markdown",
      "metadata": {
        "id": "ohthwnoDbFuh"
      },
      "source": [
        "# Modelagem"
      ]
    },
    {
      "cell_type": "markdown",
      "metadata": {
        "id": "C2nd_q4bpT-d"
      },
      "source": [
        "Concatenamos os nossos preprocessamentos na funçao `preprocess_pipeline`:"
      ]
    },
    {
      "cell_type": "code",
      "metadata": {
        "id": "74eSr1Q1isoz"
      },
      "source": [
        "import pandas as pd\n",
        "import numpy as np\n",
        "import datetime\n",
        "\n",
        "target_name = \"fraude\"\n",
        "old_res = \"score\"\n",
        "\n",
        "map_weekday = {0: \"Monday\",\n",
        "               1: \"Tuesday\",\n",
        "               2: \"Wednesday\",\n",
        "               3: \"Thursday\",\n",
        "               4: \"Friday\",\n",
        "               5: \"Saturday\",\n",
        "               6: \"Sunday\"}\n",
        "\n",
        "low_country_risk = [\"BR\", \"AR\", \"UY\", \"US\"]\n",
        "high_country_risk = [\"KR\", \"FI\", \"NL\", \"EC\", \"DE\", \"NZ\", \"FR\", \"CL\"]\n",
        "\n",
        "def map_country_risk(x):\n",
        "  if x in low_country_risk:\n",
        "    return \"Low\"\n",
        "  if x in high_country_risk:\n",
        "    return \"High\"\n",
        "  return \"Medium\"\n",
        "\n",
        "def preprocess_pipeline(df, aggr_lookup):\n",
        "\t# drop purchase descriptions\n",
        "\tdf.drop(['i'], axis=1, inplace=True)\n",
        "\n",
        "\t# date transformations\n",
        "\tdf.loc[:, \"date\"] = df[\"fecha\"].str.split().apply(lambda x: x[0])\n",
        "\tdf.loc[:, \"time\"] = df[\"fecha\"].str.split().apply(lambda x: x[1])\n",
        "\n",
        "\tbins = [-np.inf, 5, 25, np.inf]\n",
        "\tlabels = [\"InicioDoMes\", \"MeioDoMes\", \"FimDoMes\"]\n",
        "\tdf.loc[:, \"month_range\"] = pd.cut(\n",
        "\t\tdf[\"date\"].str.split('-').apply(lambda x: int(x[-1])),\n",
        "\t\tbins=bins,\n",
        "\t\tlabels=labels\n",
        "\t)\n",
        "\n",
        "\tdf.loc[:, \"weekday\"] = df[\"date\"].str.split('-').apply(\n",
        "\t\tlambda x: map_weekday[datetime.datetime(int(x[0]), int(x[1]), int(x[2])).weekday()]\n",
        "\t)\n",
        "\tdf.loc[:, \"hour\"] = df[\"time\"].str.split(':').apply(lambda x: x[0])\n",
        "\tdf.drop([\"fecha\", \"date\", \"time\"], axis=1, inplace=True)\n",
        "\n",
        "\t# aggregations\n",
        "\t# reset_index and set_index is to keep same index as input DataFrame\n",
        "\tdf = df.reset_index().merge(\n",
        "\t\tdf[['j', \"monto\"]].groupby('j').max().rename(columns={\"monto\":\"max_monto_by_j\"}),\n",
        "\t\ton='j',\n",
        "\t\thow=\"left\"\n",
        "\t).set_index('index')\n",
        "\n",
        "\tdf = df.reset_index().merge(\n",
        "\t\tdf[['j', \"monto\"]].groupby('j').mean().rename(columns={\"monto\":\"mean_monto_by_j\"}),\n",
        "\t\ton='j',\n",
        "\t\thow=\"left\"\n",
        "\t).set_index('index')\n",
        "\n",
        "\tdf = df.reset_index().merge(\n",
        "\t\tdf.groupby('j').size().rename(\"nb_transactions_by_j\"),\n",
        "\t\ton='j',\n",
        "\t\thow=\"left\"\n",
        "\t).set_index('index')\n",
        "\n",
        "\t# remove j identifier\n",
        "\tdf.drop('j', axis=1, inplace=True)\n",
        "\n",
        "\t# new feature dawn\n",
        "\tdf.loc[:, \"hour\"] = df[\"hour\"].astype(int)\n",
        "\tdf.loc[:, \"dawn\"] = df[\"hour\"].apply(lambda x: 1 if x <= 5 or x >= 22 else 0)\n",
        "\n",
        "\t# new feature country_risk\n",
        "\tdf.loc[:, \"country_risk\"] = df['g'].apply(lambda x: map_country_risk(x))\n",
        "\tdf.drop(['g'], axis=1, inplace=True)\n",
        "\n",
        "\t# imputing null values\n",
        "\tno_impute = [old_res, target_name, 'n', 'o', 'p', \"month_range\", \"weekday\", \"hour\"]\n",
        "\tto_impute = [col for col in df.columns if col not in no_impute]\n",
        "\n",
        "\td_modes = dict()\n",
        "\td_modes['n'] = \"Unknown\"\n",
        "\td_modes['o'] = \"Unknown\"\n",
        "\td_modes['p'] = \"Unknown\"\n",
        "\n",
        "\tfor col in to_impute:\n",
        "\t\td_modes[col] = df[col].mode()[0]\n",
        "\n",
        "\tdf.fillna(d_modes, inplace=True)\n",
        "\treturn df"
      ],
      "execution_count": 94,
      "outputs": []
    },
    {
      "cell_type": "code",
      "metadata": {
        "id": "XyT0rfQVkCa1"
      },
      "source": [
        "df = pd.read_csv('/content/drive/MyDrive/MELI/data/dados.csv', sep=',')\n",
        "y = df[target_name]\n",
        "X = df.drop([target_name, old_res], axis=1)"
      ],
      "execution_count": 95,
      "outputs": []
    },
    {
      "cell_type": "code",
      "metadata": {
        "id": "iXLaLXi4nMB0"
      },
      "source": [
        "from sklearn.model_selection import train_test_split\n",
        "\n",
        "X_train, X_test, y_train, y_test = train_test_split(\n",
        "    X, y, test_size=0.33, random_state=42)"
      ],
      "execution_count": 96,
      "outputs": []
    },
    {
      "cell_type": "code",
      "metadata": {
        "colab": {
          "base_uri": "https://localhost:8080/",
          "height": 254
        },
        "id": "3s31dxqxnIF4",
        "outputId": "51958ee6-ff16-4f02-9b02-bfdb376c21b8"
      },
      "source": [
        "aggr_lookup = X_train.groupby('j').size().rename(\"nb_transactions_by_j\")\n",
        "\n",
        "X_train = preprocess_pipeline(X_train.copy(), aggr_lookup)\n",
        "X_train.head()"
      ],
      "execution_count": 97,
      "outputs": [
        {
          "output_type": "execute_result",
          "data": {
            "text/html": [
              "<div>\n",
              "<style scoped>\n",
              "    .dataframe tbody tr th:only-of-type {\n",
              "        vertical-align: middle;\n",
              "    }\n",
              "\n",
              "    .dataframe tbody tr th {\n",
              "        vertical-align: top;\n",
              "    }\n",
              "\n",
              "    .dataframe thead th {\n",
              "        text-align: right;\n",
              "    }\n",
              "</style>\n",
              "<table border=\"1\" class=\"dataframe\">\n",
              "  <thead>\n",
              "    <tr style=\"text-align: right;\">\n",
              "      <th></th>\n",
              "      <th>a</th>\n",
              "      <th>b</th>\n",
              "      <th>c</th>\n",
              "      <th>d</th>\n",
              "      <th>e</th>\n",
              "      <th>f</th>\n",
              "      <th>h</th>\n",
              "      <th>k</th>\n",
              "      <th>l</th>\n",
              "      <th>m</th>\n",
              "      <th>n</th>\n",
              "      <th>o</th>\n",
              "      <th>p</th>\n",
              "      <th>monto</th>\n",
              "      <th>month_range</th>\n",
              "      <th>weekday</th>\n",
              "      <th>hour</th>\n",
              "      <th>max_monto_by_j</th>\n",
              "      <th>mean_monto_by_j</th>\n",
              "      <th>nb_transactions_by_j</th>\n",
              "      <th>dawn</th>\n",
              "      <th>country_risk</th>\n",
              "    </tr>\n",
              "    <tr>\n",
              "      <th>index</th>\n",
              "      <th></th>\n",
              "      <th></th>\n",
              "      <th></th>\n",
              "      <th></th>\n",
              "      <th></th>\n",
              "      <th></th>\n",
              "      <th></th>\n",
              "      <th></th>\n",
              "      <th></th>\n",
              "      <th></th>\n",
              "      <th></th>\n",
              "      <th></th>\n",
              "      <th></th>\n",
              "      <th></th>\n",
              "      <th></th>\n",
              "      <th></th>\n",
              "      <th></th>\n",
              "      <th></th>\n",
              "      <th></th>\n",
              "      <th></th>\n",
              "      <th></th>\n",
              "      <th></th>\n",
              "    </tr>\n",
              "  </thead>\n",
              "  <tbody>\n",
              "    <tr>\n",
              "      <th>87935</th>\n",
              "      <td>4</td>\n",
              "      <td>0.5669</td>\n",
              "      <td>17231.18</td>\n",
              "      <td>3.0</td>\n",
              "      <td>0.202365</td>\n",
              "      <td>0.0</td>\n",
              "      <td>0</td>\n",
              "      <td>0.648964</td>\n",
              "      <td>2562.0</td>\n",
              "      <td>36.0</td>\n",
              "      <td>1</td>\n",
              "      <td>Unknown</td>\n",
              "      <td>N</td>\n",
              "      <td>8.44</td>\n",
              "      <td>MeioDoMes</td>\n",
              "      <td>Wednesday</td>\n",
              "      <td>17</td>\n",
              "      <td>388.61</td>\n",
              "      <td>23.459940</td>\n",
              "      <td>504</td>\n",
              "      <td>0</td>\n",
              "      <td>Low</td>\n",
              "    </tr>\n",
              "    <tr>\n",
              "      <th>3892</th>\n",
              "      <td>4</td>\n",
              "      <td>1.0000</td>\n",
              "      <td>5589970.16</td>\n",
              "      <td>50.0</td>\n",
              "      <td>0.000000</td>\n",
              "      <td>101.0</td>\n",
              "      <td>0</td>\n",
              "      <td>0.874316</td>\n",
              "      <td>4892.0</td>\n",
              "      <td>993.0</td>\n",
              "      <td>1</td>\n",
              "      <td>Unknown</td>\n",
              "      <td>Y</td>\n",
              "      <td>36.59</td>\n",
              "      <td>MeioDoMes</td>\n",
              "      <td>Friday</td>\n",
              "      <td>17</td>\n",
              "      <td>92.68</td>\n",
              "      <td>34.333077</td>\n",
              "      <td>13</td>\n",
              "      <td>0</td>\n",
              "      <td>Low</td>\n",
              "    </tr>\n",
              "    <tr>\n",
              "      <th>41404</th>\n",
              "      <td>4</td>\n",
              "      <td>0.9019</td>\n",
              "      <td>4520525.44</td>\n",
              "      <td>31.0</td>\n",
              "      <td>0.000000</td>\n",
              "      <td>23.0</td>\n",
              "      <td>17</td>\n",
              "      <td>0.215172</td>\n",
              "      <td>704.0</td>\n",
              "      <td>290.0</td>\n",
              "      <td>1</td>\n",
              "      <td>Unknown</td>\n",
              "      <td>Y</td>\n",
              "      <td>114.19</td>\n",
              "      <td>InicioDoMes</td>\n",
              "      <td>Thursday</td>\n",
              "      <td>16</td>\n",
              "      <td>2174.06</td>\n",
              "      <td>253.423981</td>\n",
              "      <td>1570</td>\n",
              "      <td>0</td>\n",
              "      <td>Low</td>\n",
              "    </tr>\n",
              "    <tr>\n",
              "      <th>91124</th>\n",
              "      <td>4</td>\n",
              "      <td>0.8363</td>\n",
              "      <td>22234.24</td>\n",
              "      <td>1.0</td>\n",
              "      <td>0.617241</td>\n",
              "      <td>-1.0</td>\n",
              "      <td>22</td>\n",
              "      <td>0.399146</td>\n",
              "      <td>2362.0</td>\n",
              "      <td>171.0</td>\n",
              "      <td>1</td>\n",
              "      <td>Y</td>\n",
              "      <td>Y</td>\n",
              "      <td>5.53</td>\n",
              "      <td>MeioDoMes</td>\n",
              "      <td>Thursday</td>\n",
              "      <td>10</td>\n",
              "      <td>120.99</td>\n",
              "      <td>9.041930</td>\n",
              "      <td>627</td>\n",
              "      <td>0</td>\n",
              "      <td>Low</td>\n",
              "    </tr>\n",
              "    <tr>\n",
              "      <th>67372</th>\n",
              "      <td>4</td>\n",
              "      <td>0.7793</td>\n",
              "      <td>55084.77</td>\n",
              "      <td>2.0</td>\n",
              "      <td>0.000000</td>\n",
              "      <td>8.0</td>\n",
              "      <td>11</td>\n",
              "      <td>0.614409</td>\n",
              "      <td>1600.0</td>\n",
              "      <td>62.0</td>\n",
              "      <td>1</td>\n",
              "      <td>Unknown</td>\n",
              "      <td>N</td>\n",
              "      <td>124.35</td>\n",
              "      <td>MeioDoMes</td>\n",
              "      <td>Saturday</td>\n",
              "      <td>11</td>\n",
              "      <td>755.46</td>\n",
              "      <td>225.404815</td>\n",
              "      <td>27</td>\n",
              "      <td>0</td>\n",
              "      <td>Low</td>\n",
              "    </tr>\n",
              "  </tbody>\n",
              "</table>\n",
              "</div>"
            ],
            "text/plain": [
              "       a       b           c     d         e      f   h         k       l  \\\n",
              "index                                                                       \n",
              "87935  4  0.5669    17231.18   3.0  0.202365    0.0   0  0.648964  2562.0   \n",
              "3892   4  1.0000  5589970.16  50.0  0.000000  101.0   0  0.874316  4892.0   \n",
              "41404  4  0.9019  4520525.44  31.0  0.000000   23.0  17  0.215172   704.0   \n",
              "91124  4  0.8363    22234.24   1.0  0.617241   -1.0  22  0.399146  2362.0   \n",
              "67372  4  0.7793    55084.77   2.0  0.000000    8.0  11  0.614409  1600.0   \n",
              "\n",
              "           m  n        o  p   monto  month_range    weekday  hour  \\\n",
              "index                                                               \n",
              "87935   36.0  1  Unknown  N    8.44    MeioDoMes  Wednesday    17   \n",
              "3892   993.0  1  Unknown  Y   36.59    MeioDoMes     Friday    17   \n",
              "41404  290.0  1  Unknown  Y  114.19  InicioDoMes   Thursday    16   \n",
              "91124  171.0  1        Y  Y    5.53    MeioDoMes   Thursday    10   \n",
              "67372   62.0  1  Unknown  N  124.35    MeioDoMes   Saturday    11   \n",
              "\n",
              "       max_monto_by_j  mean_monto_by_j  nb_transactions_by_j  dawn  \\\n",
              "index                                                                \n",
              "87935          388.61        23.459940                   504     0   \n",
              "3892            92.68        34.333077                    13     0   \n",
              "41404         2174.06       253.423981                  1570     0   \n",
              "91124          120.99         9.041930                   627     0   \n",
              "67372          755.46       225.404815                    27     0   \n",
              "\n",
              "      country_risk  \n",
              "index               \n",
              "87935          Low  \n",
              "3892           Low  \n",
              "41404          Low  \n",
              "91124          Low  \n",
              "67372          Low  "
            ]
          },
          "metadata": {},
          "execution_count": 97
        }
      ]
    },
    {
      "cell_type": "code",
      "metadata": {
        "colab": {
          "base_uri": "https://localhost:8080/",
          "height": 254
        },
        "id": "mYFLh_2iZite",
        "outputId": "79b3d8ee-a4cb-45d7-e0e0-dfc07495ddf0"
      },
      "source": [
        "to_encode = ['o', 'p', 'month_range', 'weekday', 'country_risk']\n",
        "# drop_first=False for interpretation\n",
        "X_train_encoded = pd.get_dummies(data=X_train, columns=to_encode, drop_first=False)\n",
        "X_train_encoded.head()"
      ],
      "execution_count": 98,
      "outputs": [
        {
          "output_type": "execute_result",
          "data": {
            "text/html": [
              "<div>\n",
              "<style scoped>\n",
              "    .dataframe tbody tr th:only-of-type {\n",
              "        vertical-align: middle;\n",
              "    }\n",
              "\n",
              "    .dataframe tbody tr th {\n",
              "        vertical-align: top;\n",
              "    }\n",
              "\n",
              "    .dataframe thead th {\n",
              "        text-align: right;\n",
              "    }\n",
              "</style>\n",
              "<table border=\"1\" class=\"dataframe\">\n",
              "  <thead>\n",
              "    <tr style=\"text-align: right;\">\n",
              "      <th></th>\n",
              "      <th>a</th>\n",
              "      <th>b</th>\n",
              "      <th>c</th>\n",
              "      <th>d</th>\n",
              "      <th>e</th>\n",
              "      <th>f</th>\n",
              "      <th>h</th>\n",
              "      <th>k</th>\n",
              "      <th>l</th>\n",
              "      <th>m</th>\n",
              "      <th>n</th>\n",
              "      <th>monto</th>\n",
              "      <th>hour</th>\n",
              "      <th>max_monto_by_j</th>\n",
              "      <th>mean_monto_by_j</th>\n",
              "      <th>nb_transactions_by_j</th>\n",
              "      <th>dawn</th>\n",
              "      <th>o_N</th>\n",
              "      <th>o_Unknown</th>\n",
              "      <th>o_Y</th>\n",
              "      <th>p_N</th>\n",
              "      <th>p_Y</th>\n",
              "      <th>month_range_InicioDoMes</th>\n",
              "      <th>month_range_MeioDoMes</th>\n",
              "      <th>month_range_FimDoMes</th>\n",
              "      <th>weekday_Friday</th>\n",
              "      <th>weekday_Monday</th>\n",
              "      <th>weekday_Saturday</th>\n",
              "      <th>weekday_Sunday</th>\n",
              "      <th>weekday_Thursday</th>\n",
              "      <th>weekday_Tuesday</th>\n",
              "      <th>weekday_Wednesday</th>\n",
              "      <th>country_risk_High</th>\n",
              "      <th>country_risk_Low</th>\n",
              "      <th>country_risk_Medium</th>\n",
              "    </tr>\n",
              "    <tr>\n",
              "      <th>index</th>\n",
              "      <th></th>\n",
              "      <th></th>\n",
              "      <th></th>\n",
              "      <th></th>\n",
              "      <th></th>\n",
              "      <th></th>\n",
              "      <th></th>\n",
              "      <th></th>\n",
              "      <th></th>\n",
              "      <th></th>\n",
              "      <th></th>\n",
              "      <th></th>\n",
              "      <th></th>\n",
              "      <th></th>\n",
              "      <th></th>\n",
              "      <th></th>\n",
              "      <th></th>\n",
              "      <th></th>\n",
              "      <th></th>\n",
              "      <th></th>\n",
              "      <th></th>\n",
              "      <th></th>\n",
              "      <th></th>\n",
              "      <th></th>\n",
              "      <th></th>\n",
              "      <th></th>\n",
              "      <th></th>\n",
              "      <th></th>\n",
              "      <th></th>\n",
              "      <th></th>\n",
              "      <th></th>\n",
              "      <th></th>\n",
              "      <th></th>\n",
              "      <th></th>\n",
              "      <th></th>\n",
              "    </tr>\n",
              "  </thead>\n",
              "  <tbody>\n",
              "    <tr>\n",
              "      <th>87935</th>\n",
              "      <td>4</td>\n",
              "      <td>0.5669</td>\n",
              "      <td>17231.18</td>\n",
              "      <td>3.0</td>\n",
              "      <td>0.202365</td>\n",
              "      <td>0.0</td>\n",
              "      <td>0</td>\n",
              "      <td>0.648964</td>\n",
              "      <td>2562.0</td>\n",
              "      <td>36.0</td>\n",
              "      <td>1</td>\n",
              "      <td>8.44</td>\n",
              "      <td>17</td>\n",
              "      <td>388.61</td>\n",
              "      <td>23.459940</td>\n",
              "      <td>504</td>\n",
              "      <td>0</td>\n",
              "      <td>0</td>\n",
              "      <td>1</td>\n",
              "      <td>0</td>\n",
              "      <td>1</td>\n",
              "      <td>0</td>\n",
              "      <td>0</td>\n",
              "      <td>1</td>\n",
              "      <td>0</td>\n",
              "      <td>0</td>\n",
              "      <td>0</td>\n",
              "      <td>0</td>\n",
              "      <td>0</td>\n",
              "      <td>0</td>\n",
              "      <td>0</td>\n",
              "      <td>1</td>\n",
              "      <td>0</td>\n",
              "      <td>1</td>\n",
              "      <td>0</td>\n",
              "    </tr>\n",
              "    <tr>\n",
              "      <th>3892</th>\n",
              "      <td>4</td>\n",
              "      <td>1.0000</td>\n",
              "      <td>5589970.16</td>\n",
              "      <td>50.0</td>\n",
              "      <td>0.000000</td>\n",
              "      <td>101.0</td>\n",
              "      <td>0</td>\n",
              "      <td>0.874316</td>\n",
              "      <td>4892.0</td>\n",
              "      <td>993.0</td>\n",
              "      <td>1</td>\n",
              "      <td>36.59</td>\n",
              "      <td>17</td>\n",
              "      <td>92.68</td>\n",
              "      <td>34.333077</td>\n",
              "      <td>13</td>\n",
              "      <td>0</td>\n",
              "      <td>0</td>\n",
              "      <td>1</td>\n",
              "      <td>0</td>\n",
              "      <td>0</td>\n",
              "      <td>1</td>\n",
              "      <td>0</td>\n",
              "      <td>1</td>\n",
              "      <td>0</td>\n",
              "      <td>1</td>\n",
              "      <td>0</td>\n",
              "      <td>0</td>\n",
              "      <td>0</td>\n",
              "      <td>0</td>\n",
              "      <td>0</td>\n",
              "      <td>0</td>\n",
              "      <td>0</td>\n",
              "      <td>1</td>\n",
              "      <td>0</td>\n",
              "    </tr>\n",
              "    <tr>\n",
              "      <th>41404</th>\n",
              "      <td>4</td>\n",
              "      <td>0.9019</td>\n",
              "      <td>4520525.44</td>\n",
              "      <td>31.0</td>\n",
              "      <td>0.000000</td>\n",
              "      <td>23.0</td>\n",
              "      <td>17</td>\n",
              "      <td>0.215172</td>\n",
              "      <td>704.0</td>\n",
              "      <td>290.0</td>\n",
              "      <td>1</td>\n",
              "      <td>114.19</td>\n",
              "      <td>16</td>\n",
              "      <td>2174.06</td>\n",
              "      <td>253.423981</td>\n",
              "      <td>1570</td>\n",
              "      <td>0</td>\n",
              "      <td>0</td>\n",
              "      <td>1</td>\n",
              "      <td>0</td>\n",
              "      <td>0</td>\n",
              "      <td>1</td>\n",
              "      <td>1</td>\n",
              "      <td>0</td>\n",
              "      <td>0</td>\n",
              "      <td>0</td>\n",
              "      <td>0</td>\n",
              "      <td>0</td>\n",
              "      <td>0</td>\n",
              "      <td>1</td>\n",
              "      <td>0</td>\n",
              "      <td>0</td>\n",
              "      <td>0</td>\n",
              "      <td>1</td>\n",
              "      <td>0</td>\n",
              "    </tr>\n",
              "    <tr>\n",
              "      <th>91124</th>\n",
              "      <td>4</td>\n",
              "      <td>0.8363</td>\n",
              "      <td>22234.24</td>\n",
              "      <td>1.0</td>\n",
              "      <td>0.617241</td>\n",
              "      <td>-1.0</td>\n",
              "      <td>22</td>\n",
              "      <td>0.399146</td>\n",
              "      <td>2362.0</td>\n",
              "      <td>171.0</td>\n",
              "      <td>1</td>\n",
              "      <td>5.53</td>\n",
              "      <td>10</td>\n",
              "      <td>120.99</td>\n",
              "      <td>9.041930</td>\n",
              "      <td>627</td>\n",
              "      <td>0</td>\n",
              "      <td>0</td>\n",
              "      <td>0</td>\n",
              "      <td>1</td>\n",
              "      <td>0</td>\n",
              "      <td>1</td>\n",
              "      <td>0</td>\n",
              "      <td>1</td>\n",
              "      <td>0</td>\n",
              "      <td>0</td>\n",
              "      <td>0</td>\n",
              "      <td>0</td>\n",
              "      <td>0</td>\n",
              "      <td>1</td>\n",
              "      <td>0</td>\n",
              "      <td>0</td>\n",
              "      <td>0</td>\n",
              "      <td>1</td>\n",
              "      <td>0</td>\n",
              "    </tr>\n",
              "    <tr>\n",
              "      <th>67372</th>\n",
              "      <td>4</td>\n",
              "      <td>0.7793</td>\n",
              "      <td>55084.77</td>\n",
              "      <td>2.0</td>\n",
              "      <td>0.000000</td>\n",
              "      <td>8.0</td>\n",
              "      <td>11</td>\n",
              "      <td>0.614409</td>\n",
              "      <td>1600.0</td>\n",
              "      <td>62.0</td>\n",
              "      <td>1</td>\n",
              "      <td>124.35</td>\n",
              "      <td>11</td>\n",
              "      <td>755.46</td>\n",
              "      <td>225.404815</td>\n",
              "      <td>27</td>\n",
              "      <td>0</td>\n",
              "      <td>0</td>\n",
              "      <td>1</td>\n",
              "      <td>0</td>\n",
              "      <td>1</td>\n",
              "      <td>0</td>\n",
              "      <td>0</td>\n",
              "      <td>1</td>\n",
              "      <td>0</td>\n",
              "      <td>0</td>\n",
              "      <td>0</td>\n",
              "      <td>1</td>\n",
              "      <td>0</td>\n",
              "      <td>0</td>\n",
              "      <td>0</td>\n",
              "      <td>0</td>\n",
              "      <td>0</td>\n",
              "      <td>1</td>\n",
              "      <td>0</td>\n",
              "    </tr>\n",
              "  </tbody>\n",
              "</table>\n",
              "</div>"
            ],
            "text/plain": [
              "       a       b           c     d         e      f   h         k       l  \\\n",
              "index                                                                       \n",
              "87935  4  0.5669    17231.18   3.0  0.202365    0.0   0  0.648964  2562.0   \n",
              "3892   4  1.0000  5589970.16  50.0  0.000000  101.0   0  0.874316  4892.0   \n",
              "41404  4  0.9019  4520525.44  31.0  0.000000   23.0  17  0.215172   704.0   \n",
              "91124  4  0.8363    22234.24   1.0  0.617241   -1.0  22  0.399146  2362.0   \n",
              "67372  4  0.7793    55084.77   2.0  0.000000    8.0  11  0.614409  1600.0   \n",
              "\n",
              "           m  n   monto  hour  max_monto_by_j  mean_monto_by_j  \\\n",
              "index                                                            \n",
              "87935   36.0  1    8.44    17          388.61        23.459940   \n",
              "3892   993.0  1   36.59    17           92.68        34.333077   \n",
              "41404  290.0  1  114.19    16         2174.06       253.423981   \n",
              "91124  171.0  1    5.53    10          120.99         9.041930   \n",
              "67372   62.0  1  124.35    11          755.46       225.404815   \n",
              "\n",
              "       nb_transactions_by_j  dawn  o_N  o_Unknown  o_Y  p_N  p_Y  \\\n",
              "index                                                              \n",
              "87935                   504     0    0          1    0    1    0   \n",
              "3892                     13     0    0          1    0    0    1   \n",
              "41404                  1570     0    0          1    0    0    1   \n",
              "91124                   627     0    0          0    1    0    1   \n",
              "67372                    27     0    0          1    0    1    0   \n",
              "\n",
              "       month_range_InicioDoMes  month_range_MeioDoMes  month_range_FimDoMes  \\\n",
              "index                                                                         \n",
              "87935                        0                      1                     0   \n",
              "3892                         0                      1                     0   \n",
              "41404                        1                      0                     0   \n",
              "91124                        0                      1                     0   \n",
              "67372                        0                      1                     0   \n",
              "\n",
              "       weekday_Friday  weekday_Monday  weekday_Saturday  weekday_Sunday  \\\n",
              "index                                                                     \n",
              "87935               0               0                 0               0   \n",
              "3892                1               0                 0               0   \n",
              "41404               0               0                 0               0   \n",
              "91124               0               0                 0               0   \n",
              "67372               0               0                 1               0   \n",
              "\n",
              "       weekday_Thursday  weekday_Tuesday  weekday_Wednesday  \\\n",
              "index                                                         \n",
              "87935                 0                0                  1   \n",
              "3892                  0                0                  0   \n",
              "41404                 1                0                  0   \n",
              "91124                 1                0                  0   \n",
              "67372                 0                0                  0   \n",
              "\n",
              "       country_risk_High  country_risk_Low  country_risk_Medium  \n",
              "index                                                            \n",
              "87935                  0                 1                    0  \n",
              "3892                   0                 1                    0  \n",
              "41404                  0                 1                    0  \n",
              "91124                  0                 1                    0  \n",
              "67372                  0                 1                    0  "
            ]
          },
          "metadata": {},
          "execution_count": 98
        }
      ]
    },
    {
      "cell_type": "code",
      "metadata": {
        "id": "MG2Ztvzu_2nS"
      },
      "source": [
        "# same operations on test set\n",
        "X_test = preprocess_pipeline(X_test.copy(), aggr_lookup)\n",
        "\n",
        "# drop_first=False for interpretation\n",
        "X_test_encoded = pd.get_dummies(data=X_test, columns=to_encode, drop_first=False)"
      ],
      "execution_count": 99,
      "outputs": []
    },
    {
      "cell_type": "code",
      "metadata": {
        "id": "nx-DzOK4_om7"
      },
      "source": [
        "from sklearn.metrics import roc_auc_score\n",
        "\n",
        "def print_scores(y, predictions):\n",
        "    print(\"ROC AUC score:\", roc_auc_score(y, predictions))"
      ],
      "execution_count": 100,
      "outputs": []
    },
    {
      "cell_type": "markdown",
      "metadata": {
        "id": "Lu-zM2KVqpNu"
      },
      "source": [
        "Nao é um problema de inferencia. O nosso objetivo neste primeiro tempo é implementar um modelo com o maior poder preditivo possivel.  \n",
        "Usaremos modelos baseados em arvores por eles serem nao lineares, nao sensíveis aos outliers e a escala das variaveis."
      ]
    },
    {
      "cell_type": "markdown",
      "metadata": {
        "id": "e-ID3lPfuoq7"
      },
      "source": [
        "Alem disso \n",
        "- os modelos baseados em arvores permitem implementar a estratégia de **Sensitive Learning** com o parâmetro `class weight` da biblioteca `scikit-learn` para lidar com o **problema de balanceamento** das classes positivas e negativas.\n",
        "- Eles tambem implementam uma funcionalidade de seleçao de variaveis `embedded`:\n",
        "  - as variaveis sao naturalmente classificadas dependendo do quão bem elas melhoram a pureza do nó."
      ]
    },
    {
      "cell_type": "markdown",
      "metadata": {
        "id": "0oTMA68nxz6x"
      },
      "source": [
        "Neste primeiro tempo, usaremos o modelo de foresta aleatoria da biblioteca *scikit-learn* ajustando os pesos do algoritmos de 2 formas a partir do hiperparametro `class_weight`:\n",
        "- usando o valor `balanced`:\n",
        "  - usa os valores de `y` para ajustar automaticamente os pesos inversamente proporcionais às frequências da classe nos dados de entrada;\n",
        "- usando o valor `balanced_subsample`:\n",
        "  - o mesmo, exceto que os pesos são calculados novamente a cada iteração de crescimento de uma árvore na floresta aleatória."
      ]
    },
    {
      "cell_type": "code",
      "metadata": {
        "id": "8xupocno033v",
        "colab": {
          "base_uri": "https://localhost:8080/"
        },
        "outputId": "86a1ed47-33ca-4b9d-b9fe-4972831cfa60"
      },
      "source": [
        "from sklearn.ensemble import RandomForestClassifier\n",
        "\n",
        "rf = RandomForestClassifier(random_state=42, class_weight=\"balanced\", n_estimators=100, max_depth=6, n_jobs=-1)\n",
        "rf.fit(X_train_encoded, y_train)\n",
        "\n",
        "print(\"Test on training set\")\n",
        "print_scores(y_train, rf.predict_proba(X_train_encoded)[:,1])\n",
        "\n",
        "print(\"Test on test set\")\n",
        "print_scores(y_test, rf.predict_proba(X_test_encoded)[:,1])"
      ],
      "execution_count": 101,
      "outputs": [
        {
          "output_type": "stream",
          "name": "stdout",
          "text": [
            "Test on training set\n",
            "ROC AUC score: 0.8496837264878311\n",
            "Test on test set\n",
            "ROC AUC score: 0.837961521674941\n"
          ]
        }
      ]
    },
    {
      "cell_type": "code",
      "metadata": {
        "colab": {
          "base_uri": "https://localhost:8080/"
        },
        "id": "SFqQGODZzCI7",
        "outputId": "87794278-1934-47df-c2d8-67a8b2e2b7ee"
      },
      "source": [
        "rf = RandomForestClassifier(random_state=42, class_weight=\"balanced_subsample\", n_estimators=100, max_depth=6, n_jobs=-1)\n",
        "rf.fit(X_train_encoded, y_train)\n",
        "\n",
        "print(\"Test on training set\")\n",
        "print_scores(y_train, rf.predict_proba(X_train_encoded)[:,1])\n",
        "\n",
        "print(\"Test on test set\")\n",
        "print_scores(y_test, rf.predict_proba(X_test_encoded)[:,1])"
      ],
      "execution_count": 102,
      "outputs": [
        {
          "output_type": "stream",
          "name": "stdout",
          "text": [
            "Test on training set\n",
            "ROC AUC score: 0.8496387736220157\n",
            "Test on test set\n",
            "ROC AUC score: 0.8379728074336218\n"
          ]
        }
      ]
    },
    {
      "cell_type": "code",
      "metadata": {
        "colab": {
          "base_uri": "https://localhost:8080/",
          "height": 265
        },
        "id": "22kSyuHuAU3J",
        "outputId": "01cec70b-3611-41ba-a519-760caea75aa0"
      },
      "source": [
        "import matplotlib.pyplot as plt\n",
        "\n",
        "# plot most important variables\n",
        "feat_importances = pd.Series(\n",
        "    rf.feature_importances_, \n",
        "    index=X_train_encoded.columns)\n",
        "feat_importances.nlargest(25).plot(kind='barh')\n",
        "plt.show()"
      ],
      "execution_count": 103,
      "outputs": [
        {
          "output_type": "display_data",
          "data": {
            "image/png": "[encoded data removed]",
            "text/plain": [
              "<Figure size 432x288 with 1 Axes>"
            ]
          },
          "metadata": {
            "needs_background": "light"
          }
        }
      ]
    },
    {
      "cell_type": "markdown",
      "metadata": {
        "id": "1KpvFfpu0vTT"
      },
      "source": [
        "- As variaveis fornecidas, `o`, `f`, `l`, `n`, `m`, `p`, etc ja ajudam bastante na reduçao da impureza nos *splits* dos arvores. \n",
        "- De fato, as informaçoes que extraimos e as variaveis que adicionamos nao aparecem como as mais importantes.\n",
        "- Mas mesmo assim, é importante ter essas novas variaveis como recurso para utilizar, caso a gente nao tenha as principais variaveis disponiveis na hora da prediçao."
      ]
    },
    {
      "cell_type": "markdown",
      "metadata": {
        "id": "NsIis2kP7f8Y"
      },
      "source": [
        "Testamos aqui com o modelo de **gradient boost**.  \n",
        "Esse modelo utiliza arvores. A cada iteração, o novo preditor recebe como input os erros residuais dos resultados do preditor anterior.  \n",
        "Vamos utilizar uma versão melhorada do **gradient boost**: `XGBoost`, mais regularizada, a fim de minimizar o overfit."
      ]
    },
    {
      "cell_type": "code",
      "metadata": {
        "id": "xhKlnHBfHV5l",
        "colab": {
          "base_uri": "https://localhost:8080/"
        },
        "outputId": "e1ad8ebb-f161-49f0-e961-9d2b5a763dab"
      },
      "source": [
        "from xgboost import XGBClassifier\n",
        "\n",
        "clf = XGBClassifier(scale_pos_weight=80)\n",
        "clf.fit(X_train_encoded, y_train)\n",
        "\n",
        "print(\"Test on training set\")\n",
        "print_scores(y_train, clf.predict_proba(X_train_encoded)[:,1])\n",
        "\n",
        "print(\"Test on test set\")\n",
        "print_scores(y_test, clf.predict_proba(X_test_encoded)[:,1])"
      ],
      "execution_count": 104,
      "outputs": [
        {
          "output_type": "stream",
          "name": "stdout",
          "text": [
            "Test on training set\n",
            "ROC AUC score: 0.8602622955052757\n",
            "Test on test set\n",
            "ROC AUC score: 0.8435244021173495\n"
          ]
        }
      ]
    },
    {
      "cell_type": "markdown",
      "metadata": {
        "id": "qtnxqjVX7vDl"
      },
      "source": [
        "Conseguimos um melhor resultado no set de teste.  \n",
        "Vamos utilizar a **validaçao cruzada** para reforçar a nossa hipotese que o `XGBoost` tem um maior poder de discriminaçao que as 2 outras configuraçoes de modelo. "
      ]
    },
    {
      "cell_type": "code",
      "metadata": {
        "id": "ViUgNN6h3eC5"
      },
      "source": [
        "models = []\n",
        "models.append(('RF balanced', RandomForestClassifier(random_state=42, class_weight=\"balanced\", n_estimators=100, max_depth=6, n_jobs=-1)))\n",
        "models.append(('RF balanced_subsample', RandomForestClassifier(random_state=42, class_weight=\"balanced_subsample\", n_estimators=100, max_depth=6, n_jobs=-1)))\n",
        "models.append(('XGB scale_pos_weight 80', XGBClassifier(scale_pos_weight=80, n_jobs=-1)))\n"
      ],
      "execution_count": 105,
      "outputs": []
    },
    {
      "cell_type": "code",
      "metadata": {
        "colab": {
          "base_uri": "https://localhost:8080/"
        },
        "id": "X8uib8h820Km",
        "outputId": "6a4f89f9-cd90-4947-fc67-40abad0c9aa2"
      },
      "source": [
        "from sklearn.model_selection import KFold, cross_val_score\n",
        "\n",
        "num_folds = 10\n",
        "scoring = 'roc_auc'\n",
        "seed = 42\n",
        "\n",
        "results = []\n",
        "names = []\n",
        "for name, model in models:\n",
        "    kfold = KFold(n_splits=num_folds, shuffle=True, random_state=seed)\n",
        "    cv_results = cross_val_score(model, X_train_encoded, y_train, cv=kfold, \\\n",
        "      scoring=scoring)\n",
        "    results.append(cv_results)\n",
        "    names.append(name)\n",
        "    msg = \"%s: %f (%f)\" % (name, cv_results.mean(), cv_results.std())\n",
        "    print(msg)"
      ],
      "execution_count": 106,
      "outputs": [
        {
          "output_type": "stream",
          "name": "stdout",
          "text": [
            "RF balanced: 0.837993 (0.010582)\n",
            "RF balanced_subsample: 0.837995 (0.010639)\n",
            "XGB scale_pos_weight 80: 0.842971 (0.010844)\n"
          ]
        }
      ]
    },
    {
      "cell_type": "code",
      "metadata": {
        "colab": {
          "base_uri": "https://localhost:8080/",
          "height": 295
        },
        "id": "SWS9AGlO47Jw",
        "outputId": "8d20ac39-d69c-469d-8fa7-578902077da0"
      },
      "source": [
        "# compare algorithms\n",
        "fig = plt.figure()\n",
        "fig.suptitle('ROC AUC - Algorithm Comparison')\n",
        "ax = fig.add_subplot(111)\n",
        "plt.boxplot(results)\n",
        "ax.set_xticklabels(names)\n",
        "fig.set_size_inches(8,4)\n",
        "plt.show()"
      ],
      "execution_count": 107,
      "outputs": [
        {
          "output_type": "display_data",
          "data": {
            "image/png": "[encoded data removed]",
            "text/plain": [
              "<Figure size 576x288 with 1 Axes>"
            ]
          },
          "metadata": {
            "needs_background": "light"
          }
        }
      ]
    },
    {
      "cell_type": "code",
      "metadata": {
        "colab": {
          "base_uri": "https://localhost:8080/",
          "height": 265
        },
        "id": "tW9PZnrg4pUD",
        "outputId": "ea8455e2-c426-4851-a103-a0d2c1ea4125"
      },
      "source": [
        "# plot most important variables\n",
        "feat_importances = pd.Series(\n",
        "    clf.feature_importances_, \n",
        "    index=X_train_encoded.columns)\n",
        "feat_importances.nlargest(25).plot(kind='barh')\n",
        "plt.show()"
      ],
      "execution_count": 108,
      "outputs": [
        {
          "output_type": "display_data",
          "data": {
            "image/png": "[encoded data removed]",
            "text/plain": [
              "<Figure size 432x288 with 1 Axes>"
            ]
          },
          "metadata": {
            "needs_background": "light"
          }
        }
      ]
    },
    {
      "cell_type": "markdown",
      "metadata": {
        "id": "LLR5NL129KGj"
      },
      "source": [
        "O `XGBoost` conseguiu tirar vantagem de mais variaveis *engineered* nas etapas anteriores: `dawn`, `hour`, `month_range`, etc."
      ]
    },
    {
      "cell_type": "markdown",
      "metadata": {
        "id": "wbk-RltB-AuG"
      },
      "source": [
        "Conseguimos um novo modelo com bem mais poder discriminativo que o modelo antigo (**AUC** de 0.73 no dataset inteiro)."
      ]
    },
    {
      "cell_type": "markdown",
      "metadata": {
        "id": "8U7c6ZL5eYRP"
      },
      "source": [
        "**Obs.**: Uma proxima étapa deveria ser a otimizaçao dos hiperparametros utilizando a biblioteca `hyperopt` (otimizaçao baiesiana), por exemplo. Mas eu vou pular essa etapa para nao ter que esperar 2 horas. O ganho tambem nao costuma ser tao significativo."
      ]
    },
    {
      "cell_type": "markdown",
      "metadata": {
        "id": "ubCoc34o-j7H"
      },
      "source": [
        "# Questoes do case"
      ]
    },
    {
      "cell_type": "markdown",
      "metadata": {
        "id": "-KTrO-SA-n-S"
      },
      "source": [
        "## 1 e 2"
      ]
    },
    {
      "cell_type": "markdown",
      "metadata": {
        "id": "3JJLkux6-ts-"
      },
      "source": [
        "ja respondidas."
      ]
    },
    {
      "cell_type": "markdown",
      "metadata": {
        "id": "7vZERlE4-vao"
      },
      "source": [
        "## 3."
      ]
    },
    {
      "cell_type": "markdown",
      "metadata": {
        "id": "vkJiBEa8-6ku"
      },
      "source": [
        "**Como você pode garantir que o desempenho do modelo no laboratório vai ser um proxy para o desempenho do modelo em produção?**"
      ]
    },
    {
      "cell_type": "markdown",
      "metadata": {
        "id": "OxvM8JpB_Tul"
      },
      "source": [
        "- Avaliar o modelo no set de teste\n",
        "  - sao dados que o modelo nao utilizou na fase de treinamento/validaçao. Ou seja, ja da mais confiança na capacidade de generalizaçao do modelo.\n",
        "- Porem isso nao resolve o problema. O ideal é de monitorar o mais rapido possivel o novo modelo em produçao em amostras representativas da populaçao para diminuir o risco de afetar negativamente os clientes e a empresa.\n",
        "  - Em paralelo, deixamos o modelo antigo executando e monitoramos tambem as performancias dele. So a partir do momento que temos a confiança necessaria que o novo modelo ultrapassa o modelo antigo, que podemos atualizar o modelo em produçao."
      ]
    },
    {
      "cell_type": "markdown",
      "metadata": {
        "id": "4BOE5H_ICxUk"
      },
      "source": [
        "## 4."
      ]
    },
    {
      "cell_type": "markdown",
      "metadata": {
        "id": "Yitfk9y8CzFE"
      },
      "source": [
        "**Supondo que o desempenho produtivo seja muito diferente do esperado,\n",
        "quais você acha que são as causas mais prováveis?**"
      ]
    },
    {
      "cell_type": "markdown",
      "metadata": {
        "id": "VAlRPwAzC-de"
      },
      "source": [
        "- Os dados do treinamento podem ser desatualizadas;\n",
        "  - neste caso, teriamos que solicitar dados mais atualizados pro time de ingestao.\n",
        "- Algumas das variaveis do set de treinamento podem ter causado *data leakage*;\n",
        "  - Como nao temos a dicionarizaçao das variaveis, é dificil saber se esses dados nao capturaram alguma informaçao pos prediçao, por exemplo.\n",
        "    - Caso nao for possivel obter essa dicionarizaçao, podemos tentar remover as variaveis de maior importancia na fase de treinamento e testar nos dados produtivos mais recente se isso melhora ou nao a performancia.\n",
        "- Alem dessas causas mais provaveis, podemos investigar outras hipoteses, como:\n",
        "  - aconteceu algum problema tecnico no pipeline de engenheira de dados recentemente?\n",
        "  - Como foi feita a labelizaçao do set de treinamento? Como os analistas identificam uma fraude exatamente? Esse metodo de identificaçao da fraude é confiavel? Etc."
      ]
    },
    {
      "cell_type": "markdown",
      "metadata": {
        "id": "un0xXLUQGrUY"
      },
      "source": [
        "## 5."
      ]
    },
    {
      "cell_type": "markdown",
      "metadata": {
        "id": "r-45ve_9GtL6"
      },
      "source": [
        "**Com a informação adicional de que uma fraude custa 10 vezes mais para a\n",
        "empresa do que o bloqueio incorreto de um pagamento, o que você faria de diferente?**"
      ]
    },
    {
      "cell_type": "markdown",
      "metadata": {
        "id": "sRJ9zoTUG8IR"
      },
      "source": [
        "$custo(FN) = 10 \\times custo(FP)$"
      ]
    },
    {
      "cell_type": "markdown",
      "metadata": {
        "id": "upWUQNjZU41L"
      },
      "source": [
        "Temos que calibrar o modelo para minimizar o custo final."
      ]
    },
    {
      "cell_type": "markdown",
      "metadata": {
        "id": "7NlDz8pOU7f9"
      },
      "source": [
        "## 6."
      ]
    },
    {
      "cell_type": "markdown",
      "metadata": {
        "id": "asp9i8F8U_Jg"
      },
      "source": [
        "**Queremos encontrar o ponto de corte ideal para o modelo já treinado\n",
        "apresentado na parte (Score, onde 0 (zero) é o risco mais baixo e 100 (cem) o\n",
        "mais alto).**   \n",
        "- **Sabemos que MELI ganha 10% do valor de um pagamento aprovado corretamente \n",
        "e a cada fraude aprovada perdemos 100% do valor do pagamento.** \n",
        "\n",
        "**Defina o ponto de corte que maximize os lucros do MELI, de forma que todos os pagamentos com menor Score sejam aprovados e os maiores sejam rejeitados.**"
      ]
    },
    {
      "cell_type": "markdown",
      "metadata": {
        "id": "szMGKUxIHT70"
      },
      "source": [
        "Vamos supor o seguinte:\n",
        "- Valor medio da transaçao: $V = 500$ reais\n",
        "- A MELI ganha uma taxa de **0.10** em cada pagamento aprovado.\n",
        "- **TN** - cada **verdadeiro negativo** faz ganhar $V \\times 0.10$\n",
        "- **TP** - podemos imaginar que nao tem custo operacional, ja que o bloqueio da transaçao é automatizado. Entao cada **verdadeiro positivo** salva o custo de uma fraude.\n",
        "- **FP** - **falso positivo** (perdemos $V \\times 0.10$, o dinheiro que poderiamos ter ganhado com a taixa na transaçao).\n",
        "- **FN** - cada **falso negativo** faz perder $9 \\times V \\times 0.10 = 0.9 \\times V$ (e perdemos tambem $V \\times 0.10$, o dinheiro que poderiamos ter ganhado com a taixa na transaçao. Ou seja, no total, perdemos $10 \\times V \\times 0.10$ que corresponde a 10 vezes mais do que um **falso positivo**)  \n",
        "\n",
        "Dessa forma, vamos tentar maximizar a funçao de lucro final:  \n",
        "$TN - FN \\times 9$"
      ]
    },
    {
      "cell_type": "code",
      "metadata": {
        "id": "YOkT9-M--bTE"
      },
      "source": [
        "# we have to maximize TN - FN * 9\n",
        "def max_fun(nb_TNs, nb_FNs):\n",
        "    return nb_TNs - nb_FNs * 9\n",
        "\n",
        "# get the strategy that maximizes the precedent funcion\n",
        "def get_strategy_table_TN_FN_MaxFun(model, X_test, y_test, max_fun):\n",
        "    \"\"\"\n",
        "        - the acceptance rate here is the percentage of as non fraud considered transactions\n",
        "    \"\"\"\n",
        "    preds_df = pd.DataFrame()\n",
        "    preds_df['prob_fraud'] = model.predict_proba(X_test)[:,1]\n",
        "    preds_df['pred_fraud'] = model.predict(X_test)\n",
        "    preds_df['true_fraud'] = np.ravel(y_test)\n",
        "    \n",
        "    accept_rates = np.arange(0.05, 1.05, 0.05)\n",
        "    \n",
        "    ## Making the strategy table\n",
        "    # Populate the arrays for the strategy table with a for loop\n",
        "    thresholds = []\n",
        "    \n",
        "    TNs = []\n",
        "    FNs = []\n",
        "    to_maximize = []\n",
        "    for rate in accept_rates:\n",
        "        # Calculate the threshold for the acceptance rate\n",
        "        thresh = np.quantile(preds_df['prob_fraud'], rate).round(3)\n",
        "        # Add the threshold value to the list of thresholds\n",
        "        thresholds.append(np.quantile(preds_df['prob_fraud'], rate).round(3))\n",
        "        # Reassign the loan_status value using the threshold\n",
        "        preds_df['pred_fraud'] = preds_df['prob_fraud'].apply(lambda x: 1 if x > thresh else 0)\n",
        "        \n",
        "        TN = preds_df[(preds_df['pred_fraud'] == 0) & (preds_df['true_fraud'] == 0)]\n",
        "        FN = preds_df[(preds_df['pred_fraud'] == 0) & (preds_df['true_fraud'] == 1)]\n",
        "        \n",
        "        nb_TNs = len(TN)\n",
        "        nb_FNs = len(FN)\n",
        "        TNs.append(nb_TNs)\n",
        "        FNs.append(nb_FNs)\n",
        "\n",
        "        to_maximize.append(max_fun(nb_TNs, nb_FNs))\n",
        "\n",
        "    # Create a data frame of the strategy table\n",
        "    strat_df = pd.DataFrame(zip(accept_rates, thresholds, TNs, FNs, to_maximize),\n",
        "                            columns = ['Acceptance Rate','Threshold','TNs', 'FNs', 'To Maximize'])\n",
        "    \n",
        "    # Print the entire table\n",
        "    print(strat_df)\n",
        "    row_max_estimated_value = strat_df.loc[strat_df['To Maximize'] == strat_df['To Maximize'].max()]\n",
        "    max_benef_threshold = np.ravel(row_max_estimated_value['Threshold'])[0] \n",
        "    return preds_df, strat_df, row_max_estimated_value, max_benef_threshold"
      ],
      "execution_count": 109,
      "outputs": []
    },
    {
      "cell_type": "code",
      "metadata": {
        "colab": {
          "base_uri": "https://localhost:8080/"
        },
        "id": "gjXXbwcFKe8e",
        "outputId": "90f0ff7a-8538-4214-97bd-d95fd64ff892"
      },
      "source": [
        "preds_df, strat_df, row_max_estimated_value, max_benef_threshold = get_strategy_table_TN_FN_MaxFun(clf, X_test_encoded, y_test, max_fun)"
      ],
      "execution_count": 110,
      "outputs": [
        {
          "output_type": "stream",
          "name": "stdout",
          "text": [
            "    Acceptance Rate  Threshold    TNs   FNs  To Maximize\n",
            "0              0.05      0.245   2462     3         2435\n",
            "1              0.10      0.292   4931    13         4814\n",
            "2              0.15      0.330   7415    27         7172\n",
            "3              0.20      0.364   9840    48         9408\n",
            "4              0.25      0.401  12321    62        11763\n",
            "5              0.30      0.438  14731    82        13993\n",
            "6              0.35      0.475  17175   111        16176\n",
            "7              0.40      0.511  19624   150        18274\n",
            "8              0.45      0.549  22103   188        20411\n",
            "9              0.50      0.586  24500   223        22493\n",
            "10             0.55      0.626  26975   276        24491\n",
            "11             0.60      0.667  29344   338        26302\n",
            "12             0.65      0.712  31734   407        28071\n",
            "13             0.70      0.757  34157   492        29729\n",
            "14             0.75      0.798  36471   611        30972\n",
            "15             0.80      0.838  38821   753        32044\n",
            "16             0.85      0.873  41148   939        32697\n",
            "17             0.90      0.908  43370  1179        32759\n",
            "18             0.95      0.946  45433  1575        31258\n",
            "19             1.00      0.996  47030  2468        24818\n"
          ]
        }
      ]
    },
    {
      "cell_type": "code",
      "metadata": {
        "colab": {
          "base_uri": "https://localhost:8080/"
        },
        "id": "xVUgZm12Wm7l",
        "outputId": "e17848a7-9adf-40ba-96c5-e1166e167966"
      },
      "source": [
        "X_test_encoded[y_test == 1].shape"
      ],
      "execution_count": 111,
      "outputs": [
        {
          "output_type": "execute_result",
          "data": {
            "text/plain": [
              "(2470, 35)"
            ]
          },
          "metadata": {},
          "execution_count": 111
        }
      ]
    },
    {
      "cell_type": "code",
      "metadata": {
        "colab": {
          "base_uri": "https://localhost:8080/"
        },
        "id": "5XBEfu9YKnhC",
        "outputId": "39a6dc5d-c5de-4264-b835-f734d446096f"
      },
      "source": [
        "print(row_max_estimated_value)"
      ],
      "execution_count": 112,
      "outputs": [
        {
          "output_type": "stream",
          "name": "stdout",
          "text": [
            "    Acceptance Rate  Threshold    TNs   FNs  To Maximize\n",
            "17              0.9      0.908  43370  1179        32759\n"
          ]
        }
      ]
    },
    {
      "cell_type": "markdown",
      "metadata": {
        "id": "og2j5cPuWtE7"
      },
      "source": [
        "Para o nosso novo modelo, com um bloqueio de transaçao em **10** porcentos da populaçao, para um threshold de **0.908**, conseguimos maximizar o nosso lucro, deixando passar **1179** fraudes, o que corresponde a **48** porcentos do nosso total de fraudes."
      ]
    },
    {
      "cell_type": "code",
      "metadata": {
        "id": "CiVlfyZiK9qi"
      },
      "source": [
        "class OldClf:\n",
        "    def __init__(self):\n",
        "        pass\n",
        "    def predict_proba(self, X):\n",
        "        probs = X[old_res] * 0.01\n",
        "        return np.column_stack(([1 - probs, probs]))\n",
        "    def predict(self, X):\n",
        "        return (self.predict_proba(X)[:, 1] > 0.5).astype(int)"
      ],
      "execution_count": 113,
      "outputs": []
    },
    {
      "cell_type": "code",
      "metadata": {
        "colab": {
          "base_uri": "https://localhost:8080/"
        },
        "id": "B9UruZHhZGQv",
        "outputId": "54dbaa96-66a8-43c7-9893-16baf55a4a03"
      },
      "source": [
        "old_clf = OldClf()\n",
        "preds_df, strat_df, row_max_estimated_value, max_benef_threshold = get_strategy_table_TN_FN_MaxFun(old_clf, df, df[target_name], max_fun)"
      ],
      "execution_count": 114,
      "outputs": [
        {
          "output_type": "stream",
          "name": "stdout",
          "text": [
            "    Acceptance Rate  Threshold     TNs   FNs  To Maximize\n",
            "0              0.05       0.03    8112   256         5808\n",
            "1              0.10       0.08   15368   439        11417\n",
            "2              0.15       0.13   22540   782        15502\n",
            "3              0.20       0.18   29657  1146        19343\n",
            "4              0.25       0.23   36879  1464        23703\n",
            "5              0.30       0.28   44149  1604        29713\n",
            "6              0.35       0.33   51552  1621        36963\n",
            "7              0.40       0.38   59097  1654        44211\n",
            "8              0.45       0.43   66586  1689        51385\n",
            "9              0.50       0.48   74095  1749        58354\n",
            "10             0.55       0.53   81434  1851        64775\n",
            "11             0.60       0.58   88835  1944        71339\n",
            "12             0.65       0.63   96186  2024        77970\n",
            "13             0.70       0.68  103532  2265        83147\n",
            "14             0.75       0.73  110708  2609        87227\n",
            "15             0.80       0.78  117649  3058        90127\n",
            "16             0.85       0.83  123207  3440        92247\n",
            "17             0.90       0.88  131374  4398        91792\n",
            "18             0.95       0.93  137190  5693        85953\n",
            "19             1.00       1.00  142500  7500        75000\n"
          ]
        }
      ]
    },
    {
      "cell_type": "code",
      "metadata": {
        "colab": {
          "base_uri": "https://localhost:8080/"
        },
        "id": "DozXCpC0Z33P",
        "outputId": "811a8154-b2e3-4a96-898a-5ba07c279178"
      },
      "source": [
        "print(row_max_estimated_value)"
      ],
      "execution_count": 115,
      "outputs": [
        {
          "output_type": "stream",
          "name": "stdout",
          "text": [
            "    Acceptance Rate  Threshold     TNs   FNs  To Maximize\n",
            "16             0.85       0.83  123207  3440        92247\n"
          ]
        }
      ]
    },
    {
      "cell_type": "markdown",
      "metadata": {
        "id": "R9i60ZycbcmI"
      },
      "source": [
        "Para o nosso modelo antigo, aplicado ao *dataset* completo, com um bloqueio em **15** porcentos das transaçoes, para um threshold de **0.83**, conseguimos maximizar o nosso lucro, deixando passar **3440** fraudes, o que corresponde a **46** porcentos do nosso total de fraudes."
      ]
    },
    {
      "cell_type": "markdown",
      "metadata": {
        "id": "n1VUS8iicHmB"
      },
      "source": [
        "O nosso novo modelo conseguiu bloquear **2 porcentos** de fraudes a mais com menos transaçoes bloqueadas.  \n",
        "O nosso ponto de corte com o modelo antigo seria o threshold **0.83**:"
      ]
    },
    {
      "cell_type": "code",
      "metadata": {
        "colab": {
          "base_uri": "https://localhost:8080/",
          "height": 312
        },
        "id": "fv52PsfZcPub",
        "outputId": "019cb735-ca79-441b-f2dc-5b211917a145"
      },
      "source": [
        "# Plot a histogram of the prediction probability\n",
        "plt.hist(old_clf.predict_proba(df)[:, 1], 19, density=False, facecolor='g', alpha=0.75)\n",
        "plt.axvline(max_benef_threshold, color='k', linestyle='dashed', linewidth=1)\n",
        "\n",
        "plt.xlabel('Probabilidade de Predição como Fraude')\n",
        "plt.ylabel('Quantidade de transaçoes')\n",
        "plt.title('Histograma Probabilidade de Fraude')\n",
        "\n",
        "# Show the plot\n",
        "plt.show()\n",
        "print(\"Threshold de lucro maximo:\", max_benef_threshold)"
      ],
      "execution_count": 116,
      "outputs": [
        {
          "output_type": "display_data",
          "data": {
            "image/png": "[encoded data removed]",
            "text/plain": [
              "<Figure size 432x288 with 1 Axes>"
            ]
          },
          "metadata": {
            "needs_background": "light"
          }
        },
        {
          "output_type": "stream",
          "name": "stdout",
          "text": [
            "Threshold de lucro maximo: 0.83\n"
          ]
        }
      ]
    },
    {
      "cell_type": "markdown",
      "metadata": {
        "id": "wkIEdBoZdWrk"
      },
      "source": [
        "Ou seja, bloqueamos todas as transaçoes com uma probabilidade de ser fraude maior que **0.83**."
      ]
    },
    {
      "cell_type": "markdown",
      "metadata": {
        "id": "9sAZyQMtds5T"
      },
      "source": [
        "## 7."
      ]
    },
    {
      "cell_type": "markdown",
      "metadata": {
        "id": "thiY4jB2durY"
      },
      "source": [
        "**Se o modelo precisar responder online, no menor tempo possível, o que isso\n",
        "mudaria suas decisões no item 1?**"
      ]
    },
    {
      "cell_type": "markdown",
      "metadata": {
        "id": "HIwRvgx1dznh"
      },
      "source": [
        "- Tempo de prediçao da **regressao logistica**: $O(d + k)$\n",
        "    - O tempo de prediçao de **regressão logística** é linear tanto no número de pontos de dados quanto na quantidade de variaveis.\n",
        "- Tempo de prediçao do **Gradient Boost**: $O(2mt)$  \n",
        "    - O tempo de prediçao do **GBT** é linear no tamanho dos dados e no tamanho do modelo ($t$ árvores, cada uma com no máximo $2 m$ de folhas, onde $m$ é a profundidade máxima da árvore).\n",
        "        - Com menos variaveis, podemos deixar o modelo mais simples com menos folhas e uma profundidade reduzida.\n",
        "\n",
        "Ou seja, o ideal para otimizar o tempo de prediçao seria de selecionar menos variaveis. Pra isso, podemos aproveitar da seleçao de features do `XGBoost`. Sendo que ele vai principalmente utilizar as 25 primeiras variaveis para reduzir a impureza nos *splits* dos arvores dele, podemos desconsiderar as outras `features`.  \n",
        "Alem de aumentar a velocidade da prediçao, a diminuçao da quantidade de variaveis deixa a debugagem, a coleta de dados, a engenheiria de dados muito mais simples.\n"
      ]
    },
    {
      "cell_type": "markdown",
      "metadata": {
        "id": "l2_a6KEV7R-1"
      },
      "source": [
        "Obviamente, para conseguirmos um tempo de prediçao otimizado, é necessario ter todos os preprocessamentos de dados prontos (`preprocess_pipeline` e encoding das categorias). Ou seja, o ideal seria de deixar os dados preprocessados prontos no banco de dados operacional, a tabela **HBase** por exemplo, e apenas executar a funçao `predict_proba` com o filtro do **threshold** da questao **6**, sempre que o serviço for solicitado."
      ]
    },
    {
      "cell_type": "markdown",
      "metadata": {
        "id": "fRtCGwDl8o47"
      },
      "source": [
        "## 8."
      ]
    },
    {
      "cell_type": "markdown",
      "metadata": {
        "id": "a_69NlAu8rK1"
      },
      "source": [
        "**Como colocar esse modelo em produção?**"
      ]
    },
    {
      "cell_type": "markdown",
      "metadata": {
        "id": "1eFI3esx849G"
      },
      "source": [
        "Um exemplo de um serviço implementado com **fastapi** para escorragem online com um modelo `XGBoost` no meu repo **GitHub**.  \n",
        "https://github.com/krzischp/simple_online_ml_model"
      ]
    },
    {
      "cell_type": "markdown",
      "metadata": {
        "id": "pAiQCUGV9Mgl"
      },
      "source": [
        "O ideal é o uso de uma ferramenta como **MLFlow** para centralizar os modelos versionados num repositorio e agilizar o *switch* entre eles, os *experiments* e as comparaçoes de metricas entre cada versao, etc.  \n",
        "No caso da API **simple_online_ml_model**, o modelo esta salvo no formato **pickle** e é versionado junto com o codigo no **git**."
      ]
    },
    {
      "cell_type": "markdown",
      "metadata": {
        "id": "J8TQ5tqUCBhO"
      },
      "source": [
        "Essa arquitetura **lambda** simples abaixo permite responder ao problema de prediçao online.  \n",
        "O serviço final pode chamar a nossa API **simple_online_ml_model** para receber as prediçoes no formato `json`."
      ]
    },
    {
      "cell_type": "markdown",
      "metadata": {
        "id": "6vNflNMPBVrb"
      },
      "source": [
        "![image.png](data:image/png;base64,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)"
      ]
    },
    {
      "cell_type": "markdown",
      "metadata": {
        "id": "dN3e7R0nCzee"
      },
      "source": [
        "Assim que o modelo for em produçao, nao podemos esquecer de integrar com ferramentas de monitoramento como\n",
        "- **Amazon SageMaker Model Monitor**\n",
        "- **Databricks Managed MLFlow**  \n",
        "para conseguirmos identificar problemas de performancias, *data drift*, etc."
      ]
    },
    {
      "cell_type": "code",
      "metadata": {
        "id": "UAwCmzxZDep3"
      },
      "source": [
        ""
      ],
      "execution_count": null,
      "outputs": []
    }
  ]
}