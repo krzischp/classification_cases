{
  "nbformat": 4,
  "nbformat_minor": 5,
  "metadata": {
    "kernelspec": {
      "display_name": "Python 3",
      "language": "python",
      "name": "python3"
    },
    "language_info": {
      "codemirror_mode": {
        "name": "ipython",
        "version": 3
      },
      "file_extension": ".py",
      "mimetype": "text/x-python",
      "name": "python",
      "nbconvert_exporter": "python",
      "pygments_lexer": "ipython3",
      "version": "3.7.10"
    },
    "papermill": {
      "default_parameters": {},
      "duration": 93.762472,
      "end_time": "2021-08-14T15:55:24.663961",
      "environment_variables": {},
      "exception": null,
      "input_path": "__notebook__.ipynb",
      "output_path": "__notebook__.ipynb",
      "parameters": {},
      "start_time": "2021-08-14T15:53:50.901489",
      "version": "2.3.3"
    },
    "colab": {
      "name": "SOL_IML3_fake_news.ipynb",
      "provenance": [],
      "collapsed_sections": [],
      "toc_visible": true
    },
    "accelerator": "GPU"
  },
  "cells": [
    {
      "cell_type": "code",
      "metadata": {
        "id": "zXvx8uuAnE4V"
      },
      "source": [
        "import zipfile\n",
        "from google.colab import drive\n",
        "\n",
        "import warnings\n",
        "warnings.filterwarnings('ignore')"
      ],
      "id": "zXvx8uuAnE4V",
      "execution_count": 14,
      "outputs": []
    },
    {
      "cell_type": "code",
      "metadata": {
        "colab": {
          "base_uri": "https://localhost:8080/"
        },
        "id": "9ceZIZ0XnGLQ",
        "outputId": "a933e1d8-72d6-461b-8af2-e7668afef4ac"
      },
      "source": [
        "drive.mount('/content/drive')"
      ],
      "id": "9ceZIZ0XnGLQ",
      "execution_count": 15,
      "outputs": [
        {
          "output_type": "stream",
          "name": "stdout",
          "text": [
            "Drive already mounted at /content/drive; to attempt to forcibly remount, call drive.mount(\"/content/drive\", force_remount=True).\n"
          ]
        }
      ]
    },
    {
      "cell_type": "code",
      "metadata": {
        "id": "Z1fXE1-bnKd8"
      },
      "source": [
        "local_zip = '/content/drive/MyDrive/MBA_data/deep_learning/iti-mlp-iml3-rnn.zip'\n",
        "zip_ref = zipfile.ZipFile(local_zip, 'r')\n",
        "zip_ref.extractall('/tmp')\n",
        "zip_ref.close()"
      ],
      "id": "Z1fXE1-bnKd8",
      "execution_count": 16,
      "outputs": []
    },
    {
      "cell_type": "code",
      "metadata": {
        "id": "n013gT0_nLnd"
      },
      "source": [
        "# SOURCE_DIR = r'../input/iti-mlp-iml3-cnn'\n",
        "SOURCE_DIR = r'/tmp'"
      ],
      "id": "n013gT0_nLnd",
      "execution_count": 17,
      "outputs": []
    },
    {
      "cell_type": "markdown",
      "metadata": {
        "papermill": {
          "duration": 0.018063,
          "end_time": "2021-08-14T15:53:58.767979",
          "exception": false,
          "start_time": "2021-08-14T15:53:58.749916",
          "status": "completed"
        },
        "tags": [],
        "id": "ec396c87"
      },
      "source": [
        "# Importando as bibliotecas"
      ],
      "id": "ec396c87"
    },
    {
      "cell_type": "code",
      "metadata": {
        "execution": {
          "iopub.execute_input": "2021-08-14T15:53:58.817645Z",
          "iopub.status.busy": "2021-08-14T15:53:58.817151Z",
          "iopub.status.idle": "2021-08-14T15:54:05.362714Z",
          "shell.execute_reply": "2021-08-14T15:54:05.362098Z",
          "shell.execute_reply.started": "2021-08-14T15:51:36.992687Z"
        },
        "papermill": {
          "duration": 6.575925,
          "end_time": "2021-08-14T15:54:05.362875",
          "exception": false,
          "start_time": "2021-08-14T15:53:58.786950",
          "status": "completed"
        },
        "tags": [],
        "id": "f958cd3f"
      },
      "source": [
        "import pandas as pd\n",
        "import numpy as np\n",
        "\n",
        "import matplotlib.pyplot as plt\n",
        "import seaborn as sns\n",
        "\n",
        "import tensorflow as tf\n",
        "from tensorflow.keras import layers as L\n",
        "from tensorflow.keras.preprocessing.sequence import pad_sequences\n",
        "from tensorflow.keras.preprocessing.text import one_hot\n",
        "\n",
        "import re\n",
        "import nltk\n",
        "from nltk.corpus import stopwords\n",
        "\n",
        "from nltk.stem.porter import PorterStemmer"
      ],
      "id": "f958cd3f",
      "execution_count": 18,
      "outputs": []
    },
    {
      "cell_type": "markdown",
      "metadata": {
        "papermill": {
          "duration": 0.017798,
          "end_time": "2021-08-14T15:54:05.399431",
          "exception": false,
          "start_time": "2021-08-14T15:54:05.381633",
          "status": "completed"
        },
        "tags": [],
        "id": "203d882e"
      },
      "source": [
        "# Carregando os datasets"
      ],
      "id": "203d882e"
    },
    {
      "cell_type": "code",
      "metadata": {
        "execution": {
          "iopub.execute_input": "2021-08-14T15:54:05.440651Z",
          "iopub.status.busy": "2021-08-14T15:54:05.440059Z",
          "iopub.status.idle": "2021-08-14T15:54:08.158125Z",
          "shell.execute_reply": "2021-08-14T15:54:08.157439Z",
          "shell.execute_reply.started": "2021-08-14T15:51:39.979512Z"
        },
        "papermill": {
          "duration": 2.740356,
          "end_time": "2021-08-14T15:54:08.158260",
          "exception": false,
          "start_time": "2021-08-14T15:54:05.417904",
          "status": "completed"
        },
        "tags": [],
        "id": "9284d558"
      },
      "source": [
        "df = pd.read_csv(SOURCE_DIR + \"/train.csv\")"
      ],
      "id": "9284d558",
      "execution_count": 19,
      "outputs": []
    },
    {
      "cell_type": "code",
      "metadata": {
        "execution": {
          "iopub.execute_input": "2021-08-14T15:54:08.207109Z",
          "iopub.status.busy": "2021-08-14T15:54:08.206474Z",
          "iopub.status.idle": "2021-08-14T15:54:08.226487Z",
          "shell.execute_reply": "2021-08-14T15:54:08.226932Z",
          "shell.execute_reply.started": "2021-08-14T15:51:41.103129Z"
        },
        "papermill": {
          "duration": 0.049648,
          "end_time": "2021-08-14T15:54:08.227071",
          "exception": false,
          "start_time": "2021-08-14T15:54:08.177423",
          "status": "completed"
        },
        "tags": [],
        "colab": {
          "base_uri": "https://localhost:8080/",
          "height": 254
        },
        "id": "95b3b681",
        "outputId": "7b2ce252-ce71-486a-afc7-77d8c49b974b"
      },
      "source": [
        "df.head()"
      ],
      "id": "95b3b681",
      "execution_count": 20,
      "outputs": [
        {
          "output_type": "execute_result",
          "data": {
            "text/html": [
              "<div>\n",
              "<style scoped>\n",
              "    .dataframe tbody tr th:only-of-type {\n",
              "        vertical-align: middle;\n",
              "    }\n",
              "\n",
              "    .dataframe tbody tr th {\n",
              "        vertical-align: top;\n",
              "    }\n",
              "\n",
              "    .dataframe thead th {\n",
              "        text-align: right;\n",
              "    }\n",
              "</style>\n",
              "<table border=\"1\" class=\"dataframe\">\n",
              "  <thead>\n",
              "    <tr style=\"text-align: right;\">\n",
              "      <th></th>\n",
              "      <th>Id</th>\n",
              "      <th>title</th>\n",
              "      <th>text</th>\n",
              "      <th>subject</th>\n",
              "      <th>date</th>\n",
              "      <th>class</th>\n",
              "    </tr>\n",
              "  </thead>\n",
              "  <tbody>\n",
              "    <tr>\n",
              "      <th>0</th>\n",
              "      <td>0</td>\n",
              "      <td>Trump defends tax plan as 'great Christmas gif...</td>\n",
              "      <td>WASHINGTON (Reuters) - U.S. President Donald T...</td>\n",
              "      <td>politicsNews</td>\n",
              "      <td>December 16, 2017</td>\n",
              "      <td>0</td>\n",
              "    </tr>\n",
              "    <tr>\n",
              "      <th>1</th>\n",
              "      <td>1</td>\n",
              "      <td>UNBELIEVABLE! OBAMA’S ATTORNEY GENERAL SAYS MO...</td>\n",
              "      <td>Now, most of the demonstrators gathered last ...</td>\n",
              "      <td>Government News</td>\n",
              "      <td>Sep 22, 2016</td>\n",
              "      <td>1</td>\n",
              "    </tr>\n",
              "    <tr>\n",
              "      <th>2</th>\n",
              "      <td>2</td>\n",
              "      <td>Trump rails against press in response to repor...</td>\n",
              "      <td>FAIRFIELD, Conn. (Reuters) - U.S. Republican D...</td>\n",
              "      <td>politicsNews</td>\n",
              "      <td>August 14, 2016</td>\n",
              "      <td>0</td>\n",
              "    </tr>\n",
              "    <tr>\n",
              "      <th>3</th>\n",
              "      <td>3</td>\n",
              "      <td>Republican Santorum drops out of White House r...</td>\n",
              "      <td>WASHINGTON (Reuters) - Rick Santorum withdrew ...</td>\n",
              "      <td>politicsNews</td>\n",
              "      <td>February 4, 2016</td>\n",
              "      <td>0</td>\n",
              "    </tr>\n",
              "    <tr>\n",
              "      <th>4</th>\n",
              "      <td>4</td>\n",
              "      <td>Immigrants in Central Florida nervous about se...</td>\n",
              "      <td>APOPKA, Fla. (Reuters) - With Hurricane Irma b...</td>\n",
              "      <td>worldnews</td>\n",
              "      <td>September 9, 2017</td>\n",
              "      <td>0</td>\n",
              "    </tr>\n",
              "  </tbody>\n",
              "</table>\n",
              "</div>"
            ],
            "text/plain": [
              "   Id  ... class\n",
              "0   0  ...     0\n",
              "1   1  ...     1\n",
              "2   2  ...     0\n",
              "3   3  ...     0\n",
              "4   4  ...     0\n",
              "\n",
              "[5 rows x 6 columns]"
            ]
          },
          "metadata": {},
          "execution_count": 20
        }
      ]
    },
    {
      "cell_type": "markdown",
      "metadata": {
        "id": "ZX6BlvXtubbN"
      },
      "source": [
        "# Dando uma olhada nos dados"
      ],
      "id": "ZX6BlvXtubbN"
    },
    {
      "cell_type": "code",
      "metadata": {
        "colab": {
          "base_uri": "https://localhost:8080/"
        },
        "id": "3iIPI5nFugR-",
        "outputId": "58f21113-2ab6-42d6-998a-44208b879380"
      },
      "source": [
        "# Check for any null values\n",
        "df.isna().sum()"
      ],
      "id": "3iIPI5nFugR-",
      "execution_count": 58,
      "outputs": [
        {
          "output_type": "execute_result",
          "data": {
            "text/plain": [
              "Id         0\n",
              "title      0\n",
              "text       0\n",
              "subject    0\n",
              "date       0\n",
              "class      0\n",
              "total      0\n",
              "dtype: int64"
            ]
          },
          "metadata": {},
          "execution_count": 58
        }
      ]
    },
    {
      "cell_type": "markdown",
      "metadata": {
        "id": "PGjpTY_pulDp"
      },
      "source": [
        "# Análise Exploratória"
      ],
      "id": "PGjpTY_pulDp"
    },
    {
      "cell_type": "code",
      "metadata": {
        "colab": {
          "base_uri": "https://localhost:8080/",
          "height": 296
        },
        "id": "1zcQnNWBusBz",
        "outputId": "888bf292-564f-4c41-82ff-291d8e290540"
      },
      "source": [
        "# Quantas notícias de cada classe?\n",
        "sns.countplot(x='class', data=df)"
      ],
      "id": "1zcQnNWBusBz",
      "execution_count": 60,
      "outputs": [
        {
          "output_type": "execute_result",
          "data": {
            "text/plain": [
              "<matplotlib.axes._subplots.AxesSubplot at 0x7f71c8ad1c10>"
            ]
          },
          "metadata": {},
          "execution_count": 60
        },
        {
          "output_type": "display_data",
          "data": {
            "image/png": "[encoded data removed]",
            "text/plain": [
              "<Figure size 432x288 with 1 Axes>"
            ]
          },
          "metadata": {
            "needs_background": "light"
          }
        }
      ]
    },
    {
      "cell_type": "code",
      "metadata": {
        "colab": {
          "base_uri": "https://localhost:8080/",
          "height": 413
        },
        "id": "bsthDaMtuxVU",
        "outputId": "dcf2c440-8716-4805-e372-8044f0cf1398"
      },
      "source": [
        "# Qual o tipo de notícia mais comum por assunto?\n",
        "plt.figure(figsize=(10,5))\n",
        "plt.xticks(rotation=45)\n",
        "sns.countplot(x='subject', data=df, hue='class')"
      ],
      "id": "bsthDaMtuxVU",
      "execution_count": 63,
      "outputs": [
        {
          "output_type": "execute_result",
          "data": {
            "text/plain": [
              "<matplotlib.axes._subplots.AxesSubplot at 0x7f71c8996d50>"
            ]
          },
          "metadata": {},
          "execution_count": 63
        },
        {
          "output_type": "display_data",
          "data": {
            "image/png": "[encoded data removed]",
            "text/plain": [
              "<Figure size 720x360 with 1 Axes>"
            ]
          },
          "metadata": {
            "needs_background": "light"
          }
        }
      ]
    },
    {
      "cell_type": "markdown",
      "metadata": {
        "id": "8s4wXPvkvOod"
      },
      "source": [
        "So tem *fake news*, menos nos assuntos de **noticias politicas** e do **mundo**.  \n",
        "Esses documentos vao ser faceis para classificar. Parece que so com o assunto, ja da para inferir se é *fake* ou nao."
      ],
      "id": "8s4wXPvkvOod"
    },
    {
      "cell_type": "markdown",
      "metadata": {
        "id": "c2OIoAIOwKzb"
      },
      "source": [
        "Vamos entao construir uma nova variavel concatenando o **titulo** e o **assunto** do texto. Essa nova variavel servira de input para a nossa rede neuronal. "
      ],
      "id": "c2OIoAIOwKzb"
    },
    {
      "cell_type": "code",
      "metadata": {
        "execution": {
          "iopub.execute_input": "2021-08-14T15:54:08.275914Z",
          "iopub.status.busy": "2021-08-14T15:54:08.275297Z",
          "iopub.status.idle": "2021-08-14T15:54:08.316590Z",
          "shell.execute_reply": "2021-08-14T15:54:08.317032Z",
          "shell.execute_reply.started": "2021-08-14T15:51:41.128280Z"
        },
        "papermill": {
          "duration": 0.070685,
          "end_time": "2021-08-14T15:54:08.317176",
          "exception": false,
          "start_time": "2021-08-14T15:54:08.246491",
          "status": "completed"
        },
        "scrolled": true,
        "tags": [],
        "colab": {
          "base_uri": "https://localhost:8080/",
          "height": 287
        },
        "id": "b63ff397",
        "outputId": "dca6bf03-43d0-4403-dc87-33c44a3351f5"
      },
      "source": [
        "df = df.fillna('')\n",
        "\n",
        "df[\"total\"] = df['title'] + \" \" + df[\"subject\"]\n",
        "\n",
        "df.head()"
      ],
      "id": "b63ff397",
      "execution_count": 21,
      "outputs": [
        {
          "output_type": "execute_result",
          "data": {
            "text/html": [
              "<div>\n",
              "<style scoped>\n",
              "    .dataframe tbody tr th:only-of-type {\n",
              "        vertical-align: middle;\n",
              "    }\n",
              "\n",
              "    .dataframe tbody tr th {\n",
              "        vertical-align: top;\n",
              "    }\n",
              "\n",
              "    .dataframe thead th {\n",
              "        text-align: right;\n",
              "    }\n",
              "</style>\n",
              "<table border=\"1\" class=\"dataframe\">\n",
              "  <thead>\n",
              "    <tr style=\"text-align: right;\">\n",
              "      <th></th>\n",
              "      <th>Id</th>\n",
              "      <th>title</th>\n",
              "      <th>text</th>\n",
              "      <th>subject</th>\n",
              "      <th>date</th>\n",
              "      <th>class</th>\n",
              "      <th>total</th>\n",
              "    </tr>\n",
              "  </thead>\n",
              "  <tbody>\n",
              "    <tr>\n",
              "      <th>0</th>\n",
              "      <td>0</td>\n",
              "      <td>Trump defends tax plan as 'great Christmas gif...</td>\n",
              "      <td>WASHINGTON (Reuters) - U.S. President Donald T...</td>\n",
              "      <td>politicsNews</td>\n",
              "      <td>December 16, 2017</td>\n",
              "      <td>0</td>\n",
              "      <td>Trump defends tax plan as 'great Christmas gif...</td>\n",
              "    </tr>\n",
              "    <tr>\n",
              "      <th>1</th>\n",
              "      <td>1</td>\n",
              "      <td>UNBELIEVABLE! OBAMA’S ATTORNEY GENERAL SAYS MO...</td>\n",
              "      <td>Now, most of the demonstrators gathered last ...</td>\n",
              "      <td>Government News</td>\n",
              "      <td>Sep 22, 2016</td>\n",
              "      <td>1</td>\n",
              "      <td>UNBELIEVABLE! OBAMA’S ATTORNEY GENERAL SAYS MO...</td>\n",
              "    </tr>\n",
              "    <tr>\n",
              "      <th>2</th>\n",
              "      <td>2</td>\n",
              "      <td>Trump rails against press in response to repor...</td>\n",
              "      <td>FAIRFIELD, Conn. (Reuters) - U.S. Republican D...</td>\n",
              "      <td>politicsNews</td>\n",
              "      <td>August 14, 2016</td>\n",
              "      <td>0</td>\n",
              "      <td>Trump rails against press in response to repor...</td>\n",
              "    </tr>\n",
              "    <tr>\n",
              "      <th>3</th>\n",
              "      <td>3</td>\n",
              "      <td>Republican Santorum drops out of White House r...</td>\n",
              "      <td>WASHINGTON (Reuters) - Rick Santorum withdrew ...</td>\n",
              "      <td>politicsNews</td>\n",
              "      <td>February 4, 2016</td>\n",
              "      <td>0</td>\n",
              "      <td>Republican Santorum drops out of White House r...</td>\n",
              "    </tr>\n",
              "    <tr>\n",
              "      <th>4</th>\n",
              "      <td>4</td>\n",
              "      <td>Immigrants in Central Florida nervous about se...</td>\n",
              "      <td>APOPKA, Fla. (Reuters) - With Hurricane Irma b...</td>\n",
              "      <td>worldnews</td>\n",
              "      <td>September 9, 2017</td>\n",
              "      <td>0</td>\n",
              "      <td>Immigrants in Central Florida nervous about se...</td>\n",
              "    </tr>\n",
              "  </tbody>\n",
              "</table>\n",
              "</div>"
            ],
            "text/plain": [
              "   Id  ...                                              total\n",
              "0   0  ...  Trump defends tax plan as 'great Christmas gif...\n",
              "1   1  ...  UNBELIEVABLE! OBAMA’S ATTORNEY GENERAL SAYS MO...\n",
              "2   2  ...  Trump rails against press in response to repor...\n",
              "3   3  ...  Republican Santorum drops out of White House r...\n",
              "4   4  ...  Immigrants in Central Florida nervous about se...\n",
              "\n",
              "[5 rows x 7 columns]"
            ]
          },
          "metadata": {},
          "execution_count": 21
        }
      ]
    },
    {
      "cell_type": "code",
      "metadata": {
        "execution": {
          "iopub.execute_input": "2021-08-14T15:54:08.361609Z",
          "iopub.status.busy": "2021-08-14T15:54:08.360824Z",
          "iopub.status.idle": "2021-08-14T15:54:08.370189Z",
          "shell.execute_reply": "2021-08-14T15:54:08.369793Z",
          "shell.execute_reply.started": "2021-08-14T15:51:41.176280Z"
        },
        "papermill": {
          "duration": 0.033205,
          "end_time": "2021-08-14T15:54:08.370299",
          "exception": false,
          "start_time": "2021-08-14T15:54:08.337094",
          "status": "completed"
        },
        "scrolled": true,
        "tags": [],
        "colab": {
          "base_uri": "https://localhost:8080/"
        },
        "id": "4e0a3bda",
        "outputId": "10aaa654-e8b1-4fee-f848-7c45170d4a0c"
      },
      "source": [
        "X = df.drop(\"class\", axis = 1)\n",
        "y = df[\"class\"]\n",
        "\n",
        "X.shape, y.shape"
      ],
      "id": "4e0a3bda",
      "execution_count": 22,
      "outputs": [
        {
          "output_type": "execute_result",
          "data": {
            "text/plain": [
              "((40000, 6), (40000,))"
            ]
          },
          "metadata": {},
          "execution_count": 22
        }
      ]
    },
    {
      "cell_type": "markdown",
      "metadata": {
        "papermill": {
          "duration": 0.019284,
          "end_time": "2021-08-14T15:54:08.409787",
          "exception": false,
          "start_time": "2021-08-14T15:54:08.390503",
          "status": "completed"
        },
        "tags": [],
        "id": "63f6a9d5"
      },
      "source": [
        "# Preprocessamento"
      ],
      "id": "63f6a9d5"
    },
    {
      "cell_type": "code",
      "metadata": {
        "colab": {
          "base_uri": "https://localhost:8080/"
        },
        "id": "LPLnK97aoKJ1",
        "outputId": "8c061052-905c-448e-f5e2-db7ce93b2674"
      },
      "source": [
        "import nltk\n",
        "\n",
        "nltk.download('stopwords')"
      ],
      "id": "LPLnK97aoKJ1",
      "execution_count": 27,
      "outputs": [
        {
          "output_type": "stream",
          "name": "stdout",
          "text": [
            "[nltk_data] Downloading package stopwords to /root/nltk_data...\n",
            "[nltk_data]   Unzipping corpora/stopwords.zip.\n"
          ]
        },
        {
          "output_type": "execute_result",
          "data": {
            "text/plain": [
              "True"
            ]
          },
          "metadata": {},
          "execution_count": 27
        }
      ]
    },
    {
      "cell_type": "code",
      "metadata": {
        "execution": {
          "iopub.execute_input": "2021-08-14T15:54:08.454032Z",
          "iopub.status.busy": "2021-08-14T15:54:08.453210Z",
          "iopub.status.idle": "2021-08-14T15:54:08.457617Z",
          "shell.execute_reply": "2021-08-14T15:54:08.457230Z",
          "shell.execute_reply.started": "2021-08-14T15:51:41.194393Z"
        },
        "papermill": {
          "duration": 0.027343,
          "end_time": "2021-08-14T15:54:08.457748",
          "exception": false,
          "start_time": "2021-08-14T15:54:08.430405",
          "status": "completed"
        },
        "tags": [],
        "id": "2c14a039"
      },
      "source": [
        "VOCAB_SIZE = 5000\n",
        "MAX_LENGTH = 25\n",
        "EMBEDDING_DIM = 40\n",
        "\n",
        "text = X.copy()"
      ],
      "id": "2c14a039",
      "execution_count": 28,
      "outputs": []
    },
    {
      "cell_type": "markdown",
      "metadata": {
        "id": "spMlGGVDwnFe"
      },
      "source": [
        "- Vamos remover todos os elementos que nao sao compostos com letras, ou seja os digitos, a ponctuaçao, etc.\n",
        "- Depois disso transformamos todas as letras em minuscula.\n",
        "- Removemos os *stopwords*\n",
        "- e reduzimos as palavras a raiz delas com o processo de *stemming*"
      ],
      "id": "spMlGGVDwnFe"
    },
    {
      "cell_type": "code",
      "metadata": {
        "execution": {
          "iopub.execute_input": "2021-08-14T15:54:08.503366Z",
          "iopub.status.busy": "2021-08-14T15:54:08.502150Z",
          "iopub.status.idle": "2021-08-14T15:54:08.504926Z",
          "shell.execute_reply": "2021-08-14T15:54:08.504482Z",
          "shell.execute_reply.started": "2021-08-14T15:51:41.204416Z"
        },
        "papermill": {
          "duration": 0.027799,
          "end_time": "2021-08-14T15:54:08.505034",
          "exception": false,
          "start_time": "2021-08-14T15:54:08.477235",
          "status": "completed"
        },
        "tags": [],
        "id": "21e9d223"
      },
      "source": [
        "def text_cleaning(length):\n",
        "    ps = PorterStemmer()\n",
        "    corpus = []\n",
        "    for i in range(length):\n",
        "        m = re.sub(\"[^a-zA-Z]\", \" \", text[\"total\"][i])\n",
        "        m = m.lower()\n",
        "        m = m.split()\n",
        "        m = [ps.stem(word) for word in m if not word in stopwords.words('english')]\n",
        "        clean_text = \" \".join(m)\n",
        "        corpus.append(clean_text)\n",
        "        \n",
        "    return corpus"
      ],
      "id": "21e9d223",
      "execution_count": 29,
      "outputs": []
    },
    {
      "cell_type": "code",
      "metadata": {
        "execution": {
          "iopub.execute_input": "2021-08-14T15:54:08.548576Z",
          "iopub.status.busy": "2021-08-14T15:54:08.548027Z",
          "iopub.status.idle": "2021-08-14T15:54:49.398729Z",
          "shell.execute_reply": "2021-08-14T15:54:49.399314Z",
          "shell.execute_reply.started": "2021-08-14T15:51:41.219613Z"
        },
        "papermill": {
          "duration": 40.875182,
          "end_time": "2021-08-14T15:54:49.399499",
          "exception": false,
          "start_time": "2021-08-14T15:54:08.524317",
          "status": "completed"
        },
        "tags": [],
        "colab": {
          "base_uri": "https://localhost:8080/"
        },
        "id": "26857cf4",
        "outputId": "eae8bceb-6341-4baa-ad72-082d7102dc89"
      },
      "source": [
        "%%time\n",
        "clean_text_corpus = text_cleaning(len(text))"
      ],
      "id": "26857cf4",
      "execution_count": 30,
      "outputs": [
        {
          "output_type": "stream",
          "name": "stdout",
          "text": [
            "CPU times: user 1min 13s, sys: 6.79 s, total: 1min 20s\n",
            "Wall time: 1min 20s\n"
          ]
        }
      ]
    },
    {
      "cell_type": "code",
      "metadata": {
        "execution": {
          "iopub.execute_input": "2021-08-14T15:54:49.445765Z",
          "iopub.status.busy": "2021-08-14T15:54:49.445033Z",
          "iopub.status.idle": "2021-08-14T15:54:49.448686Z",
          "shell.execute_reply": "2021-08-14T15:54:49.448250Z",
          "shell.execute_reply.started": "2021-08-14T15:52:41.251581Z"
        },
        "papermill": {
          "duration": 0.028224,
          "end_time": "2021-08-14T15:54:49.448799",
          "exception": false,
          "start_time": "2021-08-14T15:54:49.420575",
          "status": "completed"
        },
        "tags": [],
        "colab": {
          "base_uri": "https://localhost:8080/",
          "height": 35
        },
        "id": "b258e8d4",
        "outputId": "4282754e-5f2c-4767-f66a-aba128ebb46c"
      },
      "source": [
        "clean_text_corpus[0]"
      ],
      "id": "b258e8d4",
      "execution_count": 31,
      "outputs": [
        {
          "output_type": "execute_result",
          "data": {
            "application/vnd.google.colaboratory.intrinsic+json": {
              "type": "string"
            },
            "text/plain": [
              "'trump defend tax plan great christma gift middl class politicsnew'"
            ]
          },
          "metadata": {},
          "execution_count": 31
        }
      ]
    },
    {
      "cell_type": "code",
      "metadata": {
        "execution": {
          "iopub.execute_input": "2021-08-14T15:54:49.533055Z",
          "iopub.status.busy": "2021-08-14T15:54:49.522907Z",
          "iopub.status.idle": "2021-08-14T15:54:49.754842Z",
          "shell.execute_reply": "2021-08-14T15:54:49.754370Z",
          "shell.execute_reply.started": "2021-08-14T15:52:41.262502Z"
        },
        "papermill": {
          "duration": 0.285435,
          "end_time": "2021-08-14T15:54:49.754976",
          "exception": false,
          "start_time": "2021-08-14T15:54:49.469541",
          "status": "completed"
        },
        "tags": [],
        "id": "e49b5b80"
      },
      "source": [
        "# Direct mapping from token (a token can be a word or a character) to a number\n",
        "# to one hot\n",
        "onehot_text = [one_hot(words, VOCAB_SIZE) for words in clean_text_corpus]"
      ],
      "id": "e49b5b80",
      "execution_count": 32,
      "outputs": []
    },
    {
      "cell_type": "code",
      "metadata": {
        "colab": {
          "base_uri": "https://localhost:8080/"
        },
        "id": "arxEL5KPx8QC",
        "outputId": "894c385c-bd50-45e6-a51e-7b1b41b4b4c5"
      },
      "source": [
        "onehot_text[0]"
      ],
      "id": "arxEL5KPx8QC",
      "execution_count": 66,
      "outputs": [
        {
          "output_type": "execute_result",
          "data": {
            "text/plain": [
              "[3405, 3462, 2588, 3855, 1735, 1874, 3345, 231, 2037, 3935]"
            ]
          },
          "metadata": {},
          "execution_count": 66
        }
      ]
    },
    {
      "cell_type": "markdown",
      "metadata": {
        "id": "3wPVaawvyPpj"
      },
      "source": [
        "E deixamos todos os documentos com o mesmo tamanho."
      ],
      "id": "3wPVaawvyPpj"
    },
    {
      "cell_type": "code",
      "metadata": {
        "execution": {
          "iopub.execute_input": "2021-08-14T15:54:49.803229Z",
          "iopub.status.busy": "2021-08-14T15:54:49.802416Z",
          "iopub.status.idle": "2021-08-14T15:54:49.938739Z",
          "shell.execute_reply": "2021-08-14T15:54:49.938278Z",
          "shell.execute_reply.started": "2021-08-14T15:52:41.583357Z"
        },
        "papermill": {
          "duration": 0.163436,
          "end_time": "2021-08-14T15:54:49.938867",
          "exception": false,
          "start_time": "2021-08-14T15:54:49.775431",
          "status": "completed"
        },
        "tags": [],
        "id": "ea96f7f9"
      },
      "source": [
        "# padding sequences\n",
        "padded_doc = pad_sequences(onehot_text, padding=\"pre\", maxlen=MAX_LENGTH)"
      ],
      "id": "ea96f7f9",
      "execution_count": 33,
      "outputs": []
    },
    {
      "cell_type": "markdown",
      "metadata": {
        "id": "PZrFwNW-yal3"
      },
      "source": [
        "Precisamos transformar os inputs em numpy para podermos utiliza-los com a rede neuronal."
      ],
      "id": "PZrFwNW-yal3"
    },
    {
      "cell_type": "code",
      "metadata": {
        "execution": {
          "iopub.execute_input": "2021-08-14T15:54:49.983989Z",
          "iopub.status.busy": "2021-08-14T15:54:49.983081Z",
          "iopub.status.idle": "2021-08-14T15:54:49.987272Z",
          "shell.execute_reply": "2021-08-14T15:54:49.986877Z",
          "shell.execute_reply.started": "2021-08-14T15:52:41.770164Z"
        },
        "papermill": {
          "duration": 0.028143,
          "end_time": "2021-08-14T15:54:49.987378",
          "exception": false,
          "start_time": "2021-08-14T15:54:49.959235",
          "status": "completed"
        },
        "tags": [],
        "id": "346355ba"
      },
      "source": [
        "x_train = np.array(padded_doc)\n",
        "y_train = np.array(y)"
      ],
      "id": "346355ba",
      "execution_count": 34,
      "outputs": []
    },
    {
      "cell_type": "markdown",
      "metadata": {
        "papermill": {
          "duration": 0.019763,
          "end_time": "2021-08-14T15:54:50.027107",
          "exception": false,
          "start_time": "2021-08-14T15:54:50.007344",
          "status": "completed"
        },
        "tags": [],
        "id": "5531ce78"
      },
      "source": [
        "# Modelo"
      ],
      "id": "5531ce78"
    },
    {
      "cell_type": "code",
      "metadata": {
        "execution": {
          "iopub.execute_input": "2021-08-14T15:54:50.073645Z",
          "iopub.status.busy": "2021-08-14T15:54:50.072900Z",
          "iopub.status.idle": "2021-08-14T15:54:50.075193Z",
          "shell.execute_reply": "2021-08-14T15:54:50.075621Z",
          "shell.execute_reply.started": "2021-08-14T15:52:41.782540Z"
        },
        "papermill": {
          "duration": 0.028819,
          "end_time": "2021-08-14T15:54:50.075773",
          "exception": false,
          "start_time": "2021-08-14T15:54:50.046954",
          "status": "completed"
        },
        "tags": [],
        "id": "94c6345b"
      },
      "source": [
        "def build_model():\n",
        "    # model structure\n",
        "    model = tf.keras.Sequential([\n",
        "        L.Embedding(VOCAB_SIZE, EMBEDDING_DIM, input_length=MAX_LENGTH),\n",
        "        L.Dropout(0.3),\n",
        "        L.LSTM(100),\n",
        "        L.Dropout(0.3),\n",
        "        L.Dense(64, activation = \"relu\"),\n",
        "        L.Dropout(0.3),\n",
        "        L.Dense(1, activation = \"sigmoid\")\n",
        "    ])\n",
        "    \n",
        "    model.compile(optimizer=\"adam\", loss=tf.keras.losses.BinaryCrossentropy(from_logits=True),\n",
        "                 metrics=tf.metrics.BinaryAccuracy())\n",
        "    \n",
        "    return model"
      ],
      "id": "94c6345b",
      "execution_count": 35,
      "outputs": []
    },
    {
      "cell_type": "code",
      "metadata": {
        "execution": {
          "iopub.execute_input": "2021-08-14T15:54:50.119345Z",
          "iopub.status.busy": "2021-08-14T15:54:50.118800Z",
          "iopub.status.idle": "2021-08-14T15:54:52.954360Z",
          "shell.execute_reply": "2021-08-14T15:54:52.954916Z",
          "shell.execute_reply.started": "2021-08-14T15:52:41.795227Z"
        },
        "papermill": {
          "duration": 2.859122,
          "end_time": "2021-08-14T15:54:52.955107",
          "exception": false,
          "start_time": "2021-08-14T15:54:50.095985",
          "status": "completed"
        },
        "tags": [],
        "colab": {
          "base_uri": "https://localhost:8080/"
        },
        "id": "f3d91d01",
        "outputId": "26f99807-0882-4ae7-d9df-11ee588bfceb"
      },
      "source": [
        "news_classifier = build_model()\n",
        "news_classifier.summary()"
      ],
      "id": "f3d91d01",
      "execution_count": 36,
      "outputs": [
        {
          "output_type": "stream",
          "name": "stdout",
          "text": [
            "Model: \"sequential\"\n",
            "_________________________________________________________________\n",
            " Layer (type)                Output Shape              Param #   \n",
            "=================================================================\n",
            " embedding (Embedding)       (None, 25, 40)            200000    \n",
            "                                                                 \n",
            " dropout (Dropout)           (None, 25, 40)            0         \n",
            "                                                                 \n",
            " lstm (LSTM)                 (None, 100)               56400     \n",
            "                                                                 \n",
            " dropout_1 (Dropout)         (None, 100)               0         \n",
            "                                                                 \n",
            " dense (Dense)               (None, 64)                6464      \n",
            "                                                                 \n",
            " dropout_2 (Dropout)         (None, 64)                0         \n",
            "                                                                 \n",
            " dense_1 (Dense)             (None, 1)                 65        \n",
            "                                                                 \n",
            "=================================================================\n",
            "Total params: 262,929\n",
            "Trainable params: 262,929\n",
            "Non-trainable params: 0\n",
            "_________________________________________________________________\n"
          ]
        }
      ]
    },
    {
      "cell_type": "code",
      "metadata": {
        "execution": {
          "iopub.execute_input": "2021-08-14T15:54:53.000947Z",
          "iopub.status.busy": "2021-08-14T15:54:53.000358Z",
          "iopub.status.idle": "2021-08-14T15:54:53.513690Z",
          "shell.execute_reply": "2021-08-14T15:54:53.512528Z",
          "shell.execute_reply.started": "2021-08-14T15:52:43.518504Z"
        },
        "papermill": {
          "duration": 0.537581,
          "end_time": "2021-08-14T15:54:53.513835",
          "exception": false,
          "start_time": "2021-08-14T15:54:52.976254",
          "status": "completed"
        },
        "tags": [],
        "colab": {
          "base_uri": "https://localhost:8080/",
          "height": 758
        },
        "id": "997b0b3b",
        "outputId": "f1acf09f-3cd0-423b-ae73-6f2d642eae2a"
      },
      "source": [
        "tf.keras.utils.plot_model(news_classifier)"
      ],
      "id": "997b0b3b",
      "execution_count": 37,
      "outputs": [
        {
          "output_type": "execute_result",
          "data": {
            "image/png": "[encoded data removed]",
            "text/plain": [
              "<IPython.core.display.Image object>"
            ]
          },
          "metadata": {},
          "execution_count": 37
        }
      ]
    },
    {
      "cell_type": "markdown",
      "metadata": {
        "papermill": {
          "duration": 0.02104,
          "end_time": "2021-08-14T15:54:53.556092",
          "exception": false,
          "start_time": "2021-08-14T15:54:53.535052",
          "status": "completed"
        },
        "tags": [],
        "id": "eab2c90b"
      },
      "source": [
        "# Treinamento"
      ],
      "id": "eab2c90b"
    },
    {
      "cell_type": "code",
      "metadata": {
        "execution": {
          "iopub.execute_input": "2021-08-14T15:54:53.605054Z",
          "iopub.status.busy": "2021-08-14T15:54:53.604248Z",
          "iopub.status.idle": "2021-08-14T15:54:53.607056Z",
          "shell.execute_reply": "2021-08-14T15:54:53.606614Z",
          "shell.execute_reply.started": "2021-08-14T15:52:43.689787Z"
        },
        "papermill": {
          "duration": 0.029714,
          "end_time": "2021-08-14T15:54:53.607161",
          "exception": false,
          "start_time": "2021-08-14T15:54:53.577447",
          "status": "completed"
        },
        "tags": [],
        "id": "f7b92eb6"
      },
      "source": [
        "my_callbacks = [tf.keras.callbacks.ModelCheckpoint(\"news_classifier.h5\", monitor=\"val_loss\", save_best_only=True),\n",
        "                tf.keras.callbacks.CSVLogger(\"training.log\"),\n",
        "                tf.keras.callbacks.EarlyStopping(patience=5),\n",
        "                # Reduce learning rate when a metric has stopped improving:\n",
        "                # factor: factor by which the learning rate will be reduced\n",
        "                # patience: number of epochs with no improvement after which learning rate will be reduced\n",
        "                # min_lr: lower bound on the learning rate\n",
        "                tf.keras.callbacks.ReduceLROnPlateau(monitor='val_loss', factor=0.2, patience=5, min_lr=0.001)\n",
        "               ]"
      ],
      "id": "f7b92eb6",
      "execution_count": 38,
      "outputs": []
    },
    {
      "cell_type": "code",
      "metadata": {
        "execution": {
          "iopub.execute_input": "2021-08-14T15:54:53.655511Z",
          "iopub.status.busy": "2021-08-14T15:54:53.655004Z",
          "iopub.status.idle": "2021-08-14T15:55:09.812086Z",
          "shell.execute_reply": "2021-08-14T15:55:09.811587Z",
          "shell.execute_reply.started": "2021-08-14T15:52:43.700314Z"
        },
        "papermill": {
          "duration": 16.183939,
          "end_time": "2021-08-14T15:55:09.812214",
          "exception": false,
          "start_time": "2021-08-14T15:54:53.628275",
          "status": "completed"
        },
        "tags": [],
        "colab": {
          "base_uri": "https://localhost:8080/"
        },
        "id": "b64f00d0",
        "outputId": "49a8390f-9d02-4d97-cd6c-c34027cae824"
      },
      "source": [
        "history = news_classifier.fit(\n",
        "    x_train,\n",
        "    y_train,\n",
        "    epochs = 25,\n",
        "    batch_size = 128,\n",
        "    validation_split = 0.2,\n",
        "    callbacks = my_callbacks\n",
        ")"
      ],
      "id": "b64f00d0",
      "execution_count": 39,
      "outputs": [
        {
          "output_type": "stream",
          "name": "stdout",
          "text": [
            "Epoch 1/25\n",
            "250/250 [==============================] - 19s 66ms/step - loss: 0.0957 - binary_accuracy: 0.9780 - val_loss: 3.2695e-04 - val_binary_accuracy: 1.0000 - lr: 0.0010\n",
            "Epoch 2/25\n",
            "250/250 [==============================] - 16s 63ms/step - loss: 3.4799e-04 - binary_accuracy: 1.0000 - val_loss: 2.1002e-05 - val_binary_accuracy: 1.0000 - lr: 0.0010\n",
            "Epoch 3/25\n",
            "250/250 [==============================] - 16s 63ms/step - loss: 7.6633e-05 - binary_accuracy: 1.0000 - val_loss: 2.7218e-06 - val_binary_accuracy: 1.0000 - lr: 0.0010\n",
            "Epoch 4/25\n",
            "250/250 [==============================] - 16s 64ms/step - loss: 4.8766e-05 - binary_accuracy: 1.0000 - val_loss: 1.5272e-06 - val_binary_accuracy: 1.0000 - lr: 0.0010\n",
            "Epoch 5/25\n",
            "250/250 [==============================] - 16s 64ms/step - loss: 2.9735e-05 - binary_accuracy: 1.0000 - val_loss: 7.3143e-07 - val_binary_accuracy: 1.0000 - lr: 0.0010\n",
            "Epoch 6/25\n",
            "250/250 [==============================] - 16s 64ms/step - loss: 2.6526e-05 - binary_accuracy: 1.0000 - val_loss: 4.6336e-07 - val_binary_accuracy: 1.0000 - lr: 0.0010\n",
            "Epoch 7/25\n",
            "250/250 [==============================] - 16s 63ms/step - loss: 1.3603e-05 - binary_accuracy: 1.0000 - val_loss: 2.2578e-07 - val_binary_accuracy: 1.0000 - lr: 0.0010\n",
            "Epoch 8/25\n",
            "250/250 [==============================] - 16s 63ms/step - loss: 6.7785e-06 - binary_accuracy: 1.0000 - val_loss: 1.6388e-07 - val_binary_accuracy: 1.0000 - lr: 0.0010\n",
            "Epoch 9/25\n",
            "250/250 [==============================] - 16s 63ms/step - loss: 9.2022e-06 - binary_accuracy: 1.0000 - val_loss: 1.1335e-07 - val_binary_accuracy: 1.0000 - lr: 0.0010\n",
            "Epoch 10/25\n",
            "250/250 [==============================] - 16s 63ms/step - loss: 5.0793e-06 - binary_accuracy: 1.0000 - val_loss: 7.6998e-08 - val_binary_accuracy: 1.0000 - lr: 0.0010\n",
            "Epoch 11/25\n",
            "250/250 [==============================] - 16s 64ms/step - loss: 5.1198e-06 - binary_accuracy: 1.0000 - val_loss: 9.1199e-08 - val_binary_accuracy: 1.0000 - lr: 0.0010\n",
            "Epoch 12/25\n",
            "250/250 [==============================] - 16s 64ms/step - loss: 4.4467e-06 - binary_accuracy: 1.0000 - val_loss: 5.7338e-08 - val_binary_accuracy: 1.0000 - lr: 0.0010\n",
            "Epoch 13/25\n",
            "250/250 [==============================] - 16s 63ms/step - loss: 3.5744e-06 - binary_accuracy: 1.0000 - val_loss: 3.8240e-08 - val_binary_accuracy: 1.0000 - lr: 0.0010\n",
            "Epoch 14/25\n",
            "250/250 [==============================] - 16s 64ms/step - loss: 2.5679e-06 - binary_accuracy: 1.0000 - val_loss: 2.5619e-08 - val_binary_accuracy: 1.0000 - lr: 0.0010\n",
            "Epoch 15/25\n",
            "250/250 [==============================] - 16s 64ms/step - loss: 1.7943e-06 - binary_accuracy: 1.0000 - val_loss: 1.8696e-08 - val_binary_accuracy: 1.0000 - lr: 0.0010\n",
            "Epoch 16/25\n",
            "250/250 [==============================] - 16s 63ms/step - loss: 1.3764e-06 - binary_accuracy: 1.0000 - val_loss: 1.4369e-08 - val_binary_accuracy: 1.0000 - lr: 0.0010\n",
            "Epoch 17/25\n",
            "250/250 [==============================] - 16s 63ms/step - loss: 1.4398e-06 - binary_accuracy: 1.0000 - val_loss: 1.1359e-08 - val_binary_accuracy: 1.0000 - lr: 0.0010\n",
            "Epoch 18/25\n",
            "250/250 [==============================] - 16s 63ms/step - loss: 1.3571e-06 - binary_accuracy: 1.0000 - val_loss: 1.1112e-08 - val_binary_accuracy: 1.0000 - lr: 0.0010\n",
            "Epoch 19/25\n",
            "250/250 [==============================] - 16s 64ms/step - loss: 2.8479e-06 - binary_accuracy: 1.0000 - val_loss: 8.4257e-09 - val_binary_accuracy: 1.0000 - lr: 0.0010\n",
            "Epoch 20/25\n",
            "250/250 [==============================] - 16s 64ms/step - loss: 1.1145e-06 - binary_accuracy: 1.0000 - val_loss: 1.2483e-08 - val_binary_accuracy: 1.0000 - lr: 0.0010\n",
            "Epoch 21/25\n",
            "250/250 [==============================] - 16s 64ms/step - loss: 9.6760e-07 - binary_accuracy: 1.0000 - val_loss: 5.7250e-09 - val_binary_accuracy: 1.0000 - lr: 0.0010\n",
            "Epoch 22/25\n",
            "250/250 [==============================] - 16s 64ms/step - loss: 8.2779e-07 - binary_accuracy: 1.0000 - val_loss: 3.5694e-09 - val_binary_accuracy: 1.0000 - lr: 0.0010\n",
            "Epoch 23/25\n",
            "250/250 [==============================] - 16s 64ms/step - loss: 3.4883e-06 - binary_accuracy: 1.0000 - val_loss: 1.2985e-08 - val_binary_accuracy: 1.0000 - lr: 0.0010\n",
            "Epoch 24/25\n",
            "250/250 [==============================] - 16s 64ms/step - loss: 4.4837e-07 - binary_accuracy: 1.0000 - val_loss: 4.7469e-09 - val_binary_accuracy: 1.0000 - lr: 0.0010\n",
            "Epoch 25/25\n",
            "250/250 [==============================] - 16s 64ms/step - loss: 4.5979e-07 - binary_accuracy: 1.0000 - val_loss: 2.3873e-09 - val_binary_accuracy: 1.0000 - lr: 0.0010\n"
          ]
        }
      ]
    },
    {
      "cell_type": "code",
      "metadata": {
        "id": "hrmnQOmKo0TM"
      },
      "source": [
        "import matplotlib.pyplot as plt\n",
        "\n",
        "def plot_graphs(history, string):\n",
        "  plt.plot(history.history[string])\n",
        "  plt.plot(history.history['val_'+string])\n",
        "  plt.xlabel(\"Epochs\")\n",
        "  plt.ylabel(string)\n",
        "  plt.legend([string, 'val_'+string])\n",
        "  plt.show()"
      ],
      "id": "hrmnQOmKo0TM",
      "execution_count": 54,
      "outputs": []
    },
    {
      "cell_type": "code",
      "metadata": {
        "colab": {
          "base_uri": "https://localhost:8080/",
          "height": 544
        },
        "id": "PmF9cqyYo4dx",
        "outputId": "bc16ff8c-efe9-4307-d25f-9cfe4139fc98"
      },
      "source": [
        "plot_graphs(history, \"binary_accuracy\")\n",
        "plot_graphs(history, \"loss\")"
      ],
      "id": "PmF9cqyYo4dx",
      "execution_count": 55,
      "outputs": [
        {
          "output_type": "display_data",
          "data": {
            "image/png": "[encoded data removed]",
            "text/plain": [
              "<Figure size 432x288 with 1 Axes>"
            ]
          },
          "metadata": {
            "needs_background": "light"
          }
        },
        {
          "output_type": "display_data",
          "data": {
            "image/png": "[encoded data removed]",
            "text/plain": [
              "<Figure size 432x288 with 1 Axes>"
            ]
          },
          "metadata": {
            "needs_background": "light"
          }
        }
      ]
    },
    {
      "cell_type": "markdown",
      "metadata": {
        "papermill": {
          "duration": 0.053782,
          "end_time": "2021-08-14T15:55:09.921106",
          "exception": false,
          "start_time": "2021-08-14T15:55:09.867324",
          "status": "completed"
        },
        "tags": [],
        "id": "7b25f6af"
      },
      "source": [
        "# Prediçoes e gerando o arquivo de submissão"
      ],
      "id": "7b25f6af"
    },
    {
      "cell_type": "code",
      "metadata": {
        "execution": {
          "iopub.execute_input": "2021-08-14T15:55:10.030855Z",
          "iopub.status.busy": "2021-08-14T15:55:10.030284Z",
          "iopub.status.idle": "2021-08-14T15:55:10.756923Z",
          "shell.execute_reply": "2021-08-14T15:55:10.756023Z",
          "shell.execute_reply.started": "2021-08-14T15:52:56.375611Z"
        },
        "papermill": {
          "duration": 0.782887,
          "end_time": "2021-08-14T15:55:10.757063",
          "exception": false,
          "start_time": "2021-08-14T15:55:09.974176",
          "status": "completed"
        },
        "tags": [],
        "colab": {
          "base_uri": "https://localhost:8080/",
          "height": 203
        },
        "id": "e8b72517",
        "outputId": "bd7528bc-4da2-48d2-f01f-ee11b9395923"
      },
      "source": [
        "test_df = pd.read_csv(SOURCE_DIR + \"/test.csv\")\n",
        "\n",
        "test_df.head()"
      ],
      "id": "e8b72517",
      "execution_count": 42,
      "outputs": [
        {
          "output_type": "execute_result",
          "data": {
            "text/html": [
              "<div>\n",
              "<style scoped>\n",
              "    .dataframe tbody tr th:only-of-type {\n",
              "        vertical-align: middle;\n",
              "    }\n",
              "\n",
              "    .dataframe tbody tr th {\n",
              "        vertical-align: top;\n",
              "    }\n",
              "\n",
              "    .dataframe thead th {\n",
              "        text-align: right;\n",
              "    }\n",
              "</style>\n",
              "<table border=\"1\" class=\"dataframe\">\n",
              "  <thead>\n",
              "    <tr style=\"text-align: right;\">\n",
              "      <th></th>\n",
              "      <th>Id</th>\n",
              "      <th>title</th>\n",
              "      <th>text</th>\n",
              "      <th>subject</th>\n",
              "      <th>date</th>\n",
              "    </tr>\n",
              "  </thead>\n",
              "  <tbody>\n",
              "    <tr>\n",
              "      <th>0</th>\n",
              "      <td>40000</td>\n",
              "      <td>Peru's Congress ousts cabinet as political cri...</td>\n",
              "      <td>LIMA (Reuters) - Peru s opposition-controlled ...</td>\n",
              "      <td>worldnews</td>\n",
              "      <td>September 15, 2017</td>\n",
              "    </tr>\n",
              "    <tr>\n",
              "      <th>1</th>\n",
              "      <td>40001</td>\n",
              "      <td>SICK OF THE LIES FROM CNN? You’re In Luck! Tod...</td>\n",
              "      <td>Here are a few memes to spread around:</td>\n",
              "      <td>politics</td>\n",
              "      <td>Jul 1, 2016</td>\n",
              "    </tr>\n",
              "    <tr>\n",
              "      <th>2</th>\n",
              "      <td>40002</td>\n",
              "      <td>‘Auntie’ Maxine Waters’ Showdown In Senate In...</td>\n",
              "      <td>I ll admit it: I am not a huge fan of tribute ...</td>\n",
              "      <td>News</td>\n",
              "      <td>August 2, 2017</td>\n",
              "    </tr>\n",
              "    <tr>\n",
              "      <th>3</th>\n",
              "      <td>40003</td>\n",
              "      <td>WATCH: General BOMBARDS Trump For The ‘Most A...</td>\n",
              "      <td>As you may already know, Trump recently shocke...</td>\n",
              "      <td>News</td>\n",
              "      <td>February 6, 2017</td>\n",
              "    </tr>\n",
              "    <tr>\n",
              "      <th>4</th>\n",
              "      <td>40004</td>\n",
              "      <td>U.S. court skeptical of lawmaker immunity in t...</td>\n",
              "      <td>NEW YORK (Reuters) - A federal appeals court f...</td>\n",
              "      <td>politicsNews</td>\n",
              "      <td>June 13, 2016</td>\n",
              "    </tr>\n",
              "  </tbody>\n",
              "</table>\n",
              "</div>"
            ],
            "text/plain": [
              "      Id  ...                 date\n",
              "0  40000  ...  September 15, 2017 \n",
              "1  40001  ...          Jul 1, 2016\n",
              "2  40002  ...       August 2, 2017\n",
              "3  40003  ...     February 6, 2017\n",
              "4  40004  ...       June 13, 2016 \n",
              "\n",
              "[5 rows x 5 columns]"
            ]
          },
          "metadata": {},
          "execution_count": 42
        }
      ]
    },
    {
      "cell_type": "code",
      "metadata": {
        "execution": {
          "iopub.execute_input": "2021-08-14T15:55:11.003445Z",
          "iopub.status.busy": "2021-08-14T15:55:11.002546Z",
          "iopub.status.idle": "2021-08-14T15:55:21.007220Z",
          "shell.execute_reply": "2021-08-14T15:55:21.007640Z",
          "shell.execute_reply.started": "2021-08-14T15:52:56.698041Z"
        },
        "papermill": {
          "duration": 10.064211,
          "end_time": "2021-08-14T15:55:21.007831",
          "exception": false,
          "start_time": "2021-08-14T15:55:10.943620",
          "status": "completed"
        },
        "tags": [],
        "id": "6906515e"
      },
      "source": [
        "test_df = test_df.fillna('')\n",
        "test_df[\"total\"] = test_df[\"title\"] + \" \" + test_df[\"subject\"]\n",
        "\n",
        "text_test = test_df.copy()\n",
        "\n",
        "clean_test_corpus = text_cleaning(len(text_test))\n",
        "\n",
        "# one hot encoder\n",
        "onehot_text_test = [one_hot(words, VOCAB_SIZE) for words in clean_test_corpus]\n",
        "\n",
        "# padding sequences\n",
        "padded_doc_test = pad_sequences(onehot_text_test, padding=\"pre\", maxlen = 25)\n",
        "\n",
        "x_test = np.array(padded_doc_test)"
      ],
      "id": "6906515e",
      "execution_count": 43,
      "outputs": []
    },
    {
      "cell_type": "code",
      "metadata": {
        "execution": {
          "iopub.execute_input": "2021-08-14T15:55:21.122171Z",
          "iopub.status.busy": "2021-08-14T15:55:21.121322Z",
          "iopub.status.idle": "2021-08-14T15:55:21.749210Z",
          "shell.execute_reply": "2021-08-14T15:55:21.748155Z",
          "shell.execute_reply.started": "2021-08-14T15:53:11.376532Z"
        },
        "papermill": {
          "duration": 0.687194,
          "end_time": "2021-08-14T15:55:21.749337",
          "exception": false,
          "start_time": "2021-08-14T15:55:21.062143",
          "status": "completed"
        },
        "tags": [],
        "id": "23c14f63"
      },
      "source": [
        "# making predictions\n",
        "model_preds = news_classifier.predict(x_test)\n",
        "# predictions = [int(np.round(pred[0])) for pred in predictions]"
      ],
      "id": "23c14f63",
      "execution_count": 47,
      "outputs": []
    },
    {
      "cell_type": "code",
      "metadata": {
        "execution": {
          "iopub.execute_input": "2021-08-14T15:55:21.871576Z",
          "iopub.status.busy": "2021-08-14T15:55:21.870924Z",
          "iopub.status.idle": "2021-08-14T15:55:21.874221Z",
          "shell.execute_reply": "2021-08-14T15:55:21.874617Z",
          "shell.execute_reply.started": "2021-08-14T15:53:12.218623Z"
        },
        "papermill": {
          "duration": 0.071366,
          "end_time": "2021-08-14T15:55:21.874787",
          "exception": false,
          "start_time": "2021-08-14T15:55:21.803421",
          "status": "completed"
        },
        "tags": [],
        "colab": {
          "base_uri": "https://localhost:8080/",
          "height": 447
        },
        "id": "6527d703",
        "outputId": "46a8d64e-4dfa-4018-ffe9-dc9cf7c05fe9"
      },
      "source": [
        "submission = pd.DataFrame(model_preds)\n",
        "sample_sub = pd.read_csv(SOURCE_DIR + '/sample_submission.csv', index_col=0)\n",
        "submission.index = sample_sub.index\n",
        "submission.columns=['Predicted']\n",
        "submission"
      ],
      "id": "6527d703",
      "execution_count": 48,
      "outputs": [
        {
          "output_type": "execute_result",
          "data": {
            "text/html": [
              "<div>\n",
              "<style scoped>\n",
              "    .dataframe tbody tr th:only-of-type {\n",
              "        vertical-align: middle;\n",
              "    }\n",
              "\n",
              "    .dataframe tbody tr th {\n",
              "        vertical-align: top;\n",
              "    }\n",
              "\n",
              "    .dataframe thead th {\n",
              "        text-align: right;\n",
              "    }\n",
              "</style>\n",
              "<table border=\"1\" class=\"dataframe\">\n",
              "  <thead>\n",
              "    <tr style=\"text-align: right;\">\n",
              "      <th></th>\n",
              "      <th>Predicted</th>\n",
              "    </tr>\n",
              "    <tr>\n",
              "      <th>Id</th>\n",
              "      <th></th>\n",
              "    </tr>\n",
              "  </thead>\n",
              "  <tbody>\n",
              "    <tr>\n",
              "      <th>40000</th>\n",
              "      <td>3.229817e-09</td>\n",
              "    </tr>\n",
              "    <tr>\n",
              "      <th>40001</th>\n",
              "      <td>1.000000e+00</td>\n",
              "    </tr>\n",
              "    <tr>\n",
              "      <th>40002</th>\n",
              "      <td>1.000000e+00</td>\n",
              "    </tr>\n",
              "    <tr>\n",
              "      <th>40003</th>\n",
              "      <td>1.000000e+00</td>\n",
              "    </tr>\n",
              "    <tr>\n",
              "      <th>40004</th>\n",
              "      <td>3.478495e-10</td>\n",
              "    </tr>\n",
              "    <tr>\n",
              "      <th>...</th>\n",
              "      <td>...</td>\n",
              "    </tr>\n",
              "    <tr>\n",
              "      <th>44893</th>\n",
              "      <td>1.000000e+00</td>\n",
              "    </tr>\n",
              "    <tr>\n",
              "      <th>44894</th>\n",
              "      <td>1.000000e+00</td>\n",
              "    </tr>\n",
              "    <tr>\n",
              "      <th>44895</th>\n",
              "      <td>1.000000e+00</td>\n",
              "    </tr>\n",
              "    <tr>\n",
              "      <th>44896</th>\n",
              "      <td>1.265242e-09</td>\n",
              "    </tr>\n",
              "    <tr>\n",
              "      <th>44897</th>\n",
              "      <td>1.235331e-09</td>\n",
              "    </tr>\n",
              "  </tbody>\n",
              "</table>\n",
              "<p>4898 rows × 1 columns</p>\n",
              "</div>"
            ],
            "text/plain": [
              "          Predicted\n",
              "Id                 \n",
              "40000  3.229817e-09\n",
              "40001  1.000000e+00\n",
              "40002  1.000000e+00\n",
              "40003  1.000000e+00\n",
              "40004  3.478495e-10\n",
              "...             ...\n",
              "44893  1.000000e+00\n",
              "44894  1.000000e+00\n",
              "44895  1.000000e+00\n",
              "44896  1.265242e-09\n",
              "44897  1.235331e-09\n",
              "\n",
              "[4898 rows x 1 columns]"
            ]
          },
          "metadata": {},
          "execution_count": 48
        }
      ]
    },
    {
      "cell_type": "code",
      "metadata": {
        "execution": {
          "iopub.execute_input": "2021-08-14T15:55:21.989142Z",
          "iopub.status.busy": "2021-08-14T15:55:21.988548Z",
          "iopub.status.idle": "2021-08-14T15:55:22.004429Z",
          "shell.execute_reply": "2021-08-14T15:55:22.003662Z",
          "shell.execute_reply.started": "2021-08-14T15:53:12.241520Z"
        },
        "papermill": {
          "duration": 0.074029,
          "end_time": "2021-08-14T15:55:22.004549",
          "exception": false,
          "start_time": "2021-08-14T15:55:21.930520",
          "status": "completed"
        },
        "tags": [],
        "id": "b87c8106"
      },
      "source": [
        "# submission\n",
        "submission.to_csv(\"submission.csv\")"
      ],
      "id": "b87c8106",
      "execution_count": 51,
      "outputs": []
    }
  ]
}